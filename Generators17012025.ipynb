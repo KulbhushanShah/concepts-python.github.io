{
 "cells": [
  {
   "cell_type": "markdown",
   "id": "c125d79f-00bd-463d-b692-718c420099f5",
   "metadata": {},
   "source": [
    "# Generators"
   ]
  },
  {
   "cell_type": "code",
   "execution_count": 11,
   "id": "7c0b52a6-9d3e-4710-97c5-2da0be752f4b",
   "metadata": {},
   "outputs": [],
   "source": [
    "def fun1():\n",
    "    return 1 # end of the loop/function (antyhing below this won't be executed)\n",
    "    print('Hey') # this won't be printed/executed"
   ]
  },
  {
   "cell_type": "code",
   "execution_count": 12,
   "id": "4f696f2a-b4cf-41b4-acb2-a278fc468391",
   "metadata": {},
   "outputs": [
    {
     "data": {
      "text/plain": [
       "1"
      ]
     },
     "execution_count": 12,
     "metadata": {},
     "output_type": "execute_result"
    }
   ],
   "source": [
    "fun1()"
   ]
  },
  {
   "cell_type": "code",
   "execution_count": 13,
   "id": "d2383f65-da11-4678-be37-a091b6621bb6",
   "metadata": {},
   "outputs": [],
   "source": [
    "def fun2():\n",
    "    return 1 # end of the loop/function (antyhing below this won't be executed)\n",
    "    return 2 # this won't be executed"
   ]
  },
  {
   "cell_type": "code",
   "execution_count": 14,
   "id": "828d13a1-8603-4775-a899-707f36e1948e",
   "metadata": {},
   "outputs": [
    {
     "data": {
      "text/plain": [
       "1"
      ]
     },
     "execution_count": 14,
     "metadata": {},
     "output_type": "execute_result"
    }
   ],
   "source": [
    "fun2()"
   ]
  },
  {
   "cell_type": "code",
   "execution_count": 34,
   "id": "2bbabaaa-5506-4bbc-9a2f-20b94e0ed468",
   "metadata": {},
   "outputs": [
    {
     "ename": "TypeError",
     "evalue": "'int' object is not iterable",
     "output_type": "error",
     "traceback": [
      "\u001b[1;31m---------------------------------------------------------------------------\u001b[0m",
      "\u001b[1;31mTypeError\u001b[0m                                 Traceback (most recent call last)",
      "Cell \u001b[1;32mIn[34], line 1\u001b[0m\n\u001b[1;32m----> 1\u001b[0m \u001b[38;5;28;01mfor\u001b[39;00m i \u001b[38;5;129;01min\u001b[39;00m fun2():\n\u001b[0;32m      2\u001b[0m     \u001b[38;5;28mprint\u001b[39m(i)\n",
      "\u001b[1;31mTypeError\u001b[0m: 'int' object is not iterable"
     ]
    }
   ],
   "source": [
    "for i in fun2():\n",
    "    print(i)"
   ]
  },
  {
   "cell_type": "markdown",
   "id": "a2914b98-7c24-468a-be65-47b55c3183be",
   "metadata": {},
   "source": [
    "### yield statement"
   ]
  },
  {
   "cell_type": "code",
   "execution_count": 87,
   "id": "42aa397c-cc74-49b9-b77f-831a7af934ec",
   "metadata": {},
   "outputs": [],
   "source": [
    "def fun3():\n",
    "    yield 'hello'\n",
    "    yield 2\n",
    "    yield 3"
   ]
  },
  {
   "cell_type": "code",
   "execution_count": 88,
   "id": "da8aa139-2eb6-4355-9807-4903079f0068",
   "metadata": {},
   "outputs": [
    {
     "name": "stdout",
     "output_type": "stream",
     "text": [
      "hello\n",
      "2\n",
      "3\n"
     ]
    }
   ],
   "source": [
    "for i  in fun3():\n",
    "    print(i)"
   ]
  },
  {
   "cell_type": "code",
   "execution_count": 89,
   "id": "e890877f-6a40-41dd-920f-92187fdc5dc8",
   "metadata": {},
   "outputs": [],
   "source": [
    "a = fun3()\n",
    "b = fun3()\n",
    "c = fun3()"
   ]
  },
  {
   "cell_type": "code",
   "execution_count": 90,
   "id": "a87fb9dc-f5c7-4c0a-93da-c5569d839160",
   "metadata": {},
   "outputs": [
    {
     "data": {
      "text/plain": [
       "<generator object fun3 at 0x0000025255DFDFE0>"
      ]
     },
     "execution_count": 90,
     "metadata": {},
     "output_type": "execute_result"
    }
   ],
   "source": [
    "a"
   ]
  },
  {
   "cell_type": "code",
   "execution_count": 91,
   "id": "02235c44-8569-42b3-aca9-d088b1c43f5f",
   "metadata": {},
   "outputs": [
    {
     "name": "stdout",
     "output_type": "stream",
     "text": [
      "hello\n"
     ]
    }
   ],
   "source": [
    "print(next(a))"
   ]
  },
  {
   "cell_type": "code",
   "execution_count": 92,
   "id": "48355dfc-9f27-4665-9f43-7c9a963b0f92",
   "metadata": {},
   "outputs": [
    {
     "data": {
      "text/plain": [
       "int"
      ]
     },
     "execution_count": 92,
     "metadata": {},
     "output_type": "execute_result"
    }
   ],
   "source": [
    "type(next(a))"
   ]
  },
  {
   "cell_type": "code",
   "execution_count": 93,
   "id": "7d0df5fe-b20b-4ee5-9dde-1f68ca3c5873",
   "metadata": {},
   "outputs": [
    {
     "data": {
      "text/plain": [
       "str"
      ]
     },
     "execution_count": 93,
     "metadata": {},
     "output_type": "execute_result"
    }
   ],
   "source": [
    "type(next(b))"
   ]
  },
  {
   "cell_type": "code",
   "execution_count": 94,
   "id": "e42cbdbf-d944-4d41-ac51-aa7498bef83c",
   "metadata": {},
   "outputs": [
    {
     "data": {
      "text/plain": [
       "str"
      ]
     },
     "execution_count": 94,
     "metadata": {},
     "output_type": "execute_result"
    }
   ],
   "source": [
    "type(next(c))"
   ]
  },
  {
   "cell_type": "code",
   "execution_count": 95,
   "id": "5b741f6d-c773-44cf-a591-1eb12a500ae3",
   "metadata": {},
   "outputs": [
    {
     "data": {
      "text/plain": [
       "2"
      ]
     },
     "execution_count": 95,
     "metadata": {},
     "output_type": "execute_result"
    }
   ],
   "source": [
    "next(b)"
   ]
  },
  {
   "cell_type": "code",
   "execution_count": 96,
   "id": "f14e43b7-059c-41e5-b8d2-aa2cacd69139",
   "metadata": {},
   "outputs": [
    {
     "data": {
      "text/plain": [
       "2"
      ]
     },
     "execution_count": 96,
     "metadata": {},
     "output_type": "execute_result"
    }
   ],
   "source": [
    "next(c)"
   ]
  },
  {
   "cell_type": "code",
   "execution_count": 97,
   "id": "415c072c-9b97-43e3-91af-4688f18b5bfa",
   "metadata": {},
   "outputs": [],
   "source": [
    "def numbergenertorFun(n):\n",
    "    value = 0\n",
    "    while value < n:\n",
    "\n",
    "        yield value\n",
    "        value += 1"
   ]
  },
  {
   "cell_type": "code",
   "execution_count": 98,
   "id": "f66f11a4-6049-4e4d-9e4c-a87c58c54a50",
   "metadata": {},
   "outputs": [],
   "source": [
    "fetch = numbergenertorFun(3)"
   ]
  },
  {
   "cell_type": "code",
   "execution_count": 99,
   "id": "9a8e8104-a69b-4453-9b73-cc4416f197a5",
   "metadata": {},
   "outputs": [
    {
     "data": {
      "text/plain": [
       "0"
      ]
     },
     "execution_count": 99,
     "metadata": {},
     "output_type": "execute_result"
    }
   ],
   "source": [
    "next(fetch)"
   ]
  },
  {
   "cell_type": "code",
   "execution_count": 100,
   "id": "5ac1b03b-a04a-4ba0-8093-3f81e7a26fdc",
   "metadata": {},
   "outputs": [
    {
     "ename": "TypeError",
     "evalue": "'int' object is not iterable",
     "output_type": "error",
     "traceback": [
      "\u001b[1;31m---------------------------------------------------------------------------\u001b[0m",
      "\u001b[1;31mTypeError\u001b[0m                                 Traceback (most recent call last)",
      "Cell \u001b[1;32mIn[100], line 1\u001b[0m\n\u001b[1;32m----> 1\u001b[0m \u001b[38;5;28miter\u001b[39m(\u001b[38;5;28mnext\u001b[39m(fetch))\n",
      "\u001b[1;31mTypeError\u001b[0m: 'int' object is not iterable"
     ]
    }
   ],
   "source": [
    "iter(next(fetch))"
   ]
  },
  {
   "cell_type": "markdown",
   "id": "e2dac4ad-9ce4-4153-91e6-d3625ed5c3fd",
   "metadata": {},
   "source": [
    "### iter() is used to convert iterable to itertor\n",
    "\n",
    "#### 1 way -  to convert iterable to iterator"
   ]
  },
  {
   "cell_type": "code",
   "execution_count": 101,
   "id": "333dfae1-236a-445b-8710-86ceefef6a07",
   "metadata": {},
   "outputs": [],
   "source": [
    "# 1 way \n",
    "# to convert iterable to iterator\n",
    "list1 = [1, 2, 3, 4, 'hello']\n",
    "liter1 = iter(list1)"
   ]
  },
  {
   "cell_type": "code",
   "execution_count": 107,
   "id": "b5d2bf3d-635f-4858-9c0c-a12d28751ca8",
   "metadata": {},
   "outputs": [
    {
     "data": {
      "text/plain": [
       "'hello'"
      ]
     },
     "execution_count": 107,
     "metadata": {},
     "output_type": "execute_result"
    }
   ],
   "source": [
    "next(liter1)"
   ]
  },
  {
   "cell_type": "markdown",
   "id": "a893538e-953e-428f-8391-2208811b3898",
   "metadata": {},
   "source": [
    "#### 2 way -  to convert iterable to iterator"
   ]
  },
  {
   "cell_type": "code",
   "execution_count": 113,
   "id": "2f61d0f3-3fa1-49dd-b348-af4704a61171",
   "metadata": {},
   "outputs": [],
   "source": [
    "# 2nd way\n",
    "\n",
    "# to convert iterable to iterator\n",
    "def fun4(list3):\n",
    "    for i in list3:\n",
    "        yield i"
   ]
  },
  {
   "cell_type": "code",
   "execution_count": 114,
   "id": "1028140c-cdf9-4fad-825a-ece92153f483",
   "metadata": {},
   "outputs": [],
   "source": [
    "list3 = [1, 2, 3, 4]\n",
    "itera2 = fun4(list3)"
   ]
  },
  {
   "cell_type": "code",
   "execution_count": 115,
   "id": "081c9fd7-0147-44fb-b2c1-066fb92fba41",
   "metadata": {},
   "outputs": [
    {
     "data": {
      "text/plain": [
       "1"
      ]
     },
     "execution_count": 115,
     "metadata": {},
     "output_type": "execute_result"
    }
   ],
   "source": [
    "next(itera2)"
   ]
  },
  {
   "cell_type": "markdown",
   "id": "344dc687-a087-4312-8d12-c6b6844cfa65",
   "metadata": {},
   "source": [
    "### generator comprehension\n",
    "\n",
    "#### 3rd way -  to convert iterable to iterator"
   ]
  },
  {
   "cell_type": "code",
   "execution_count": 108,
   "id": "dfe50fb0-59a1-4645-aae1-28160a28ffad",
   "metadata": {},
   "outputs": [],
   "source": [
    "# 3rd way\n",
    "# to convert iterable to iterator\n",
    "\n",
    "list4 = [1, 2, 3, 4]\n",
    "gen1 = (x*2 for x in list4)"
   ]
  },
  {
   "cell_type": "code",
   "execution_count": 109,
   "id": "dc3cc2a9-a381-4370-9132-dfea9dfb04e7",
   "metadata": {},
   "outputs": [
    {
     "name": "stdout",
     "output_type": "stream",
     "text": [
      "2\n"
     ]
    }
   ],
   "source": [
    "print(next(gen1))"
   ]
  },
  {
   "cell_type": "code",
   "execution_count": null,
   "id": "bea02065-d222-4201-92d9-ddd2f3cae840",
   "metadata": {},
   "outputs": [],
   "source": []
  }
 ],
 "metadata": {
  "kernelspec": {
   "display_name": "Python 3 (ipykernel)",
   "language": "python",
   "name": "python3"
  },
  "language_info": {
   "codemirror_mode": {
    "name": "ipython",
    "version": 3
   },
   "file_extension": ".py",
   "mimetype": "text/x-python",
   "name": "python",
   "nbconvert_exporter": "python",
   "pygments_lexer": "ipython3",
   "version": "3.12.7"
  }
 },
 "nbformat": 4,
 "nbformat_minor": 5
}

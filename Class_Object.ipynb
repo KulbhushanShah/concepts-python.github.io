{
 "cells": [
  {
   "cell_type": "markdown",
   "id": "80a64873-a105-43d5-b3c8-5fd27ea43d4b",
   "metadata": {},
   "source": [
    "# Class"
   ]
  },
  {
   "cell_type": "code",
   "execution_count": 1,
   "id": "230a2eec-c4fd-4056-bd30-d646cd198891",
   "metadata": {},
   "outputs": [],
   "source": [
    "class car():\n",
    "    colour = 'blue' # By default Value\n",
    "    model = 1"
   ]
  },
  {
   "cell_type": "code",
   "execution_count": 2,
   "id": "b4a3ece1-770e-43ec-810b-adc66039aa05",
   "metadata": {},
   "outputs": [],
   "source": [
    "# Create an object.\n",
    "\n",
    "c1 = car()"
   ]
  },
  {
   "cell_type": "code",
   "execution_count": 3,
   "id": "277acdb4-2282-47b5-bf12-467d96aa6989",
   "metadata": {},
   "outputs": [
    {
     "data": {
      "text/plain": [
       "'blue'"
      ]
     },
     "execution_count": 3,
     "metadata": {},
     "output_type": "execute_result"
    }
   ],
   "source": [
    "# We will use the dot operator to use attributes\n",
    "\n",
    "c1.colour  "
   ]
  },
  {
   "cell_type": "code",
   "execution_count": 4,
   "id": "08999892-da48-418a-ad77-cee645807bc5",
   "metadata": {},
   "outputs": [
    {
     "data": {
      "text/plain": [
       "1"
      ]
     },
     "execution_count": 4,
     "metadata": {},
     "output_type": "execute_result"
    }
   ],
   "source": [
    "c1.model"
   ]
  },
  {
   "cell_type": "code",
   "execution_count": 5,
   "id": "8318d18b-4d28-445d-bb78-0c9dcdfbceb6",
   "metadata": {},
   "outputs": [],
   "source": [
    "c1.color = 'red'"
   ]
  },
  {
   "cell_type": "code",
   "execution_count": 6,
   "id": "f1c2b408-ac9e-4a2c-aa4c-cc1aef9aceb5",
   "metadata": {},
   "outputs": [
    {
     "data": {
      "text/plain": [
       "'red'"
      ]
     },
     "execution_count": 6,
     "metadata": {},
     "output_type": "execute_result"
    }
   ],
   "source": [
    "c1.color"
   ]
  },
  {
   "cell_type": "code",
   "execution_count": 7,
   "id": "f8c8641d-ff33-47c9-bac7-2438dc0596a4",
   "metadata": {},
   "outputs": [],
   "source": [
    "c2 = car()"
   ]
  },
  {
   "cell_type": "code",
   "execution_count": 8,
   "id": "b6d735ae-eedf-4e80-bc72-ce3c0a0bbf59",
   "metadata": {},
   "outputs": [],
   "source": [
    "c2.color = 'black'"
   ]
  },
  {
   "cell_type": "code",
   "execution_count": 9,
   "id": "46caca61-fb27-4651-ae96-1039aae73608",
   "metadata": {},
   "outputs": [
    {
     "data": {
      "text/plain": [
       "'black'"
      ]
     },
     "execution_count": 9,
     "metadata": {},
     "output_type": "execute_result"
    }
   ],
   "source": [
    "c2.color"
   ]
  },
  {
   "cell_type": "code",
   "execution_count": 10,
   "id": "6d20d3d3-08b8-4136-aac2-63b76f5722e8",
   "metadata": {},
   "outputs": [],
   "source": [
    "# Example \n",
    "class employees():\n",
    "    emp_id = 0"
   ]
  },
  {
   "cell_type": "code",
   "execution_count": 11,
   "id": "bb4d6ab7-25c0-479d-81e6-f1d7149dc3f4",
   "metadata": {},
   "outputs": [],
   "source": [
    "e1 = employees()\n",
    "e2 = employees()"
   ]
  },
  {
   "cell_type": "code",
   "execution_count": 12,
   "id": "73ec78f6-9835-449a-a95e-7af3fc35cc87",
   "metadata": {},
   "outputs": [],
   "source": [
    "e1.emp_id =  1"
   ]
  },
  {
   "cell_type": "code",
   "execution_count": 13,
   "id": "220dc6cb-0349-4329-8c67-540db79bc542",
   "metadata": {},
   "outputs": [],
   "source": [
    "e2.emp_id = 2"
   ]
  },
  {
   "cell_type": "code",
   "execution_count": 14,
   "id": "f48b9353-7c32-4ba6-a260-08f7b1c94d44",
   "metadata": {},
   "outputs": [
    {
     "data": {
      "text/plain": [
       "1"
      ]
     },
     "execution_count": 14,
     "metadata": {},
     "output_type": "execute_result"
    }
   ],
   "source": [
    "e1.emp_id"
   ]
  },
  {
   "cell_type": "code",
   "execution_count": 16,
   "id": "90010371-5d75-43d8-8590-c97328edac1a",
   "metadata": {},
   "outputs": [
    {
     "name": "stdout",
     "output_type": "stream",
     "text": [
      "Employee1 ID: 1\n"
     ]
    }
   ],
   "source": [
    "print(f'Employee1 ID: {e1.emp_id}')"
   ]
  },
  {
   "cell_type": "markdown",
   "id": "a580dfb5-bb02-46ae-9588-5acbc1f4cd1e",
   "metadata": {},
   "source": [
    "# Method:"
   ]
  },
  {
   "cell_type": "code",
   "execution_count": 20,
   "id": "31254a8e-aa76-4c73-a5f5-0d5b31f0949b",
   "metadata": {},
   "outputs": [],
   "source": [
    "class greet():\n",
    "    def wish(self):\n",
    "        print('Hey Good Morning')"
   ]
  },
  {
   "cell_type": "code",
   "execution_count": 21,
   "id": "be980b0b-a594-4561-bb8f-606dfa259471",
   "metadata": {},
   "outputs": [],
   "source": [
    "g1 = greet()"
   ]
  },
  {
   "cell_type": "code",
   "execution_count": 22,
   "id": "f12a7e1b-5d41-4373-8b65-0c0523cc8ff4",
   "metadata": {},
   "outputs": [
    {
     "name": "stdout",
     "output_type": "stream",
     "text": [
      "Hey Good Morning\n"
     ]
    }
   ],
   "source": [
    "g1.wish()"
   ]
  },
  {
   "cell_type": "code",
   "execution_count": 23,
   "id": "561388dd-d4b8-4b9a-87c1-b2d3b28a56a7",
   "metadata": {},
   "outputs": [],
   "source": [
    "# Example 2:\n",
    "\n",
    "class Employees():\n",
    "    def empdetails(self,name,E_id):\n",
    "        print('Employee Name:',name)\n",
    "        print('Employee ID:',E_id)"
   ]
  },
  {
   "cell_type": "code",
   "execution_count": 24,
   "id": "9a113e06-c758-4691-88a3-8777ea3ad2d7",
   "metadata": {},
   "outputs": [],
   "source": [
    "E1 = Employees()"
   ]
  },
  {
   "cell_type": "code",
   "execution_count": 25,
   "id": "ce5c9b40-f54e-403b-b797-3288e78ae092",
   "metadata": {},
   "outputs": [
    {
     "name": "stdout",
     "output_type": "stream",
     "text": [
      "Employee Name: Gamaka\n",
      "Employee ID: 101\n"
     ]
    }
   ],
   "source": [
    "E1.empdetails('Gamaka',101)"
   ]
  },
  {
   "cell_type": "code",
   "execution_count": 26,
   "id": "6b20561e-2266-406f-8703-d3d498e39f91",
   "metadata": {},
   "outputs": [
    {
     "name": "stdout",
     "output_type": "stream",
     "text": [
      "Employee Name: Python\n",
      "Employee ID: 102\n"
     ]
    }
   ],
   "source": [
    "E2 = Employees()\n",
    "E2.empdetails('Python',102)"
   ]
  },
  {
   "cell_type": "code",
   "execution_count": 28,
   "id": "44fe682a-641e-4a6d-b814-a3119426c291",
   "metadata": {},
   "outputs": [],
   "source": [
    "# Example 3: \n",
    "\n",
    "class Employees():\n",
    "    name = 'Gamaka'\n",
    "    E_id = 0\n",
    "    def empdetails(self):\n",
    "        print('Employee Name:',self.name)\n",
    "        print('Employee ID:',self.E_id)"
   ]
  },
  {
   "cell_type": "code",
   "execution_count": 29,
   "id": "5118f2ae-ce16-4d74-af8c-b37039ea79c4",
   "metadata": {},
   "outputs": [],
   "source": [
    "E3  = Employees()"
   ]
  },
  {
   "cell_type": "code",
   "execution_count": 30,
   "id": "f63d52d2-cbb8-4c20-895b-185dd559c4cc",
   "metadata": {},
   "outputs": [
    {
     "name": "stdout",
     "output_type": "stream",
     "text": [
      "Employee Name: Gamaka\n",
      "Employee ID: 0\n"
     ]
    }
   ],
   "source": [
    "E3.empdetails()"
   ]
  },
  {
   "cell_type": "code",
   "execution_count": 34,
   "id": "758be1c1-a3b8-4cbd-a8e8-a7c7be5c25ad",
   "metadata": {},
   "outputs": [],
   "source": [
    "class Employees():\n",
    "    name = 'Gamaka'\n",
    "    E_id = 0\n",
    "    def empdetails(self,name,E_id):\n",
    "        print('Employee Name:',name)\n",
    "        print('Employee ID:',E_id)"
   ]
  },
  {
   "cell_type": "code",
   "execution_count": 35,
   "id": "16a62c06-77fc-4a4f-80f8-3b3c2e80446c",
   "metadata": {},
   "outputs": [],
   "source": [
    "E5 = Employees()"
   ]
  },
  {
   "cell_type": "code",
   "execution_count": 36,
   "id": "8ce827d8-ed3f-4aed-8d92-34f56dc4555b",
   "metadata": {},
   "outputs": [
    {
     "name": "stdout",
     "output_type": "stream",
     "text": [
      "Employee Name: Pratik\n",
      "Employee ID: 1001\n"
     ]
    }
   ],
   "source": [
    "E5.empdetails('Pratik',1001)"
   ]
  },
  {
   "cell_type": "markdown",
   "id": "66cb54a0-75f2-4a2f-b600-69caa23419bb",
   "metadata": {},
   "source": [
    "# Constructor:"
   ]
  },
  {
   "cell_type": "code",
   "execution_count": 37,
   "id": "0770e02d-397a-451f-933b-e9ae58f647c5",
   "metadata": {},
   "outputs": [],
   "source": [
    "class class1():\n",
    "    def __init__(self):\n",
    "        print('This is a constructor')"
   ]
  },
  {
   "cell_type": "code",
   "execution_count": 39,
   "id": "ffe1cca3-0dd0-4d15-af3e-1a5099b38de9",
   "metadata": {},
   "outputs": [
    {
     "name": "stdout",
     "output_type": "stream",
     "text": [
      "This is a constructor\n"
     ]
    }
   ],
   "source": [
    "C1 = class1()"
   ]
  },
  {
   "cell_type": "code",
   "execution_count": 40,
   "id": "91918e9e-6aef-4d4a-bffd-03b909b760b8",
   "metadata": {},
   "outputs": [],
   "source": [
    "# Create a class named calculator with methods add() and multiply() and you have to use constructor to print 'Welcome to calculator class'.\n",
    "\n",
    "class calculator():\n",
    "    def __init__(self):\n",
    "        print('Welcome to the calculator')\n",
    "    def add(self,x,y):\n",
    "        return x+y\n",
    "    def multiply(self,x,y):\n",
    "        return x*y"
   ]
  },
  {
   "cell_type": "code",
   "execution_count": 41,
   "id": "1433e661-f56c-4cc1-a70f-44f1e49f1e7e",
   "metadata": {},
   "outputs": [
    {
     "name": "stdout",
     "output_type": "stream",
     "text": [
      "Welcome to the calculator\n"
     ]
    }
   ],
   "source": [
    "C11 =  calculator()"
   ]
  },
  {
   "cell_type": "code",
   "execution_count": 43,
   "id": "9536c3ec-88d4-4ffa-ad7e-e14bb6107324",
   "metadata": {},
   "outputs": [
    {
     "name": "stdout",
     "output_type": "stream",
     "text": [
      "5\n",
      "6\n"
     ]
    }
   ],
   "source": [
    "print(C11.add(2,3))\n",
    "print(C11.multiply(2,3))"
   ]
  },
  {
   "cell_type": "code",
   "execution_count": null,
   "id": "50649a94-9264-429c-b44d-2fdc6994fec3",
   "metadata": {},
   "outputs": [],
   "source": []
  }
 ],
 "metadata": {
  "kernelspec": {
   "display_name": "Python 3 (ipykernel)",
   "language": "python",
   "name": "python3"
  },
  "language_info": {
   "codemirror_mode": {
    "name": "ipython",
    "version": 3
   },
   "file_extension": ".py",
   "mimetype": "text/x-python",
   "name": "python",
   "nbconvert_exporter": "python",
   "pygments_lexer": "ipython3",
   "version": "3.12.7"
  }
 },
 "nbformat": 4,
 "nbformat_minor": 5
}

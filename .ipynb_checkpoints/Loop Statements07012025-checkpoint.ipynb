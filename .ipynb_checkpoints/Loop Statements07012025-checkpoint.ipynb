{
 "cells": [
  {
   "cell_type": "markdown",
   "id": "c286c4ee-a27c-4c93-a367-64b9ee2bb786",
   "metadata": {},
   "source": [
    "## Loop Statements"
   ]
  },
  {
   "cell_type": "markdown",
   "id": "432ce8de-c4df-45aa-8169-658c139442a1",
   "metadata": {},
   "source": [
    "### write a program to print factorial of  number"
   ]
  },
  {
   "cell_type": "code",
   "execution_count": 15,
   "id": "a004ac5f-3594-4582-a1f2-46d7682f3fbc",
   "metadata": {},
   "outputs": [
    {
     "name": "stdin",
     "output_type": "stream",
     "text": [
      "enter the number 2\n"
     ]
    },
    {
     "name": "stdout",
     "output_type": "stream",
     "text": [
      "range(1, 3)\n",
      " fct is 1 and i is 1\n",
      "range(1, 3)\n",
      " fct is 1 and i is 2\n",
      "factorial of 2 is 2\n",
      "re-printing factorial of 2 is 2\n"
     ]
    }
   ],
   "source": [
    "fctnum = int(input('enter the number'))\n",
    "fct = 1\n",
    "for i in range(fct, fctnum+1):\n",
    "    print(range(fct, fctnum+1))\n",
    "    print(f' fct is {fct} and i is {i}')\n",
    "    fct *= i # 5! = 5*4*3*2*1\n",
    "print('factorial of', fctnum,'is', fct)\n",
    "print(f're-printing factorial of {fctnum} is {fct}')"
   ]
  },
  {
   "cell_type": "code",
   "execution_count": null,
   "id": "1529b489-b9e0-41c6-85fd-33aa6ed64a87",
   "metadata": {},
   "outputs": [],
   "source": []
  }
 ],
 "metadata": {
  "kernelspec": {
   "display_name": "Python 3 (ipykernel)",
   "language": "python",
   "name": "python3"
  },
  "language_info": {
   "codemirror_mode": {
    "name": "ipython",
    "version": 3
   },
   "file_extension": ".py",
   "mimetype": "text/x-python",
   "name": "python",
   "nbconvert_exporter": "python",
   "pygments_lexer": "ipython3",
   "version": "3.12.7"
  }
 },
 "nbformat": 4,
 "nbformat_minor": 5
}

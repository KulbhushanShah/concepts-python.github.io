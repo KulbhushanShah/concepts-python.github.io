{
 "cells": [
  {
   "cell_type": "code",
   "execution_count": 6,
   "id": "9239cebb-2a09-425a-b7bc-c48e0c3c912b",
   "metadata": {},
   "outputs": [
    {
     "name": "stdin",
     "output_type": "stream",
     "text": [
      "Enter the aplhabet: a\n"
     ]
    },
    {
     "name": "stdout",
     "output_type": "stream",
     "text": [
      "a is a vowel\n"
     ]
    }
   ],
   "source": [
    "#Q4. Write a program to check if the alphabet entered by user is vowel or not.(Hint: Vowels are a,e,i,o,u)\n",
    "\n",
    "alphabet = input('Enter the aplhabet:')\n",
    "\n",
    "if alphabet in ['a','e','i','o','u']:\n",
    "    print(alphabet,'is a vowel')\n",
    "else:\n",
    "    print(alphabet,'is not a vowel')"
   ]
  },
  {
   "cell_type": "code",
   "execution_count": 2,
   "id": "5b880af8-70b8-4310-bc22-6aad79397cae",
   "metadata": {},
   "outputs": [
    {
     "name": "stdin",
     "output_type": "stream",
     "text": [
      "enter a vowel w\n"
     ]
    },
    {
     "name": "stdout",
     "output_type": "stream",
     "text": [
      "w is not a vowel, enter a vowel\n"
     ]
    }
   ],
   "source": [
    "#Q4. Write a program to check if the alphabet entered by user is vowel or not.(Hint: Vowels are a,e,i,o,u)\n",
    "alpha = input(\"enter a vowel\")\n",
    "\n",
    "if alpha in ['a', 'e', 'i', 'o', 'u']:\n",
    "    print(alpha, 'is a vowel')\n",
    "else:\n",
    "    print(alpha, 'is not a vowel, enter a vowel')"
   ]
  },
  {
   "cell_type": "code",
   "execution_count": 13,
   "id": "8980f365-09b7-4afc-a009-544c5b7fc28a",
   "metadata": {},
   "outputs": [
    {
     "name": "stdin",
     "output_type": "stream",
     "text": [
      "enter a vowel p\n"
     ]
    },
    {
     "name": "stdout",
     "output_type": "stream",
     "text": [
      "p is not a vowel\n"
     ]
    }
   ],
   "source": [
    "#Q4. Write a program to check if the alphabet entered by user is vowel or not.(Hint: Vowels are a,e,i,o,u)\n",
    "alpha = input(\"enter a vowel\")\n",
    "\n",
    "for alphas in ['a', 'e', 'i', 'o', 'u']:\n",
    "    if alpha in alphas:\n",
    "        print(alpha, 'is a vowel')\n",
    "    else:\n",
    "        print(alpha, 'is not a vowel')\n",
    "        break"
   ]
  },
  {
   "cell_type": "code",
   "execution_count": 14,
   "id": "6a32f13a-86bb-440f-834b-11c76972b7bd",
   "metadata": {},
   "outputs": [
    {
     "name": "stdin",
     "output_type": "stream",
     "text": [
      "Enter the aplhabet: p\n"
     ]
    },
    {
     "name": "stdout",
     "output_type": "stream",
     "text": [
      "p is not a vowel\n"
     ]
    }
   ],
   "source": [
    "#Solution2:\n",
    "alphabet = input('Enter the aplhabet:')\n",
    "\n",
    "if alphabet == 'a':\n",
    "    print(alphabet,'is a vowel')\n",
    "elif alphabet == 'e':\n",
    "    print(alphabet,'is a vowel')\n",
    "elif alphabet == 'i':\n",
    "    print(alphabet,'is a vowel')\n",
    "elif alphabet == 'o':\n",
    "    print(alphabet,'is a vowel')\n",
    "elif alphabet == 'u':\n",
    "    print(alphabet,'is a vowel')\n",
    "else:\n",
    "    print(alphabet,'is not a vowel')"
   ]
  },
  {
   "cell_type": "code",
   "execution_count": 15,
   "id": "cc70076d-adcc-402c-ba7b-1b4c4c745c87",
   "metadata": {},
   "outputs": [
    {
     "name": "stdin",
     "output_type": "stream",
     "text": [
      "Enter the aplhabet: p\n"
     ]
    },
    {
     "name": "stdout",
     "output_type": "stream",
     "text": [
      "p is not a vowel\n"
     ]
    }
   ],
   "source": [
    "#Solution3:\n",
    "alphabet = input('Enter the aplhabet:')\n",
    "\n",
    "if alphabet == 'a' or alphabet == 'e' or alphabet == 'i' or alphabet == 'o' or alphabet == 'u':\n",
    "    print(alphabet,'is a vowel')\n",
    "else:\n",
    "    print(alphabet,'is not a vowel')"
   ]
  },
  {
   "cell_type": "code",
   "execution_count": 19,
   "id": "9556fd9b-6833-4016-981c-b6e2bc5da858",
   "metadata": {},
   "outputs": [
    {
     "name": "stdin",
     "output_type": "stream",
     "text": [
      "Enter the aplhabet: p\n"
     ]
    },
    {
     "name": "stdout",
     "output_type": "stream",
     "text": [
      "p is not a vowel\n"
     ]
    }
   ],
   "source": [
    "alphabet = input('Enter the aplhabet:')\n",
    "\n",
    "if alphabet not in ['a','e','i','o','u']:\n",
    "    print(alphabet,'is not a vowel')\n",
    "else:\n",
    "   print(alphabet,'is a vowel')"
   ]
  },
  {
   "cell_type": "code",
   "execution_count": 23,
   "id": "bf09518e-2f8d-475c-ad41-0c88675f9503",
   "metadata": {},
   "outputs": [
    {
     "name": "stdin",
     "output_type": "stream",
     "text": [
      "Enter the aplhabet: A\n"
     ]
    },
    {
     "name": "stdout",
     "output_type": "stream",
     "text": [
      "A is a vowel\n"
     ]
    }
   ],
   "source": [
    "alphabet = input('Enter the aplhabet:')\n",
    "\n",
    "if alphabet in ['a','e','i','o','u','A','E']:\n",
    "    print(alphabet,'is a vowel')\n",
    "else:\n",
    "    print(alphabet,'is not a vowel')"
   ]
  },
  {
   "cell_type": "code",
   "execution_count": 22,
   "id": "718f85d3-f3cb-4fe0-838b-bebc235fb967",
   "metadata": {},
   "outputs": [
    {
     "name": "stdin",
     "output_type": "stream",
     "text": [
      "Enter the  aplhabet in lower case: O\n"
     ]
    },
    {
     "name": "stdout",
     "output_type": "stream",
     "text": [
      "o\n",
      "o is a vowel\n"
     ]
    }
   ],
   "source": [
    "alphabet = input('Enter the  aplhabet in lower case:')\n",
    "alphabet = alphabet.lower()\n",
    "print(alphabet)\n",
    "\n",
    "if alphabet in ['a','e','i','o','u']:\n",
    "    print(alphabet,'is a vowel')\n",
    "else:\n",
    "    print(alphabet,'is not a vowel')"
   ]
  },
  {
   "cell_type": "code",
   "execution_count": null,
   "id": "7e0e4f2a-2a7c-4c10-9c40-c6ee87b316b1",
   "metadata": {},
   "outputs": [],
   "source": [
    "lower()\n",
    "upper()"
   ]
  },
  {
   "cell_type": "markdown",
   "id": "7de3fdfc-f024-4ded-b3d4-38719665d3db",
   "metadata": {},
   "source": [
    "# Nested if:"
   ]
  },
  {
   "cell_type": "code",
   "execution_count": 25,
   "id": "106e3c3c-ddea-4393-8d0f-cbe22380b63a",
   "metadata": {},
   "outputs": [
    {
     "name": "stdin",
     "output_type": "stream",
     "text": [
      "Enter the age 88\n",
      "Enter the name Kulbhushan\n"
     ]
    },
    {
     "name": "stdout",
     "output_type": "stream",
     "text": [
      "\n",
      " Kulbhushan is not voting\n"
     ]
    }
   ],
   "source": [
    "age = int(input('Enter the age'))\n",
    "name = input('Enter the name')\n",
    "\n",
    "if age>=18:\n",
    "    if name == 'Pratik':\n",
    "        print(\"\\n\", name, 'is eligible for voting')\n",
    "    else:\n",
    "        print(\"\\n\", name, 'is not voting')\n",
    "else:\n",
    "    print(\"\\n\", name, 'is not eligible for voting')"
   ]
  },
  {
   "cell_type": "code",
   "execution_count": 18,
   "id": "a82a5674-f990-447a-9015-4308d7490818",
   "metadata": {},
   "outputs": [
    {
     "name": "stdin",
     "output_type": "stream",
     "text": [
      "Enter the number: 0\n"
     ]
    },
    {
     "name": "stdout",
     "output_type": "stream",
     "text": [
      "number is positive\n"
     ]
    }
   ],
   "source": [
    "# Short hand if / Ternary operator: concise way of writing the if-else statement in a single line. To make it more readable.\n",
    "\n",
    "num =  int(input('Enter the number:'))\n",
    "\n",
    "if num>=0:\n",
    "    print('number is positive')\n",
    "else:\n",
    "    print('number is negative')"
   ]
  },
  {
   "cell_type": "code",
   "execution_count": 29,
   "id": "c4c2a498-9f6f-493b-a6aa-3b3bebecfaef",
   "metadata": {},
   "outputs": [
    {
     "name": "stdin",
     "output_type": "stream",
     "text": [
      "Enter the number: -8\n"
     ]
    },
    {
     "data": {
      "text/plain": [
       "'number is negative'"
      ]
     },
     "execution_count": 29,
     "metadata": {},
     "output_type": "execute_result"
    }
   ],
   "source": [
    "num =  int(input('Enter the number:'))\n",
    "'number is positive' if num>=0 else 'number is negative'"
   ]
  },
  {
   "cell_type": "code",
   "execution_count": 30,
   "id": "048625f6-481d-45d6-ae0b-338b6adf5e09",
   "metadata": {},
   "outputs": [
    {
     "name": "stdin",
     "output_type": "stream",
     "text": [
      "Enter the number1: 24\n",
      "Enter the number2: 42\n",
      "Enter the number3: 66\n"
     ]
    },
    {
     "name": "stdout",
     "output_type": "stream",
     "text": [
      "66 is largest\n"
     ]
    }
   ],
   "source": [
    "# write a program to check largest number from the three numbers\n",
    "\n",
    "num1 =  int(input('Enter the number1:'))\n",
    "num2 =  int(input('Enter the number2:'))\n",
    "num3 =  int(input('Enter the number3:'))\n",
    "\n",
    "if num1>num2 and num1>num3:\n",
    "    print(num1,'is largest')\n",
    "elif num2>num1 and num2>num3:\n",
    "    print(num2,'is largest')\n",
    "elif num3>num1 and num3>num2:\n",
    "    print(num3,'is largest')\n",
    "else:\n",
    "    print('Three numbers are equal')"
   ]
  },
  {
   "cell_type": "code",
   "execution_count": 24,
   "id": "1c921260-0135-4f0d-b706-dd12bce31de8",
   "metadata": {},
   "outputs": [
    {
     "name": "stdin",
     "output_type": "stream",
     "text": [
      "Enter the number1: 20\n",
      "Enter the number2: 10\n",
      "Enter the number3: 30\n"
     ]
    },
    {
     "name": "stdout",
     "output_type": "stream",
     "text": [
      "30 is largest\n"
     ]
    }
   ],
   "source": [
    "num1 =  int(input('Enter the number1:'))\n",
    "num2 =  int(input('Enter the number2:'))\n",
    "num3 =  int(input('Enter the number3:'))\n",
    "\n",
    "if num1>num2>num3:\n",
    "    print(num1,'is largest')\n",
    "elif num2>num1>num3:\n",
    "    print(num2,'is largest')\n",
    "elif num3>num1>num2:\n",
    "    print(num3,'is largest')\n",
    "else:\n",
    "    print('Three numbers are equal')"
   ]
  },
  {
   "cell_type": "code",
   "execution_count": 28,
   "id": "a630bb46-e9ae-4223-b4b7-fa0f2f892eb1",
   "metadata": {},
   "outputs": [
    {
     "name": "stdin",
     "output_type": "stream",
     "text": [
      "Enter the number 30\n",
      "Enter the number 20\n",
      "Enter the number 10\n"
     ]
    },
    {
     "name": "stdout",
     "output_type": "stream",
     "text": [
      "30\n"
     ]
    }
   ],
   "source": [
    "a = int(input('Enter the number'))\n",
    "\n",
    "b = int(input('Enter the number'))\n",
    "\n",
    "c = int(input('Enter the number'))\n",
    "\n",
    "if a > b:\n",
    "    print(a)\n",
    "\n",
    "elif b > c:\n",
    "    print(b)\n",
    "\n",
    "else:\n",
    "    print(c)"
   ]
  },
  {
   "cell_type": "code",
   "execution_count": 32,
   "id": "92f54a26-b509-4871-a54b-218095ae38ad",
   "metadata": {},
   "outputs": [
    {
     "name": "stdin",
     "output_type": "stream",
     "text": [
      "Enter the number1: 99\n",
      "Enter the number2: 99\n",
      "Enter the number3: 99\n"
     ]
    },
    {
     "name": "stdout",
     "output_type": "stream",
     "text": [
      "all numbers are equal\n"
     ]
    }
   ],
   "source": [
    "num1 =  int(input('Enter the number1:'))\n",
    "num2 =  int(input('Enter the number2:'))\n",
    "num3 =  int(input('Enter the number3:'))\n",
    "\n",
    "if num1>num2 and num1>num3:\n",
    "    print('num1 is largest')\n",
    "elif num2>num1 and num2>num3:\n",
    "    print('num2 is largest')\n",
    "elif num3>num1 and num3>num2:\n",
    "    print('num3 is largest')\n",
    "else:\n",
    "    print('all numbers are equal')"
   ]
  },
  {
   "cell_type": "code",
   "execution_count": 34,
   "id": "736e520e-a449-4be2-9375-1e5dbab4a3a8",
   "metadata": {},
   "outputs": [
    {
     "name": "stdin",
     "output_type": "stream",
     "text": [
      "Enter the number1: 9999\n",
      "Enter the number2: 9999\n",
      "Enter the number3: 999\n"
     ]
    },
    {
     "data": {
      "text/plain": [
       "'Three numbers are equal'"
      ]
     },
     "execution_count": 34,
     "metadata": {},
     "output_type": "execute_result"
    }
   ],
   "source": [
    "# Short hand if:\n",
    "num1 =  int(input('Enter the number1:'))\n",
    "num2 =  int(input('Enter the number2:'))\n",
    "num3 =  int(input('Enter the number3:'))\n",
    "\n",
    "print(num1,' is largest') if num1>num2 and num1>num3 else 'num2 is largest' if num2>num1 and num2>num3 else 'num3 is largest' if num3>num1 and num3>num2 else 'Three numbers are equal'"
   ]
  },
  {
   "cell_type": "code",
   "execution_count": 35,
   "id": "2e7b72a2-df80-4cac-bb9e-9995b6117dc3",
   "metadata": {},
   "outputs": [
    {
     "name": "stdin",
     "output_type": "stream",
     "text": [
      "Enter the number1: 30\n",
      "Enter the number2: 20\n",
      "Enter the number3: 10\n"
     ]
    },
    {
     "name": "stdout",
     "output_type": "stream",
     "text": [
      "30 is largest from the numbers 20 and 10\n"
     ]
    }
   ],
   "source": [
    "# String Formatting:\n",
    "\n",
    "# write a program to check largest number from the three numbers\n",
    "\n",
    "num1 =  int(input('Enter the number1:'))\n",
    "num2 =  int(input('Enter the number2:'))\n",
    "num3 =  int(input('Enter the number3:'))\n",
    "\n",
    "if num1>num2 and num1>num3:\n",
    "    print(num1,'is largest from the numbers',num2,'and',num3)\n",
    "elif num2>num1 and num2>num3:\n",
    "    print(num2,'is largest')\n",
    "elif num3>num1 and num3>num2:\n",
    "    print(num3,'is largest')\n",
    "else:\n",
    "    print('Three numbers are equal')"
   ]
  },
  {
   "cell_type": "code",
   "execution_count": 36,
   "id": "2eca9121-8d3f-48e3-9364-8b827970c02e",
   "metadata": {},
   "outputs": [
    {
     "name": "stdin",
     "output_type": "stream",
     "text": [
      "Enter the number1: 10000\n",
      "Enter the number2: 999\n",
      "Enter the number3: 999\n"
     ]
    },
    {
     "name": "stdout",
     "output_type": "stream",
     "text": [
      "10000 is largest from the numbers 999 and 999\n"
     ]
    }
   ],
   "source": [
    "num1 =  int(input('Enter the number1:'))\n",
    "num2 =  int(input('Enter the number2:'))\n",
    "num3 =  int(input('Enter the number3:'))\n",
    "\n",
    "if num1>num2 and num1>num3:\n",
    "    print(f' {num1} is largest from the numbers {num2} and {num3}')\n",
    "elif num2>num1 and num2>num3:\n",
    "    print(num2,'is largest')\n",
    "elif num3>num1 and num3>num2:\n",
    "    print(num3,'is largest')\n",
    "else:\n",
    "    print('Three numbers are equal')"
   ]
  },
  {
   "cell_type": "code",
   "execution_count": null,
   "id": "8aeb6889-6742-4b0e-91d6-e717a436e463",
   "metadata": {},
   "outputs": [],
   "source": []
  }
 ],
 "metadata": {
  "kernelspec": {
   "display_name": "Python 3 (ipykernel)",
   "language": "python",
   "name": "python3"
  },
  "language_info": {
   "codemirror_mode": {
    "name": "ipython",
    "version": 3
   },
   "file_extension": ".py",
   "mimetype": "text/x-python",
   "name": "python",
   "nbconvert_exporter": "python",
   "pygments_lexer": "ipython3",
   "version": "3.12.7"
  }
 },
 "nbformat": 4,
 "nbformat_minor": 5
}

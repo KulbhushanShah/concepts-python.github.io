{
 "cells": [
  {
   "cell_type": "code",
   "execution_count": 52,
   "id": "0ac96286-29e8-4728-8f36-653710fdf46e",
   "metadata": {},
   "outputs": [
    {
     "name": "stdout",
     "output_type": "stream",
     "text": [
      "[8]\n",
      "An exception occurred\n",
      "[8]\n"
     ]
    }
   ],
   "source": [
    "\n",
    "\n",
    "my_list = []\n",
    "try:\n",
    "    my_list.append(8)  # Append one item at a time\n",
    "    raise SyntaxError\n",
    "except SyntaxError:\n",
    "    print(my_list)\n",
    "    print(\"An exception occurred\")\n",
    "else :\n",
    "    print(\"An exception occurred- else\")\n",
    "print(my_list)"
   ]
  },
  {
   "cell_type": "code",
   "execution_count": null,
   "id": "0a2f40ac-69ed-42db-a0e7-dfe8363a3842",
   "metadata": {},
   "outputs": [],
   "source": []
  },
  {
   "cell_type": "code",
   "execution_count": null,
   "id": "886eea89-48e6-4e9b-ac2c-c1207b1cdcd6",
   "metadata": {},
   "outputs": [],
   "source": []
  },
  {
   "cell_type": "code",
   "execution_count": null,
   "id": "20c00bc0-fdc5-4df0-a5e9-f11c1477b17a",
   "metadata": {},
   "outputs": [],
   "source": []
  },
  {
   "cell_type": "code",
   "execution_count": null,
   "id": "17854e37-8732-419d-becf-2197beb0d238",
   "metadata": {},
   "outputs": [],
   "source": []
  }
 ],
 "metadata": {
  "kernelspec": {
   "display_name": "Python 3 (ipykernel)",
   "language": "python",
   "name": "python3"
  },
  "language_info": {
   "codemirror_mode": {
    "name": "ipython",
    "version": 3
   },
   "file_extension": ".py",
   "mimetype": "text/x-python",
   "name": "python",
   "nbconvert_exporter": "python",
   "pygments_lexer": "ipython3",
   "version": "3.12.7"
  }
 },
 "nbformat": 4,
 "nbformat_minor": 5
}

{
 "cells": [
  {
   "cell_type": "markdown",
   "id": "60f77e49-53cb-41a2-a4db-81d1d7930a93",
   "metadata": {},
   "source": [
    "# Recursive Function:\n"
   ]
  },
  {
   "cell_type": "code",
   "execution_count": 11,
   "id": "23f3e3c6-55c4-4f32-bb07-21449949d0ad",
   "metadata": {},
   "outputs": [],
   "source": [
    "# Factorial:\n",
    "\n",
    "def factorial(number):\n",
    "    if number == 1:\n",
    "        return 1\n",
    "    else:\n",
    "        return number*factorial(number-1)"
   ]
  },
  {
   "cell_type": "code",
   "execution_count": 12,
   "id": "e1db766e-49f9-44d5-b734-b5de1cc17fd4",
   "metadata": {},
   "outputs": [
    {
     "data": {
      "text/plain": [
       "24"
      ]
     },
     "execution_count": 12,
     "metadata": {},
     "output_type": "execute_result"
    }
   ],
   "source": [
    "factorial(4)"
   ]
  },
  {
   "cell_type": "markdown",
   "id": "7ef4e960-3b7e-4de9-9c7c-db869cc377e6",
   "metadata": {},
   "source": [
    "# Lambda Functions"
   ]
  },
  {
   "cell_type": "code",
   "execution_count": 13,
   "id": "0265e9cd-094e-40ec-91e4-2757a308eb75",
   "metadata": {},
   "outputs": [],
   "source": [
    "# Defining Lambda Function\n",
    "f1 = lambda: print('This is Lambda Function')"
   ]
  },
  {
   "cell_type": "code",
   "execution_count": 15,
   "id": "04bc4636-c9eb-4b83-a547-462b9df86668",
   "metadata": {},
   "outputs": [
    {
     "name": "stdout",
     "output_type": "stream",
     "text": [
      "This is Lambda Function\n"
     ]
    }
   ],
   "source": [
    "f1()"
   ]
  },
  {
   "cell_type": "code",
   "execution_count": 17,
   "id": "d261f510-020e-41a3-b163-bd44ec8d5216",
   "metadata": {},
   "outputs": [],
   "source": [
    "f2 = lambda name: print(f'This is {name} Function')"
   ]
  },
  {
   "cell_type": "code",
   "execution_count": 18,
   "id": "f24474ff-c3e8-4f93-a5c3-1613948fccf1",
   "metadata": {},
   "outputs": [
    {
     "name": "stdout",
     "output_type": "stream",
     "text": [
      "This is Python Function\n"
     ]
    }
   ],
   "source": [
    "f2('Python')"
   ]
  },
  {
   "cell_type": "code",
   "execution_count": 19,
   "id": "dc7712b2-87a9-4c1e-acd1-9affaaf90c31",
   "metadata": {},
   "outputs": [
    {
     "name": "stdout",
     "output_type": "stream",
     "text": [
      "The square of 4 is 16\n"
     ]
    }
   ],
   "source": [
    "# Print square of number using Lambda\n",
    "\n",
    "f3 = lambda num: print(f'The square of {num} is {num*num}')\n",
    "f3(4)"
   ]
  },
  {
   "cell_type": "code",
   "execution_count": 20,
   "id": "3dbb5ff9-5318-4854-9f92-728135d26334",
   "metadata": {},
   "outputs": [
    {
     "data": {
      "text/plain": [
       "16"
      ]
     },
     "execution_count": 20,
     "metadata": {},
     "output_type": "execute_result"
    }
   ],
   "source": [
    "f4 = lambda x:x**2\n",
    "f4(4)"
   ]
  },
  {
   "cell_type": "code",
   "execution_count": 21,
   "id": "9db69c52-6412-4d14-a314-bbc6de5ee955",
   "metadata": {},
   "outputs": [
    {
     "data": {
      "text/plain": [
       "2200"
      ]
     },
     "execution_count": 21,
     "metadata": {},
     "output_type": "execute_result"
    }
   ],
   "source": [
    "# Print the bigger number from 2 numbers\n",
    "\n",
    "big = lambda x,y: x if x>y else y\n",
    "big(100,2200)"
   ]
  },
  {
   "cell_type": "markdown",
   "id": "cb8aea77-e8d8-4e3c-b120-126f4b6732a9",
   "metadata": {},
   "source": [
    "# Filter Function"
   ]
  },
  {
   "cell_type": "code",
   "execution_count": 22,
   "id": "9d888be1-15e3-46e7-b888-8ff0fc398722",
   "metadata": {},
   "outputs": [],
   "source": [
    "# Without Lambda\n",
    "\n",
    "def evennum(number):\n",
    "    if number%2==0:\n",
    "        return True"
   ]
  },
  {
   "cell_type": "code",
   "execution_count": 26,
   "id": "a65c4844-a970-44f5-a892-38519fbc8c16",
   "metadata": {},
   "outputs": [
    {
     "data": {
      "text/plain": [
       "[2, 4, 6, 8, 10]"
      ]
     },
     "execution_count": 26,
     "metadata": {},
     "output_type": "execute_result"
    }
   ],
   "source": [
    "list1 = [1,2,3,4,5,6,7,8,9,10]\n",
    "\n",
    "list(filter(evennum,list1))"
   ]
  },
  {
   "cell_type": "code",
   "execution_count": 27,
   "id": "08fa04fd-ba7f-453f-bb7a-080de6ce0613",
   "metadata": {},
   "outputs": [],
   "source": [
    "# With Lambda\n",
    "list1 = [1,2,3,4,5,6,7,8,9,10]\n",
    "\n",
    "even_numbers = list(filter(lambda x:x%2==0,list1))\n"
   ]
  },
  {
   "cell_type": "code",
   "execution_count": 28,
   "id": "57eec033-09db-44d6-9798-ea47191ecfe1",
   "metadata": {},
   "outputs": [
    {
     "data": {
      "text/plain": [
       "[2, 4, 6, 8, 10]"
      ]
     },
     "execution_count": 28,
     "metadata": {},
     "output_type": "execute_result"
    }
   ],
   "source": [
    "even_numbers"
   ]
  },
  {
   "cell_type": "code",
   "execution_count": 29,
   "id": "8c625541-a451-42ba-8ed7-125dd2200cad",
   "metadata": {},
   "outputs": [],
   "source": [
    "list1 = [1,2,3,4,5,6,7,8,9,10]\n",
    "\n",
    "even_numbers = set(filter(lambda x:x%2==0,list1))"
   ]
  },
  {
   "cell_type": "code",
   "execution_count": 30,
   "id": "82c1a0a9-0b27-4d34-bbe8-5220b63a1fea",
   "metadata": {},
   "outputs": [
    {
     "data": {
      "text/plain": [
       "{2, 4, 6, 8, 10}"
      ]
     },
     "execution_count": 30,
     "metadata": {},
     "output_type": "execute_result"
    }
   ],
   "source": [
    "even_numbers"
   ]
  },
  {
   "cell_type": "markdown",
   "id": "c184b9dc-45eb-4bd6-b3ab-be5208791af9",
   "metadata": {},
   "source": [
    "# map():"
   ]
  },
  {
   "cell_type": "code",
   "execution_count": 35,
   "id": "76bf0fe9-fd79-4b4f-93e0-d3815141f394",
   "metadata": {},
   "outputs": [],
   "source": [
    "# without Lambda:\n",
    "l = (1,2,3,4,5)\n",
    "\n",
    "def double(num):\n",
    "    return 2*num"
   ]
  },
  {
   "cell_type": "code",
   "execution_count": 36,
   "id": "c84ec075-d542-4a5d-ad4f-d7d5ff6d212b",
   "metadata": {},
   "outputs": [
    {
     "data": {
      "text/plain": [
       "{2, 4, 6, 8, 10}"
      ]
     },
     "execution_count": 36,
     "metadata": {},
     "output_type": "execute_result"
    }
   ],
   "source": [
    "set(map(double,l))"
   ]
  },
  {
   "cell_type": "code",
   "execution_count": 37,
   "id": "38cfdab4-7808-43b6-a35a-f754d3798dcf",
   "metadata": {},
   "outputs": [],
   "source": [
    "# With Lambda\n",
    "set1 = {1,2,3,4,5}\n",
    "\n",
    "newlist = tuple(map(lambda x:x*2,set1))"
   ]
  },
  {
   "cell_type": "code",
   "execution_count": 38,
   "id": "897c9f40-aec2-4500-b842-8cf66d1a0e2f",
   "metadata": {},
   "outputs": [
    {
     "data": {
      "text/plain": [
       "(2, 4, 6, 8, 10)"
      ]
     },
     "execution_count": 38,
     "metadata": {},
     "output_type": "execute_result"
    }
   ],
   "source": [
    "newlist"
   ]
  },
  {
   "cell_type": "markdown",
   "id": "57c21073-4bf6-42dc-a10b-300f112162db",
   "metadata": {},
   "source": [
    "# reduce():"
   ]
  },
  {
   "cell_type": "code",
   "execution_count": 39,
   "id": "b5289e25-853e-4408-949e-a52e4849440b",
   "metadata": {},
   "outputs": [],
   "source": [
    "from functools import reduce"
   ]
  },
  {
   "cell_type": "code",
   "execution_count": 40,
   "id": "c0b835bc-d533-4fc8-96b3-dce32b3ae0ca",
   "metadata": {},
   "outputs": [],
   "source": [
    "# Without lambda\n",
    "\n",
    "def add(x,y):\n",
    "    return x+y"
   ]
  },
  {
   "cell_type": "code",
   "execution_count": 41,
   "id": "dc5355fb-bf58-4cd6-98d1-2f08e21c5e01",
   "metadata": {},
   "outputs": [
    {
     "data": {
      "text/plain": [
       "21"
      ]
     },
     "execution_count": 41,
     "metadata": {},
     "output_type": "execute_result"
    }
   ],
   "source": [
    "list5 = [1,2,3,4,5,6]\n",
    "\n",
    "reduce(add,list5)"
   ]
  },
  {
   "cell_type": "code",
   "execution_count": 42,
   "id": "70f3650f-0344-4d11-a533-a9153ff7517d",
   "metadata": {},
   "outputs": [
    {
     "data": {
      "text/plain": [
       "21"
      ]
     },
     "execution_count": 42,
     "metadata": {},
     "output_type": "execute_result"
    }
   ],
   "source": [
    "# With lambda\n",
    "list5 = [1,2,3,4,5,6]\n",
    "\n",
    "reduce(lambda x,y:x+y,list5)"
   ]
  }
 ],
 "metadata": {
  "kernelspec": {
   "display_name": "Python 3 (ipykernel)",
   "language": "python",
   "name": "python3"
  },
  "language_info": {
   "codemirror_mode": {
    "name": "ipython",
    "version": 3
   },
   "file_extension": ".py",
   "mimetype": "text/x-python",
   "name": "python",
   "nbconvert_exporter": "python",
   "pygments_lexer": "ipython3",
   "version": "3.12.7"
  }
 },
 "nbformat": 4,
 "nbformat_minor": 5
}

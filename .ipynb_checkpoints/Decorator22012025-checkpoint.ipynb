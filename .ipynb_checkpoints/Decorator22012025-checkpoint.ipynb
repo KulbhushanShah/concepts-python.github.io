{
 "cells": [
  {
   "cell_type": "markdown",
   "id": "db55c152-fc27-4c1b-8ab7-2db08750f544",
   "metadata": {},
   "source": [
    "# Decorator "
   ]
  },
  {
   "cell_type": "code",
   "execution_count": 20,
   "id": "b105c080-9e1e-4155-b6fa-5614e0f1a5b2",
   "metadata": {},
   "outputs": [],
   "source": [
    "# Storing a function in a variable\n",
    "def funSt():\n",
    "    print('Store function in a variable')"
   ]
  },
  {
   "cell_type": "code",
   "execution_count": 21,
   "id": "d2b67c13-3316-4a11-b13e-868dbecc5133",
   "metadata": {},
   "outputs": [],
   "source": [
    "fstVar = funSt"
   ]
  },
  {
   "cell_type": "code",
   "execution_count": 22,
   "id": "5d1572a9-807e-496f-874e-9bbeb5eca287",
   "metadata": {},
   "outputs": [
    {
     "name": "stdout",
     "output_type": "stream",
     "text": [
      "Store function in a variable\n"
     ]
    }
   ],
   "source": [
    "fstVar()"
   ]
  },
  {
   "cell_type": "code",
   "execution_count": 23,
   "id": "8aadc678-330e-43fa-a698-91327046052d",
   "metadata": {},
   "outputs": [],
   "source": [
    "# Passing function as a parameter to another function\n",
    "def fun1():\n",
    "    print('1st fun')\n",
    "\n",
    "def fun2(f1):\n",
    "    print('2nd fun')\n",
    "    f1()"
   ]
  },
  {
   "cell_type": "code",
   "execution_count": 24,
   "id": "71501ebf-5d89-4e1c-85ec-decce0ab47f8",
   "metadata": {},
   "outputs": [
    {
     "name": "stdout",
     "output_type": "stream",
     "text": [
      "2nd fun\n",
      "1st fun\n"
     ]
    }
   ],
   "source": [
    "fun2(fun1)"
   ]
  },
  {
   "cell_type": "markdown",
   "id": "1d817fa3-2931-424f-b155-cc54c2075817",
   "metadata": {},
   "source": [
    "# Decorators"
   ]
  },
  {
   "cell_type": "markdown",
   "id": "c8846023-0d0c-42ad-bfa1-e5b6019e9ce3",
   "metadata": {},
   "source": [
    "## One way to apply decorator"
   ]
  },
  {
   "cell_type": "code",
   "execution_count": 25,
   "id": "941e3c29-445e-4c63-a5e0-b0adc206d53f",
   "metadata": {},
   "outputs": [],
   "source": [
    "def withdraw():\n",
    "    print('Cash received successfully.')"
   ]
  },
  {
   "cell_type": "code",
   "execution_count": 28,
   "id": "582d9d8b-a495-4f91-8ae6-e7b24ff9d4e7",
   "metadata": {},
   "outputs": [],
   "source": [
    "def ATM(fun_withdraw):\n",
    "    def wrap_withdrawl(): # Decorating function withdraw()\n",
    "        print('Enter your pin.')\n",
    "        fun_withdraw()\n",
    "        print('Generating receipt.')\n",
    "    return wrap_withdrawl"
   ]
  },
  {
   "cell_type": "code",
   "execution_count": 33,
   "id": "a77b6eed-9eae-40d3-8708-f69eb3b328fe",
   "metadata": {},
   "outputs": [],
   "source": [
    "withdrawVar = ATM(withdraw) # Assigning ATM() to variable 'withdrawVar'"
   ]
  },
  {
   "cell_type": "code",
   "execution_count": 34,
   "id": "595a837b-fa13-43a0-a97b-8c277a5573e0",
   "metadata": {},
   "outputs": [
    {
     "name": "stdout",
     "output_type": "stream",
     "text": [
      "Enter your pin.\n",
      "Cash received successfully.\n",
      "Generating receipt.\n"
     ]
    }
   ],
   "source": [
    "withdrawVar()"
   ]
  },
  {
   "cell_type": "markdown",
   "id": "e747f0f4-7374-44c6-9af1-10ea7225fe1f",
   "metadata": {},
   "source": [
    "## Alternative way to apply decorator"
   ]
  },
  {
   "cell_type": "code",
   "execution_count": 35,
   "id": "62cb9b5b-0f00-4dd3-b044-88a26c47882a",
   "metadata": {},
   "outputs": [],
   "source": [
    "# Alternative way to apply decorator\n",
    "\n",
    "@ATM\n",
    "def resetatmpin():\n",
    "    print('pin changed successfully!')"
   ]
  },
  {
   "cell_type": "code",
   "execution_count": 36,
   "id": "ecfb0059-a288-45be-8068-57a790114bfc",
   "metadata": {},
   "outputs": [
    {
     "name": "stdout",
     "output_type": "stream",
     "text": [
      "Enter your pin.\n",
      "pin changed successfully!\n",
      "Generating receipt.\n"
     ]
    }
   ],
   "source": [
    "resetatmpin()"
   ]
  },
  {
   "cell_type": "markdown",
   "id": "d9bf55c5-1fbc-4a4b-8a2d-67d1272f9477",
   "metadata": {},
   "source": [
    "### Another decorator example"
   ]
  },
  {
   "cell_type": "code",
   "execution_count": 43,
   "id": "9956113e-e593-40ef-9ba6-72944b3e065b",
   "metadata": {},
   "outputs": [],
   "source": [
    "# Another decorator example\n",
    "def AccountDetail(requestChequeBook):\n",
    "    def wrap_requestChequeBook(num_acc): # Decorating function withdraw()\n",
    "        print('Fill your account number.')\n",
    "        requestChequeBook(num_acc)\n",
    "    return wrap_requestChequeBook"
   ]
  },
  {
   "cell_type": "code",
   "execution_count": 44,
   "id": "b7048d88-671b-495b-bcef-0c00c062795f",
   "metadata": {},
   "outputs": [],
   "source": [
    "@AccountDetail\n",
    "def requestChequeBook(acc_num):\n",
    "    print(f\"New cheque book request for account number {acc_num} has been approved.\")"
   ]
  },
  {
   "cell_type": "code",
   "execution_count": 45,
   "id": "311ad890-d47e-44d2-adb7-9bf8036b2cea",
   "metadata": {},
   "outputs": [
    {
     "name": "stdout",
     "output_type": "stream",
     "text": [
      "Fill your account number.\n",
      "New cheque book request for account number 7582031 has been approved.\n"
     ]
    }
   ],
   "source": [
    "requestChequeBook(7582031)"
   ]
  },
  {
   "cell_type": "markdown",
   "id": "10bbd42f-f056-4d47-98cd-d845516b370f",
   "metadata": {},
   "source": [
    "### Another decorator example"
   ]
  },
  {
   "cell_type": "code",
   "execution_count": 50,
   "id": "2bb1e1e4-bb5c-4904-be86-6bf4b3a861a0",
   "metadata": {},
   "outputs": [],
   "source": [
    "# Another decorator example\n",
    "\n",
    "def New_ATM(funs):\n",
    "    def wrapper(*args): # Decorating function withdraw()\n",
    "        print('Fill your detail.')\n",
    "        funs(*args)\n",
    "        print('transaction successful.')\n",
    "    return wrapper"
   ]
  },
  {
   "cell_type": "code",
   "execution_count": 51,
   "id": "87288c2d-fa48-4c8a-9caa-0ceee5d86644",
   "metadata": {},
   "outputs": [],
   "source": [
    "@New_ATM\n",
    "def requestChequeBook(acc_num):\n",
    "    print(f\"New cheque book request for account number {acc_num} has been approved.\")"
   ]
  },
  {
   "cell_type": "code",
   "execution_count": 55,
   "id": "7f1745b7-f51d-41b6-b9ad-5f012ec76c45",
   "metadata": {},
   "outputs": [],
   "source": [
    "@New_ATM\n",
    "def resetatmpin(oldpin, newpin):\n",
    "    print(f'The old pin {oldpin} is changed to new pin {newpin}, successfully!')"
   ]
  },
  {
   "cell_type": "code",
   "execution_count": 56,
   "id": "a63a870f-d756-4ff2-b570-4cbe28ac226e",
   "metadata": {},
   "outputs": [
    {
     "name": "stdout",
     "output_type": "stream",
     "text": [
      "Fill your detail.\n",
      "New cheque book request for account number 75356 has been approved.\n",
      "transaction successful.\n"
     ]
    }
   ],
   "source": [
    "requestChequeBook(75356)"
   ]
  },
  {
   "cell_type": "code",
   "execution_count": 57,
   "id": "595f9daa-f396-42ed-92da-25eaba0b1431",
   "metadata": {},
   "outputs": [
    {
     "name": "stdout",
     "output_type": "stream",
     "text": [
      "Fill your detail.\n",
      "The old pin 124 is changed to new pin 535, successfully!\n",
      "transaction successful.\n"
     ]
    }
   ],
   "source": [
    "resetatmpin(124, 535)"
   ]
  },
  {
   "cell_type": "markdown",
   "id": "7f006ba9-e3c6-4669-93ec-9f8549ad512a",
   "metadata": {},
   "source": [
    "## Chaining of decorator"
   ]
  },
  {
   "cell_type": "code",
   "execution_count": 68,
   "id": "df4c633b-8d4e-48c5-a5da-51274d1cbe0b",
   "metadata": {},
   "outputs": [],
   "source": [
    "def decor1(funs):\n",
    "    def inner_wrapper():\n",
    "        x = funs()\n",
    "        return x*x\n",
    "    return inner_wrapper\n",
    "\n",
    "def decor2(funs):\n",
    "    def another_wrapper(): \n",
    "        x = funs()\n",
    "        return x*2\n",
    "    return another_wrapper"
   ]
  },
  {
   "cell_type": "code",
   "execution_count": 69,
   "id": "f942248d-bb59-49c6-abc4-9ccefa1c95f3",
   "metadata": {},
   "outputs": [],
   "source": [
    "@decor1 # executes 3rd\n",
    "@decor2 # executes 2nd\n",
    "# executes 1st\n",
    "def num():\n",
    "    return 10"
   ]
  },
  {
   "cell_type": "code",
   "execution_count": 70,
   "id": "77286c14-f822-425d-8bd6-a68d7c5bee46",
   "metadata": {},
   "outputs": [
    {
     "data": {
      "text/plain": [
       "400"
      ]
     },
     "execution_count": 70,
     "metadata": {},
     "output_type": "execute_result"
    }
   ],
   "source": [
    "num()"
   ]
  },
  {
   "cell_type": "code",
   "execution_count": null,
   "id": "a1c78e8f-cfd5-4418-820d-2a78e448cda8",
   "metadata": {},
   "outputs": [],
   "source": []
  }
 ],
 "metadata": {
  "kernelspec": {
   "display_name": "Python 3 (ipykernel)",
   "language": "python",
   "name": "python3"
  },
  "language_info": {
   "codemirror_mode": {
    "name": "ipython",
    "version": 3
   },
   "file_extension": ".py",
   "mimetype": "text/x-python",
   "name": "python",
   "nbconvert_exporter": "python",
   "pygments_lexer": "ipython3",
   "version": "3.12.7"
  }
 },
 "nbformat": 4,
 "nbformat_minor": 5
}

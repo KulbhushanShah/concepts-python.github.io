{
 "cells": [
  {
   "cell_type": "markdown",
   "id": "a69bddc9-7d76-4b8d-b3d8-d5f127948180",
   "metadata": {},
   "source": [
    "# Assignment-3: Functions"
   ]
  },
  {
   "cell_type": "markdown",
   "id": "00d32436-4f29-4b8f-a8e4-382de4a96b90",
   "metadata": {},
   "source": [
    "### Instruction: Do read the Note carefully before writing the programs and verify the answer by Expected Output."
   ]
  },
  {
   "cell_type": "markdown",
   "id": "03ba6e41-1a3c-46b8-ae84-88517119a499",
   "metadata": {},
   "source": [
    "   "
   ]
  },
  {
   "cell_type": "raw",
   "id": "2c56df78-42cb-485a-bcd7-5261cc1e008a",
   "metadata": {},
   "source": [
    "Q1. Write a program to create a function that takes a list and returns a new list with unique elements from first list.\n",
    "[Note: The list1 is given below use that list only]\n",
    "Expected output: [1,2,3,4,5,6]"
   ]
  },
  {
   "cell_type": "code",
   "execution_count": null,
   "id": "d98b121d-b452-434f-85ef-b40ce706d3f2",
   "metadata": {},
   "outputs": [],
   "source": [
    "# Write Program from below line:\n",
    "list1 = [1,2,2,2,3,3,3,4,4,5,6,6]\n",
    "def unique(list1):\n",
    "    new_list = []\n",
    "    for a in list1:\n",
    "        if a not in new_list:\n",
    "            new_list.append(a)\n",
    "    return new_list\n",
    "\n",
    "unique(list1)"
   ]
  },
  {
   "cell_type": "code",
   "execution_count": null,
   "id": "fca368dc-f535-4aac-9c49-efdd826819de",
   "metadata": {},
   "outputs": [],
   "source": [
    "# Alternative solution:\n",
    "list1 = [1,2,2,2,3,3,3,4,4,5,6,6]\n",
    "\n",
    "def newlist(list1):\n",
    "    new_list = set(list1)\n",
    "    print(list(new_list))\n",
    "newlist(list1)"
   ]
  },
  {
   "cell_type": "raw",
   "id": "a9857d6d-4eb8-4854-a3a3-7c2f3cb98a4b",
   "metadata": {},
   "source": [
    "Q2. Write a program to create a function that takes a list and gives product of all elements in the list.\n",
    "[Note: The elist is given below use that list only]\n",
    "Expected output: 84000000"
   ]
  },
  {
   "cell_type": "code",
   "execution_count": null,
   "id": "cbec1d36-18cc-48d2-9e32-4d53e1f8f914",
   "metadata": {},
   "outputs": [],
   "source": [
    "# Write Program from below line:\n",
    "elist = [20,30,40,50,70]\n",
    "def product(elist):\n",
    "    from functools import reduce\n",
    "    product = reduce(lambda x,y:x*y,elist)\n",
    "    print(product)\n",
    "product(elist)"
   ]
  },
  {
   "cell_type": "raw",
   "id": "3b1f9558-939e-463e-8ba4-c02b50b07e86",
   "metadata": {},
   "source": [
    "Q3. Write a program to function that takes a word as input and returns its calculated “value”, based on the following parameters:\n",
    "\n",
    "Consonants are worth 2 point.\n",
    "Vowels are worth 4 points.\n",
    "The letter \"x\" is worth 8 points.\n",
    "Any other characters are worth 0 points.\n",
    "[Note: The word is is given below]\n",
    "\n",
    "Expected Output: 24"
   ]
  },
  {
   "cell_type": "code",
   "execution_count": null,
   "id": "f455fbf7-383e-4944-98d5-606e0350c793",
   "metadata": {},
   "outputs": [],
   "source": [
    "# Write Program from below line:\n",
    "word = 'Functions$'\n",
    "def value(word):\n",
    "    value = 0\n",
    "    for i in word:\n",
    "        if i.lower() in 'aeiou':\n",
    "            value += 4\n",
    "        elif i.lower() == 'x':\n",
    "            value += 8\n",
    "        elif i.isalpha():\n",
    "            value += 2\n",
    "    return value\n",
    "\n",
    "value(word)"
   ]
  },
  {
   "cell_type": "raw",
   "id": "4a9eeb64-addb-4747-8f03-8362a6d1dd4e",
   "metadata": {},
   "source": [
    "Q4. Write a program to create a RECURSIVE Function to print the sum of numbers from 1 to 50.\n",
    "Expected Output: 1275"
   ]
  },
  {
   "cell_type": "code",
   "execution_count": null,
   "id": "a9d3cca4-baa7-4fcc-902a-49f81c47b5ab",
   "metadata": {},
   "outputs": [],
   "source": [
    "# Write Program from below line:\n",
    "def Sum(n): \n",
    "    if n <= 1: \n",
    "        return n \n",
    "    else:\n",
    "        return n + Sum(n - 1) \n",
    "\n",
    "Sum(50)"
   ]
  },
  {
   "cell_type": "raw",
   "id": "e8ffce83-97fd-4bef-9090-8400a19b5e1b",
   "metadata": {},
   "source": [
    "Q5. Write a program to create a function that print all prime numbers between 1 and 50."
   ]
  },
  {
   "cell_type": "code",
   "execution_count": null,
   "id": "e5b07a66-9fed-46bb-9aba-9d18dfb6ec67",
   "metadata": {},
   "outputs": [],
   "source": [
    "# Write Program from below line:\n",
    "def primenums(start,stop):\n",
    "    for num in range(start, stop+1):\n",
    "        if num > 1:\n",
    "            for i in range(2, num):\n",
    "                if (num % i) == 0:\n",
    "                    break\n",
    "            else:\n",
    "                print(num)\n",
    "primenums(0,50)"
   ]
  }
 ],
 "metadata": {
  "kernelspec": {
   "display_name": "Python 3 (ipykernel)",
   "language": "python",
   "name": "python3"
  },
  "language_info": {
   "codemirror_mode": {
    "name": "ipython",
    "version": 3
   },
   "file_extension": ".py",
   "mimetype": "text/x-python",
   "name": "python",
   "nbconvert_exporter": "python",
   "pygments_lexer": "ipython3",
   "version": "3.12.7"
  }
 },
 "nbformat": 4,
 "nbformat_minor": 5
}

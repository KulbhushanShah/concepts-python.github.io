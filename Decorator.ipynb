{
 "cells": [
  {
   "cell_type": "code",
   "execution_count": 1,
   "id": "62353d9f-7d28-4afc-8afa-a4428757a899",
   "metadata": {},
   "outputs": [],
   "source": [
    "# Storing function inside a variable.\n",
    "def fun1():\n",
    "    print('Hey there!')"
   ]
  },
  {
   "cell_type": "code",
   "execution_count": 2,
   "id": "034ff9a8-a7e9-42d4-8d99-233a9fccafe6",
   "metadata": {},
   "outputs": [],
   "source": [
    "f1 = fun1"
   ]
  },
  {
   "cell_type": "code",
   "execution_count": 3,
   "id": "af4e58a7-3e9d-4264-840c-3ccffda50f9f",
   "metadata": {},
   "outputs": [
    {
     "name": "stdout",
     "output_type": "stream",
     "text": [
      "Hey there!\n"
     ]
    }
   ],
   "source": [
    "f1()"
   ]
  },
  {
   "cell_type": "code",
   "execution_count": 4,
   "id": "b9fd14c4-99c1-4e77-961f-230618d6f059",
   "metadata": {},
   "outputs": [],
   "source": [
    "# Passing a function as a parameter to another function.\n",
    "def fun1():\n",
    "    print('Hey!')\n",
    "\n",
    "def fun2(f1):\n",
    "    print('Hello')\n",
    "    fun1()"
   ]
  },
  {
   "cell_type": "code",
   "execution_count": 5,
   "id": "522b67be-0b63-4f79-8482-7e5833c08e7a",
   "metadata": {},
   "outputs": [
    {
     "name": "stdout",
     "output_type": "stream",
     "text": [
      "Hello\n",
      "Hey!\n"
     ]
    }
   ],
   "source": [
    "fun2(fun1)"
   ]
  },
  {
   "cell_type": "markdown",
   "id": "06cf0297-0cb6-4bfe-a80b-afd309f0deca",
   "metadata": {},
   "source": [
    "# Decorators:"
   ]
  },
  {
   "cell_type": "code",
   "execution_count": 6,
   "id": "a9538615-ca18-4273-b5ce-8672862f01c2",
   "metadata": {},
   "outputs": [],
   "source": [
    "# Function to be decorated.\n",
    "def withdraw():\n",
    "    print('Cash retrived successfully!!')"
   ]
  },
  {
   "cell_type": "code",
   "execution_count": 7,
   "id": "5a9b0c1b-643e-43a2-995c-6c06362b3740",
   "metadata": {},
   "outputs": [],
   "source": [
    "# Creating the Decorator.\n",
    "def ATM(funct):\n",
    "    def wrapper():\n",
    "        print('Enter the pin')\n",
    "        funct()\n",
    "        print('Receipt Generated!')\n",
    "    return wrapper"
   ]
  },
  {
   "cell_type": "code",
   "execution_count": 8,
   "id": "8aa38568-f8e6-44bd-95bb-ffccef33a420",
   "metadata": {},
   "outputs": [],
   "source": [
    "# Decorating the Function\n",
    "withdraw = ATM(withdraw)"
   ]
  },
  {
   "cell_type": "code",
   "execution_count": 9,
   "id": "6cca8cc8-b9c7-4e2b-974e-763f27326b42",
   "metadata": {},
   "outputs": [
    {
     "name": "stdout",
     "output_type": "stream",
     "text": [
      "Enter the pin\n",
      "Cash retrived successfully!!\n",
      "Receipt Generated!\n"
     ]
    }
   ],
   "source": [
    "withdraw()"
   ]
  },
  {
   "cell_type": "code",
   "execution_count": 10,
   "id": "dcbbab70-5406-4b6d-9521-efe7a41de005",
   "metadata": {},
   "outputs": [],
   "source": [
    "# Alternative way to apply decorator.\n",
    "@ATM\n",
    "def pinchange():\n",
    "    print('Pin changed Success!!')"
   ]
  },
  {
   "cell_type": "code",
   "execution_count": 11,
   "id": "a5531c1c-96ca-4185-9131-5190bc44909c",
   "metadata": {},
   "outputs": [
    {
     "name": "stdout",
     "output_type": "stream",
     "text": [
      "Enter the pin\n",
      "Pin changed Success!!\n",
      "Receipt Generated!\n"
     ]
    }
   ],
   "source": [
    "pinchange()"
   ]
  },
  {
   "cell_type": "code",
   "execution_count": 22,
   "id": "30b8e890-29d5-483f-91df-97255abcb926",
   "metadata": {},
   "outputs": [],
   "source": [
    "def ATM2(funct):\n",
    "    def wrapper(*n1):\n",
    "        print('Enter the pin')\n",
    "        funct(*n1)\n",
    "        print('Receipt Generated!')\n",
    "    return wrapper"
   ]
  },
  {
   "cell_type": "code",
   "execution_count": 23,
   "id": "c9988bc6-aa61-448b-b0e1-76d49acac7d0",
   "metadata": {},
   "outputs": [],
   "source": [
    "@ATM2\n",
    "def reqchequebook(acc_no):\n",
    "    print(f'The request for cheque book for account no:{acc_no} is issued')"
   ]
  },
  {
   "cell_type": "code",
   "execution_count": 24,
   "id": "6bd32e06-2f9c-47e2-b03b-0fb66bde875c",
   "metadata": {},
   "outputs": [
    {
     "name": "stdout",
     "output_type": "stream",
     "text": [
      "Enter the pin\n",
      "The request for cheque book for account no:10001 is issued\n",
      "Receipt Generated!\n"
     ]
    }
   ],
   "source": [
    "reqchequebook(10001)"
   ]
  },
  {
   "cell_type": "code",
   "execution_count": 25,
   "id": "e31a45f1-5d1c-469a-abc7-7ab8394c5020",
   "metadata": {},
   "outputs": [],
   "source": [
    "@ATM2\n",
    "def changepin(old_pin,new_pin):\n",
    "    print(f'The old pin:{old_pin} is changed to new pin:{new_pin}')"
   ]
  },
  {
   "cell_type": "code",
   "execution_count": 26,
   "id": "17fb5ad3-2b75-4a2e-899b-96b74646cc16",
   "metadata": {},
   "outputs": [
    {
     "name": "stdout",
     "output_type": "stream",
     "text": [
      "Enter the pin\n",
      "The old pin:1010 is changed to new pin:2020\n",
      "Receipt Generated!\n"
     ]
    }
   ],
   "source": [
    "changepin(1010,2020)"
   ]
  },
  {
   "cell_type": "code",
   "execution_count": 36,
   "id": "1610d28a-33ae-4f40-9b9f-74200d5625bc",
   "metadata": {},
   "outputs": [],
   "source": [
    "# Chaining the Decorator\n",
    "def decor1(funct):\n",
    "    def inner():\n",
    "        x = funct()\n",
    "        return x*x\n",
    "    return inner\n",
    "\n",
    "def decor(funct):\n",
    "    def inner():\n",
    "        x = funct()\n",
    "        return 2*x\n",
    "    return inner"
   ]
  },
  {
   "cell_type": "code",
   "execution_count": 34,
   "id": "1ee064f1-a5b8-49e5-9a96-6d2cfc999451",
   "metadata": {},
   "outputs": [],
   "source": [
    "@decor1\n",
    "@decor\n",
    "def num():\n",
    "    return 10"
   ]
  },
  {
   "cell_type": "code",
   "execution_count": 35,
   "id": "c5ab39a1-2fba-40bd-ab72-82de84a4feb8",
   "metadata": {},
   "outputs": [
    {
     "data": {
      "text/plain": [
       "400"
      ]
     },
     "execution_count": 35,
     "metadata": {},
     "output_type": "execute_result"
    }
   ],
   "source": [
    "num()"
   ]
  },
  {
   "cell_type": "code",
   "execution_count": 37,
   "id": "ebf22dff-d34f-402b-aecb-cb27caba82e8",
   "metadata": {},
   "outputs": [],
   "source": [
    "@decor     # decor(decor1(num))\n",
    "@decor1\n",
    "def num():\n",
    "    return 10"
   ]
  },
  {
   "cell_type": "code",
   "execution_count": 38,
   "id": "d2c002f2-504a-40f5-a00f-30a396f62a6c",
   "metadata": {},
   "outputs": [
    {
     "data": {
      "text/plain": [
       "200"
      ]
     },
     "execution_count": 38,
     "metadata": {},
     "output_type": "execute_result"
    }
   ],
   "source": [
    "num()"
   ]
  }
 ],
 "metadata": {
  "kernelspec": {
   "display_name": "Python 3 (ipykernel)",
   "language": "python",
   "name": "python3"
  },
  "language_info": {
   "codemirror_mode": {
    "name": "ipython",
    "version": 3
   },
   "file_extension": ".py",
   "mimetype": "text/x-python",
   "name": "python",
   "nbconvert_exporter": "python",
   "pygments_lexer": "ipython3",
   "version": "3.12.7"
  }
 },
 "nbformat": 4,
 "nbformat_minor": 5
}

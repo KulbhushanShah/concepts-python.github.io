{
 "cells": [
  {
   "cell_type": "markdown",
   "id": "00b1c484-8a0c-4e60-a9f6-dfc19d941d26",
   "metadata": {},
   "source": [
    "# File Handling"
   ]
  },
  {
   "cell_type": "markdown",
   "id": "872b28e3-40b6-4c3a-8303-e0d62439924f",
   "metadata": {},
   "source": [
    "### Create a Text File"
   ]
  },
  {
   "cell_type": "code",
   "execution_count": 14,
   "id": "3ada6ac6-e606-4b55-ad8c-18f56a50a0a8",
   "metadata": {},
   "outputs": [],
   "source": [
    "filetext = open('Filehandling.txt', 'w')\n",
    "filetext.write('This is a text file')\n",
    "filetext.close()"
   ]
  },
  {
   "cell_type": "markdown",
   "id": "ef1a735b-8153-41c2-8d8a-b236a61c4203",
   "metadata": {},
   "source": [
    "### Create a PDF File"
   ]
  },
  {
   "cell_type": "code",
   "execution_count": 15,
   "id": "d705ba17-cef0-4452-851e-d41e049a8174",
   "metadata": {},
   "outputs": [],
   "source": [
    "filepdf = open('Filehandling.pdf', 'w')\n",
    "filepdf.write('This is a pdf file')\n",
    "filepdf.close()"
   ]
  },
  {
   "cell_type": "markdown",
   "id": "a4309ad5-d1a1-4949-a72e-a5d80a29435f",
   "metadata": {},
   "source": [
    "### Overrides contents of Text file"
   ]
  },
  {
   "cell_type": "code",
   "execution_count": 16,
   "id": "abb6be87-8d32-47c3-aa8a-b1b20a30d3ce",
   "metadata": {},
   "outputs": [],
   "source": [
    "fileoverridetxt = open('Filehandling.txt', 'w')\n",
    "fileoverridetxt.write('Override the contents of the text file')\n",
    "fileoverridetxt.close()"
   ]
  },
  {
   "cell_type": "markdown",
   "id": "2d5d9b42-2ed5-49c3-ab93-d087f2ff8421",
   "metadata": {},
   "source": [
    "### Reading the contents of a Non-Existing file"
   ]
  },
  {
   "cell_type": "code",
   "execution_count": 18,
   "id": "6e71bdeb-c275-4cdf-a0eb-3a3ab7e42a1d",
   "metadata": {},
   "outputs": [
    {
     "ename": "FileNotFoundError",
     "evalue": "[Errno 2] No such file or directory: 'file.txt'",
     "output_type": "error",
     "traceback": [
      "\u001b[1;31m---------------------------------------------------------------------------\u001b[0m",
      "\u001b[1;31mFileNotFoundError\u001b[0m                         Traceback (most recent call last)",
      "Cell \u001b[1;32mIn[18], line 1\u001b[0m\n\u001b[1;32m----> 1\u001b[0m readfile \u001b[38;5;241m=\u001b[39m \u001b[38;5;28mopen\u001b[39m(\u001b[38;5;124m'\u001b[39m\u001b[38;5;124mfile.txt\u001b[39m\u001b[38;5;124m'\u001b[39m, \u001b[38;5;124m'\u001b[39m\u001b[38;5;124mr\u001b[39m\u001b[38;5;124m'\u001b[39m)\n\u001b[0;32m      2\u001b[0m data \u001b[38;5;241m=\u001b[39m f1\u001b[38;5;241m.\u001b[39mread()\n\u001b[0;32m      3\u001b[0m \u001b[38;5;28mprint\u001b[39m(data)\n",
      "File \u001b[1;32mD:\\gamakaai\\anaconda\\Lib\\site-packages\\IPython\\core\\interactiveshell.py:324\u001b[0m, in \u001b[0;36m_modified_open\u001b[1;34m(file, *args, **kwargs)\u001b[0m\n\u001b[0;32m    317\u001b[0m \u001b[38;5;28;01mif\u001b[39;00m file \u001b[38;5;129;01min\u001b[39;00m {\u001b[38;5;241m0\u001b[39m, \u001b[38;5;241m1\u001b[39m, \u001b[38;5;241m2\u001b[39m}:\n\u001b[0;32m    318\u001b[0m     \u001b[38;5;28;01mraise\u001b[39;00m \u001b[38;5;167;01mValueError\u001b[39;00m(\n\u001b[0;32m    319\u001b[0m         \u001b[38;5;124mf\u001b[39m\u001b[38;5;124m\"\u001b[39m\u001b[38;5;124mIPython won\u001b[39m\u001b[38;5;124m'\u001b[39m\u001b[38;5;124mt let you open fd=\u001b[39m\u001b[38;5;132;01m{\u001b[39;00mfile\u001b[38;5;132;01m}\u001b[39;00m\u001b[38;5;124m by default \u001b[39m\u001b[38;5;124m\"\u001b[39m\n\u001b[0;32m    320\u001b[0m         \u001b[38;5;124m\"\u001b[39m\u001b[38;5;124mas it is likely to crash IPython. If you know what you are doing, \u001b[39m\u001b[38;5;124m\"\u001b[39m\n\u001b[0;32m    321\u001b[0m         \u001b[38;5;124m\"\u001b[39m\u001b[38;5;124myou can use builtins\u001b[39m\u001b[38;5;124m'\u001b[39m\u001b[38;5;124m open.\u001b[39m\u001b[38;5;124m\"\u001b[39m\n\u001b[0;32m    322\u001b[0m     )\n\u001b[1;32m--> 324\u001b[0m \u001b[38;5;28;01mreturn\u001b[39;00m io_open(file, \u001b[38;5;241m*\u001b[39margs, \u001b[38;5;241m*\u001b[39m\u001b[38;5;241m*\u001b[39mkwargs)\n",
      "\u001b[1;31mFileNotFoundError\u001b[0m: [Errno 2] No such file or directory: 'file.txt'"
     ]
    }
   ],
   "source": [
    "readfile = open('file.txt', 'r')\n",
    "data = f1.read()\n",
    "print(data)\n",
    "f1.close()"
   ]
  },
  {
   "cell_type": "markdown",
   "id": "87115c45-2603-4a57-a551-ff114c92ddf3",
   "metadata": {},
   "source": [
    "### Reading the contents of an existing file"
   ]
  },
  {
   "cell_type": "code",
   "execution_count": 22,
   "id": "2a2bf5b4-d6de-41ee-ab1d-8cfc93ee8208",
   "metadata": {},
   "outputs": [
    {
     "name": "stdout",
     "output_type": "stream",
     "text": [
      "Override the text file\n"
     ]
    }
   ],
   "source": [
    "readfile = open('Filehandling.txt', 'r')\n",
    "data = readfile.read()\n",
    "print(data)\n",
    "readfile.close()"
   ]
  },
  {
   "cell_type": "markdown",
   "id": "979c83e2-3973-473d-a0f9-76e627648186",
   "metadata": {},
   "source": [
    "### Reading from 0 - 10 (index) location contents"
   ]
  },
  {
   "cell_type": "code",
   "execution_count": 25,
   "id": "fb1c8365-3354-4dab-8217-85b278d7641d",
   "metadata": {},
   "outputs": [
    {
     "name": "stdout",
     "output_type": "stream",
     "text": [
      "Override t\n"
     ]
    }
   ],
   "source": [
    "readfirst10 = open('Filehandling.txt', 'r')\n",
    "data = readfirst10.read(10)\n",
    "print(data)\n",
    "readfirst10.close()"
   ]
  },
  {
   "cell_type": "markdown",
   "id": "2eb4884e-22ae-4c12-8d22-273ad5af150c",
   "metadata": {},
   "source": [
    "### Append: It is used to merge contents to an existing file without overriding the existing contents"
   ]
  },
  {
   "cell_type": "code",
   "execution_count": 30,
   "id": "58b64ee9-cf5b-4351-a27a-c55b07154dd4",
   "metadata": {},
   "outputs": [],
   "source": [
    "appendtext = open('Filehandling.txt', 'a')\n",
    "data = appendtext.write('\\nAppend the text to the existing file.')\n",
    "appendtext.close()"
   ]
  },
  {
   "cell_type": "code",
   "execution_count": 31,
   "id": "e508b6ce-6b2d-47ba-9c4a-5758e31e801b",
   "metadata": {},
   "outputs": [
    {
     "name": "stdout",
     "output_type": "stream",
     "text": [
      "Override the text file\n",
      " Append the text to the existing file.\n",
      " Append the text to the existing file.\n",
      "Append the text to the existing file.\n"
     ]
    }
   ],
   "source": [
    "readagain = open('Filehandling.txt', 'r')\n",
    "data = readagain.read()\n",
    "print(data)\n",
    "readagain.close()"
   ]
  },
  {
   "cell_type": "markdown",
   "id": "887f2225-11f3-4efe-b9ed-1079e6ecf5ce",
   "metadata": {},
   "source": [
    "### tell(): To check/return the position of the cursor/pointer. It reads the contents from the begining of the file, regarding of file being empty"
   ]
  },
  {
   "cell_type": "code",
   "execution_count": 33,
   "id": "ea893883-a1e0-4bd0-b96b-f08b5835c7be",
   "metadata": {},
   "outputs": [
    {
     "name": "stdout",
     "output_type": "stream",
     "text": [
      "this position of cursor is: 0\n"
     ]
    }
   ],
   "source": [
    "pointerposition = open('Filehandling.txt', 'r')\n",
    "print('this position of cursor is:', pointerposition.tell())"
   ]
  },
  {
   "cell_type": "markdown",
   "id": "029903db-ad6d-4291-aa41-ee91da9abacc",
   "metadata": {},
   "source": [
    "### To read the position of the pointer from the 10th position"
   ]
  },
  {
   "cell_type": "code",
   "execution_count": 35,
   "id": "8e184b8a-73b7-41fa-b0a0-0e7495eb6829",
   "metadata": {},
   "outputs": [
    {
     "name": "stdout",
     "output_type": "stream",
     "text": [
      "Override t\n",
      "this position of cursor is: 10\n"
     ]
    }
   ],
   "source": [
    "print(pointerposition.read(10))\n",
    "print('this position of cursor is:', pointerposition.tell())\n",
    "pointerposition.close()"
   ]
  },
  {
   "cell_type": "markdown",
   "id": "0c2aad35-1def-4b01-9cf4-989d8f593d5b",
   "metadata": {},
   "source": [
    "### Seek() to change the pointer's position\n",
    "\n",
    "##### syntax: seek(offset, from_what)\n",
    "##### offset: number of positions to move forward\n",
    "##### from_what: 0(sets the pointer at the beginning), 1(sets the pointer at the current file location), 2(sets the pointer at the end of the file)"
   ]
  },
  {
   "cell_type": "code",
   "execution_count": 59,
   "id": "cea3ffba-898c-4743-bd15-ec7c84e29796",
   "metadata": {},
   "outputs": [
    {
     "name": "stdout",
     "output_type": "stream",
     "text": [
      "the position of the pointer is: 0\n",
      "b'Override the text file\\r\\n Append the text to the existing file.\\r\\n Append the text to the existing file.\\r\\nAppend the text to the existing file.'\n",
      "\n",
      "\n",
      "the position of the pointer is: 12\n",
      "b' text file\\r\\n Append the text to the existing file.\\r\\n Append the text to the existing file.\\r\\nAppend the text to the existing file.'\n"
     ]
    }
   ],
   "source": [
    "readfrom_what = open('Filehandling.txt', 'rb') #read the binary file\n",
    "print('the position of the pointer is:', readfrom_what.tell())\n",
    "print(readfrom_what.read())\n",
    "\n",
    "print('\\n')\n",
    "readfrom_what.seek(12, 0)\n",
    "print('the position of the pointer is:', readfrom_what.tell())\n",
    "print(readfrom_what.read())"
   ]
  },
  {
   "cell_type": "code",
   "execution_count": 60,
   "id": "e7787fd1-03dc-492b-a669-8d26045155b4",
   "metadata": {},
   "outputs": [
    {
     "name": "stdout",
     "output_type": "stream",
     "text": [
      "the position of the pointer is: 141\n",
      "b''\n",
      "\n",
      "\n",
      "the position of the pointer is: 142\n",
      "b''\n"
     ]
    }
   ],
   "source": [
    "print('the position of the pointer is:', readfrom_what.tell())\n",
    "print(readfrom_what.read())\n",
    "\n",
    "print('\\n')\n",
    "readfrom_what.seek(1, 1)\n",
    "print('the position of the pointer is:', readfrom_what.tell())\n",
    "print(readfrom_what.read())"
   ]
  },
  {
   "cell_type": "code",
   "execution_count": 62,
   "id": "427e4cd3-ee6b-4d71-a916-c82701cd098d",
   "metadata": {},
   "outputs": [
    {
     "name": "stdout",
     "output_type": "stream",
     "text": [
      "the position of the pointer is: 141\n",
      "b''\n",
      "\n",
      "\n",
      "the position of the pointer is: 1\n",
      "b'verride the text file\\r\\n Append the text to the existing file.\\r\\n Append the text to the existing file.\\r\\nAppend the text to the existing file.'\n"
     ]
    }
   ],
   "source": [
    "print('the position of the pointer is:', readfrom_what.tell())\n",
    "print(readfrom_what.read())\n",
    "\n",
    "print('\\n')\n",
    "readfrom_what.seek(1, 0)\n",
    "print('the position of the pointer is:', readfrom_what.tell())\n",
    "print(readfrom_what.read())"
   ]
  },
  {
   "cell_type": "code",
   "execution_count": 63,
   "id": "d3517f9c-a068-465d-8302-1f5e9853b6af",
   "metadata": {},
   "outputs": [
    {
     "name": "stdout",
     "output_type": "stream",
     "text": [
      "the position of the pointer is: 141\n",
      "b''\n",
      "\n",
      "\n",
      "the position of the pointer is: 153\n",
      "b''\n"
     ]
    }
   ],
   "source": [
    "print('the position of the pointer is:', readfrom_what.tell())\n",
    "print(readfrom_what.read())\n",
    "\n",
    "print('\\n')\n",
    "readfrom_what.seek(12, 2)\n",
    "print('the position of the pointer is:', readfrom_what.tell())\n",
    "print(readfrom_what.read())"
   ]
  },
  {
   "cell_type": "code",
   "execution_count": 64,
   "id": "87424b47-fccd-4e8f-9381-5b76de47219d",
   "metadata": {},
   "outputs": [],
   "source": [
    "readfrom_what.close()"
   ]
  },
  {
   "cell_type": "markdown",
   "id": "dac9f606-483d-4882-b39b-73fe33729785",
   "metadata": {},
   "source": [
    "### With Statement: Use to manage resource and it closes the file automatically"
   ]
  },
  {
   "cell_type": "code",
   "execution_count": 66,
   "id": "4d5d72bc-3c09-4379-add3-9028b5ae4fd0",
   "metadata": {},
   "outputs": [
    {
     "name": "stdout",
     "output_type": "stream",
     "text": [
      "Override the text file\n",
      " Append the text to the existing file.\n",
      " Append the text to the existing file.\n",
      "Append the text to the existing file.\n"
     ]
    }
   ],
   "source": [
    "with open('Filehandling.txt', 'r') as file:\n",
    "    f2 = file.read()\n",
    "    print(f2)\n",
    "\n",
    "# No need to expilicity close the file, as with statement handles it automatically"
   ]
  },
  {
   "cell_type": "code",
   "execution_count": null,
   "id": "8fcbd9cd-fae1-41ed-8121-ff03d973dea6",
   "metadata": {},
   "outputs": [],
   "source": []
  }
 ],
 "metadata": {
  "kernelspec": {
   "display_name": "Python 3 (ipykernel)",
   "language": "python",
   "name": "python3"
  },
  "language_info": {
   "codemirror_mode": {
    "name": "ipython",
    "version": 3
   },
   "file_extension": ".py",
   "mimetype": "text/x-python",
   "name": "python",
   "nbconvert_exporter": "python",
   "pygments_lexer": "ipython3",
   "version": "3.12.7"
  }
 },
 "nbformat": 4,
 "nbformat_minor": 5
}

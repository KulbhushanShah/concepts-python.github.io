{
 "cells": [
  {
   "cell_type": "markdown",
   "id": "87c85025-6313-4d89-8a97-b367c5b26889",
   "metadata": {},
   "source": [
    "# String Slicing Excercise"
   ]
  },
  {
   "cell_type": "code",
   "execution_count": 1,
   "id": "7f8e3ec4-c8bc-4bbd-a4b0-7ed0cbdb811b",
   "metadata": {},
   "outputs": [],
   "source": [
    "str1 = \"String Slicing in Python\""
   ]
  },
  {
   "cell_type": "code",
   "execution_count": 2,
   "id": "3afb7720-fdc7-4745-bc85-3a7be595b5ba",
   "metadata": {},
   "outputs": [
    {
     "name": "stdout",
     "output_type": "stream",
     "text": [
      "g in \n"
     ]
    }
   ],
   "source": [
    "print(str1[13:18]) #g in  #in p #g p"
   ]
  },
  {
   "cell_type": "code",
   "execution_count": 3,
   "id": "01c8f1f8-dcea-4edf-ac08-0885ad15dcfd",
   "metadata": {},
   "outputs": [
    {
     "ename": "SyntaxError",
     "evalue": "invalid syntax (147475111.py, line 1)",
     "output_type": "error",
     "traceback": [
      "\u001b[1;36m  Cell \u001b[1;32mIn[3], line 1\u001b[1;36m\u001b[0m\n\u001b[1;33m    0   1   2   3   4   5    6   7   8   9   10  11  12  13   14  15 16  17  18 19 20 21 22 23\u001b[0m\n\u001b[1;37m        ^\u001b[0m\n\u001b[1;31mSyntaxError\u001b[0m\u001b[1;31m:\u001b[0m invalid syntax\n"
     ]
    }
   ],
   "source": [
    " 0   1   2   3   4   5    6   7   8   9   10  11  12  13   14  15 16  17  18 19 20 21 22 23\n",
    "\n",
    " S   t   r   i   n   g        S   l   i   c   i   n   g        i  n       P  y  t  h  o  n\n",
    "\n",
    "-24 -23 -22 -21 -20 -19 -18  -17 -16 -15 -14 -13 -12 -11  -10 -9 -8  -7  -6 -5 -4 -3 -2 -1  "
   ]
  },
  {
   "cell_type": "code",
   "execution_count": 28,
   "id": "b516deba-57fd-4d0c-b1cb-343d504bd0c7",
   "metadata": {},
   "outputs": [
    {
     "name": "stdout",
     "output_type": "stream",
     "text": [
      "o\n"
     ]
    }
   ],
   "source": [
    "print(str1[-2:-4:-2])"
   ]
  },
  {
   "cell_type": "code",
   "execution_count": 31,
   "id": "7b529253-0056-4d6e-b166-293d7a57cb9e",
   "metadata": {},
   "outputs": [
    {
     "data": {
      "text/plain": [
       "'String Slicing in Python'"
      ]
     },
     "execution_count": 31,
     "metadata": {},
     "output_type": "execute_result"
    }
   ],
   "source": [
    "str1[::]"
   ]
  },
  {
   "cell_type": "code",
   "execution_count": 32,
   "id": "2a53cfeb-7b0f-44aa-83e8-c5ba9e5ec8cb",
   "metadata": {},
   "outputs": [
    {
     "data": {
      "text/plain": [
       "'tring Slicing in Python'"
      ]
     },
     "execution_count": 32,
     "metadata": {},
     "output_type": "execute_result"
    }
   ],
   "source": [
    "str1[1::]"
   ]
  },
  {
   "cell_type": "code",
   "execution_count": 33,
   "id": "299cc700-1410-44e9-9b1a-c8d90f7ce24c",
   "metadata": {},
   "outputs": [
    {
     "data": {
      "text/plain": [
       "'Stri'"
      ]
     },
     "execution_count": 33,
     "metadata": {},
     "output_type": "execute_result"
    }
   ],
   "source": [
    "str1[:4:]"
   ]
  },
  {
   "cell_type": "code",
   "execution_count": 44,
   "id": "ec345c0d-dd24-4b31-8fdd-c6b3b47a2c7f",
   "metadata": {},
   "outputs": [
    {
     "data": {
      "text/plain": [
       "'String Slicing in Python'"
      ]
     },
     "execution_count": 44,
     "metadata": {},
     "output_type": "execute_result"
    }
   ],
   "source": [
    "str1[::1] #picks everything"
   ]
  },
  {
   "cell_type": "code",
   "execution_count": 45,
   "id": "6f522bb6-31ea-45c8-ad73-f8377e728fd3",
   "metadata": {},
   "outputs": [
    {
     "data": {
      "text/plain": [
       "'Srn lcn nPto'"
      ]
     },
     "execution_count": 45,
     "metadata": {},
     "output_type": "execute_result"
    }
   ],
   "source": [
    "str1[::2] #picsks 2nd position"
   ]
  },
  {
   "cell_type": "code",
   "execution_count": 46,
   "id": "57c5e29c-a28f-4183-a374-f7efd42b4b7d",
   "metadata": {},
   "outputs": [
    {
     "data": {
      "text/plain": [
       "'Si iniPh'"
      ]
     },
     "execution_count": 46,
     "metadata": {},
     "output_type": "execute_result"
    }
   ],
   "source": [
    "str1[::3] #picks 3rd position"
   ]
  },
  {
   "cell_type": "code",
   "execution_count": 47,
   "id": "1e32f84e-5a1d-440d-98db-49f5ee8293b5",
   "metadata": {},
   "outputs": [
    {
     "data": {
      "text/plain": [
       "'Snlnnt'"
      ]
     },
     "execution_count": 47,
     "metadata": {},
     "output_type": "execute_result"
    }
   ],
   "source": [
    "str1[::4] #picks 4th position"
   ]
  },
  {
   "cell_type": "code",
   "execution_count": 48,
   "id": "442d09ea-4525-45d7-932a-dbb070e8244f",
   "metadata": {},
   "outputs": [
    {
     "name": "stdout",
     "output_type": "stream",
     "text": [
      "n n\n"
     ]
    }
   ],
   "source": [
    "print(str1[12:18:2]) #n n #picks 2nd position"
   ]
  },
  {
   "cell_type": "code",
   "execution_count": 6,
   "id": "fe0c499c-8e8c-4e01-99c3-bfd2883bba7e",
   "metadata": {},
   "outputs": [
    {
     "ename": "SyntaxError",
     "evalue": "invalid syntax (147475111.py, line 1)",
     "output_type": "error",
     "traceback": [
      "\u001b[1;36m  Cell \u001b[1;32mIn[6], line 1\u001b[1;36m\u001b[0m\n\u001b[1;33m    0   1   2   3   4   5    6   7   8   9   10  11  12  13   14  15 16  17  18 19 20 21 22 23\u001b[0m\n\u001b[1;37m        ^\u001b[0m\n\u001b[1;31mSyntaxError\u001b[0m\u001b[1;31m:\u001b[0m invalid syntax\n"
     ]
    }
   ],
   "source": [
    " 0   1   2   3   4   5    6   7   8   9   10  11  12  13   14  15 16  17  18 19 20 21 22 23\n",
    "\n",
    " S   t   r   i   n   g        S   l   i   c   i   n   g        i  n       P  y  t  h  o  n\n",
    "\n",
    "-24 -23 -22 -21 -20 -19 -18  -17 -16 -15 -14 -13 -12 -11  -10 -9 -8  -7  -6 -5 -4 -3 -2 -1  "
   ]
  },
  {
   "cell_type": "code",
   "execution_count": 51,
   "id": "10ccbc93-2c04-4227-ba32-fc7729e44920",
   "metadata": {},
   "outputs": [
    {
     "name": "stdout",
     "output_type": "stream",
     "text": [
      "Slicing in Pytho\n"
     ]
    }
   ],
   "source": [
    "print(str1[-17:-1:1])"
   ]
  },
  {
   "cell_type": "code",
   "execution_count": 52,
   "id": "1c33927d-af32-429a-afeb-e74d4e79f156",
   "metadata": {},
   "outputs": [
    {
     "name": "stdout",
     "output_type": "stream",
     "text": [
      "Pn ncl \n"
     ]
    }
   ],
   "source": [
    "print(str1[-6:-20:-2]) #Pn ncl "
   ]
  },
  {
   "cell_type": "code",
   "execution_count": 53,
   "id": "1a5dd087-8ade-41db-938a-f9ccd879c949",
   "metadata": {},
   "outputs": [
    {
     "name": "stdout",
     "output_type": "stream",
     "text": [
      "Si \n"
     ]
    }
   ],
   "source": [
    "print(str1[0:9:3]) #Si "
   ]
  },
  {
   "cell_type": "code",
   "execution_count": 9,
   "id": "9ba3ba13-ee3f-4a44-86ca-bdecd78a2682",
   "metadata": {},
   "outputs": [
    {
     "ename": "SyntaxError",
     "evalue": "invalid syntax (147475111.py, line 1)",
     "output_type": "error",
     "traceback": [
      "\u001b[1;36m  Cell \u001b[1;32mIn[9], line 1\u001b[1;36m\u001b[0m\n\u001b[1;33m    0   1   2   3   4   5    6   7   8   9   10  11  12  13   14  15 16  17  18 19 20 21 22 23\u001b[0m\n\u001b[1;37m        ^\u001b[0m\n\u001b[1;31mSyntaxError\u001b[0m\u001b[1;31m:\u001b[0m invalid syntax\n"
     ]
    }
   ],
   "source": [
    " 0   1   2   3   4   5    6   7   8   9   10  11  12  13   14  15 16  17  18 19 20 21 22 23\n",
    "\n",
    " S   t   r   i   n   g        S   l   i   c   i   n   g        i  n       P  y  t  h  o  n\n",
    "\n",
    "-24 -23 -22 -21 -20 -19 -18  -17 -16 -15 -14 -13 -12 -11  -10 -9 -8  -7  -6 -5 -4 -3 -2 -1  "
   ]
  },
  {
   "cell_type": "code",
   "execution_count": 54,
   "id": "2d2f2cc0-0430-4aa3-96ad-d905c2ad4202",
   "metadata": {},
   "outputs": [
    {
     "name": "stdout",
     "output_type": "stream",
     "text": [
      "ython\n"
     ]
    }
   ],
   "source": [
    "print(str1[19:29]) #ython"
   ]
  },
  {
   "cell_type": "code",
   "execution_count": 55,
   "id": "02d00afd-a7d6-4736-80c0-9d0014b6084b",
   "metadata": {},
   "outputs": [
    {
     "name": "stdout",
     "output_type": "stream",
     "text": [
      "P\n"
     ]
    }
   ],
   "source": [
    "print(str1[-6:-9:-3]) #P"
   ]
  },
  {
   "cell_type": "code",
   "execution_count": 58,
   "id": "2c4bdd08-61f8-486b-8422-1fa1cd4b0362",
   "metadata": {},
   "outputs": [
    {
     "name": "stdout",
     "output_type": "stream",
     "text": [
      "i gnicilS gnir\n"
     ]
    }
   ],
   "source": [
    "print(str1[-9:1:-1]) #"
   ]
  },
  {
   "cell_type": "code",
   "execution_count": 59,
   "id": "5aaf5de2-7955-4ae4-bb51-e10662ea3ce6",
   "metadata": {},
   "outputs": [
    {
     "name": "stdout",
     "output_type": "stream",
     "text": [
      "\n"
     ]
    }
   ],
   "source": [
    "print(str1[-9:1:1])"
   ]
  },
  {
   "cell_type": "markdown",
   "id": "c9b404c3-d94d-41c7-8b12-da028f708273",
   "metadata": {},
   "source": [
    "# LIST"
   ]
  },
  {
   "cell_type": "code",
   "execution_count": 60,
   "id": "eb0542d0-de7a-422c-8309-2780800135f4",
   "metadata": {},
   "outputs": [],
   "source": [
    "list1 = [1,2,3,4,5,\"Gamaka\",6.5]"
   ]
  },
  {
   "cell_type": "code",
   "execution_count": 61,
   "id": "b43e04e6-20c2-4abf-bcf9-a53e38b14ab8",
   "metadata": {},
   "outputs": [
    {
     "data": {
      "text/plain": [
       "[1, 2, 3, 4, 5, 'Gamaka', 6.5]"
      ]
     },
     "execution_count": 61,
     "metadata": {},
     "output_type": "execute_result"
    }
   ],
   "source": [
    "list1"
   ]
  },
  {
   "cell_type": "code",
   "execution_count": 62,
   "id": "c9efe626-93b3-48c2-ba89-2ef6d11bfc11",
   "metadata": {},
   "outputs": [
    {
     "data": {
      "text/plain": [
       "list"
      ]
     },
     "execution_count": 62,
     "metadata": {},
     "output_type": "execute_result"
    }
   ],
   "source": [
    "type(list1)"
   ]
  },
  {
   "cell_type": "code",
   "execution_count": 63,
   "id": "58312a1c-3af8-45a0-963f-42d3131b62ff",
   "metadata": {},
   "outputs": [
    {
     "data": {
      "text/plain": [
       "[1, 2, 3, 4, 5]"
      ]
     },
     "execution_count": 63,
     "metadata": {},
     "output_type": "execute_result"
    }
   ],
   "source": [
    "# Slicing\n",
    "list1[0:5]"
   ]
  },
  {
   "cell_type": "code",
   "execution_count": 64,
   "id": "26eaef49-4ff2-4e51-bcff-1fc4a9277d11",
   "metadata": {},
   "outputs": [],
   "source": [
    "list2 = [2,22,22,2]"
   ]
  },
  {
   "cell_type": "code",
   "execution_count": 65,
   "id": "bdaeb1a9-c104-408c-b544-a156160cd3cb",
   "metadata": {},
   "outputs": [
    {
     "data": {
      "text/plain": [
       "[2, 22, 22, 2]"
      ]
     },
     "execution_count": 65,
     "metadata": {},
     "output_type": "execute_result"
    }
   ],
   "source": [
    "list2"
   ]
  },
  {
   "cell_type": "code",
   "execution_count": 68,
   "id": "7c051b3e-b88b-4fc6-a073-73dc0f3ac025",
   "metadata": {},
   "outputs": [],
   "source": [
    "# Add elements\n",
    "list2.append(100)"
   ]
  },
  {
   "cell_type": "code",
   "execution_count": 69,
   "id": "a2c387cc-1beb-4b97-bcd9-a37fa2f984b8",
   "metadata": {},
   "outputs": [
    {
     "data": {
      "text/plain": [
       "[2, 22, 22, 2, 100, 100]"
      ]
     },
     "execution_count": 69,
     "metadata": {},
     "output_type": "execute_result"
    }
   ],
   "source": [
    "list2"
   ]
  },
  {
   "cell_type": "code",
   "execution_count": 70,
   "id": "978fc430-ac78-4709-9d63-b91f977bc037",
   "metadata": {},
   "outputs": [],
   "source": [
    "list2.insert(0,1000)"
   ]
  },
  {
   "cell_type": "code",
   "execution_count": 71,
   "id": "a7057cac-2654-4c1c-874e-365ff889a1a3",
   "metadata": {},
   "outputs": [
    {
     "data": {
      "text/plain": [
       "[1000, 2, 22, 22, 2, 100, 100]"
      ]
     },
     "execution_count": 71,
     "metadata": {},
     "output_type": "execute_result"
    }
   ],
   "source": [
    "list2"
   ]
  },
  {
   "cell_type": "code",
   "execution_count": 72,
   "id": "70a05d12-8f3a-4c30-a185-f1eb3eda2e42",
   "metadata": {},
   "outputs": [],
   "source": [
    "list2.extend([2000,2222])"
   ]
  },
  {
   "cell_type": "code",
   "execution_count": 73,
   "id": "211e9a2a-28c3-4484-8987-48477c42f7d0",
   "metadata": {},
   "outputs": [
    {
     "data": {
      "text/plain": [
       "[1000, 2, 22, 22, 2, 100, 100, 2000, 2222]"
      ]
     },
     "execution_count": 73,
     "metadata": {},
     "output_type": "execute_result"
    }
   ],
   "source": [
    "list2"
   ]
  },
  {
   "cell_type": "code",
   "execution_count": 74,
   "id": "10eb3893-22a4-4084-857e-761f56bcf510",
   "metadata": {},
   "outputs": [
    {
     "data": {
      "text/plain": [
       "2222"
      ]
     },
     "execution_count": 74,
     "metadata": {},
     "output_type": "execute_result"
    }
   ],
   "source": [
    "# Remove elements\n",
    "list2.pop()"
   ]
  },
  {
   "cell_type": "code",
   "execution_count": 75,
   "id": "4922cdb5-d201-4ce9-9b9f-4016370a6d22",
   "metadata": {},
   "outputs": [
    {
     "data": {
      "text/plain": [
       "[1000, 2, 22, 22, 2, 100, 100, 2000]"
      ]
     },
     "execution_count": 75,
     "metadata": {},
     "output_type": "execute_result"
    }
   ],
   "source": [
    "list2"
   ]
  },
  {
   "cell_type": "code",
   "execution_count": 76,
   "id": "1620e11d-2488-4f91-87d7-22bf9ce60012",
   "metadata": {},
   "outputs": [
    {
     "data": {
      "text/plain": [
       "1000"
      ]
     },
     "execution_count": 76,
     "metadata": {},
     "output_type": "execute_result"
    }
   ],
   "source": [
    "list2.pop(0)"
   ]
  },
  {
   "cell_type": "code",
   "execution_count": 77,
   "id": "83a987c6-dd66-44f3-aa18-f1a3775cce9a",
   "metadata": {},
   "outputs": [
    {
     "data": {
      "text/plain": [
       "[2, 22, 22, 2, 100, 100, 2000]"
      ]
     },
     "execution_count": 77,
     "metadata": {},
     "output_type": "execute_result"
    }
   ],
   "source": [
    "list2"
   ]
  },
  {
   "cell_type": "code",
   "execution_count": 78,
   "id": "b190d48b-9411-40a1-b55e-6d97028e3665",
   "metadata": {},
   "outputs": [],
   "source": [
    "list2.remove(2000)"
   ]
  },
  {
   "cell_type": "code",
   "execution_count": 79,
   "id": "3c597ff8-89ca-4e63-974a-f10b5104b2c7",
   "metadata": {},
   "outputs": [
    {
     "data": {
      "text/plain": [
       "[2, 22, 22, 2, 100, 100]"
      ]
     },
     "execution_count": 79,
     "metadata": {},
     "output_type": "execute_result"
    }
   ],
   "source": [
    "list2"
   ]
  },
  {
   "cell_type": "code",
   "execution_count": 80,
   "id": "200a8f89-4dae-42ad-8a2f-75e693d72fad",
   "metadata": {},
   "outputs": [],
   "source": [
    "# Update/Replace:\n",
    "list2[0] = 5000"
   ]
  },
  {
   "cell_type": "code",
   "execution_count": 81,
   "id": "6869d5d2-ec49-47b5-b2cc-a376a6567e72",
   "metadata": {},
   "outputs": [
    {
     "data": {
      "text/plain": [
       "[5000, 22, 22, 2, 100, 100]"
      ]
     },
     "execution_count": 81,
     "metadata": {},
     "output_type": "execute_result"
    }
   ],
   "source": [
    "list2"
   ]
  },
  {
   "cell_type": "markdown",
   "id": "00a63fb8-83af-4b13-9477-b20dfbfea0fd",
   "metadata": {},
   "source": [
    "# Tuple"
   ]
  },
  {
   "cell_type": "code",
   "execution_count": 82,
   "id": "007d58b6-a78b-4b95-a50e-02ca56c8b8ed",
   "metadata": {},
   "outputs": [],
   "source": [
    "tuple1 = (1, 2, 3, 4, 5, 'Gamaka', 6.5)"
   ]
  },
  {
   "cell_type": "code",
   "execution_count": 83,
   "id": "4b04bc0c-c586-460e-98f1-820a66171672",
   "metadata": {},
   "outputs": [
    {
     "data": {
      "text/plain": [
       "(1, 2, 3, 4, 5, 'Gamaka', 6.5)"
      ]
     },
     "execution_count": 83,
     "metadata": {},
     "output_type": "execute_result"
    }
   ],
   "source": [
    "tuple1"
   ]
  },
  {
   "cell_type": "code",
   "execution_count": 84,
   "id": "37ced7a7-c88b-46ad-8923-92d7c8f178e7",
   "metadata": {},
   "outputs": [
    {
     "data": {
      "text/plain": [
       "tuple"
      ]
     },
     "execution_count": 84,
     "metadata": {},
     "output_type": "execute_result"
    }
   ],
   "source": [
    "type(tuple1)"
   ]
  },
  {
   "cell_type": "code",
   "execution_count": 41,
   "id": "6f613d7e-f785-4889-a96f-21afad5b0bb6",
   "metadata": {},
   "outputs": [
    {
     "data": {
      "text/plain": [
       "6.5"
      ]
     },
     "execution_count": 41,
     "metadata": {},
     "output_type": "execute_result"
    }
   ],
   "source": [
    "tuple1[6]"
   ]
  },
  {
   "cell_type": "code",
   "execution_count": 42,
   "id": "d91fec17-901f-4b71-a499-dbd289df78dc",
   "metadata": {},
   "outputs": [
    {
     "ename": "AttributeError",
     "evalue": "'tuple' object has no attribute 'append'",
     "output_type": "error",
     "traceback": [
      "\u001b[1;31m---------------------------------------------------------------------------\u001b[0m",
      "\u001b[1;31mAttributeError\u001b[0m                            Traceback (most recent call last)",
      "Cell \u001b[1;32mIn[42], line 1\u001b[0m\n\u001b[1;32m----> 1\u001b[0m tuple1\u001b[38;5;241m.\u001b[39mappend(\u001b[38;5;241m4\u001b[39m)\n",
      "\u001b[1;31mAttributeError\u001b[0m: 'tuple' object has no attribute 'append'"
     ]
    }
   ],
   "source": [
    "tuple1.append(4)"
   ]
  },
  {
   "cell_type": "markdown",
   "id": "1dd58b82-f29b-4850-89ad-9fd3f9e6b10e",
   "metadata": {},
   "source": [
    "# Dictionary"
   ]
  },
  {
   "cell_type": "code",
   "execution_count": 43,
   "id": "2592828b-f041-4fc3-a4cd-58edb2dacdad",
   "metadata": {},
   "outputs": [],
   "source": [
    "dict1 = {1:\"C++\",2:\"Java\",3:2000}"
   ]
  },
  {
   "cell_type": "code",
   "execution_count": 44,
   "id": "c82d7341-8fd7-4721-a285-6dff4c48bf9d",
   "metadata": {},
   "outputs": [
    {
     "data": {
      "text/plain": [
       "{1: 'C++', 2: 'Java', 3: 2000}"
      ]
     },
     "execution_count": 44,
     "metadata": {},
     "output_type": "execute_result"
    }
   ],
   "source": [
    "dict1"
   ]
  },
  {
   "cell_type": "code",
   "execution_count": 45,
   "id": "1272468d-fdcc-4b12-bdd8-0b2645e93a98",
   "metadata": {},
   "outputs": [
    {
     "data": {
      "text/plain": [
       "2000"
      ]
     },
     "execution_count": 45,
     "metadata": {},
     "output_type": "execute_result"
    }
   ],
   "source": [
    "dict1[3]"
   ]
  },
  {
   "cell_type": "code",
   "execution_count": 46,
   "id": "e234eae2-bfee-4d33-ba0f-c3fb93b22f5e",
   "metadata": {},
   "outputs": [],
   "source": [
    "dict2 = {\"Cars\":\"BMW\",\"colour\":\"red\",\"Cars1\":\"BMW\"}"
   ]
  },
  {
   "cell_type": "code",
   "execution_count": 47,
   "id": "429419d1-4a54-41cd-b340-196639e98616",
   "metadata": {},
   "outputs": [],
   "source": [
    "dict2[\"Cars1\"] = \"Honda\""
   ]
  },
  {
   "cell_type": "code",
   "execution_count": 48,
   "id": "78b94d66-065d-45ed-a106-c11cf41324f4",
   "metadata": {},
   "outputs": [
    {
     "data": {
      "text/plain": [
       "{'Cars': 'BMW', 'colour': 'red', 'Cars1': 'Honda'}"
      ]
     },
     "execution_count": 48,
     "metadata": {},
     "output_type": "execute_result"
    }
   ],
   "source": [
    "dict2"
   ]
  },
  {
   "cell_type": "markdown",
   "id": "d625eae2-e6d9-4942-8224-08b19e7b1f03",
   "metadata": {},
   "source": [
    "# Set"
   ]
  },
  {
   "cell_type": "code",
   "execution_count": 85,
   "id": "9f435295-bf8f-4d42-81c8-3a755e0b8f72",
   "metadata": {},
   "outputs": [],
   "source": [
    "set1 = {1,2,2,3,4,5,\"Gamaka\"}"
   ]
  },
  {
   "cell_type": "code",
   "execution_count": 50,
   "id": "70c4b531-ac97-47a6-b7b0-4cdc0999d1b1",
   "metadata": {},
   "outputs": [
    {
     "data": {
      "text/plain": [
       "{1, 2, 3, 4, 5, 'Gamaka'}"
      ]
     },
     "execution_count": 50,
     "metadata": {},
     "output_type": "execute_result"
    }
   ],
   "source": [
    "set1"
   ]
  },
  {
   "cell_type": "code",
   "execution_count": 51,
   "id": "9ddc93c2-3d3c-48df-abdb-78bdbe7583bb",
   "metadata": {},
   "outputs": [],
   "source": [
    "set1.add(100)"
   ]
  },
  {
   "cell_type": "code",
   "execution_count": 52,
   "id": "068e3a4e-2582-43af-aed0-2fbc54ff47ec",
   "metadata": {},
   "outputs": [
    {
     "data": {
      "text/plain": [
       "{1, 100, 2, 3, 4, 5, 'Gamaka'}"
      ]
     },
     "execution_count": 52,
     "metadata": {},
     "output_type": "execute_result"
    }
   ],
   "source": [
    "set1"
   ]
  },
  {
   "cell_type": "code",
   "execution_count": 53,
   "id": "9d434832-1ec7-46e0-93a9-23c09f68e037",
   "metadata": {},
   "outputs": [],
   "source": [
    "set1.update([1200,5000])"
   ]
  },
  {
   "cell_type": "code",
   "execution_count": 54,
   "id": "57cdd254-b124-403f-98f1-efa09a645837",
   "metadata": {},
   "outputs": [
    {
     "data": {
      "text/plain": [
       "{1, 100, 1200, 2, 3, 4, 5, 5000, 'Gamaka'}"
      ]
     },
     "execution_count": 54,
     "metadata": {},
     "output_type": "execute_result"
    }
   ],
   "source": [
    "set1"
   ]
  },
  {
   "cell_type": "code",
   "execution_count": 91,
   "id": "eecaa587-737e-4416-9ae1-3cee60a2bfa2",
   "metadata": {},
   "outputs": [
    {
     "ename": "TypeError",
     "evalue": "'set' object is not subscriptable",
     "output_type": "error",
     "traceback": [
      "\u001b[1;31m---------------------------------------------------------------------------\u001b[0m",
      "\u001b[1;31mTypeError\u001b[0m                                 Traceback (most recent call last)",
      "Cell \u001b[1;32mIn[91], line 1\u001b[0m\n\u001b[1;32m----> 1\u001b[0m set1[\u001b[38;5;241m3\u001b[39m]\n",
      "\u001b[1;31mTypeError\u001b[0m: 'set' object is not subscriptable"
     ]
    }
   ],
   "source": [
    "set1[3]"
   ]
  },
  {
   "cell_type": "code",
   "execution_count": 87,
   "id": "681b3de8-d89c-4a12-a464-5d83f801245e",
   "metadata": {},
   "outputs": [
    {
     "data": {
      "text/plain": [
       "set"
      ]
     },
     "execution_count": 87,
     "metadata": {},
     "output_type": "execute_result"
    }
   ],
   "source": [
    "type(set1)"
   ]
  },
  {
   "cell_type": "markdown",
   "id": "f8e70800-f079-4763-bcd0-ac5282550104",
   "metadata": {},
   "source": [
    "# Frozen set"
   ]
  },
  {
   "cell_type": "code",
   "execution_count": 92,
   "id": "d6bd88dc-d82e-41d2-9d3a-14b3d4541a7b",
   "metadata": {},
   "outputs": [],
   "source": [
    "frozenset1 = frozenset({1, 100, 1200, 2, 3, 4, 5, 5000, 'Gamaka',5000})"
   ]
  },
  {
   "cell_type": "code",
   "execution_count": 93,
   "id": "233e0a5d-1a52-4d41-9dd2-10b1964e6e8f",
   "metadata": {},
   "outputs": [
    {
     "data": {
      "text/plain": [
       "frozenset({1, 100, 1200, 2, 3, 4, 5, 5000, 'Gamaka'})"
      ]
     },
     "execution_count": 93,
     "metadata": {},
     "output_type": "execute_result"
    }
   ],
   "source": [
    "frozenset1"
   ]
  },
  {
   "cell_type": "code",
   "execution_count": 94,
   "id": "81c9e7f2-9779-47b8-b160-1eb15f426bcb",
   "metadata": {},
   "outputs": [
    {
     "ename": "AttributeError",
     "evalue": "'frozenset' object has no attribute 'add'",
     "output_type": "error",
     "traceback": [
      "\u001b[1;31m---------------------------------------------------------------------------\u001b[0m",
      "\u001b[1;31mAttributeError\u001b[0m                            Traceback (most recent call last)",
      "Cell \u001b[1;32mIn[94], line 1\u001b[0m\n\u001b[1;32m----> 1\u001b[0m frozenset1\u001b[38;5;241m.\u001b[39madd(\u001b[38;5;241m4444\u001b[39m)\n",
      "\u001b[1;31mAttributeError\u001b[0m: 'frozenset' object has no attribute 'add'"
     ]
    }
   ],
   "source": [
    "frozenset1.add(4444)"
   ]
  },
  {
   "cell_type": "code",
   "execution_count": 95,
   "id": "cf65f45e-d49b-4133-ac01-6d5942cb6e75",
   "metadata": {},
   "outputs": [
    {
     "ename": "TypeError",
     "evalue": "'frozenset' object is not subscriptable",
     "output_type": "error",
     "traceback": [
      "\u001b[1;31m---------------------------------------------------------------------------\u001b[0m",
      "\u001b[1;31mTypeError\u001b[0m                                 Traceback (most recent call last)",
      "Cell \u001b[1;32mIn[95], line 1\u001b[0m\n\u001b[1;32m----> 1\u001b[0m frozenset1[\u001b[38;5;241m1\u001b[39m]\n",
      "\u001b[1;31mTypeError\u001b[0m: 'frozenset' object is not subscriptable"
     ]
    }
   ],
   "source": [
    "frozenset1[1]"
   ]
  },
  {
   "cell_type": "code",
   "execution_count": 96,
   "id": "ad635831-f509-4c5f-9746-35ce7811aa89",
   "metadata": {},
   "outputs": [
    {
     "ename": "AttributeError",
     "evalue": "'frozenset' object has no attribute 'insert'",
     "output_type": "error",
     "traceback": [
      "\u001b[1;31m---------------------------------------------------------------------------\u001b[0m",
      "\u001b[1;31mAttributeError\u001b[0m                            Traceback (most recent call last)",
      "Cell \u001b[1;32mIn[96], line 1\u001b[0m\n\u001b[1;32m----> 1\u001b[0m frozenset1\u001b[38;5;241m.\u001b[39minsert(\u001b[38;5;241m1\u001b[39m, \u001b[38;5;241m111\u001b[39m)\n",
      "\u001b[1;31mAttributeError\u001b[0m: 'frozenset' object has no attribute 'insert'"
     ]
    }
   ],
   "source": [
    "frozenset1.insert(1, 111)"
   ]
  }
 ],
 "metadata": {
  "kernelspec": {
   "display_name": "Python 3 (ipykernel)",
   "language": "python",
   "name": "python3"
  },
  "language_info": {
   "codemirror_mode": {
    "name": "ipython",
    "version": 3
   },
   "file_extension": ".py",
   "mimetype": "text/x-python",
   "name": "python",
   "nbconvert_exporter": "python",
   "pygments_lexer": "ipython3",
   "version": "3.12.7"
  }
 },
 "nbformat": 4,
 "nbformat_minor": 5
}

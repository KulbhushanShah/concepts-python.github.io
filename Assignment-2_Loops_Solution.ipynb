{
 "cells": [
  {
   "cell_type": "markdown",
   "id": "a69bddc9-7d76-4b8d-b3d8-d5f127948180",
   "metadata": {},
   "source": [
    "# Assignment-2: Loops"
   ]
  },
  {
   "cell_type": "markdown",
   "id": "00d32436-4f29-4b8f-a8e4-382de4a96b90",
   "metadata": {},
   "source": [
    "### Instructions: \n",
    "#### 1.Use any of the loop i.e. for or while to write the program for below questions. \n",
    "#### 2.Also take input from the User for every question(Hint: Use the input() function).\n",
    "#### 3.Do read the Note and Hint carefully before writing the programs."
   ]
  },
  {
   "cell_type": "markdown",
   "id": "03ba6e41-1a3c-46b8-ae84-88517119a499",
   "metadata": {},
   "source": [
    "   "
   ]
  },
  {
   "cell_type": "raw",
   "id": "2c56df78-42cb-485a-bcd7-5261cc1e008a",
   "metadata": {},
   "source": [
    "Q1. Write a program to calculate sum of all numbers from 1 to a given number by user."
   ]
  },
  {
   "cell_type": "code",
   "execution_count": null,
   "id": "fca368dc-f535-4aac-9c49-efdd826819de",
   "metadata": {},
   "outputs": [],
   "source": [
    "# Write Program from below line:\n",
    "number = int(input('Enter the number:'))\n",
    "summ = 0\n",
    "for i in range(1,number+1):\n",
    "    summ += i\n",
    "print(f'The sum is {summ}')"
   ]
  },
  {
   "cell_type": "raw",
   "id": "a9857d6d-4eb8-4854-a3a3-7c2f3cb98a4b",
   "metadata": {},
   "source": [
    "Q2. Write a program that prints all the numbers from 0 to 10 except 4 and 8."
   ]
  },
  {
   "cell_type": "code",
   "execution_count": null,
   "id": "cbec1d36-18cc-48d2-9e32-4d53e1f8f914",
   "metadata": {},
   "outputs": [],
   "source": [
    "# Write Program from below line:\n",
    "for i in range(1,11):\n",
    "    if i in {4,8}:\n",
    "        continue\n",
    "    else:\n",
    "        print(i)"
   ]
  },
  {
   "cell_type": "raw",
   "id": "3b1f9558-939e-463e-8ba4-c02b50b07e86",
   "metadata": {},
   "source": [
    "Q3. Write a program to Count the number of even and odd numbers from a series of numbers.[Note the series is provided below]"
   ]
  },
  {
   "cell_type": "code",
   "execution_count": null,
   "id": "f455fbf7-383e-4944-98d5-606e0350c793",
   "metadata": {},
   "outputs": [],
   "source": [
    "# Write Program from below line:\n",
    "numbers = (11,12,13,14,15,16,17,18)\n",
    "even_count = 0\n",
    "odd_count = 0\n",
    "for i in numbers:\n",
    "    if i%2==0:\n",
    "        even_count += 1\n",
    "    else:\n",
    "        odd_count += 1\n",
    "\n",
    "print(f'Even count is {even_count}')\n",
    "print(f'Odd count is {odd_count}')"
   ]
  },
  {
   "cell_type": "raw",
   "id": "4a9eeb64-addb-4747-8f03-8362a6d1dd4e",
   "metadata": {},
   "source": [
    "Q4. Write a program to Reverse a integer number.[Note: The integer number is provided below in the (number) variable use the same]"
   ]
  },
  {
   "cell_type": "code",
   "execution_count": null,
   "id": "a9d3cca4-baa7-4fcc-902a-49f81c47b5ab",
   "metadata": {},
   "outputs": [],
   "source": [
    "# Write Program from below line:\n",
    "number = 56721\n",
    "reverse_number = 0\n",
    "\n",
    "while number!=0:\n",
    "    last_digit = number % 10\n",
    "    reverse_number = reverse_number * 10 + last_digit\n",
    "    number //= 10\n",
    "\n",
    "print(reverse_number)"
   ]
  },
  {
   "cell_type": "raw",
   "id": "80e55d5a-2b1b-44a0-af02-1d6764265d45",
   "metadata": {},
   "source": [
    "Q5. Write a program to check the validity of password input by user.\n",
    "Parameters to Check:\n",
    "1. The first letter in Password must be an alphabet and ONLY the First letter should be in Capital.\n",
    "2. Password must be minimum of 8 characters and maximum of 14 characters\n",
    "3. Password must contain atleast one special character from given here.[Special characters: @,#,$,&,_]\n",
    "4. Password must contain atleast one digit.\n",
    "[Hint: Use isalpha() and isupper()]"
   ]
  },
  {
   "cell_type": "code",
   "execution_count": null,
   "id": "acfd6fa7-22ae-4dc4-9283-99d63d51d119",
   "metadata": {},
   "outputs": [],
   "source": [
    "# Write Program from below line:\n",
    "password = input('Enter the password:')\n",
    "\n",
    "password_char = False\n",
    "first_letter = False\n",
    "capital_letter = 0\n",
    "special_char = False\n",
    "digit_char = False\n",
    "\n",
    "if 8<=len(password)<=14:  # This condition checks if the length of password is between 8 and 14 or not.\n",
    "    password_char = True\n",
    "\n",
    "if password[0].isalpha() and password[0].isupper(): # This condition checks if the first letter is alphabet and in capital.\n",
    "    first_letter = True\n",
    "\n",
    "for i in password:\n",
    "    if i.isupper():    # This condition checks if there are any other capital letters in password.\n",
    "        capital_letter += 1\n",
    "    \n",
    "    if i in ['@','#','$','&','_']:  # This condition checks if password contains atleast one special character or not.\n",
    "        special_char = True\n",
    "\n",
    "    if i in '0123456789':    # This condition checks if password contains atleast one digit or not.\n",
    "        digit_char = True\n",
    "\n",
    "\n",
    "# Finally we check if all conditions are True if yes then it will print valid password or else invalid password.\n",
    "if first_letter == True and password_char == True and special_char == True and digit_char == True and capital_letter == 1:\n",
    "    print('Password is valid')\n",
    "else:\n",
    "    print('Password is not valid')"
   ]
  },
  {
   "cell_type": "raw",
   "id": "e8ffce83-97fd-4bef-9090-8400a19b5e1b",
   "metadata": {},
   "source": [
    "Q6. Write a program to print all prime numbers between 0 and 50."
   ]
  },
  {
   "cell_type": "code",
   "execution_count": null,
   "id": "53bbb990-ede9-4c91-95d4-a2631974850a",
   "metadata": {},
   "outputs": [],
   "source": [
    "# Write Program from below line:\n",
    "start = 0\n",
    "stop = 50\n",
    "\n",
    "for num in range(start, stop+1):\n",
    "   if num > 1:\n",
    "       for i in range(2, num):\n",
    "           if (num % i) == 0:\n",
    "               break\n",
    "       else:\n",
    "           print(num)"
   ]
  },
  {
   "cell_type": "raw",
   "id": "3210522e-c9b8-49b7-8c48-2bbdaec1c0c4",
   "metadata": {},
   "source": [
    "Q7. Write a program to check if the number entered by user is prime or not."
   ]
  },
  {
   "cell_type": "code",
   "execution_count": null,
   "id": "f71ffc5d-890a-4fca-a2ad-abf6f3baef38",
   "metadata": {},
   "outputs": [],
   "source": [
    "# Write Program from below line:\n",
    "num = int(input('Enter the number:'))\n",
    "\n",
    "flag = False\n",
    "\n",
    "if num == 0 or num == 1:\n",
    "    print(f\"{num} is not a prime number\")\n",
    "elif num > 1:\n",
    "    for i in range(2, num):\n",
    "        if (num % i) == 0:\n",
    "            flag = True\n",
    "            break\n",
    "\n",
    "    if flag:\n",
    "        print(num, \"is not a prime number\")\n",
    "    else:\n",
    "        print(num, \"is a prime number\")\n",
    "else:\n",
    "    print('Enter Positive number only')"
   ]
  }
 ],
 "metadata": {
  "kernelspec": {
   "display_name": "Python 3 (ipykernel)",
   "language": "python",
   "name": "python3"
  },
  "language_info": {
   "codemirror_mode": {
    "name": "ipython",
    "version": 3
   },
   "file_extension": ".py",
   "mimetype": "text/x-python",
   "name": "python",
   "nbconvert_exporter": "python",
   "pygments_lexer": "ipython3",
   "version": "3.12.7"
  }
 },
 "nbformat": 4,
 "nbformat_minor": 5
}

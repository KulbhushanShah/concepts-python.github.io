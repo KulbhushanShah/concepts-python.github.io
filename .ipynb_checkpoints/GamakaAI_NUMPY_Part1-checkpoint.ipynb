{
 "cells": [
  {
   "attachments": {
    "gamakawithname.png": {
     "image/png": "[encoded data removed]"
    }
   },
   "cell_type": "markdown",
   "id": "97cd9a20",
   "metadata": {},
   "source": [
    "![gamakawithname.png](attachment:gamakawithname.png)"
   ]
  },
  {
   "cell_type": "markdown",
   "id": "230a9160",
   "metadata": {},
   "source": [
    "# NumPy\n",
    "\n",
    "NumPy is a Python package. It stands for 'Numerical Python'. It is a library consisting of multidimensional array objects and a collection of routines for processing of array.\n",
    "\n",
    "Installing NumPy : Go to Anaconda Prompt & Activate the environment in which you want to install then enter : pip install numpy"
   ]
  },
  {
   "cell_type": "code",
   "execution_count": 1,
   "id": "4e780164",
   "metadata": {},
   "outputs": [],
   "source": [
    "#pip install numpy"
   ]
  },
  {
   "cell_type": "markdown",
   "id": "a2772c7d",
   "metadata": {},
   "source": [
    "# What is NumPy?\n",
    "\n",
    "It is a library consisting of multidimensional array objects and a collection of routines for processing those arrays. \n",
    "\n",
    "NumPy has put python lists out of the job as NumPy arrays are more efficient, convenient and makes it faster to read or write an item."
   ]
  },
  {
   "cell_type": "markdown",
   "id": "44464d37",
   "metadata": {},
   "source": [
    "# Python Lists vs NumPy Arrays – What’s the Difference?"
   ]
  },
  {
   "cell_type": "markdown",
   "id": "878d7eb4",
   "metadata": {},
   "source": [
    "1.Python lists act as an array that can store elements of various types.A list is the Python equivalent of an array,but is resizeable and can contain elements of different types.\n",
    "\n",
    "2.NumPy arrays that contain only homogeneous elements, i.e. elements having the same data type.\n",
    "\n",
    "3.With NumPy arrays, you can perform element-wise operations, \n",
    "something which is not possible using Python lists!\n",
    "\n",
    "4.This is the reason why NumPy arrays are preferred over Python lists \n",
    "when performing mathematical operations on a large amount of data."
   ]
  },
  {
   "cell_type": "markdown",
   "id": "742c6765",
   "metadata": {},
   "source": [
    "# Why use NumPy?\n",
    "\n",
    "\n",
    "Using NumPy, mathematical and logical operations on arrays can be performed. NumPy also provides high performance.Some of the key features that contribute in the popularity of NumPyare:\n",
    "\n",
    "1.It is a powerful N-dimensional array object\n",
    "\n",
    "2.It is a sophisticated broadcasting functions\n",
    "\n",
    "3.It is a tool for integrating C/C++ and Fortran code\n",
    "\n",
    "4.It is useful linear algebra, Fourier transform, and random number capabilities"
   ]
  },
  {
   "cell_type": "markdown",
   "id": "83106cfa",
   "metadata": {},
   "source": [
    "# Import Convention\n",
    "\n",
    "Since NumPy is a Python Library, it has to be imported first before you start using NumPy. To import NumPy, type in the following command:"
   ]
  },
  {
   "cell_type": "code",
   "execution_count": 1,
   "id": "e0b0a380",
   "metadata": {},
   "outputs": [],
   "source": [
    "import numpy as np"
   ]
  },
  {
   "cell_type": "markdown",
   "id": "19b95748",
   "metadata": {},
   "source": [
    "# Creating a NumPy Array\n",
    "\n",
    "\n",
    "Basic ndarray\n",
    "\n",
    "NumPy arrays are very easy to create given the complex problems they solve. \n",
    "\n",
    "To create a very basic ndarray, you use the np.array() method. \n",
    "All you have to pass are the values of the array as a list:"
   ]
  },
  {
   "cell_type": "code",
   "execution_count": 62,
   "id": "f1b3ab45",
   "metadata": {},
   "outputs": [
    {
     "data": {
      "text/plain": [
       "array([1, 2, 3, 4, 5])"
      ]
     },
     "execution_count": 62,
     "metadata": {},
     "output_type": "execute_result"
    }
   ],
   "source": [
    "np.array([1,2,3,4,5])"
   ]
  },
  {
   "cell_type": "code",
   "execution_count": 66,
   "id": "5f72a374-117b-4473-9f90-12bf73003f2b",
   "metadata": {},
   "outputs": [
    {
     "data": {
      "text/plain": [
       "(5,)"
      ]
     },
     "execution_count": 66,
     "metadata": {},
     "output_type": "execute_result"
    }
   ],
   "source": [
    "np.array([1,2,3,4,5]).shape"
   ]
  },
  {
   "cell_type": "markdown",
   "id": "e62d9e24",
   "metadata": {},
   "source": [
    "# Can specify the type of data in the dtype argument:"
   ]
  },
  {
   "cell_type": "code",
   "execution_count": 3,
   "id": "0ec1e947",
   "metadata": {},
   "outputs": [
    {
     "name": "stdout",
     "output_type": "stream",
     "text": [
      "['1' '2' '3' '4' '5' '6']\n"
     ]
    }
   ],
   "source": [
    "print(np.array([1,2,3,4,5,6],dtype=str))"
   ]
  },
  {
   "cell_type": "markdown",
   "id": "bf394779",
   "metadata": {},
   "source": [
    "Since NumPy arrays can contain only homogeneous datatypes, values will be upcast if the types do not match:"
   ]
  },
  {
   "cell_type": "code",
   "execution_count": 4,
   "id": "7b7f4c27",
   "metadata": {},
   "outputs": [
    {
     "data": {
      "text/plain": [
       "array([1., 2., 3., 4.])"
      ]
     },
     "execution_count": 4,
     "metadata": {},
     "output_type": "execute_result"
    }
   ],
   "source": [
    "np.array([1,2.0,3,4])#Here, NumPy has upcast integer values to float values"
   ]
  },
  {
   "cell_type": "markdown",
   "id": "695ce657",
   "metadata": {},
   "source": [
    "# NumPy arrays can be multi-dimensional too."
   ]
  },
  {
   "cell_type": "code",
   "execution_count": 5,
   "id": "239c6e30",
   "metadata": {},
   "outputs": [
    {
     "data": {
      "text/plain": [
       "array([[1, 2, 3, 4],\n",
       "       [5, 6, 7, 8]])"
      ]
     },
     "execution_count": 5,
     "metadata": {},
     "output_type": "execute_result"
    }
   ],
   "source": [
    "np.array([[1,2,3,4],[5,6,7,8]])#creating a 2D array"
   ]
  },
  {
   "cell_type": "code",
   "execution_count": 6,
   "id": "ef8e4371",
   "metadata": {},
   "outputs": [],
   "source": [
    "b=np.array([(1,2,3,4),(7,8,9,10)],dtype=int)#creating a 2D array"
   ]
  },
  {
   "cell_type": "code",
   "execution_count": 7,
   "id": "b38049c8",
   "metadata": {},
   "outputs": [
    {
     "data": {
      "text/plain": [
       "array([[ 1,  2,  3,  4],\n",
       "       [ 7,  8,  9, 10]])"
      ]
     },
     "execution_count": 7,
     "metadata": {},
     "output_type": "execute_result"
    }
   ],
   "source": [
    "b"
   ]
  },
  {
   "cell_type": "code",
   "execution_count": 8,
   "id": "ce61f495",
   "metadata": {},
   "outputs": [
    {
     "data": {
      "text/plain": [
       "numpy.ndarray"
      ]
     },
     "execution_count": 8,
     "metadata": {},
     "output_type": "execute_result"
    }
   ],
   "source": [
    "type(b)"
   ]
  },
  {
   "cell_type": "code",
   "execution_count": 18,
   "id": "86363f10-2149-4e5d-8c43-da1dd8a1d079",
   "metadata": {},
   "outputs": [
    {
     "name": "stdout",
     "output_type": "stream",
     "text": [
      "[[ 1  2  3  4]\n",
      " [ 7  8  9 10]]\n"
     ]
    }
   ],
   "source": [
    "print(b)"
   ]
  },
  {
   "cell_type": "code",
   "execution_count": 9,
   "id": "7f84a303",
   "metadata": {},
   "outputs": [
    {
     "data": {
      "text/plain": [
       "3"
      ]
     },
     "execution_count": 9,
     "metadata": {},
     "output_type": "execute_result"
    }
   ],
   "source": [
    "b[0][2]"
   ]
  },
  {
   "cell_type": "code",
   "execution_count": 10,
   "id": "046b914b",
   "metadata": {},
   "outputs": [
    {
     "data": {
      "text/plain": [
       "10"
      ]
     },
     "execution_count": 10,
     "metadata": {},
     "output_type": "execute_result"
    }
   ],
   "source": [
    "b[1][3]"
   ]
  },
  {
   "cell_type": "markdown",
   "id": "f4b07028",
   "metadata": {},
   "source": [
    "Note: A matrix is just a rectangular array of numbers with shape M x N where M is the number of rows and N is the number of columns in the matrix. The one you just saw above is a 2 x 4 matrix."
   ]
  },
  {
   "attachments": {
    "download.png": {
     "image/png": "[encoded data removed]"
    }
   },
   "cell_type": "markdown",
   "id": "b0c4dec9",
   "metadata": {},
   "source": [
    "![download.png](attachment:download.png)"
   ]
  },
  {
   "cell_type": "markdown",
   "id": "f57beff2",
   "metadata": {},
   "source": [
    "# Array of zeros\n",
    "\n",
    "NumPy lets you create an array of all zeros using the np.zeros() method. All you have to do is pass the shape of the desired array:"
   ]
  },
  {
   "cell_type": "code",
   "execution_count": 11,
   "id": "40595e37",
   "metadata": {},
   "outputs": [
    {
     "data": {
      "text/plain": [
       "array([0., 0., 0., 0., 0.])"
      ]
     },
     "execution_count": 11,
     "metadata": {},
     "output_type": "execute_result"
    }
   ],
   "source": [
    "np.zeros(5)#1d"
   ]
  },
  {
   "cell_type": "code",
   "execution_count": 12,
   "id": "6af3778d",
   "metadata": {},
   "outputs": [
    {
     "data": {
      "text/plain": [
       "array([[0., 0., 0.],\n",
       "       [0., 0., 0.]])"
      ]
     },
     "execution_count": 12,
     "metadata": {},
     "output_type": "execute_result"
    }
   ],
   "source": [
    "np.zeros((2,3)) #2d"
   ]
  },
  {
   "cell_type": "code",
   "execution_count": 17,
   "id": "fb23e892",
   "metadata": {},
   "outputs": [
    {
     "data": {
      "text/plain": [
       "array([[1009., 1009., 1009., 1009.],\n",
       "       [1009., 1009., 1009., 1009.]])"
      ]
     },
     "execution_count": 17,
     "metadata": {},
     "output_type": "execute_result"
    }
   ],
   "source": [
    "np.zeros((2,4))+1009"
   ]
  },
  {
   "cell_type": "markdown",
   "id": "bbf7a91b",
   "metadata": {},
   "source": [
    "# Array of ones\n",
    "\n",
    "You could also create an array of all 1s using the np.ones() method:"
   ]
  },
  {
   "cell_type": "code",
   "execution_count": 41,
   "id": "2002dfc5",
   "metadata": {},
   "outputs": [
    {
     "data": {
      "text/plain": [
       "array([1, 1, 1, 1, 1])"
      ]
     },
     "execution_count": 41,
     "metadata": {},
     "output_type": "execute_result"
    }
   ],
   "source": [
    "np.ones(5,dtype=int)"
   ]
  },
  {
   "cell_type": "code",
   "execution_count": 46,
   "id": "8c22cf4b-ce3a-4dad-b0d0-c635d05a9439",
   "metadata": {},
   "outputs": [
    {
     "data": {
      "text/plain": [
       "array([1., 1., 1., 1., 1.])"
      ]
     },
     "execution_count": 46,
     "metadata": {},
     "output_type": "execute_result"
    }
   ],
   "source": [
    "np.ones(5)"
   ]
  },
  {
   "cell_type": "code",
   "execution_count": 47,
   "id": "8f416101",
   "metadata": {},
   "outputs": [
    {
     "data": {
      "text/plain": [
       "array([[1., 1.],\n",
       "       [1., 1.],\n",
       "       [1., 1.]])"
      ]
     },
     "execution_count": 47,
     "metadata": {},
     "output_type": "execute_result"
    }
   ],
   "source": [
    "np.ones((3,2))"
   ]
  },
  {
   "cell_type": "code",
   "execution_count": 48,
   "id": "4cfd218d-ddb9-4949-8969-ef49e9c8a6cd",
   "metadata": {},
   "outputs": [
    {
     "data": {
      "text/plain": [
       "array([[1213., 1213.],\n",
       "       [1213., 1213.],\n",
       "       [1213., 1213.]])"
      ]
     },
     "execution_count": 48,
     "metadata": {},
     "output_type": "execute_result"
    }
   ],
   "source": [
    "np.ones((3,2))+1212"
   ]
  },
  {
   "cell_type": "markdown",
   "id": "99f44b9a",
   "metadata": {},
   "source": [
    "# Random numbers in ndarrays\n",
    "\n",
    "Another very commonly used method to create ndarrays is np.random.rand() method. It creates an array of a given shape with random values from [0,1):"
   ]
  },
  {
   "cell_type": "code",
   "execution_count": 50,
   "id": "fe79764c",
   "metadata": {},
   "outputs": [
    {
     "data": {
      "text/plain": [
       "array([[0.31506495, 0.81603183, 0.74336088],\n",
       "       [0.46555458, 0.75174905, 0.23975183]])"
      ]
     },
     "execution_count": 50,
     "metadata": {},
     "output_type": "execute_result"
    }
   ],
   "source": [
    "# random \n",
    "np.random.rand(2,3)"
   ]
  },
  {
   "cell_type": "code",
   "execution_count": 20,
   "id": "b153d9fd",
   "metadata": {},
   "outputs": [
    {
     "data": {
      "text/plain": [
       "array([[0.23, 0.13, 0.88],\n",
       "       [0.17, 0.76, 0.87]])"
      ]
     },
     "execution_count": 20,
     "metadata": {},
     "output_type": "execute_result"
    }
   ],
   "source": [
    "a=np.round(np.random.rand(2,3),decimals=2)\n",
    "a"
   ]
  },
  {
   "cell_type": "code",
   "execution_count": 54,
   "id": "e78fe174",
   "metadata": {},
   "outputs": [
    {
     "data": {
      "text/plain": [
       "array([[57, 64, 69, 21],\n",
       "       [64, 67, 77, 52]])"
      ]
     },
     "execution_count": 54,
     "metadata": {},
     "output_type": "execute_result"
    }
   ],
   "source": [
    "np.random.randint(1,100,(2,4)) #randint (low, high, # of samples to be drawn in a tuple to form a matrix)"
   ]
  },
  {
   "cell_type": "code",
   "execution_count": 56,
   "id": "9952529b-7be6-4577-ae7d-aa516ed2b655",
   "metadata": {},
   "outputs": [
    {
     "data": {
      "text/plain": [
       "14"
      ]
     },
     "execution_count": 56,
     "metadata": {},
     "output_type": "execute_result"
    }
   ],
   "source": [
    "np.random.randint(1,100) #randint (low, high, # of samples to be drawn in a tuple to form a matrix)"
   ]
  },
  {
   "cell_type": "markdown",
   "id": "cccc206e",
   "metadata": {},
   "source": [
    "# An array of your choice\n",
    "\n",
    "Or, in fact, you can create an array filled with any given value using the np.full() method. Just pass in the shape of the desired array and the value you want:"
   ]
  },
  {
   "cell_type": "code",
   "execution_count": 57,
   "id": "dda3d1a8",
   "metadata": {},
   "outputs": [
    {
     "data": {
      "text/plain": [
       "array([[8, 8, 8],\n",
       "       [8, 8, 8]])"
      ]
     },
     "execution_count": 57,
     "metadata": {},
     "output_type": "execute_result"
    }
   ],
   "source": [
    "np.full((2,3),8)"
   ]
  },
  {
   "cell_type": "code",
   "execution_count": 60,
   "id": "adb9322a-f9b5-46f4-8c15-0fe35ab5cfbe",
   "metadata": {},
   "outputs": [
    {
     "data": {
      "text/plain": [
       "array([[2, 2, 2],\n",
       "       [2, 2, 2]])"
      ]
     },
     "execution_count": 60,
     "metadata": {},
     "output_type": "execute_result"
    }
   ],
   "source": [
    "np.full((2,3), 2)"
   ]
  },
  {
   "cell_type": "markdown",
   "id": "729aa9e1",
   "metadata": {},
   "source": [
    "# Imatrix in NumPy\n",
    "\n",
    "Another great method is np.eye() that returns an array with 1s along its diagonal and 0s everywhere else.\n",
    "\n",
    "An Identity matrix is a square matrix that has 1s along its main diagonal and 0s everywhere else. Below is an Identity matrix of shape 3 x 3.\n",
    "\n",
    "Note: A square matrix has an N x N shape. This means it has the same number of rows and columns."
   ]
  },
  {
   "cell_type": "code",
   "execution_count": 23,
   "id": "cf084b42",
   "metadata": {},
   "outputs": [
    {
     "data": {
      "text/plain": [
       "array([[1., 0., 0., 0., 0., 0.],\n",
       "       [0., 1., 0., 0., 0., 0.],\n",
       "       [0., 0., 1., 0., 0., 0.],\n",
       "       [0., 0., 0., 1., 0., 0.],\n",
       "       [0., 0., 0., 0., 1., 0.],\n",
       "       [0., 0., 0., 0., 0., 1.]])"
      ]
     },
     "execution_count": 23,
     "metadata": {},
     "output_type": "execute_result"
    }
   ],
   "source": [
    "# identity matrix\n",
    "np.eye(6)"
   ]
  },
  {
   "cell_type": "markdown",
   "id": "d4b03810",
   "metadata": {},
   "source": [
    "However, NumPy gives you the flexibility to change the diagonal along which the values have to be 1s. You can either move it above the main diagonal:"
   ]
  },
  {
   "cell_type": "code",
   "execution_count": 29,
   "id": "ac171021",
   "metadata": {},
   "outputs": [
    {
     "data": {
      "text/plain": [
       "array([[0., 0., 0., 0., 0., 0.],\n",
       "       [0., 0., 0., 0., 0., 0.],\n",
       "       [1., 0., 0., 0., 0., 0.],\n",
       "       [0., 1., 0., 0., 0., 0.],\n",
       "       [0., 0., 1., 0., 0., 0.],\n",
       "       [0., 0., 0., 1., 0., 0.]])"
      ]
     },
     "execution_count": 29,
     "metadata": {},
     "output_type": "execute_result"
    }
   ],
   "source": [
    "# not an identity matrix\n",
    "np.eye(6,k=-2)"
   ]
  },
  {
   "cell_type": "code",
   "execution_count": 30,
   "id": "318ca0fd-930c-4027-8f7a-b8dc55b69041",
   "metadata": {},
   "outputs": [
    {
     "data": {
      "text/plain": [
       "array([[0., 0., 0., 1., 0., 0.],\n",
       "       [0., 0., 0., 0., 1., 0.],\n",
       "       [0., 0., 0., 0., 0., 1.],\n",
       "       [0., 0., 0., 0., 0., 0.],\n",
       "       [0., 0., 0., 0., 0., 0.],\n",
       "       [0., 0., 0., 0., 0., 0.]])"
      ]
     },
     "execution_count": 30,
     "metadata": {},
     "output_type": "execute_result"
    }
   ],
   "source": [
    "# not an identity matrix\n",
    "np.eye(6,k=3)"
   ]
  },
  {
   "cell_type": "markdown",
   "id": "7a27d4f1",
   "metadata": {},
   "source": [
    "# Evenly spaced ndarray"
   ]
  },
  {
   "cell_type": "code",
   "execution_count": 31,
   "id": "a4f8212e",
   "metadata": {},
   "outputs": [
    {
     "data": {
      "text/plain": [
       "range(1, 10, 2)"
      ]
     },
     "execution_count": 31,
     "metadata": {},
     "output_type": "execute_result"
    }
   ],
   "source": [
    "range(1,10,2) #range function from python "
   ]
  },
  {
   "cell_type": "code",
   "execution_count": 32,
   "id": "8ea4025c",
   "metadata": {},
   "outputs": [],
   "source": [
    "#range(0.5,10.0,0.5) #default it only accept int "
   ]
  },
  {
   "cell_type": "markdown",
   "id": "30c290a3",
   "metadata": {},
   "source": [
    "# an evenly spaced array of numbers using the np.arange() method:"
   ]
  },
  {
   "cell_type": "code",
   "execution_count": 33,
   "id": "0870aade",
   "metadata": {},
   "outputs": [
    {
     "data": {
      "text/plain": [
       "array([0, 1, 2, 3, 4])"
      ]
     },
     "execution_count": 33,
     "metadata": {},
     "output_type": "execute_result"
    }
   ],
   "source": [
    "np.arange(5)"
   ]
  },
  {
   "cell_type": "markdown",
   "id": "f3e819e4",
   "metadata": {},
   "source": [
    "The start, end and step size of the interval of values can be explicitly defined by passing in three numbers as arguments for these values respectively. A point to be noted here is that the interval is defined as [start,end) where the last number will not be included in the array:"
   ]
  },
  {
   "cell_type": "code",
   "execution_count": 34,
   "id": "86cde0bc",
   "metadata": {},
   "outputs": [
    {
     "data": {
      "text/plain": [
       "array([2, 4, 6, 8])"
      ]
     },
     "execution_count": 34,
     "metadata": {},
     "output_type": "execute_result"
    }
   ],
   "source": [
    "np.arange(2,10,2)"
   ]
  },
  {
   "cell_type": "code",
   "execution_count": 35,
   "id": "515ae646",
   "metadata": {},
   "outputs": [
    {
     "data": {
      "text/plain": [
       "array([0.5, 1. , 1.5, 2. , 2.5, 3. , 3.5, 4. , 4.5, 5. , 5.5, 6. , 6.5,\n",
       "       7. , 7.5, 8. , 8.5, 9. , 9.5])"
      ]
     },
     "execution_count": 35,
     "metadata": {},
     "output_type": "execute_result"
    }
   ],
   "source": [
    "np.arange(0.5,10.0,0.5) #it accepts float values as well"
   ]
  },
  {
   "cell_type": "markdown",
   "id": "7cb87240",
   "metadata": {},
   "source": [
    "# linspace()\n",
    "\n",
    "function is np.linspace(), but instead of step size, it takes in the number of samples that need to be retrieved from the interval. A point to note here is that the last number is included in the values returned unlike in the case of np.arange()."
   ]
  },
  {
   "cell_type": "code",
   "execution_count": 36,
   "id": "6e785ee8",
   "metadata": {},
   "outputs": [
    {
     "data": {
      "text/plain": [
       "array([ 0.,  5., 10., 15., 20.])"
      ]
     },
     "execution_count": 36,
     "metadata": {},
     "output_type": "execute_result"
    }
   ],
   "source": [
    "np.linspace(0,20,5)"
   ]
  },
  {
   "cell_type": "code",
   "execution_count": 38,
   "id": "17cd864d-8ee7-4b59-9d1c-cfcb6869d868",
   "metadata": {},
   "outputs": [
    {
     "data": {
      "text/plain": [
       "array([ 0., 10., 20.])"
      ]
     },
     "execution_count": 38,
     "metadata": {},
     "output_type": "execute_result"
    }
   ],
   "source": [
    "np.linspace(0,20,3)"
   ]
  },
  {
   "cell_type": "markdown",
   "id": "42e33a5e",
   "metadata": {},
   "source": [
    "# The Shape and Reshaping of NumPy Arrays\n",
    "\n",
    "Once you have created your ndarray, the next thing you would want to do is check the number of axes, shape, and the size of the ndarray."
   ]
  },
  {
   "cell_type": "markdown",
   "id": "8fe600f5",
   "metadata": {},
   "source": [
    "# Dimensions of NumPy arrays\n",
    "\n",
    "You can easily determine the number of dimensions or axes of a NumPy array using the ndim attribute:"
   ]
  },
  {
   "cell_type": "code",
   "execution_count": 39,
   "id": "2b2c0db7",
   "metadata": {},
   "outputs": [
    {
     "name": "stdout",
     "output_type": "stream",
     "text": [
      "Array : \n",
      " [[ 5 10 15]\n",
      " [20 25 20]]\n",
      "Dimensions : \n",
      " 2\n",
      "Array : \n",
      " [ 5 10 15]\n",
      "Dimensions : \n",
      " 1\n"
     ]
    }
   ],
   "source": [
    "# number of axis\n",
    "a = np.array([[5,10,15],[20,25,20]])\n",
    "print('Array :','\\n',a)\n",
    "print('Dimensions :','\\n',a.ndim)#This array has two dimensions: 2 rows and 3 columns\n",
    "b = np.array([5,10,15])\n",
    "print('Array :','\\n',b)\n",
    "print('Dimensions :','\\n',b.ndim)"
   ]
  },
  {
   "cell_type": "markdown",
   "id": "a691e7dc",
   "metadata": {},
   "source": [
    "# Shape of NumPy array\n",
    "\n",
    "\n",
    "The shape is an attribute of the NumPy array that shows how many rows of elements are there along each dimension. You can further index the shape so returned by the ndarray to get value along each dimension:"
   ]
  },
  {
   "cell_type": "code",
   "execution_count": 40,
   "id": "8ffa2d65",
   "metadata": {},
   "outputs": [
    {
     "name": "stdout",
     "output_type": "stream",
     "text": [
      "Array : \n",
      " [[1 2 3]\n",
      " [4 5 6]]\n",
      "Shape : \n",
      " (2, 3)\n",
      "Rows =  2\n",
      "Columns =  3\n"
     ]
    }
   ],
   "source": [
    "a = np.array([[1,2,3],[4,5,6]])\n",
    "print('Array :','\\n',a)\n",
    "print('Shape :','\\n',a.shape)\n",
    "print('Rows = ',a.shape[0])\n",
    "print('Columns = ',a.shape[1])"
   ]
  },
  {
   "cell_type": "code",
   "execution_count": null,
   "id": "0304f7c5-08e3-4187-8eb1-95ebeb653ca7",
   "metadata": {},
   "outputs": [],
   "source": []
  }
 ],
 "metadata": {
  "kernelspec": {
   "display_name": "Python 3 (ipykernel)",
   "language": "python",
   "name": "python3"
  },
  "language_info": {
   "codemirror_mode": {
    "name": "ipython",
    "version": 3
   },
   "file_extension": ".py",
   "mimetype": "text/x-python",
   "name": "python",
   "nbconvert_exporter": "python",
   "pygments_lexer": "ipython3",
   "version": "3.12.7"
  }
 },
 "nbformat": 4,
 "nbformat_minor": 5
}

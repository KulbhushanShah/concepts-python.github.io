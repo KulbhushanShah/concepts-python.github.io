{
 "cells": [
  {
   "cell_type": "markdown",
   "id": "b2fd69f3-dd3b-446b-83c4-03b1434a49c9",
   "metadata": {},
   "source": [
    "# Math Program Examples"
   ]
  },
  {
   "cell_type": "code",
   "execution_count": null,
   "id": "200b6e08-bc33-49bd-95f6-ace3ec93c8e6",
   "metadata": {},
   "outputs": [],
   "source": [
    "#1. Print prime number between 1 to 50"
   ]
  },
  {
   "cell_type": "code",
   "execution_count": 1,
   "id": "3bff3a9a-66c7-40aa-8dab-19ca626b7d92",
   "metadata": {},
   "outputs": [],
   "source": [
    "#2. Check if number is prime or not"
   ]
  },
  {
   "cell_type": "code",
   "execution_count": 5,
   "id": "d2b08be5-3285-4129-ab13-daa0fe7981ab",
   "metadata": {},
   "outputs": [],
   "source": [
    "#3. print whole number between 1 to 50"
   ]
  },
  {
   "cell_type": "code",
   "execution_count": 8,
   "id": "1d2f7dd7-ae17-4922-a519-19843c5943f9",
   "metadata": {},
   "outputs": [],
   "source": [
    "#4. check if a given number is even or odd"
   ]
  },
  {
   "cell_type": "code",
   "execution_count": null,
   "id": "d45188c4-e0b9-4bdc-a7ad-83aa4c27e99d",
   "metadata": {},
   "outputs": [],
   "source": [
    "#5. Determine odd or even in the given list for every element below using while loop."
   ]
  },
  {
   "cell_type": "code",
   "execution_count": 3,
   "id": "b243416c-fdf3-4243-8664-56d3ae8f65dc",
   "metadata": {},
   "outputs": [],
   "source": [
    "#6. print square root of a given number"
   ]
  },
  {
   "cell_type": "code",
   "execution_count": 4,
   "id": "859c236a-fb75-490a-8c98-4a6687e1d610",
   "metadata": {},
   "outputs": [],
   "source": [
    "#7. print cube of a given number"
   ]
  },
  {
   "cell_type": "code",
   "execution_count": 6,
   "id": "3a65c445-9283-471b-a5dd-207de80a6c48",
   "metadata": {},
   "outputs": [],
   "source": [
    "#8. Write a Program to find the Factorial of a number entered by the user."
   ]
  },
  {
   "cell_type": "code",
   "execution_count": 7,
   "id": "7c2c81f8-b0b8-406c-8937-7f18baed23a3",
   "metadata": {},
   "outputs": [],
   "source": [
    "#9. Print the numbers divisible by 5 or 7 from 1 to 50 using while loop."
   ]
  },
  {
   "cell_type": "code",
   "execution_count": 9,
   "id": "5b20f096-0553-413a-a305-3151bec461a6",
   "metadata": {},
   "outputs": [],
   "source": [
    "#10. Print the bigger number from 2 (given) numbers"
   ]
  },
  {
   "cell_type": "code",
   "execution_count": 17,
   "id": "3a91df4e-16df-42f5-a8b2-550c791a13f2",
   "metadata": {},
   "outputs": [],
   "source": [
    "#11. write a program to check largest number from the three numbers\n"
   ]
  },
  {
   "cell_type": "code",
   "execution_count": 10,
   "id": "4fd1f6e3-8031-4af9-9a2e-e1c702156b8d",
   "metadata": {},
   "outputs": [],
   "source": [
    "#12. Write a program to calculate sum of all numbers from 1 to a given number by user."
   ]
  },
  {
   "cell_type": "code",
   "execution_count": 11,
   "id": "e014259a-7a59-45af-a6fe-149ebe8a9ef9",
   "metadata": {},
   "outputs": [],
   "source": [
    "#13. Write a program that prints all the numbers from 0 to 10 except 4 and 8."
   ]
  },
  {
   "cell_type": "code",
   "execution_count": 13,
   "id": "f2f661a3-f9d8-43ac-8747-f794f8872184",
   "metadata": {},
   "outputs": [],
   "source": [
    "#14. Write a program to Count the number of even and odd numbers from a series of numbers.[Note the series is provided below]\n",
    "# numbers = (11,12,13,14,15,16,17,18)\n"
   ]
  },
  {
   "cell_type": "code",
   "execution_count": 14,
   "id": "e3e759dd-210b-4a76-8ef1-7e6c0cf9d785",
   "metadata": {},
   "outputs": [],
   "source": [
    "#15. Write a program to Reverse an integer number.[Note: The integer number is provided below in the (number) variable use the same]\n",
    "# number = 56721"
   ]
  },
  {
   "cell_type": "code",
   "execution_count": 15,
   "id": "91ab89db-61e2-4a55-82b5-ee167073d5b0",
   "metadata": {},
   "outputs": [],
   "source": [
    "#16. Write a program to check whether number is positive or negative."
   ]
  },
  {
   "cell_type": "code",
   "execution_count": 16,
   "id": "9a4daa43-a516-499e-81a9-9e3a685269d9",
   "metadata": {},
   "outputs": [],
   "source": [
    "#17. Write a program to check if the alphabet entered by user is vowel or not.(Hint: Vowels are a,e,i,o,u)\n"
   ]
  },
  {
   "cell_type": "code",
   "execution_count": 18,
   "id": "a95f3828-8351-41ce-9e80-8fe731ad4d31",
   "metadata": {},
   "outputs": [],
   "source": [
    "#18. Write a program to check if the number is divisible by 9 or not"
   ]
  },
  {
   "cell_type": "code",
   "execution_count": 19,
   "id": "bc36e413-2a70-4c3a-8d3f-1c1b70f2af86",
   "metadata": {},
   "outputs": [],
   "source": [
    "#19. Write a program to check if the alphabet entered by user is vowel or not.(Hint: Vowels are a,e,i,o,u)"
   ]
  },
  {
   "cell_type": "code",
   "execution_count": 20,
   "id": "aedcd3cf-9e2e-40ca-87a7-994700ad7306",
   "metadata": {},
   "outputs": [],
   "source": [
    "#20. Write a program to accept marks from a user and display the grade according to following criteria\n",
    "# Marks             Grade\n",
    "# >90                 A\n",
    "# >80 and <= 90       B\n",
    "# >=60 and <= 80      C\n",
    "# below 60            D\n"
   ]
  },
  {
   "cell_type": "code",
   "execution_count": null,
   "id": "855afcc2-c4e0-40dd-89fb-9e1918f28d71",
   "metadata": {},
   "outputs": [],
   "source": []
  }
 ],
 "metadata": {
  "kernelspec": {
   "display_name": "Python 3 (ipykernel)",
   "language": "python",
   "name": "python3"
  },
  "language_info": {
   "codemirror_mode": {
    "name": "ipython",
    "version": 3
   },
   "file_extension": ".py",
   "mimetype": "text/x-python",
   "name": "python",
   "nbconvert_exporter": "python",
   "pygments_lexer": "ipython3",
   "version": "3.12.7"
  }
 },
 "nbformat": 4,
 "nbformat_minor": 5
}

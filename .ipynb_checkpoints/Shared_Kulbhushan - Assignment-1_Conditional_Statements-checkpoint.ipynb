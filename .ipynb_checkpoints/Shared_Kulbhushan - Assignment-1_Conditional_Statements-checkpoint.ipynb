{
 "cells": [
  {
   "cell_type": "markdown",
   "id": "a69bddc9-7d76-4b8d-b3d8-d5f127948180",
   "metadata": {},
   "source": [
    "# Assignment-1: Conditional Statements"
   ]
  },
  {
   "cell_type": "markdown",
   "id": "00d32436-4f29-4b8f-a8e4-382de4a96b90",
   "metadata": {},
   "source": [
    "### Instructions: \n",
    "#### 1.Use any of the conditional statements like if, if-else, if-elif-else to write the program for below questions. \n",
    "#### 2.Also take input from the User for every question(Hint: Use the input() function)."
   ]
  },
  {
   "cell_type": "markdown",
   "id": "03ba6e41-1a3c-46b8-ae84-88517119a499",
   "metadata": {},
   "source": [
    "   "
   ]
  },
  {
   "cell_type": "markdown",
   "id": "54633b81-fbc8-48b0-8dfd-8c2714385679",
   "metadata": {},
   "source": [
    "### Q1. Write a program to check whether the given number is in between 1 and 100 or not? "
   ]
  },
  {
   "cell_type": "code",
   "execution_count": 5,
   "id": "fca368dc-f535-4aac-9c49-efdd826819de",
   "metadata": {},
   "outputs": [
    {
     "name": "stdin",
     "output_type": "stream",
     "text": [
      "enter a number between 1 and 100 99\n"
     ]
    },
    {
     "name": "stdout",
     "output_type": "stream",
     "text": [
      "99\n",
      "\n",
      " 99 is between 1 and 100\n"
     ]
    }
   ],
   "source": [
    "# Write Program from below line:\n",
    "num1 = int(input('enter a number between 1 and 100'))\n",
    "type(num1)\n",
    "print(num1)\n",
    "\n",
    "if num1 >= 1 and num1 <= 100:\n",
    "    print('\\n',num1, 'is in between 1 and 100')\n",
    "else:\n",
    "    print('\\n',num1, 'is not between 1 and 100')"
   ]
  },
  {
   "cell_type": "markdown",
   "id": "c99ed489-8da8-4a67-9b85-758a657dc9e6",
   "metadata": {},
   "source": [
    "#### Q2. Write a program to find biggest of 2 numbers."
   ]
  },
  {
   "cell_type": "code",
   "execution_count": 14,
   "id": "f455fbf7-383e-4944-98d5-606e0350c793",
   "metadata": {},
   "outputs": [
    {
     "name": "stdin",
     "output_type": "stream",
     "text": [
      "enter a number 99\n",
      "enter a number 199\n"
     ]
    },
    {
     "name": "stdout",
     "output_type": "stream",
     "text": [
      "\n",
      " 199 is biggest\n"
     ]
    }
   ],
   "source": [
    "# Write Program from below line:\n",
    "num1 = int(input('enter a number'))\n",
    "num2 = int(input('enter a number'))\n",
    "if num1 == num2:\n",
    "    print('\\n',num1, 'and', num2, 'are equal')\n",
    "elif num1 > num2:\n",
    "    print('\\n',num1, 'is biggest')\n",
    "else:\n",
    "    print('\\n',num2, 'is biggest')"
   ]
  },
  {
   "cell_type": "markdown",
   "id": "5d3c3352-42c8-48ef-9f5b-4834e315554a",
   "metadata": {},
   "source": [
    "### Q3. Write a program to check if the number is divisible by 9 or not."
   ]
  },
  {
   "cell_type": "code",
   "execution_count": 21,
   "id": "a9d3cca4-baa7-4fcc-902a-49f81c47b5ab",
   "metadata": {},
   "outputs": [
    {
     "name": "stdin",
     "output_type": "stream",
     "text": [
      "enter a number 63\n"
     ]
    },
    {
     "name": "stdout",
     "output_type": "stream",
     "text": [
      "\n",
      " 63 is divisible by 9\n"
     ]
    }
   ],
   "source": [
    "# Write Program from below line:\n",
    "num1 = int(input('enter a number'))\n",
    "if num1%9 == 0:\n",
    "    print('\\n',num1, 'is divisible by 9')\n",
    "else:\n",
    "    print('\\n',num1, 'is not divisible by 9')"
   ]
  },
  {
   "cell_type": "markdown",
   "id": "9d920ebb-3a40-408d-8c5c-411e5b4127cd",
   "metadata": {},
   "source": [
    "### Q4. Write a program to check if the alphabet entered by user is vowel or not.(Hint: Vowels are a,e,i,o,u)"
   ]
  },
  {
   "cell_type": "code",
   "execution_count": 24,
   "id": "e5b07a66-9fed-46bb-9aba-9d18dfb6ec67",
   "metadata": {},
   "outputs": [
    {
     "name": "stdin",
     "output_type": "stream",
     "text": [
      "enter a vowel p\n"
     ]
    },
    {
     "name": "stdout",
     "output_type": "stream",
     "text": [
      "\n",
      " p is not a vowel\n"
     ]
    }
   ],
   "source": [
    "# Write Program from below line:\n",
    "alpha = input('enter a vowel')\n",
    "if alpha in ['a','e','i','o','u']:\n",
    "    print('\\n',alpha, 'is a vowel')\n",
    "else:\n",
    "    print('\\n',alpha, 'is not a vowel')"
   ]
  },
  {
   "cell_type": "markdown",
   "id": "9d471869-20c5-43cd-ae4e-e6ed47ac160a",
   "metadata": {},
   "source": [
    "### Q5. Write a program to accept marks from a user and display the grade according to following criteria,\n",
    "        Marks              Grade\n",
    "        >90                 A\n",
    "        >80 and <= 90       B\n",
    "        >=60 and <= 80      C\n",
    "        below 60            D"
   ]
  },
  {
   "cell_type": "code",
   "execution_count": 28,
   "id": "53bbb990-ede9-4c91-95d4-a2631974850a",
   "metadata": {},
   "outputs": [
    {
     "name": "stdin",
     "output_type": "stream",
     "text": [
      "enter a marks obtained 90.5\n"
     ]
    },
    {
     "name": "stdout",
     "output_type": "stream",
     "text": [
      "\n",
      " Grade A\n"
     ]
    }
   ],
   "source": [
    "# Write Program from below line:\n",
    "num1 = float(input('enter a marks obtained'))\n",
    "if num1 > 90:\n",
    "    print('\\n Grade A')\n",
    "elif num1>80 and num1<= 90:\n",
    "    print('\\n Grade B')\n",
    "elif num1>60 and num1<= 80:\n",
    "    print('\\n Grade C')\n",
    "else:\n",
    "    print('\\n Grade D')"
   ]
  }
 ],
 "metadata": {
  "kernelspec": {
   "display_name": "Python 3 (ipykernel)",
   "language": "python",
   "name": "python3"
  },
  "language_info": {
   "codemirror_mode": {
    "name": "ipython",
    "version": 3
   },
   "file_extension": ".py",
   "mimetype": "text/x-python",
   "name": "python",
   "nbconvert_exporter": "python",
   "pygments_lexer": "ipython3",
   "version": "3.12.7"
  }
 },
 "nbformat": 4,
 "nbformat_minor": 5
}

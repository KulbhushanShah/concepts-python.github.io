{
 "cells": [
  {
   "cell_type": "markdown",
   "id": "8fda2afe-f5f6-4c98-8aac-04fbdd255508",
   "metadata": {},
   "source": [
    "# Exception Handling"
   ]
  },
  {
   "cell_type": "code",
   "execution_count": 1,
   "id": "f560fe4e-2557-48ca-bc60-5ecb57862be4",
   "metadata": {},
   "outputs": [
    {
     "ename": "SyntaxError",
     "evalue": "unterminated string literal (detected at line 1) (225544266.py, line 1)",
     "output_type": "error",
     "traceback": [
      "\u001b[1;36m  Cell \u001b[1;32mIn[1], line 1\u001b[1;36m\u001b[0m\n\u001b[1;33m    a = int(input('Enter something..:))\u001b[0m\n\u001b[1;37m                  ^\u001b[0m\n\u001b[1;31mSyntaxError\u001b[0m\u001b[1;31m:\u001b[0m unterminated string literal (detected at line 1)\n"
     ]
    }
   ],
   "source": [
    "a = int(input('Enter something..:))"
   ]
  },
  {
   "cell_type": "code",
   "execution_count": 2,
   "id": "1f257d06-cee2-4c17-8e34-85d964b9938f",
   "metadata": {},
   "outputs": [
    {
     "name": "stdin",
     "output_type": "stream",
     "text": [
      "Enter a number 1\n",
      "Enter a number 0\n"
     ]
    },
    {
     "ename": "ZeroDivisionError",
     "evalue": "division by zero",
     "output_type": "error",
     "traceback": [
      "\u001b[1;31m---------------------------------------------------------------------------\u001b[0m",
      "\u001b[1;31mZeroDivisionError\u001b[0m                         Traceback (most recent call last)",
      "Cell \u001b[1;32mIn[2], line 5\u001b[0m\n\u001b[0;32m      1\u001b[0m a \u001b[38;5;241m=\u001b[39m \u001b[38;5;28mint\u001b[39m(\u001b[38;5;28minput\u001b[39m(\u001b[38;5;124m'\u001b[39m\u001b[38;5;124mEnter a number\u001b[39m\u001b[38;5;124m'\u001b[39m))\n\u001b[0;32m      3\u001b[0m b \u001b[38;5;241m=\u001b[39m \u001b[38;5;28mint\u001b[39m(\u001b[38;5;28minput\u001b[39m(\u001b[38;5;124m'\u001b[39m\u001b[38;5;124mEnter a number\u001b[39m\u001b[38;5;124m'\u001b[39m))\n\u001b[1;32m----> 5\u001b[0m \u001b[38;5;28mprint\u001b[39m(a\u001b[38;5;241m/\u001b[39mb)\n",
      "\u001b[1;31mZeroDivisionError\u001b[0m: division by zero"
     ]
    }
   ],
   "source": [
    "a = int(input('Enter a number'))\n",
    "\n",
    "b = int(input('Enter a number'))\n",
    "\n",
    "print(a/b)"
   ]
  },
  {
   "cell_type": "code",
   "execution_count": 9,
   "id": "328c1164-eec4-4439-aaa7-77bdaa009037",
   "metadata": {},
   "outputs": [
    {
     "name": "stdin",
     "output_type": "stream",
     "text": [
      "Enter a number 1\n",
      "Enter a number 0\n"
     ]
    },
    {
     "name": "stdout",
     "output_type": "stream",
     "text": [
      "enter the number again\n"
     ]
    }
   ],
   "source": [
    "try:\n",
    "    a = int(input('Enter a number'))\n",
    "    b = int(input('Enter a number'))\n",
    "    print(a/b)\n",
    "except:\n",
    "    print('Error occured')"
   ]
  },
  {
   "cell_type": "code",
   "execution_count": 13,
   "id": "6d9db576-287a-4cf1-a938-7174c22fb4fc",
   "metadata": {},
   "outputs": [
    {
     "ename": "SyntaxError",
     "evalue": "default 'except:' must be last (3803151360.py, line 7)",
     "output_type": "error",
     "traceback": [
      "\u001b[1;36m  Cell \u001b[1;32mIn[13], line 7\u001b[1;36m\u001b[0m\n\u001b[1;33m    except:\u001b[0m\n\u001b[1;37m    ^\u001b[0m\n\u001b[1;31mSyntaxError\u001b[0m\u001b[1;31m:\u001b[0m default 'except:' must be last\n"
     ]
    }
   ],
   "source": [
    "try:\n",
    "    a = int(input('Enter a number'))\n",
    "    b = int(input('Enter a number'))\n",
    "    print(a/b)\n",
    "except ZeroDivisionError:\n",
    "    print('zero division error')\n",
    "except:\n",
    "    print('print by default')\n",
    "except ValueError:\n",
    "    print('value error')\n"
   ]
  },
  {
   "cell_type": "code",
   "execution_count": 14,
   "id": "dcbac8db-ab75-43b8-9ef2-017799377e62",
   "metadata": {},
   "outputs": [
    {
     "name": "stdin",
     "output_type": "stream",
     "text": [
      "Enter a number w\n"
     ]
    },
    {
     "name": "stdout",
     "output_type": "stream",
     "text": [
      "value error\n"
     ]
    }
   ],
   "source": [
    "try:\n",
    "    a = int(input('Enter a number'))\n",
    "    b = int(input('Enter a number'))\n",
    "    print(a/b)\n",
    "except ZeroDivisionError:\n",
    "    print('zero division error')\n",
    "except ValueError:\n",
    "    print('value error')\n",
    "except:\n",
    "    print('print by default')"
   ]
  },
  {
   "cell_type": "code",
   "execution_count": 15,
   "id": "e953a034-1758-4537-9765-5f40b4213a35",
   "metadata": {},
   "outputs": [
    {
     "name": "stdin",
     "output_type": "stream",
     "text": [
      "Enter a number 1\n",
      "Enter a number 0\n"
     ]
    },
    {
     "name": "stdout",
     "output_type": "stream",
     "text": [
      "zero division error\n"
     ]
    }
   ],
   "source": [
    "try:\n",
    "    a = int(input('Enter a number'))\n",
    "    b = int(input('Enter a number'))\n",
    "    print(a/b)\n",
    "except ZeroDivisionError:\n",
    "    print('zero division error')\n",
    "except ValueError:\n",
    "    print('value error')\n",
    "except:\n",
    "    print('print by default')"
   ]
  },
  {
   "cell_type": "code",
   "execution_count": 16,
   "id": "b03b79e0-72a6-4b1d-bff8-bd947af53446",
   "metadata": {},
   "outputs": [
    {
     "name": "stdin",
     "output_type": "stream",
     "text": [
      "Enter a number w\n"
     ]
    },
    {
     "name": "stdout",
     "output_type": "stream",
     "text": [
      "invalid literal for int() with base 10: 'w' value error\n"
     ]
    }
   ],
   "source": [
    "try:\n",
    "    a = int(input('Enter a number'))\n",
    "    b = int(input('Enter a number'))\n",
    "    print(a/b)\n",
    "except ZeroDivisionError as division:\n",
    "    print(division, 'zero division error')\n",
    "except ValueError as value:\n",
    "    print(value,'value error')\n",
    "except:\n",
    "    print('print by default')"
   ]
  },
  {
   "cell_type": "code",
   "execution_count": 17,
   "id": "900cb405-ad2d-4c3e-a8c1-f6db6c295ac6",
   "metadata": {},
   "outputs": [
    {
     "name": "stdin",
     "output_type": "stream",
     "text": [
      "Enter a number 1\n",
      "Enter a number 0\n"
     ]
    },
    {
     "name": "stdout",
     "output_type": "stream",
     "text": [
      "division by zero zero division error\n"
     ]
    }
   ],
   "source": [
    "try:\n",
    "    a = int(input('Enter a number'))\n",
    "    b = int(input('Enter a number'))\n",
    "    print(a/b)\n",
    "except ZeroDivisionError as division:\n",
    "    print(division, 'zero division error')\n",
    "except ValueError as value:\n",
    "    print(value,'value error')\n",
    "except:\n",
    "    print('print by default')"
   ]
  },
  {
   "cell_type": "code",
   "execution_count": 18,
   "id": "7485f207-4aab-42bd-ac0f-54aee0e434f6",
   "metadata": {},
   "outputs": [
    {
     "name": "stdin",
     "output_type": "stream",
     "text": [
      "Enter a number 1\n",
      "Enter a number 1\n"
     ]
    },
    {
     "name": "stdout",
     "output_type": "stream",
     "text": [
      "1.0\n",
      "no error occured in the TRY block\n"
     ]
    }
   ],
   "source": [
    "try:\n",
    "    a = int(input('Enter a number'))\n",
    "    b = int(input('Enter a number'))\n",
    "    print(a/b)\n",
    "except ZeroDivisionError as division:\n",
    "    print(division, 'zero division error')\n",
    "except ValueError as value:\n",
    "    print(value,'value error')\n",
    "except:\n",
    "    print('print by default')\n",
    "\n",
    "else:\n",
    "    print('no error occured in the TRY block')"
   ]
  },
  {
   "cell_type": "code",
   "execution_count": 23,
   "id": "10a50814-ec50-4faa-b5cd-0ba600d3b73c",
   "metadata": {},
   "outputs": [
    {
     "name": "stdin",
     "output_type": "stream",
     "text": [
      "Enter a number 1\n",
      "Enter a number 0\n"
     ]
    },
    {
     "name": "stdout",
     "output_type": "stream",
     "text": [
      "division by zero zero division error\n",
      "print this FINALLY block regardless of error\n"
     ]
    }
   ],
   "source": [
    "try:\n",
    "    a = int(input('Enter a number'))\n",
    "    b = int(input('Enter a number'))\n",
    "    print(a/b)\n",
    "except ZeroDivisionError as division:\n",
    "    print(division, 'zero division error')\n",
    "except ValueError as value:\n",
    "    print(value,'value error')\n",
    "except:\n",
    "    print('print by default')\n",
    "\n",
    "else:\n",
    "    print('no error occured in the TRY block')\n",
    "\n",
    "finally:\n",
    "    print('print this FINALLY block regardless of error')"
   ]
  },
  {
   "cell_type": "code",
   "execution_count": 34,
   "id": "075921d7-a9b5-4345-ac15-f4cdb6d53a12",
   "metadata": {},
   "outputs": [
    {
     "name": "stdin",
     "output_type": "stream",
     "text": [
      "enter a number 2\n"
     ]
    },
    {
     "name": "stdout",
     "output_type": "stream",
     "text": [
      "out of if\n"
     ]
    }
   ],
   "source": [
    "NUMB = int(input('enter a number'))\n",
    "\n",
    "if NUMB % 2 != 0:\n",
    "    raise Exception(\"The numbers shouldn't be odd\")\n",
    "    print('this line would not be printed as error occured')\n",
    "print('out of if')"
   ]
  },
  {
   "cell_type": "code",
   "execution_count": 37,
   "id": "e61c74cd-362c-4e7e-ae96-66a8cced8a8a",
   "metadata": {},
   "outputs": [
    {
     "name": "stdin",
     "output_type": "stream",
     "text": [
      "enter a number 4\n"
     ]
    },
    {
     "name": "stdout",
     "output_type": "stream",
     "text": [
      "out of if\n"
     ]
    }
   ],
   "source": [
    "NUMB1 = int(input('enter a number'))\n",
    "\n",
    "if NUMB1 % 2 != 0:\n",
    "    raise ValueError(\"The numbers shouldn't be odd\")\n",
    "    print('this line would not be printed as error occured')\n",
    "print('out of if')"
   ]
  },
  {
   "cell_type": "code",
   "execution_count": null,
   "id": "265b843a-a540-4d79-b115-122a3153b6e9",
   "metadata": {},
   "outputs": [],
   "source": []
  }
 ],
 "metadata": {
  "kernelspec": {
   "display_name": "Python 3 (ipykernel)",
   "language": "python",
   "name": "python3"
  },
  "language_info": {
   "codemirror_mode": {
    "name": "ipython",
    "version": 3
   },
   "file_extension": ".py",
   "mimetype": "text/x-python",
   "name": "python",
   "nbconvert_exporter": "python",
   "pygments_lexer": "ipython3",
   "version": "3.12.7"
  }
 },
 "nbformat": 4,
 "nbformat_minor": 5
}

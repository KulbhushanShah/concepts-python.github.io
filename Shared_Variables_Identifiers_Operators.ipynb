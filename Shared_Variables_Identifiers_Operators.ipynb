{
 "cells": [
  {
   "cell_type": "code",
   "execution_count": 1,
   "id": "aa9bdd6d-27fa-453b-8cc8-799f2fa7e14f",
   "metadata": {},
   "outputs": [],
   "source": [
    "a = 10"
   ]
  },
  {
   "cell_type": "code",
   "execution_count": 2,
   "id": "8cb90eb3-8d3c-449c-b8b1-ef372539fd72",
   "metadata": {},
   "outputs": [
    {
     "name": "stdout",
     "output_type": "stream",
     "text": [
      "10\n"
     ]
    }
   ],
   "source": [
    "print(a)"
   ]
  },
  {
   "cell_type": "code",
   "execution_count": 3,
   "id": "9fee959d-7852-4255-bc5f-ba5fdaaacb98",
   "metadata": {},
   "outputs": [
    {
     "ename": "SyntaxError",
     "evalue": "invalid decimal literal (3912291290.py, line 1)",
     "output_type": "error",
     "traceback": [
      "\u001b[1;36m  Cell \u001b[1;32mIn[3], line 1\u001b[1;36m\u001b[0m\n\u001b[1;33m    7a = 10\u001b[0m\n\u001b[1;37m    ^\u001b[0m\n\u001b[1;31mSyntaxError\u001b[0m\u001b[1;31m:\u001b[0m invalid decimal literal\n"
     ]
    }
   ],
   "source": [
    "7a = 10"
   ]
  },
  {
   "cell_type": "code",
   "execution_count": 4,
   "id": "ded57002-e42b-41a1-afe5-211ec870b8c9",
   "metadata": {},
   "outputs": [],
   "source": [
    "a7 = 10"
   ]
  },
  {
   "cell_type": "code",
   "execution_count": 5,
   "id": "35af061a-604b-4f5f-911b-03b5bad174a0",
   "metadata": {},
   "outputs": [
    {
     "name": "stdout",
     "output_type": "stream",
     "text": [
      "10\n"
     ]
    }
   ],
   "source": [
    "print(a7)"
   ]
  },
  {
   "cell_type": "code",
   "execution_count": 6,
   "id": "aeac6ffc-e99d-4c44-a504-9907fcf412ca",
   "metadata": {},
   "outputs": [
    {
     "ename": "SyntaxError",
     "evalue": "invalid syntax (2409112630.py, line 1)",
     "output_type": "error",
     "traceback": [
      "\u001b[1;36m  Cell \u001b[1;32mIn[6], line 1\u001b[1;36m\u001b[0m\n\u001b[1;33m    Ab$C = 100\u001b[0m\n\u001b[1;37m      ^\u001b[0m\n\u001b[1;31mSyntaxError\u001b[0m\u001b[1;31m:\u001b[0m invalid syntax\n"
     ]
    }
   ],
   "source": [
    "Ab$C = 100"
   ]
  },
  {
   "cell_type": "code",
   "execution_count": 7,
   "id": "4fbe4bd9-20ec-48de-8319-9591ecf3f5f1",
   "metadata": {},
   "outputs": [],
   "source": [
    "Ab_C = 100"
   ]
  },
  {
   "cell_type": "code",
   "execution_count": 8,
   "id": "b21a3a78-5fde-4cee-a182-64e246ccf3a3",
   "metadata": {},
   "outputs": [
    {
     "data": {
      "text/plain": [
       "100"
      ]
     },
     "execution_count": 8,
     "metadata": {},
     "output_type": "execute_result"
    }
   ],
   "source": [
    "Ab_C"
   ]
  },
  {
   "cell_type": "code",
   "execution_count": 9,
   "id": "06659073-c409-4049-94b1-0a267b085e5a",
   "metadata": {},
   "outputs": [],
   "source": [
    "Gamaka = 2"
   ]
  },
  {
   "cell_type": "code",
   "execution_count": 10,
   "id": "676bef4f-409b-498e-8132-2bed186b0965",
   "metadata": {},
   "outputs": [
    {
     "name": "stdout",
     "output_type": "stream",
     "text": [
      "2\n"
     ]
    }
   ],
   "source": [
    "print(Gamaka)"
   ]
  },
  {
   "cell_type": "code",
   "execution_count": 11,
   "id": "b5a661e4-317d-4b4d-9894-b8a0e7feb02f",
   "metadata": {},
   "outputs": [
    {
     "ename": "SyntaxError",
     "evalue": "invalid syntax (1354595881.py, line 1)",
     "output_type": "error",
     "traceback": [
      "\u001b[1;36m  Cell \u001b[1;32mIn[11], line 1\u001b[1;36m\u001b[0m\n\u001b[1;33m    and = 23\u001b[0m\n\u001b[1;37m    ^\u001b[0m\n\u001b[1;31mSyntaxError\u001b[0m\u001b[1;31m:\u001b[0m invalid syntax\n"
     ]
    }
   ],
   "source": [
    "and = 23"
   ]
  },
  {
   "cell_type": "code",
   "execution_count": 12,
   "id": "72f5258c-0075-49c6-ab54-a0bb48c9c1d6",
   "metadata": {},
   "outputs": [
    {
     "ename": "SyntaxError",
     "evalue": "invalid syntax (2706916928.py, line 1)",
     "output_type": "error",
     "traceback": [
      "\u001b[1;36m  Cell \u001b[1;32mIn[12], line 1\u001b[1;36m\u001b[0m\n\u001b[1;33m    if = 444\u001b[0m\n\u001b[1;37m       ^\u001b[0m\n\u001b[1;31mSyntaxError\u001b[0m\u001b[1;31m:\u001b[0m invalid syntax\n"
     ]
    }
   ],
   "source": [
    "if = 444"
   ]
  },
  {
   "cell_type": "markdown",
   "id": "9812ec0b-cd0d-4973-875c-7383f6478f4f",
   "metadata": {},
   "source": [
    "# Operators"
   ]
  },
  {
   "cell_type": "code",
   "execution_count": 17,
   "id": "d82ca3b1-cd87-4e4e-abdd-3beb5a2e9395",
   "metadata": {},
   "outputs": [],
   "source": [
    "a = 9\n",
    "b = 3"
   ]
  },
  {
   "cell_type": "code",
   "execution_count": 18,
   "id": "b5b4d8b1-faea-47c2-982d-651dd0485e4e",
   "metadata": {},
   "outputs": [
    {
     "name": "stdout",
     "output_type": "stream",
     "text": [
      "a+b= 12\n",
      "a-b= 6\n",
      "a*b= 27\n",
      "a/b= 3.0\n",
      "a//b= 3\n",
      "a%b= 0\n",
      "a**b= 729\n"
     ]
    }
   ],
   "source": [
    "# Arithmetic Op\n",
    "print(\"a+b=\",a + b)\n",
    "print(\"a-b=\",a - b)\n",
    "print(\"a*b=\",a * b)\n",
    "print(\"a/b=\",a / b)\n",
    "print(\"a//b=\",a // b)\n",
    "print(\"a%b=\",a % b)\n",
    "print(\"a**b=\",a ** b)"
   ]
  },
  {
   "cell_type": "code",
   "execution_count": 19,
   "id": "7b05f8a5-8828-47b2-bdba-29772426a73a",
   "metadata": {},
   "outputs": [],
   "source": [
    "a = 10\n",
    "b = 2"
   ]
  },
  {
   "cell_type": "code",
   "execution_count": 20,
   "id": "626f2ffd-27dc-45c1-9f55-e21c5a0a48d6",
   "metadata": {},
   "outputs": [
    {
     "name": "stdout",
     "output_type": "stream",
     "text": [
      "a>b True\n",
      "a<b False\n",
      "a>=b True\n",
      "a<=b False\n",
      "a==b False\n",
      "a!=b True\n"
     ]
    }
   ],
   "source": [
    "# Comparison Operator\n",
    "\n",
    "print(\"a>b\",a>b)\n",
    "print(\"a<b\",a<b)\n",
    "print(\"a>=b\",a>=b)\n",
    "print(\"a<=b\",a<=b)\n",
    "print(\"a==b\",a==b)\n",
    "print(\"a!=b\",a!=b)"
   ]
  },
  {
   "cell_type": "code",
   "execution_count": 23,
   "id": "2d71dab4-ca14-4103-9ea5-a20e62ba0934",
   "metadata": {},
   "outputs": [],
   "source": [
    "a = 10\n",
    "b = 20\n",
    "c = 30"
   ]
  },
  {
   "cell_type": "code",
   "execution_count": 24,
   "id": "77bfd004-0354-4cf9-8157-1f40189b5590",
   "metadata": {},
   "outputs": [
    {
     "name": "stdout",
     "output_type": "stream",
     "text": [
      "False\n",
      "True\n"
     ]
    }
   ],
   "source": [
    "# Logical operators\n",
    "# and op\n",
    "print(a > b and c > b)\n",
    "print(a < b and c > b)"
   ]
  },
  {
   "cell_type": "code",
   "execution_count": 25,
   "id": "5e4db887-883f-4207-b842-5920baa619b5",
   "metadata": {},
   "outputs": [
    {
     "name": "stdout",
     "output_type": "stream",
     "text": [
      "True\n"
     ]
    }
   ],
   "source": [
    "# or op\n",
    "print(a > b or c > b)"
   ]
  },
  {
   "cell_type": "code",
   "execution_count": 27,
   "id": "1e7a49b4-6f69-421c-aa8e-9943efc7d9f4",
   "metadata": {},
   "outputs": [
    {
     "name": "stdout",
     "output_type": "stream",
     "text": [
      "False\n"
     ]
    }
   ],
   "source": [
    "# not op\n",
    "print(not(b>a))"
   ]
  },
  {
   "cell_type": "code",
   "execution_count": 31,
   "id": "bb35a5a0-04e8-4676-a441-8ae61f6f840d",
   "metadata": {},
   "outputs": [],
   "source": [
    "a = 10 \n",
    "b = 2"
   ]
  },
  {
   "cell_type": "code",
   "execution_count": 32,
   "id": "f9faf554-8ed0-4607-b7ec-9c80fe64ad58",
   "metadata": {},
   "outputs": [
    {
     "name": "stdout",
     "output_type": "stream",
     "text": [
      "12\n",
      "10\n",
      "20\n",
      "10.0\n",
      "5.0\n",
      "25.0\n"
     ]
    }
   ],
   "source": [
    "# Assignment Op\n",
    "\n",
    "a += b # a = a + b\n",
    "print(a) # a = 12\n",
    "a -= b # a = a - b (12 - 2)\n",
    "print(a)  # a = 10\n",
    "a *= b # a = a * b (10 * 2)\n",
    "print(a) # a = 20\n",
    "a /= b # a = a/b (20/2)\n",
    "print(a) # a = 10.0\n",
    "a //= b # a = a//b (10//2)\n",
    "print(a) # a = 5.0\n",
    "a **= b # a = a power of b (5 power of 2)\n",
    "print(a) # a = 25.0"
   ]
  },
  {
   "cell_type": "code",
   "execution_count": 33,
   "id": "e1d4283e-6c31-455f-8262-4ac8c384cf05",
   "metadata": {},
   "outputs": [],
   "source": [
    "a = 10\n",
    "b = 22\n",
    "a = 34"
   ]
  },
  {
   "cell_type": "code",
   "execution_count": 34,
   "id": "437bdd0a-a1ae-4885-993c-d645ec62e57a",
   "metadata": {},
   "outputs": [
    {
     "name": "stdout",
     "output_type": "stream",
     "text": [
      "34\n"
     ]
    }
   ],
   "source": [
    "print(a)"
   ]
  }
 ],
 "metadata": {
  "kernelspec": {
   "display_name": "Python 3 (ipykernel)",
   "language": "python",
   "name": "python3"
  },
  "language_info": {
   "codemirror_mode": {
    "name": "ipython",
    "version": 3
   },
   "file_extension": ".py",
   "mimetype": "text/x-python",
   "name": "python",
   "nbconvert_exporter": "python",
   "pygments_lexer": "ipython3",
   "version": "3.12.7"
  }
 },
 "nbformat": 4,
 "nbformat_minor": 5
}

{
 "cells": [
  {
   "cell_type": "code",
   "execution_count": 1,
   "id": "97dbd7e3",
   "metadata": {},
   "outputs": [],
   "source": [
    "import numpy as np"
   ]
  },
  {
   "cell_type": "markdown",
   "id": "7d868b44",
   "metadata": {},
   "source": [
    "# Append"
   ]
  },
  {
   "cell_type": "code",
   "execution_count": 2,
   "id": "f68ba7e2",
   "metadata": {},
   "outputs": [
    {
     "name": "stdout",
     "output_type": "stream",
     "text": [
      "[[1 2]\n",
      " [3 4]]\n",
      "[[1 2]\n",
      " [3 4]\n",
      " [5 6]]\n"
     ]
    }
   ],
   "source": [
    "# append values to ndarray\n",
    "a = np.array([[1,2],\n",
    "             [3,4]])\n",
    "print(a)\n",
    "b = np.append(a,[[5,6]],axis=0)\n",
    "print(b)"
   ]
  },
  {
   "cell_type": "markdown",
   "id": "c3ed7168",
   "metadata": {},
   "source": [
    "# Broadcasting in NumPy arrays\n",
    "\n",
    "Broadcasting is one of the best features of ndarrays. It lets you perform arithmetics operations between ndarrays of different sizes or between an ndarray and a simple number!\n",
    "\n",
    "Broadcasting essentially stretches the smaller ndarray so that it matches the shape of the larger ndarray:"
   ]
  },
  {
   "cell_type": "code",
   "execution_count": 4,
   "id": "2dc04d59",
   "metadata": {},
   "outputs": [
    {
     "name": "stdout",
     "output_type": "stream",
     "text": [
      "[10 12 14 16 18]\n",
      "[[2]\n",
      " [3]]\n",
      "Adding two different size arrays : \n",
      " [[12 14 16 18 20]\n",
      " [13 15 17 19 21]]\n",
      "Multiplying an ndarray and a number : [20 24 28 32 36]\n"
     ]
    }
   ],
   "source": [
    "a = np.arange(10,20,2)\n",
    "b = np.array([[2],[3]])\n",
    "print(a)\n",
    "print(b)\n",
    "print('Adding two different size arrays :','\\n',a+b)\n",
    "print('Multiplying an ndarray and a number :',a*2)"
   ]
  },
  {
   "cell_type": "code",
   "execution_count": 5,
   "id": "e6abbb21",
   "metadata": {},
   "outputs": [
    {
     "name": "stdout",
     "output_type": "stream",
     "text": [
      "[[1. 1. 1.]\n",
      " [1. 1. 1.]\n",
      " [1. 1. 1.]]\n",
      "[2]\n",
      "[[3. 3. 3.]\n",
      " [3. 3. 3.]\n",
      " [3. 3. 3.]]\n"
     ]
    }
   ],
   "source": [
    "a = np.ones((3,3))\n",
    "print(a)\n",
    "b = np.array([2])\n",
    "print(b)\n",
    "print(a+b)"
   ]
  },
  {
   "cell_type": "markdown",
   "id": "8d701be8",
   "metadata": {},
   "source": [
    "Here, the second ndarray was stretched, hypothetically, to a 3 x 3 shape, and then the result was calculated."
   ]
  },
  {
   "cell_type": "markdown",
   "id": "2ed97d2c",
   "metadata": {},
   "source": [
    "# Maths with NumPy arrays\n",
    "Basic arithmetic operations on NumPy arrays\n",
    "\n",
    "The basic arithmetic operations can easily be performed on NumPy arrays. \n"
   ]
  },
  {
   "cell_type": "code",
   "execution_count": 6,
   "id": "97b84952",
   "metadata": {},
   "outputs": [
    {
     "name": "stdout",
     "output_type": "stream",
     "text": [
      "Subtract : [-4 -3 -2 -1  0  1]\n",
      "Multiply : [ 5 10 15 20 25 30]\n",
      "Divide : [0.2 0.4 0.6 0.8 1.  1.2]\n",
      "Power : [ 1  4  9 16 25 36]\n",
      "Remainder : [1 2 3 4 0 1]\n"
     ]
    }
   ],
   "source": [
    "a = np.array([1,2,3,4,5,6])\n",
    "print('Subtract :',a-5)\n",
    "print('Multiply :',a*5)\n",
    "print('Divide :',a/5)\n",
    "print('Power :',a**2)\n",
    "print('Remainder :',a%5)"
   ]
  },
  {
   "cell_type": "markdown",
   "id": "419ba782",
   "metadata": {},
   "source": [
    "# Mean, Median and Standard deviation\n",
    "\n",
    "To find the mean and standard deviation of a NumPy array, use the mean(), std() and median() methods:"
   ]
  },
  {
   "cell_type": "code",
   "execution_count": 7,
   "id": "ce40a31c",
   "metadata": {},
   "outputs": [
    {
     "name": "stdout",
     "output_type": "stream",
     "text": [
      "[ 5  7  9 11 13]\n",
      "Mean : 9.0\n",
      "Standard deviation : 2.8284271247461903\n",
      "Median : 9.0\n"
     ]
    }
   ],
   "source": [
    "a = np.arange(5,15,2)\n",
    "print(a)\n",
    "print('Mean :',np.mean(a))\n",
    "print('Standard deviation :',np.std(a))\n",
    "print('Median :',np.median(a))"
   ]
  },
  {
   "cell_type": "code",
   "execution_count": 8,
   "id": "a6c0d1bf",
   "metadata": {},
   "outputs": [],
   "source": [
    "l=np.array([[1,2,3],[4,5,6]])"
   ]
  },
  {
   "cell_type": "code",
   "execution_count": 9,
   "id": "f9ae83c7",
   "metadata": {},
   "outputs": [],
   "source": [
    "o=np.array([[2,2,4],[6,8,9]])"
   ]
  },
  {
   "cell_type": "code",
   "execution_count": 10,
   "id": "a7795cac",
   "metadata": {},
   "outputs": [
    {
     "data": {
      "text/plain": [
       "array([[ 3,  4,  7],\n",
       "       [10, 13, 15]])"
      ]
     },
     "execution_count": 10,
     "metadata": {},
     "output_type": "execute_result"
    }
   ],
   "source": [
    "l+o"
   ]
  },
  {
   "cell_type": "code",
   "execution_count": 11,
   "id": "2a345f39",
   "metadata": {},
   "outputs": [
    {
     "data": {
      "text/plain": [
       "array([[-1,  0, -1],\n",
       "       [-2, -3, -3]])"
      ]
     },
     "execution_count": 11,
     "metadata": {},
     "output_type": "execute_result"
    }
   ],
   "source": [
    "l-o"
   ]
  },
  {
   "cell_type": "code",
   "execution_count": 12,
   "id": "9247a4b0",
   "metadata": {},
   "outputs": [
    {
     "name": "stdout",
     "output_type": "stream",
     "text": [
      "[[ 1.  2.  3.  4.]\n",
      " [ 5.  6.  7.  8.]\n",
      " [ 9. 10. 11. 12.]]\n"
     ]
    }
   ],
   "source": [
    "u=np.array([[1,2,3,4],[5,6,7,8],[9,10,11,12]],dtype = float)\n",
    "print(u)"
   ]
  },
  {
   "cell_type": "code",
   "execution_count": 13,
   "id": "65bebed9",
   "metadata": {},
   "outputs": [
    {
     "data": {
      "text/plain": [
       "array([[False, False, False, False],\n",
       "       [False,  True,  True,  True],\n",
       "       [ True,  True,  True,  True]])"
      ]
     },
     "execution_count": 13,
     "metadata": {},
     "output_type": "execute_result"
    }
   ],
   "source": [
    "u>5"
   ]
  },
  {
   "cell_type": "code",
   "execution_count": 14,
   "id": "07399750",
   "metadata": {},
   "outputs": [
    {
     "data": {
      "text/plain": [
       "array([ 6.,  7.,  8.,  9., 10., 11., 12.])"
      ]
     },
     "execution_count": 14,
     "metadata": {},
     "output_type": "execute_result"
    }
   ],
   "source": [
    "u[u>5]"
   ]
  },
  {
   "cell_type": "code",
   "execution_count": 15,
   "id": "612856ba",
   "metadata": {},
   "outputs": [
    {
     "data": {
      "text/plain": [
       "array([[  1.,   4.,   9.,  16.],\n",
       "       [ 25.,  36.,  49.,  64.],\n",
       "       [ 81., 100., 121., 144.]])"
      ]
     },
     "execution_count": 15,
     "metadata": {},
     "output_type": "execute_result"
    }
   ],
   "source": [
    "u**2"
   ]
  },
  {
   "cell_type": "code",
   "execution_count": 16,
   "id": "ad945860",
   "metadata": {},
   "outputs": [
    {
     "data": {
      "text/plain": [
       "array([[  1.,   4.,   9.,  16.],\n",
       "       [ 25.,  36.,  49.,  64.],\n",
       "       [ 81., 100., 121., 144.]])"
      ]
     },
     "execution_count": 16,
     "metadata": {},
     "output_type": "execute_result"
    }
   ],
   "source": [
    "pow(u,2)"
   ]
  },
  {
   "cell_type": "code",
   "execution_count": 17,
   "id": "18e15cc0",
   "metadata": {},
   "outputs": [
    {
     "data": {
      "text/plain": [
       "array([[1.0000e+00, 1.6000e+01, 8.1000e+01, 2.5600e+02],\n",
       "       [6.2500e+02, 1.2960e+03, 2.4010e+03, 4.0960e+03],\n",
       "       [6.5610e+03, 1.0000e+04, 1.4641e+04, 2.0736e+04]])"
      ]
     },
     "execution_count": 17,
     "metadata": {},
     "output_type": "execute_result"
    }
   ],
   "source": [
    "u**4"
   ]
  },
  {
   "cell_type": "markdown",
   "id": "24cdbd98",
   "metadata": {},
   "source": [
    "# Min-Max values and their indexes\n",
    "\n",
    "Min and Max values in an ndarray can be easily found using the min() and max() methods:"
   ]
  },
  {
   "cell_type": "markdown",
   "id": "74bdf815",
   "metadata": {},
   "source": [
    "axis=0: Apply operation column-wise, across all rows for each column.\n",
    "    \n",
    "axis=1: Apply operation row-wise, across all columns for each row."
   ]
  },
  {
   "cell_type": "code",
   "execution_count": 18,
   "id": "2ca1bd01",
   "metadata": {},
   "outputs": [
    {
     "name": "stdout",
     "output_type": "stream",
     "text": [
      "[[1 6 5]\n",
      " [4 3 7]]\n",
      "Min : [1 3]\n",
      "Max : [4 6 7]\n"
     ]
    }
   ],
   "source": [
    "a = np.array([[1,6,5],[4,3,7]])\n",
    "print(a)\n",
    "# minimum along a row\n",
    "print('Min :',np.min(a,axis=1))\n",
    "# maximum along a column\n",
    "print('Max :',np.max(a,axis=0))"
   ]
  },
  {
   "cell_type": "markdown",
   "id": "74b660e5",
   "metadata": {},
   "source": [
    "Determine the index of the minimum or maximum value in the ndarray along a particular axis using the argmin() and argmax() methods:"
   ]
  },
  {
   "cell_type": "code",
   "execution_count": 19,
   "id": "cf5ba893",
   "metadata": {},
   "outputs": [
    {
     "name": "stdout",
     "output_type": "stream",
     "text": [
      "INPUT ARRAY : \n",
      " [[ 0  1  2  3]\n",
      " [ 4  5  6  7]\n",
      " [ 8  9 10 11]]\n",
      "\n",
      "Indices of Max element :  [2 2 2 2]\n",
      "\n",
      "Indices of Max element :  [3 3 3]\n"
     ]
    }
   ],
   "source": [
    "array = np.arange(12).reshape(3, 4)\n",
    "print(\"INPUT ARRAY : \\n\", array)\n",
    "print(\"\\nIndices of Max element : \", np.argmax(array, axis=0))\n",
    "print(\"\\nIndices of Max element : \", np.argmax(array, axis=1))"
   ]
  },
  {
   "cell_type": "code",
   "execution_count": 20,
   "id": "399ce4b3",
   "metadata": {},
   "outputs": [
    {
     "name": "stdout",
     "output_type": "stream",
     "text": [
      "INPUT ARRAY : \n",
      " [[ 0  1  2  3]\n",
      " [ 4  5  6  7]\n",
      " [ 8  9 10 11]]\n",
      "\n",
      "Indices of Min element :  [0 0 0 0]\n",
      "\n",
      "Indices of Min element :  [0 0 0]\n"
     ]
    }
   ],
   "source": [
    "array = np.arange(12).reshape(3, 4)\n",
    "print(\"INPUT ARRAY : \\n\", array)\n",
    "# as per the indices\n",
    "print(\"\\nIndices of Min element : \", np.argmin(array, axis=0))\n",
    "print(\"\\nIndices of Min element : \", np.argmin(array, axis=1))"
   ]
  },
  {
   "cell_type": "markdown",
   "id": "c5b7605c",
   "metadata": {},
   "source": [
    "# More functions"
   ]
  },
  {
   "cell_type": "code",
   "execution_count": 21,
   "id": "7e1da2ae",
   "metadata": {},
   "outputs": [],
   "source": [
    "mat1 = np.array(np.random.randint(1,10,9)).reshape(3,3)#Creating random Numpy array of size 3x3"
   ]
  },
  {
   "cell_type": "code",
   "execution_count": 22,
   "id": "385bdd6b",
   "metadata": {},
   "outputs": [
    {
     "data": {
      "text/plain": [
       "array([[5, 2, 6],\n",
       "       [8, 1, 2],\n",
       "       [7, 5, 2]])"
      ]
     },
     "execution_count": 22,
     "metadata": {},
     "output_type": "execute_result"
    }
   ],
   "source": [
    "mat1"
   ]
  },
  {
   "cell_type": "code",
   "execution_count": 23,
   "id": "fb6c8b55",
   "metadata": {},
   "outputs": [
    {
     "data": {
      "text/plain": [
       "1"
      ]
     },
     "execution_count": 23,
     "metadata": {},
     "output_type": "execute_result"
    }
   ],
   "source": [
    "np.min(mat1)    #minimum"
   ]
  },
  {
   "cell_type": "code",
   "execution_count": 24,
   "id": "c1998ab2",
   "metadata": {},
   "outputs": [
    {
     "data": {
      "text/plain": [
       "8"
      ]
     },
     "execution_count": 24,
     "metadata": {},
     "output_type": "execute_result"
    }
   ],
   "source": [
    "np.max(mat1)    #maximum"
   ]
  },
  {
   "cell_type": "code",
   "execution_count": 25,
   "id": "94e7bde4",
   "metadata": {},
   "outputs": [
    {
     "data": {
      "text/plain": [
       "array([[2.23606798, 1.41421356, 2.44948974],\n",
       "       [2.82842712, 1.        , 1.41421356],\n",
       "       [2.64575131, 2.23606798, 1.41421356]])"
      ]
     },
     "execution_count": 25,
     "metadata": {},
     "output_type": "execute_result"
    }
   ],
   "source": [
    "np.sqrt(mat1)   #Sq-root of 1st matrix"
   ]
  },
  {
   "cell_type": "code",
   "execution_count": 26,
   "id": "a751a7c8",
   "metadata": {},
   "outputs": [
    {
     "data": {
      "text/plain": [
       "array([[0.69897   , 0.30103   , 0.77815125],\n",
       "       [0.90308999, 0.        , 0.30103   ],\n",
       "       [0.84509804, 0.69897   , 0.30103   ]])"
      ]
     },
     "execution_count": 26,
     "metadata": {},
     "output_type": "execute_result"
    }
   ],
   "source": [
    "np.log10(mat1)  #log 10"
   ]
  },
  {
   "cell_type": "code",
   "execution_count": 27,
   "id": "2da0b42f",
   "metadata": {},
   "outputs": [
    {
     "data": {
      "text/plain": [
       "4.222222222222222"
      ]
     },
     "execution_count": 27,
     "metadata": {},
     "output_type": "execute_result"
    }
   ],
   "source": [
    "np.mean(mat1)   #mean"
   ]
  },
  {
   "cell_type": "code",
   "execution_count": 28,
   "id": "cf67c8e0",
   "metadata": {},
   "outputs": [
    {
     "data": {
      "text/plain": [
       "5.0"
      ]
     },
     "execution_count": 28,
     "metadata": {},
     "output_type": "execute_result"
    }
   ],
   "source": [
    "np.median(mat1) #median"
   ]
  },
  {
   "cell_type": "code",
   "execution_count": 29,
   "id": "26288ac9",
   "metadata": {},
   "outputs": [
    {
     "data": {
      "text/plain": [
       "5.728395061728396"
      ]
     },
     "execution_count": 29,
     "metadata": {},
     "output_type": "execute_result"
    }
   ],
   "source": [
    "np.var(mat1)    #variance"
   ]
  },
  {
   "cell_type": "code",
   "execution_count": 30,
   "id": "8991dcb4",
   "metadata": {},
   "outputs": [
    {
     "data": {
      "text/plain": [
       "2.3934065809486684"
      ]
     },
     "execution_count": 30,
     "metadata": {},
     "output_type": "execute_result"
    }
   ],
   "source": [
    "np.std(mat1)    #standard deviation"
   ]
  },
  {
   "cell_type": "markdown",
   "id": "dfe086c2",
   "metadata": {},
   "source": [
    "# Sorting in NumPy arrays"
   ]
  },
  {
   "cell_type": "code",
   "execution_count": 31,
   "id": "a7a94beb",
   "metadata": {},
   "outputs": [
    {
     "data": {
      "text/plain": [
       "array([1, 2, 3, 4, 5, 6, 7, 8, 9])"
      ]
     },
     "execution_count": 31,
     "metadata": {},
     "output_type": "execute_result"
    }
   ],
   "source": [
    "a = np.array([1,4,2,5,3,6,8,7,9])\n",
    "np.sort(a)"
   ]
  },
  {
   "cell_type": "code",
   "execution_count": 32,
   "id": "71252df3",
   "metadata": {},
   "outputs": [
    {
     "data": {
      "text/plain": [
       "array([[1, 2, 4, 5],\n",
       "       [6, 7, 8, 9]])"
      ]
     },
     "execution_count": 32,
     "metadata": {},
     "output_type": "execute_result"
    }
   ],
   "source": [
    "a = np.array([[1,4,2,5],[6,8,7,9]])\n",
    "np.sort(a)"
   ]
  },
  {
   "cell_type": "markdown",
   "id": "4671b68b",
   "metadata": {},
   "source": [
    "# You don’t need to memorize the name of a module or function. You can always search on the web about a specific module or you can refer to class notebooks. Although, once you start coding on a particular programming language after spending particular time, you will start remembering the names which you often use."
   ]
  },
  {
   "cell_type": "code",
   "execution_count": null,
   "id": "3ce3f0c4-82f7-4845-a4d8-4a7ccc19535a",
   "metadata": {},
   "outputs": [],
   "source": []
  },
  {
   "cell_type": "code",
   "execution_count": null,
   "id": "0e1887aa-d2b7-4934-a887-f460ce38d54d",
   "metadata": {},
   "outputs": [],
   "source": []
  }
 ],
 "metadata": {
  "kernelspec": {
   "display_name": "Python 3 (ipykernel)",
   "language": "python",
   "name": "python3"
  },
  "language_info": {
   "codemirror_mode": {
    "name": "ipython",
    "version": 3
   },
   "file_extension": ".py",
   "mimetype": "text/x-python",
   "name": "python",
   "nbconvert_exporter": "python",
   "pygments_lexer": "ipython3",
   "version": "3.12.7"
  }
 },
 "nbformat": 4,
 "nbformat_minor": 5
}

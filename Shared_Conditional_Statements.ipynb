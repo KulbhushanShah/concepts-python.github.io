{
 "cells": [
  {
   "cell_type": "code",
   "execution_count": 1,
   "id": "935e0084-2e4a-477e-90af-7bb495849ce4",
   "metadata": {},
   "outputs": [],
   "source": [
    "tuple1 = (1,)"
   ]
  },
  {
   "cell_type": "code",
   "execution_count": 3,
   "id": "e0fc40f1-80a5-42e5-8b85-d19527628f6f",
   "metadata": {},
   "outputs": [
    {
     "data": {
      "text/plain": [
       "tuple"
      ]
     },
     "execution_count": 3,
     "metadata": {},
     "output_type": "execute_result"
    }
   ],
   "source": [
    "type(tuple1)"
   ]
  },
  {
   "cell_type": "code",
   "execution_count": 5,
   "id": "48e54c11-65b7-4985-940c-95ba0d40add9",
   "metadata": {},
   "outputs": [
    {
     "data": {
      "text/plain": [
       "(1,)"
      ]
     },
     "execution_count": 5,
     "metadata": {},
     "output_type": "execute_result"
    }
   ],
   "source": [
    "tuple1"
   ]
  },
  {
   "cell_type": "code",
   "execution_count": 10,
   "id": "ec609327-abc1-4398-8a5a-d4391649a31d",
   "metadata": {},
   "outputs": [
    {
     "data": {
      "text/plain": [
       "1"
      ]
     },
     "execution_count": 10,
     "metadata": {},
     "output_type": "execute_result"
    }
   ],
   "source": [
    "tuple1[0]"
   ]
  },
  {
   "cell_type": "code",
   "execution_count": 11,
   "id": "305b9f84-dfa7-411c-91a8-dd5eef8ca5be",
   "metadata": {},
   "outputs": [
    {
     "ename": "IndexError",
     "evalue": "tuple index out of range",
     "output_type": "error",
     "traceback": [
      "\u001b[1;31m---------------------------------------------------------------------------\u001b[0m",
      "\u001b[1;31mIndexError\u001b[0m                                Traceback (most recent call last)",
      "Cell \u001b[1;32mIn[11], line 1\u001b[0m\n\u001b[1;32m----> 1\u001b[0m tuple1[\u001b[38;5;241m1\u001b[39m]\n",
      "\u001b[1;31mIndexError\u001b[0m: tuple index out of range"
     ]
    }
   ],
   "source": [
    "tuple1[1]"
   ]
  },
  {
   "cell_type": "code",
   "execution_count": 12,
   "id": "73505974-785b-4423-9599-0383a179597a",
   "metadata": {},
   "outputs": [],
   "source": [
    "list1 = [1,]"
   ]
  },
  {
   "cell_type": "code",
   "execution_count": 14,
   "id": "dbf9570c-46df-4170-bf5d-b3e458eca62d",
   "metadata": {},
   "outputs": [
    {
     "data": {
      "text/plain": [
       "[1]"
      ]
     },
     "execution_count": 14,
     "metadata": {},
     "output_type": "execute_result"
    }
   ],
   "source": [
    "list1"
   ]
  },
  {
   "cell_type": "code",
   "execution_count": 15,
   "id": "be98d298-c34a-4f0c-8ed6-9ace152c0e5e",
   "metadata": {},
   "outputs": [
    {
     "data": {
      "text/plain": [
       "1"
      ]
     },
     "execution_count": 15,
     "metadata": {},
     "output_type": "execute_result"
    }
   ],
   "source": [
    "list1[0]"
   ]
  },
  {
   "cell_type": "code",
   "execution_count": 16,
   "id": "18e93d72-99a4-4057-a6d0-6253d88aa9cd",
   "metadata": {},
   "outputs": [
    {
     "ename": "IndexError",
     "evalue": "list index out of range",
     "output_type": "error",
     "traceback": [
      "\u001b[1;31m---------------------------------------------------------------------------\u001b[0m",
      "\u001b[1;31mIndexError\u001b[0m                                Traceback (most recent call last)",
      "Cell \u001b[1;32mIn[16], line 1\u001b[0m\n\u001b[1;32m----> 1\u001b[0m list1[\u001b[38;5;241m1\u001b[39m]\n",
      "\u001b[1;31mIndexError\u001b[0m: list index out of range"
     ]
    }
   ],
   "source": [
    "list1[1]"
   ]
  },
  {
   "cell_type": "code",
   "execution_count": 4,
   "id": "6c5cb3cc-37bf-468d-bd76-20b13a2fcce6",
   "metadata": {},
   "outputs": [
    {
     "data": {
      "text/plain": [
       "list"
      ]
     },
     "execution_count": 4,
     "metadata": {},
     "output_type": "execute_result"
    }
   ],
   "source": [
    "type(list1)"
   ]
  },
  {
   "cell_type": "markdown",
   "id": "f8003293-dabd-4e94-87ed-bd7ffb9addd2",
   "metadata": {},
   "source": [
    "# Type Casting"
   ]
  },
  {
   "cell_type": "code",
   "execution_count": 17,
   "id": "b5a32d39-4edf-43e4-9851-44b64812383a",
   "metadata": {},
   "outputs": [
    {
     "name": "stdout",
     "output_type": "stream",
     "text": [
      "5.0\n"
     ]
    }
   ],
   "source": [
    "a = 5\n",
    "a = float(a)\n",
    "print(a)"
   ]
  },
  {
   "cell_type": "code",
   "execution_count": 18,
   "id": "841a9f4b-e6aa-4b6b-8dbd-6ae16f8de215",
   "metadata": {},
   "outputs": [],
   "source": [
    "ab = 1"
   ]
  },
  {
   "cell_type": "code",
   "execution_count": 19,
   "id": "6f8e6320-e120-47dc-96e3-aca3c7654a51",
   "metadata": {},
   "outputs": [
    {
     "data": {
      "text/plain": [
       "1"
      ]
     },
     "execution_count": 19,
     "metadata": {},
     "output_type": "execute_result"
    }
   ],
   "source": [
    "ab"
   ]
  },
  {
   "cell_type": "code",
   "execution_count": 20,
   "id": "8571732c-29b6-4c00-af79-25044c5270b5",
   "metadata": {},
   "outputs": [
    {
     "data": {
      "text/plain": [
       "int"
      ]
     },
     "execution_count": 20,
     "metadata": {},
     "output_type": "execute_result"
    }
   ],
   "source": [
    "type(ab)"
   ]
  },
  {
   "cell_type": "code",
   "execution_count": 21,
   "id": "04b86b4e-6c55-42ae-b3a5-e873a52ce1b6",
   "metadata": {},
   "outputs": [],
   "source": [
    "ab = float(ab)"
   ]
  },
  {
   "cell_type": "code",
   "execution_count": 22,
   "id": "5fed33cd-c816-4dce-bf3b-0f7695145e51",
   "metadata": {},
   "outputs": [
    {
     "data": {
      "text/plain": [
       "1.0"
      ]
     },
     "execution_count": 22,
     "metadata": {},
     "output_type": "execute_result"
    }
   ],
   "source": [
    "ab"
   ]
  },
  {
   "cell_type": "code",
   "execution_count": 23,
   "id": "cc2bcc8e-4493-4428-80bb-977d4415090a",
   "metadata": {},
   "outputs": [
    {
     "data": {
      "text/plain": [
       "float"
      ]
     },
     "execution_count": 23,
     "metadata": {},
     "output_type": "execute_result"
    }
   ],
   "source": [
    "type(ab)"
   ]
  },
  {
   "cell_type": "code",
   "execution_count": 24,
   "id": "d16a520f-46ec-4fea-a612-ff6522d78a47",
   "metadata": {},
   "outputs": [
    {
     "ename": "ValueError",
     "evalue": "invalid literal for int() with base 10: 'GamakaAi'",
     "output_type": "error",
     "traceback": [
      "\u001b[1;31m---------------------------------------------------------------------------\u001b[0m",
      "\u001b[1;31mValueError\u001b[0m                                Traceback (most recent call last)",
      "Cell \u001b[1;32mIn[24], line 3\u001b[0m\n\u001b[0;32m      1\u001b[0m str1 \u001b[38;5;241m=\u001b[39m \u001b[38;5;124m\"\u001b[39m\u001b[38;5;124mGamakaAi\u001b[39m\u001b[38;5;124m\"\u001b[39m\n\u001b[1;32m----> 3\u001b[0m int1 \u001b[38;5;241m=\u001b[39m \u001b[38;5;28mint\u001b[39m(str1)\n\u001b[0;32m      5\u001b[0m \u001b[38;5;28mprint\u001b[39m(int1)\n",
      "\u001b[1;31mValueError\u001b[0m: invalid literal for int() with base 10: 'GamakaAi'"
     ]
    }
   ],
   "source": [
    "str1 = \"GamakaAi\"\n",
    "\n",
    "int1 = int(str1)\n",
    "\n",
    "print(int1)"
   ]
  },
  {
   "cell_type": "code",
   "execution_count": 25,
   "id": "73872bee-2420-4355-b4ba-e5445c15196b",
   "metadata": {},
   "outputs": [
    {
     "name": "stdout",
     "output_type": "stream",
     "text": [
      "123\n"
     ]
    }
   ],
   "source": [
    "str2 = \"123\"\n",
    "\n",
    "int2 = int(str2)\n",
    "\n",
    "print(int2)"
   ]
  },
  {
   "cell_type": "code",
   "execution_count": 28,
   "id": "a5b7c636-d35e-4bc1-8139-cd8444740b43",
   "metadata": {},
   "outputs": [
    {
     "data": {
      "text/plain": [
       "int"
      ]
     },
     "execution_count": 28,
     "metadata": {},
     "output_type": "execute_result"
    }
   ],
   "source": [
    "type(int2)"
   ]
  },
  {
   "cell_type": "markdown",
   "id": "12da0ff1-fc48-49a2-b3bf-fda1961d2f0a",
   "metadata": {},
   "source": [
    "# input() function:"
   ]
  },
  {
   "cell_type": "code",
   "execution_count": 33,
   "id": "954c5b3e-dba5-4f46-9054-dd0769022732",
   "metadata": {},
   "outputs": [
    {
     "name": "stdin",
     "output_type": "stream",
     "text": [
      "Enter the number hello\n"
     ]
    },
    {
     "name": "stdout",
     "output_type": "stream",
     "text": [
      "hello\n"
     ]
    }
   ],
   "source": [
    "a = input('Enter the number') #stores input value as a string\n",
    "\n",
    "print(a) #stored as a string"
   ]
  },
  {
   "cell_type": "code",
   "execution_count": 34,
   "id": "3288e25c-9240-47d8-a4fc-e7c50e05ab85",
   "metadata": {},
   "outputs": [
    {
     "data": {
      "text/plain": [
       "str"
      ]
     },
     "execution_count": 34,
     "metadata": {},
     "output_type": "execute_result"
    }
   ],
   "source": [
    "type(a)"
   ]
  },
  {
   "cell_type": "code",
   "execution_count": 35,
   "id": "33d9fa3d-c2ee-4afd-8270-afc8b72f92d8",
   "metadata": {},
   "outputs": [
    {
     "data": {
      "text/plain": [
       "'hello'"
      ]
     },
     "execution_count": 35,
     "metadata": {},
     "output_type": "execute_result"
    }
   ],
   "source": [
    "a"
   ]
  },
  {
   "cell_type": "code",
   "execution_count": 39,
   "id": "3f4dd9ac-dd12-4b98-8bb5-252f576f201f",
   "metadata": {},
   "outputs": [
    {
     "name": "stdin",
     "output_type": "stream",
     "text": [
      " hello\n"
     ]
    },
    {
     "name": "stdout",
     "output_type": "stream",
     "text": [
      "hello\n"
     ]
    }
   ],
   "source": [
    "abc = input() #stores input value as a string\n",
    "\n",
    "print(abc)"
   ]
  },
  {
   "cell_type": "code",
   "execution_count": 40,
   "id": "0386b40a-cae2-4e56-9cb9-002a74437b9c",
   "metadata": {},
   "outputs": [
    {
     "data": {
      "text/plain": [
       "'hello'"
      ]
     },
     "execution_count": 40,
     "metadata": {},
     "output_type": "execute_result"
    }
   ],
   "source": [
    "abc"
   ]
  },
  {
   "cell_type": "code",
   "execution_count": 41,
   "id": "02ba938e-a7b2-49a4-9917-5fdd81b734bc",
   "metadata": {},
   "outputs": [
    {
     "data": {
      "text/plain": [
       "str"
      ]
     },
     "execution_count": 41,
     "metadata": {},
     "output_type": "execute_result"
    }
   ],
   "source": [
    "type(abc)"
   ]
  },
  {
   "cell_type": "code",
   "execution_count": 42,
   "id": "77759a1c-bb86-40db-a2e4-4dee31694a5a",
   "metadata": {},
   "outputs": [
    {
     "name": "stdin",
     "output_type": "stream",
     "text": [
      "Enter the number 333\n"
     ]
    },
    {
     "name": "stdout",
     "output_type": "stream",
     "text": [
      "333\n"
     ]
    }
   ],
   "source": [
    "b = input('Enter the number')\n",
    "\n",
    "print(b)"
   ]
  },
  {
   "cell_type": "code",
   "execution_count": 51,
   "id": "0c557f10-2e3d-46f2-a3d3-0f3d48f3c8cf",
   "metadata": {},
   "outputs": [
    {
     "name": "stdin",
     "output_type": "stream",
     "text": [
      "Enter the numbers only 989\n"
     ]
    },
    {
     "name": "stdout",
     "output_type": "stream",
     "text": [
      "989.0\n"
     ]
    }
   ],
   "source": [
    "abcd = float(input('Enter the numbers only'))  #converted into float\n",
    "\n",
    "print(abcd)"
   ]
  },
  {
   "cell_type": "code",
   "execution_count": 52,
   "id": "15045fb0-8d9b-4883-8f09-3ce3beb4bdb6",
   "metadata": {},
   "outputs": [
    {
     "data": {
      "text/plain": [
       "float"
      ]
     },
     "execution_count": 52,
     "metadata": {},
     "output_type": "execute_result"
    }
   ],
   "source": [
    "type(abcd) #stores data type"
   ]
  },
  {
   "cell_type": "code",
   "execution_count": 60,
   "id": "5bac6815-5e75-4f89-ad34-763690155457",
   "metadata": {},
   "outputs": [],
   "source": [
    "convint = type(int(abcd)) #converted into int (integer) "
   ]
  },
  {
   "cell_type": "code",
   "execution_count": 61,
   "id": "4db4f4ab-c718-4519-98b7-87cbdc18f18d",
   "metadata": {},
   "outputs": [
    {
     "data": {
      "text/plain": [
       "int"
      ]
     },
     "execution_count": 61,
     "metadata": {},
     "output_type": "execute_result"
    }
   ],
   "source": [
    "convint"
   ]
  },
  {
   "cell_type": "code",
   "execution_count": 64,
   "id": "3760cf04-60d1-4c76-bac6-308392e8eb83",
   "metadata": {},
   "outputs": [
    {
     "data": {
      "text/plain": [
       "989.0"
      ]
     },
     "execution_count": 64,
     "metadata": {},
     "output_type": "execute_result"
    }
   ],
   "source": [
    "abcd"
   ]
  },
  {
   "cell_type": "code",
   "execution_count": 65,
   "id": "9e0554a2-ff71-4895-86a5-9026bdeffe39",
   "metadata": {},
   "outputs": [
    {
     "data": {
      "text/plain": [
       "989"
      ]
     },
     "execution_count": 65,
     "metadata": {},
     "output_type": "execute_result"
    }
   ],
   "source": [
    "int(abcd)"
   ]
  },
  {
   "cell_type": "code",
   "execution_count": 55,
   "id": "1a21a928-7d89-4a50-9317-147eae392a8e",
   "metadata": {},
   "outputs": [
    {
     "name": "stdin",
     "output_type": "stream",
     "text": [
      "Enter the numbers only 2434\n"
     ]
    },
    {
     "name": "stdout",
     "output_type": "stream",
     "text": [
      "2434\n"
     ]
    }
   ],
   "source": [
    "abcde= int(input('Enter the numbers only'))  #converted into integer\n",
    "\n",
    "print(abcde)"
   ]
  },
  {
   "cell_type": "code",
   "execution_count": 56,
   "id": "88cf9671-f183-4673-a277-6982736d8fb3",
   "metadata": {},
   "outputs": [
    {
     "data": {
      "text/plain": [
       "int"
      ]
     },
     "execution_count": 56,
     "metadata": {},
     "output_type": "execute_result"
    }
   ],
   "source": [
    "type(abcde)"
   ]
  },
  {
   "cell_type": "code",
   "execution_count": 57,
   "id": "8ee6b564-b44f-43d8-897b-eda0e980466e",
   "metadata": {},
   "outputs": [
    {
     "data": {
      "text/plain": [
       "2434"
      ]
     },
     "execution_count": 57,
     "metadata": {},
     "output_type": "execute_result"
    }
   ],
   "source": [
    "abcde"
   ]
  },
  {
   "cell_type": "code",
   "execution_count": 83,
   "id": "e570b72a-4670-43d8-9033-e45a0cbff479",
   "metadata": {},
   "outputs": [
    {
     "name": "stdin",
     "output_type": "stream",
     "text": [
      "Enter the age: 43\n"
     ]
    },
    {
     "name": "stdout",
     "output_type": "stream",
     "text": [
      "User is eligible\n",
      "we are here\n"
     ]
    }
   ],
   "source": [
    "# Conditional Statements:\n",
    "# if statement:\n",
    "\n",
    "age = int(input('Enter the age:'))\n",
    "\n",
    "if age >= 18:\n",
    "    print('User is eligible')\n",
    "else:\n",
    "    print('not eligible')\n",
    "    #break\n",
    "    print('do not print this line')\n",
    "print('we are here')"
   ]
  },
  {
   "cell_type": "code",
   "execution_count": 84,
   "id": "938256f4-2890-446f-ba61-ab489d6629f7",
   "metadata": {},
   "outputs": [
    {
     "name": "stdin",
     "output_type": "stream",
     "text": [
      "Enter the age: 53\n"
     ]
    },
    {
     "name": "stdout",
     "output_type": "stream",
     "text": [
      "User is eligible\n"
     ]
    }
   ],
   "source": [
    "# if-else statement:\n",
    "age = int(input('Enter the age:'))\n",
    "\n",
    "if age >= 18:\n",
    "    print('User is eligible')\n",
    "else:\n",
    "    print('User is not eligible')"
   ]
  },
  {
   "cell_type": "code",
   "execution_count": 85,
   "id": "70f97f42-911b-46df-a03b-91ef58383297",
   "metadata": {},
   "outputs": [
    {
     "name": "stdin",
     "output_type": "stream",
     "text": [
      "Enter the age: 665\n"
     ]
    },
    {
     "name": "stdout",
     "output_type": "stream",
     "text": [
      "User is not eligible\n"
     ]
    }
   ],
   "source": [
    "# if-elif-else statement:\n",
    "age = int(input('Enter the age:'))\n",
    "\n",
    "if age >= 18 and  age < 150:\n",
    "    print('User is eligible')\n",
    "elif age < 0:\n",
    "    print('Enter the correct age')\n",
    "#elif age < 150:\n",
    "    #print('Enter the age below 150')\n",
    "else:\n",
    "    print('User is not eligible')"
   ]
  },
  {
   "cell_type": "code",
   "execution_count": 86,
   "id": "d1cfaa3e-1af7-4d7f-92c6-ab791791556b",
   "metadata": {},
   "outputs": [
    {
     "name": "stdin",
     "output_type": "stream",
     "text": [
      "Enter the number 244\n"
     ]
    },
    {
     "name": "stdout",
     "output_type": "stream",
     "text": [
      "number is positive\n"
     ]
    }
   ],
   "source": [
    "# Write a program to check whether number is positive or negative.\n",
    "\n",
    "num = int(input('Enter the number'))\n",
    "\n",
    "if num >= 0:\n",
    "    print('number is positive')\n",
    "else:\n",
    "    print('number is negative')"
   ]
  },
  {
   "cell_type": "code",
   "execution_count": 87,
   "id": "30f30e3e-6c14-4d3b-bda5-ee898238c614",
   "metadata": {},
   "outputs": [
    {
     "name": "stdin",
     "output_type": "stream",
     "text": [
      "Enter the number -454\n"
     ]
    },
    {
     "name": "stdout",
     "output_type": "stream",
     "text": [
      "-454 is negative\n"
     ]
    }
   ],
   "source": [
    "num = int(input('Enter the number'))\n",
    "\n",
    "if num >= 0:\n",
    "    print(num,'is positive')\n",
    "else:\n",
    "    print(num,'is negative')"
   ]
  },
  {
   "cell_type": "code",
   "execution_count": 88,
   "id": "24934359-5856-4084-9d76-1626cf01f705",
   "metadata": {},
   "outputs": [
    {
     "name": "stdin",
     "output_type": "stream",
     "text": [
      "Enter the number 0\n"
     ]
    },
    {
     "name": "stdout",
     "output_type": "stream",
     "text": [
      "0 is even\n"
     ]
    }
   ],
   "source": [
    "# Write a program to check whether the number is even or odd.\n",
    "\n",
    "num = int(input('Enter the number'))\n",
    "\n",
    "if num%2 == 0:\n",
    "    print(num,'is even')\n",
    "else:\n",
    "    print(num,'is odd')"
   ]
  }
 ],
 "metadata": {
  "kernelspec": {
   "display_name": "Python 3 (ipykernel)",
   "language": "python",
   "name": "python3"
  },
  "language_info": {
   "codemirror_mode": {
    "name": "ipython",
    "version": 3
   },
   "file_extension": ".py",
   "mimetype": "text/x-python",
   "name": "python",
   "nbconvert_exporter": "python",
   "pygments_lexer": "ipython3",
   "version": "3.12.7"
  }
 },
 "nbformat": 4,
 "nbformat_minor": 5
}

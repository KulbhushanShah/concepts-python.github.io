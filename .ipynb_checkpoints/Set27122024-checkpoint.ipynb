{
 "cells": [
  {
   "cell_type": "markdown",
   "id": "0d1906a7-72df-43b6-b183-bbce4f0e9763",
   "metadata": {},
   "source": [
    "# Set"
   ]
  },
  {
   "cell_type": "code",
   "execution_count": 1,
   "id": "bcec5f76-9744-48b0-8564-6940d7335b53",
   "metadata": {},
   "outputs": [],
   "source": [
    "set1 = {1, 2, 2, 3, \"gamaka\"}"
   ]
  },
  {
   "cell_type": "code",
   "execution_count": 2,
   "id": "feb7fbb2-bcfb-4018-b397-c22b7fc08335",
   "metadata": {},
   "outputs": [
    {
     "data": {
      "text/plain": [
       "{1, 2, 3, 'gamaka'}"
      ]
     },
     "execution_count": 2,
     "metadata": {},
     "output_type": "execute_result"
    }
   ],
   "source": [
    "set1"
   ]
  },
  {
   "cell_type": "code",
   "execution_count": 3,
   "id": "9c5ab95e-d025-4b46-a48f-23ffc0222680",
   "metadata": {},
   "outputs": [
    {
     "data": {
      "text/plain": [
       "{1, 2, 3, 'gamaka'}"
      ]
     },
     "execution_count": 3,
     "metadata": {},
     "output_type": "execute_result"
    }
   ],
   "source": [
    "set1"
   ]
  },
  {
   "cell_type": "markdown",
   "id": "94aa92db-4c23-4d19-8b50-a66dfb4340c9",
   "metadata": {},
   "source": [
    "### Add elements"
   ]
  },
  {
   "cell_type": "code",
   "execution_count": 4,
   "id": "cdbbaee3-0ffd-4e27-a7c5-563acb4b5f4a",
   "metadata": {},
   "outputs": [],
   "source": [
    "set1.add(100)"
   ]
  },
  {
   "cell_type": "code",
   "execution_count": 5,
   "id": "bf687492-bc9d-48be-93c7-5583424f575a",
   "metadata": {},
   "outputs": [
    {
     "data": {
      "text/plain": [
       "{1, 100, 2, 3, 'gamaka'}"
      ]
     },
     "execution_count": 5,
     "metadata": {},
     "output_type": "execute_result"
    }
   ],
   "source": [
    "set1"
   ]
  },
  {
   "cell_type": "markdown",
   "id": "a677b82a-6418-4a3a-89c4-0ccff2d13783",
   "metadata": {},
   "source": [
    "### Update elements"
   ]
  },
  {
   "cell_type": "code",
   "execution_count": 6,
   "id": "a872fc5f-1f08-40d7-8917-8c288348ad73",
   "metadata": {},
   "outputs": [],
   "source": [
    "set1.update([200, 453])"
   ]
  },
  {
   "cell_type": "code",
   "execution_count": 7,
   "id": "8de0e803-4f34-4c4d-81c8-2c996f192d66",
   "metadata": {},
   "outputs": [
    {
     "data": {
      "text/plain": [
       "{1, 100, 2, 200, 3, 453, 'gamaka'}"
      ]
     },
     "execution_count": 7,
     "metadata": {},
     "output_type": "execute_result"
    }
   ],
   "source": [
    "set1"
   ]
  },
  {
   "cell_type": "code",
   "execution_count": 8,
   "id": "fdee07d3-dd10-4683-80da-78c1eb018aab",
   "metadata": {},
   "outputs": [
    {
     "ename": "TypeError",
     "evalue": "'int' object is not iterable",
     "output_type": "error",
     "traceback": [
      "\u001b[1;31m---------------------------------------------------------------------------\u001b[0m",
      "\u001b[1;31mTypeError\u001b[0m                                 Traceback (most recent call last)",
      "Cell \u001b[1;32mIn[8], line 1\u001b[0m\n\u001b[1;32m----> 1\u001b[0m set1\u001b[38;5;241m.\u001b[39mupdate(\u001b[38;5;241m3453\u001b[39m)\n",
      "\u001b[1;31mTypeError\u001b[0m: 'int' object is not iterable"
     ]
    }
   ],
   "source": [
    "set1.update(3453)"
   ]
  },
  {
   "cell_type": "code",
   "execution_count": 9,
   "id": "052c4feb-c280-404a-b4cb-46d98041ce22",
   "metadata": {},
   "outputs": [
    {
     "data": {
      "text/plain": [
       "{1, 100, 2, 200, 3, 453, 'gamaka'}"
      ]
     },
     "execution_count": 9,
     "metadata": {},
     "output_type": "execute_result"
    }
   ],
   "source": [
    "set1"
   ]
  },
  {
   "cell_type": "code",
   "execution_count": null,
   "id": "126fb4c0-c082-470e-b91c-b265b0135999",
   "metadata": {},
   "outputs": [],
   "source": []
  }
 ],
 "metadata": {
  "kernelspec": {
   "display_name": "Python 3 (ipykernel)",
   "language": "python",
   "name": "python3"
  },
  "language_info": {
   "codemirror_mode": {
    "name": "ipython",
    "version": 3
   },
   "file_extension": ".py",
   "mimetype": "text/x-python",
   "name": "python",
   "nbconvert_exporter": "python",
   "pygments_lexer": "ipython3",
   "version": "3.12.7"
  }
 },
 "nbformat": 4,
 "nbformat_minor": 5
}

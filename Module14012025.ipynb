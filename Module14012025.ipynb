{
 "cells": [
  {
   "cell_type": "markdown",
   "id": "c33dc8ad-ce87-47d6-ae53-ab3ea695af06",
   "metadata": {},
   "source": [
    " # Modules"
   ]
  },
  {
   "cell_type": "markdown",
   "id": "4bacb340-e8e9-4ab2-af20-58c53dd9c771",
   "metadata": {},
   "source": [
    "## Built-in module"
   ]
  },
  {
   "cell_type": "code",
   "execution_count": 1,
   "id": "24bc18a0-bd0e-479d-9d15-35ce343a7af6",
   "metadata": {},
   "outputs": [],
   "source": [
    "import math"
   ]
  },
  {
   "cell_type": "code",
   "execution_count": 22,
   "id": "c1cfb7af-f693-4730-b987-faebb3f66742",
   "metadata": {},
   "outputs": [
    {
     "data": {
      "text/plain": [
       "3.141592653589793"
      ]
     },
     "execution_count": 22,
     "metadata": {},
     "output_type": "execute_result"
    }
   ],
   "source": [
    "math.pi #calling a variable using a dot (.) "
   ]
  },
  {
   "cell_type": "code",
   "execution_count": 7,
   "id": "6718f9fe-af15-4c35-ae2f-496b4235d387",
   "metadata": {},
   "outputs": [],
   "source": [
    "import math as mt #alias"
   ]
  },
  {
   "cell_type": "code",
   "execution_count": 8,
   "id": "9ec8d8ca-07a1-4598-82e8-e3d8aed1c670",
   "metadata": {},
   "outputs": [
    {
     "data": {
      "text/plain": [
       "8.0"
      ]
     },
     "execution_count": 8,
     "metadata": {},
     "output_type": "execute_result"
    }
   ],
   "source": [
    "mt.pow(2,3) #calling a function using a dot (.) "
   ]
  },
  {
   "cell_type": "code",
   "execution_count": 9,
   "id": "13f54ce7-0f3d-47e8-a4ef-b2087c9abc2d",
   "metadata": {},
   "outputs": [
    {
     "data": {
      "text/plain": [
       "24"
      ]
     },
     "execution_count": 9,
     "metadata": {},
     "output_type": "execute_result"
    }
   ],
   "source": [
    "mt.factorial(4) #calling a function using a dot (.) "
   ]
  },
  {
   "cell_type": "markdown",
   "id": "63e922b5-d44b-4d97-8491-9478bf59dc58",
   "metadata": {},
   "source": [
    "## User-defined module"
   ]
  },
  {
   "cell_type": "code",
   "execution_count": 14,
   "id": "c43dac56-02b4-4bae-8a71-9677cc129509",
   "metadata": {},
   "outputs": [],
   "source": [
    "def add(x, y):\n",
    "    return x + y\n",
    "\n",
    "def sub(a, b):\n",
    "    return a - b"
   ]
  },
  {
   "cell_type": "code",
   "execution_count": 15,
   "id": "532ef202-352d-4a1e-9354-208d87d988d5",
   "metadata": {},
   "outputs": [
    {
     "data": {
      "text/plain": [
       "5"
      ]
     },
     "execution_count": 15,
     "metadata": {},
     "output_type": "execute_result"
    }
   ],
   "source": [
    "add(2, 3)"
   ]
  },
  {
   "cell_type": "code",
   "execution_count": 16,
   "id": "8edd2231-2844-4e9c-99a5-15f88f62dfe8",
   "metadata": {},
   "outputs": [
    {
     "data": {
      "text/plain": [
       "-1"
      ]
     },
     "execution_count": 16,
     "metadata": {},
     "output_type": "execute_result"
    }
   ],
   "source": [
    "sub(2, 3)"
   ]
  },
  {
   "cell_type": "markdown",
   "id": "1f3ebed7-d3bf-48ee-b35e-6887f2f7a95d",
   "metadata": {},
   "source": [
    "### To check the working directory (pwd - present working directory command)"
   ]
  },
  {
   "cell_type": "code",
   "execution_count": 17,
   "id": "673850aa-68e0-4b09-a059-490f1d100996",
   "metadata": {},
   "outputs": [
    {
     "data": {
      "text/plain": [
       "'C:\\\\Users\\\\kulbh\\\\gamaka'"
      ]
     },
     "execution_count": 17,
     "metadata": {},
     "output_type": "execute_result"
    }
   ],
   "source": [
    "pwd #present working directory"
   ]
  },
  {
   "cell_type": "markdown",
   "id": "73b5da55-a759-4305-a666-7ffe688478d7",
   "metadata": {},
   "source": [
    "### Calculation is a User-defined module "
   ]
  },
  {
   "cell_type": "markdown",
   "id": "06f9b464-a009-4a6d-add0-50411285e3d3",
   "metadata": {},
   "source": [
    "#### importing user-defined module (calculation)"
   ]
  },
  {
   "cell_type": "code",
   "execution_count": 25,
   "id": "72766f6c-56e7-48fa-843c-0a8763886d4a",
   "metadata": {},
   "outputs": [],
   "source": [
    "import calculation as cal # import module and give alias name (cal)"
   ]
  },
  {
   "cell_type": "code",
   "execution_count": 26,
   "id": "f4147680-139a-4e6b-a0fe-e67f3e0a746e",
   "metadata": {},
   "outputs": [
    {
     "data": {
      "text/plain": [
       "7"
      ]
     },
     "execution_count": 26,
     "metadata": {},
     "output_type": "execute_result"
    }
   ],
   "source": [
    "cal.add(3, 4)"
   ]
  },
  {
   "cell_type": "code",
   "execution_count": 27,
   "id": "848911f6-621d-407e-a7e4-54fab39293ef",
   "metadata": {},
   "outputs": [
    {
     "data": {
      "text/plain": [
       "2"
      ]
     },
     "execution_count": 27,
     "metadata": {},
     "output_type": "execute_result"
    }
   ],
   "source": [
    "cal.sub(6, 4)"
   ]
  },
  {
   "cell_type": "markdown",
   "id": "2b7377ec-23bd-482c-b401-59f699544d52",
   "metadata": {},
   "source": [
    "## way to import a function from a module"
   ]
  },
  {
   "cell_type": "code",
   "execution_count": 35,
   "id": "ca78fda2-e7a7-4bd1-b09a-b75d3208e95d",
   "metadata": {},
   "outputs": [],
   "source": [
    "from calculation import sub as s"
   ]
  },
  {
   "cell_type": "code",
   "execution_count": 36,
   "id": "42defe80-3ad4-403d-a65b-0f54f7b88346",
   "metadata": {},
   "outputs": [
    {
     "data": {
      "text/plain": [
       "0"
      ]
     },
     "execution_count": 36,
     "metadata": {},
     "output_type": "execute_result"
    }
   ],
   "source": [
    "s(1, 1)"
   ]
  },
  {
   "cell_type": "code",
   "execution_count": 37,
   "id": "468fa6c5-8831-4a14-95dd-c6e6120869ef",
   "metadata": {},
   "outputs": [
    {
     "data": {
      "text/plain": [
       "1"
      ]
     },
     "execution_count": 37,
     "metadata": {},
     "output_type": "execute_result"
    }
   ],
   "source": [
    "s(2, 1)"
   ]
  },
  {
   "cell_type": "markdown",
   "id": "d88d3eab-800e-4398-aad4-16eaf931d83a",
   "metadata": {},
   "source": [
    "### way to import everything from a module"
   ]
  },
  {
   "cell_type": "code",
   "execution_count": 1,
   "id": "8458e099-d505-42e5-bf0e-b7e0823f6c58",
   "metadata": {},
   "outputs": [],
   "source": [
    "from calculation import *"
   ]
  },
  {
   "cell_type": "code",
   "execution_count": 2,
   "id": "57d0d146-66f1-45f6-93ff-80f78eeb68f0",
   "metadata": {},
   "outputs": [
    {
     "data": {
      "text/plain": [
       "3"
      ]
     },
     "execution_count": 2,
     "metadata": {},
     "output_type": "execute_result"
    }
   ],
   "source": [
    "add(1, 2)"
   ]
  },
  {
   "cell_type": "code",
   "execution_count": 3,
   "id": "85ca497b-9342-41a8-945a-b8f04e879fa5",
   "metadata": {},
   "outputs": [
    {
     "data": {
      "text/plain": [
       "[1, 2, 3]"
      ]
     },
     "execution_count": 3,
     "metadata": {},
     "output_type": "execute_result"
    }
   ],
   "source": [
    "list1"
   ]
  },
  {
   "cell_type": "markdown",
   "id": "136a2c67-c73d-4802-afa0-f0c89ee4aa14",
   "metadata": {},
   "source": [
    "### importing user-defined module (arithematic.py)"
   ]
  },
  {
   "cell_type": "code",
   "execution_count": 11,
   "id": "24ad9a49-433f-4c7e-be40-379e26049f23",
   "metadata": {},
   "outputs": [],
   "source": [
    "from arithematic import *"
   ]
  },
  {
   "cell_type": "code",
   "execution_count": 12,
   "id": "6f756807-98cd-4036-b979-6e47d028d2f0",
   "metadata": {},
   "outputs": [
    {
     "data": {
      "text/plain": [
       "12"
      ]
     },
     "execution_count": 12,
     "metadata": {},
     "output_type": "execute_result"
    }
   ],
   "source": [
    "mul(3, 4)"
   ]
  },
  {
   "cell_type": "code",
   "execution_count": 13,
   "id": "52e86341-b0f7-4498-9444-7f485539c177",
   "metadata": {},
   "outputs": [
    {
     "data": {
      "text/plain": [
       "3.0"
      ]
     },
     "execution_count": 13,
     "metadata": {},
     "output_type": "execute_result"
    }
   ],
   "source": [
    "div(12, 4)"
   ]
  },
  {
   "cell_type": "code",
   "execution_count": null,
   "id": "d17e3c12-9d9b-4501-9088-38668cad1093",
   "metadata": {},
   "outputs": [],
   "source": []
  }
 ],
 "metadata": {
  "kernelspec": {
   "display_name": "Python 3 (ipykernel)",
   "language": "python",
   "name": "python3"
  },
  "language_info": {
   "codemirror_mode": {
    "name": "ipython",
    "version": 3
   },
   "file_extension": ".py",
   "mimetype": "text/x-python",
   "name": "python",
   "nbconvert_exporter": "python",
   "pygments_lexer": "ipython3",
   "version": "3.12.7"
  }
 },
 "nbformat": 4,
 "nbformat_minor": 5
}

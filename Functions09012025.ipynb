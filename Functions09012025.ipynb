{
 "cells": [
  {
   "cell_type": "code",
   "execution_count": 23,
   "id": "a24c6baf-df8c-4646-8e01-e433259aef46",
   "metadata": {},
   "outputs": [],
   "source": [
    "def fun1():\n",
    "    print('function 1')\n",
    "    def fun2():\n",
    "        print('function 2')\n",
    "    fun2()"
   ]
  },
  {
   "cell_type": "code",
   "execution_count": 24,
   "id": "43d810e9-3081-4d1c-9844-f96be5506092",
   "metadata": {},
   "outputs": [
    {
     "name": "stdout",
     "output_type": "stream",
     "text": [
      "function 1\n",
      "function 2\n"
     ]
    }
   ],
   "source": [
    "fun1()"
   ]
  },
  {
   "cell_type": "code",
   "execution_count": 25,
   "id": "87ead364-e259-4a7f-b112-9aaad7924f2a",
   "metadata": {},
   "outputs": [
    {
     "ename": "NameError",
     "evalue": "name 'fun2' is not defined",
     "output_type": "error",
     "traceback": [
      "\u001b[1;31m---------------------------------------------------------------------------\u001b[0m",
      "\u001b[1;31mNameError\u001b[0m                                 Traceback (most recent call last)",
      "Cell \u001b[1;32mIn[25], line 1\u001b[0m\n\u001b[1;32m----> 1\u001b[0m fun2()\n",
      "\u001b[1;31mNameError\u001b[0m: name 'fun2' is not defined"
     ]
    }
   ],
   "source": [
    "fun2()"
   ]
  },
  {
   "cell_type": "code",
   "execution_count": 4,
   "id": "f69dbed9-7426-4765-8643-7a7b5cd3ba84",
   "metadata": {},
   "outputs": [],
   "source": [
    "num1 = 100 #global varible\n",
    "def variablelocally():\n",
    "    num2 = 200 #local variable"
   ]
  },
  {
   "cell_type": "code",
   "execution_count": 5,
   "id": "697fc69c-e020-4b95-b533-9e8f1d2e4839",
   "metadata": {},
   "outputs": [
    {
     "data": {
      "text/plain": [
       "100"
      ]
     },
     "execution_count": 5,
     "metadata": {},
     "output_type": "execute_result"
    }
   ],
   "source": [
    "num1"
   ]
  },
  {
   "cell_type": "code",
   "execution_count": 6,
   "id": "8202fa8d-5625-405c-9ee2-adadd85a9e05",
   "metadata": {},
   "outputs": [
    {
     "ename": "NameError",
     "evalue": "name 'num2' is not defined",
     "output_type": "error",
     "traceback": [
      "\u001b[1;31m---------------------------------------------------------------------------\u001b[0m",
      "\u001b[1;31mNameError\u001b[0m                                 Traceback (most recent call last)",
      "Cell \u001b[1;32mIn[6], line 1\u001b[0m\n\u001b[1;32m----> 1\u001b[0m num2\n",
      "\u001b[1;31mNameError\u001b[0m: name 'num2' is not defined"
     ]
    }
   ],
   "source": [
    "num2"
   ]
  },
  {
   "cell_type": "code",
   "execution_count": 28,
   "id": "e8a05bb9-ac16-4abe-ac3f-56664fe56774",
   "metadata": {},
   "outputs": [
    {
     "name": "stdin",
     "output_type": "stream",
     "text": [
      "enter a number 5\n"
     ]
    },
    {
     "name": "stdout",
     "output_type": "stream",
     "text": [
      "120\n"
     ]
    }
   ],
   "source": [
    "#write a program to find a factorial of a given number\n",
    "factnum = int(input('enter a number'))\n",
    "\n",
    "def factnumf(factnum):\n",
    "    numb = 1\n",
    "    for i in range(1, factnum + 1):\n",
    "        numb *= i\n",
    "    print(numb)\n",
    "factnumf(factnum)"
   ]
  },
  {
   "cell_type": "code",
   "execution_count": 36,
   "id": "e867fe14-078a-421f-8b29-3a0c57857bcb",
   "metadata": {},
   "outputs": [
    {
     "name": "stdin",
     "output_type": "stream",
     "text": [
      "enter a number 47\n"
     ]
    },
    {
     "name": "stdout",
     "output_type": "stream",
     "text": [
      "47 is a prime number\n"
     ]
    }
   ],
   "source": [
    "# write a function to check if a number is prime or not\n",
    "def primeFun(num):\n",
    "    flag = False\n",
    "    if num ==0 or num ==1:\n",
    "        print(num,\"is not a prime number\")\n",
    "    elif num>1:\n",
    "        for i in range(2,num):\n",
    "            if(num % i) == 0:\n",
    "                flag = True\n",
    "                break\n",
    "        if flag == True:\n",
    "            print(num,\"is not a prime number\")\n",
    "        else:\n",
    "            print(num,\"is a prime number\")\n",
    "\n",
    "primeFun(int(input('enter a number')))"
   ]
  },
  {
   "cell_type": "code",
   "execution_count": 37,
   "id": "57535b60-defd-4d80-bb70-816a57b32599",
   "metadata": {},
   "outputs": [
    {
     "name": "stdin",
     "output_type": "stream",
     "text": [
      "enter a number 14\n"
     ]
    },
    {
     "name": "stdout",
     "output_type": "stream",
     "text": [
      "14 is not a prime\n"
     ]
    }
   ],
   "source": [
    "# write a function to check if a number is prime or not\n",
    "def primeFunct(number1):\n",
    "    count = 0\n",
    "    for i in range(1, number1 + 1):\n",
    "        if number1 % i == 0:\n",
    "            count += 1\n",
    "    if count == 2:\n",
    "        print(number1, 'is a prime')\n",
    "    else:\n",
    "        print(number1, 'is not a prime')\n",
    "\n",
    "primeFunct(int(input('enter a number')))"
   ]
  },
  {
   "cell_type": "markdown",
   "id": "c0e61848-e325-4c52-8f3b-ad8a0417e601",
   "metadata": {},
   "source": [
    "# List Comprehension"
   ]
  },
  {
   "cell_type": "code",
   "execution_count": 41,
   "id": "d6d1024f-6d41-4087-a029-9e66a0f7cc92",
   "metadata": {},
   "outputs": [
    {
     "name": "stdout",
     "output_type": "stream",
     "text": [
      "[2, 4, 6, 8]\n"
     ]
    }
   ],
   "source": [
    "list1 = [1, 2, 3, 4]\n",
    "newlist = []\n",
    "\n",
    "for i in list1:\n",
    "    newlist.append(i*2)\n",
    "\n",
    "print(newlist)"
   ]
  },
  {
   "cell_type": "code",
   "execution_count": 42,
   "id": "678f9a8a-5b03-4615-b2eb-001ce8ad2737",
   "metadata": {},
   "outputs": [
    {
     "name": "stdout",
     "output_type": "stream",
     "text": [
      "[4, 6, 8, 10]\n"
     ]
    }
   ],
   "source": [
    "list2 = [2, 3, 4, 5]\n",
    "\n",
    "newlist1 = [i*2 for i in list2] #expression\n",
    "print(newlist1)"
   ]
  },
  {
   "cell_type": "code",
   "execution_count": 62,
   "id": "486089ae-713b-485c-9a85-b9bf1239e3c3",
   "metadata": {},
   "outputs": [
    {
     "name": "stdout",
     "output_type": "stream",
     "text": [
      "[0, 1, 2, 3, 4, 5, 6, 7, 8, 9, 10, 11, 12, 13, 14, 15, 16, 17, 18, 19, 20, 21, 22, 23, 24, 25, 26, 27, 28, 29, 30, 31, 32, 33, 34, 35, 36, 37, 38, 39, 40, 41, 42, 43, 44, 45, 46, 47, 48, 49, 50]\n"
     ]
    }
   ],
   "source": [
    "# generate a list from 1 to 50 using list comprehension\n",
    "list150 = [i for i in range(0, 51)]\n",
    "print(list150) #, end=\" \")"
   ]
  },
  {
   "cell_type": "code",
   "execution_count": 66,
   "id": "a8f333f1-52df-4229-9fe9-f2033c7b2c74",
   "metadata": {},
   "outputs": [
    {
     "data": {
      "text/plain": [
       "[44, 54, 67, 88, 99]"
      ]
     },
     "execution_count": 66,
     "metadata": {},
     "output_type": "execute_result"
    }
   ],
   "source": [
    "# if condition \n",
    "\n",
    "list3 = [23, 44, 54, 67, 88, 99]\n",
    "condtlistnew = [i for i in list3 if i>23]\n",
    "condtlistnew"
   ]
  },
  {
   "cell_type": "code",
   "execution_count": null,
   "id": "06bbb26b-74df-4167-a2e0-27b3049074af",
   "metadata": {},
   "outputs": [],
   "source": []
  }
 ],
 "metadata": {
  "kernelspec": {
   "display_name": "Python 3 (ipykernel)",
   "language": "python",
   "name": "python3"
  },
  "language_info": {
   "codemirror_mode": {
    "name": "ipython",
    "version": 3
   },
   "file_extension": ".py",
   "mimetype": "text/x-python",
   "name": "python",
   "nbconvert_exporter": "python",
   "pygments_lexer": "ipython3",
   "version": "3.12.7"
  }
 },
 "nbformat": 4,
 "nbformat_minor": 5
}

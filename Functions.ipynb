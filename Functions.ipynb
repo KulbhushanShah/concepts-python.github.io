{
 "cells": [
  {
   "cell_type": "markdown",
   "id": "91c72891-eb33-476a-b6c1-f2ce5874ff95",
   "metadata": {},
   "source": [
    "# Functions"
   ]
  },
  {
   "cell_type": "code",
   "execution_count": 1,
   "id": "67b73a19-480f-4577-8309-ae0bf3fd4c8f",
   "metadata": {},
   "outputs": [],
   "source": [
    "# Defining the function\n",
    "def hello():\n",
    "    print('Hello')"
   ]
  },
  {
   "cell_type": "code",
   "execution_count": 4,
   "id": "9f50f67b-9f8e-406a-bd82-4dce5d10fae8",
   "metadata": {},
   "outputs": [
    {
     "name": "stdout",
     "output_type": "stream",
     "text": [
      "Hello\n",
      "Hello\n",
      "Hello\n",
      "Hello\n"
     ]
    }
   ],
   "source": [
    "# Callling the Function\n",
    "hello()\n",
    "hello()\n",
    "hello()\n",
    "hello()"
   ]
  },
  {
   "cell_type": "code",
   "execution_count": 5,
   "id": "f5a91828-50ee-46b1-b4cb-3217cd624810",
   "metadata": {},
   "outputs": [],
   "source": [
    "# Getting even or odd number using function\n",
    "def evenodd(num):\n",
    "    if num%2==0:\n",
    "        print(f'{num} is even')\n",
    "    else:\n",
    "        print(f'{num} is odd')"
   ]
  },
  {
   "cell_type": "code",
   "execution_count": 6,
   "id": "858a15ba-ef68-4e0e-909e-d6d116994065",
   "metadata": {},
   "outputs": [
    {
     "name": "stdout",
     "output_type": "stream",
     "text": [
      "4 is even\n"
     ]
    }
   ],
   "source": [
    "evenodd(4)"
   ]
  },
  {
   "cell_type": "code",
   "execution_count": 7,
   "id": "7155b529-e4b5-47bc-8d33-18d9007bdb48",
   "metadata": {},
   "outputs": [],
   "source": [
    "# Write a function to print the square of a number.\n",
    "def squaree(number):\n",
    "    print(f'The square of {number} is {number*number}')"
   ]
  },
  {
   "cell_type": "code",
   "execution_count": 8,
   "id": "008e8a19-b579-4efa-89cb-598441e077a6",
   "metadata": {},
   "outputs": [
    {
     "name": "stdout",
     "output_type": "stream",
     "text": [
      "The square of 4 is 16\n"
     ]
    }
   ],
   "source": [
    "squaree(4)"
   ]
  },
  {
   "cell_type": "code",
   "execution_count": 9,
   "id": "04e07b42-14bf-413b-81e1-78503571a070",
   "metadata": {},
   "outputs": [],
   "source": [
    "def square(num):\n",
    "    square = num**2\n",
    "    print(f'sq {num} is {square}')"
   ]
  },
  {
   "cell_type": "code",
   "execution_count": 10,
   "id": "a7cae515-7ee2-4b08-b5f7-d9ae68fa8524",
   "metadata": {},
   "outputs": [
    {
     "name": "stdout",
     "output_type": "stream",
     "text": [
      "sq 3 is 9\n"
     ]
    }
   ],
   "source": [
    "square(3)"
   ]
  },
  {
   "cell_type": "code",
   "execution_count": 11,
   "id": "daacfca6-53d5-4532-b6b1-a235324977bc",
   "metadata": {},
   "outputs": [],
   "source": [
    "# Return statement: Optional\n",
    "def add(num1,num2):\n",
    "    return num1+num2"
   ]
  },
  {
   "cell_type": "code",
   "execution_count": 13,
   "id": "5eaab046-061a-45c8-8595-0245a3331b98",
   "metadata": {},
   "outputs": [
    {
     "data": {
      "text/plain": [
       "46"
      ]
     },
     "execution_count": 13,
     "metadata": {},
     "output_type": "execute_result"
    }
   ],
   "source": [
    "add(1,4)\n",
    "add(1,45)"
   ]
  },
  {
   "cell_type": "code",
   "execution_count": 14,
   "id": "162f2939-177b-4bd1-b0d2-d39eec9757cd",
   "metadata": {},
   "outputs": [],
   "source": [
    "summ = add(1,45)"
   ]
  },
  {
   "cell_type": "code",
   "execution_count": 15,
   "id": "9d64c4e7-98e7-43b3-b85c-23c0c5e9563e",
   "metadata": {},
   "outputs": [
    {
     "data": {
      "text/plain": [
       "46"
      ]
     },
     "execution_count": 15,
     "metadata": {},
     "output_type": "execute_result"
    }
   ],
   "source": [
    "summ"
   ]
  },
  {
   "cell_type": "markdown",
   "id": "982541d2-b93e-466c-8661-793c6ccda28b",
   "metadata": {},
   "source": [
    "# Argument Types:"
   ]
  },
  {
   "cell_type": "code",
   "execution_count": 16,
   "id": "1282d8e9-8391-40f8-8df3-04ef77f5db41",
   "metadata": {},
   "outputs": [],
   "source": [
    "# 1. Positional Argument:\n",
    "\n",
    "def sub(a,b):\n",
    "    print(a-b)"
   ]
  },
  {
   "cell_type": "code",
   "execution_count": 20,
   "id": "4df41baa-bf15-4e42-a170-69fcbe4395de",
   "metadata": {},
   "outputs": [
    {
     "name": "stdout",
     "output_type": "stream",
     "text": [
      "-100\n",
      "100\n"
     ]
    }
   ],
   "source": [
    "sub(100,200)\n",
    "sub(200,100)"
   ]
  },
  {
   "cell_type": "code",
   "execution_count": 21,
   "id": "8f4e5dd2-f147-45df-8254-751311c6110e",
   "metadata": {},
   "outputs": [],
   "source": [
    "# 2. Keyword Argument\n",
    "\n",
    "def wish(name,message):\n",
    "    print('Hello',name,message)"
   ]
  },
  {
   "cell_type": "code",
   "execution_count": 22,
   "id": "497a3c53-ebbd-4434-8f9f-d654cbf0bbf9",
   "metadata": {},
   "outputs": [
    {
     "name": "stdout",
     "output_type": "stream",
     "text": [
      "Hello Gamaka Good morning\n"
     ]
    }
   ],
   "source": [
    "wish(name='Gamaka',message='Good morning')"
   ]
  },
  {
   "cell_type": "code",
   "execution_count": 23,
   "id": "d2896681-dd30-422d-bb47-ac1766277c5d",
   "metadata": {},
   "outputs": [
    {
     "name": "stdout",
     "output_type": "stream",
     "text": [
      "Hello Gamaka Good morning\n"
     ]
    }
   ],
   "source": [
    "wish(message='Good morning',name='Gamaka')"
   ]
  },
  {
   "cell_type": "code",
   "execution_count": 24,
   "id": "19b72afc-778b-45b8-b607-ce1eaa24295a",
   "metadata": {},
   "outputs": [],
   "source": [
    "def multi(num1,num2):\n",
    "    print(num1*num2)"
   ]
  },
  {
   "cell_type": "code",
   "execution_count": 27,
   "id": "843e093b-ab4c-457f-b312-2e2a300ab8a1",
   "metadata": {},
   "outputs": [
    {
     "name": "stdout",
     "output_type": "stream",
     "text": [
      "20\n"
     ]
    }
   ],
   "source": [
    "multi(num2=2,num1=10)"
   ]
  },
  {
   "cell_type": "code",
   "execution_count": 28,
   "id": "044a54dd-06dd-4e28-bbef-dcdf2254abb6",
   "metadata": {},
   "outputs": [],
   "source": [
    "# Positional and Keyword Argument at same time:\n",
    "def greet(name,message):\n",
    "    print('Hello',name,message)"
   ]
  },
  {
   "cell_type": "code",
   "execution_count": 29,
   "id": "2809dc81-fa9d-485d-8d17-31e04f20232f",
   "metadata": {},
   "outputs": [
    {
     "name": "stdout",
     "output_type": "stream",
     "text": [
      "Hello Gamaka Morning\n"
     ]
    }
   ],
   "source": [
    "greet('Gamaka',message='Morning')"
   ]
  },
  {
   "cell_type": "code",
   "execution_count": 30,
   "id": "c8391d5e-3546-4aa9-8428-257747c7d0e7",
   "metadata": {},
   "outputs": [
    {
     "ename": "SyntaxError",
     "evalue": "positional argument follows keyword argument (1675605807.py, line 1)",
     "output_type": "error",
     "traceback": [
      "\u001b[1;36m  Cell \u001b[1;32mIn[30], line 1\u001b[1;36m\u001b[0m\n\u001b[1;33m    greet(message='Morning','Gamaka')\u001b[0m\n\u001b[1;37m                                    ^\u001b[0m\n\u001b[1;31mSyntaxError\u001b[0m\u001b[1;31m:\u001b[0m positional argument follows keyword argument\n"
     ]
    }
   ],
   "source": [
    "greet(message='Morning','Gamaka')"
   ]
  },
  {
   "cell_type": "code",
   "execution_count": 31,
   "id": "b24919c9-5e9c-4635-9a8f-e62b5192f20e",
   "metadata": {},
   "outputs": [],
   "source": [
    "# 3. Default Argument:\n",
    "\n",
    "def myfunct(num1,num2=40):\n",
    "    print('num1:',num1,'num2:',num2)"
   ]
  },
  {
   "cell_type": "code",
   "execution_count": 33,
   "id": "539b793a-d913-42dd-bb83-eba9bf19e2a3",
   "metadata": {},
   "outputs": [
    {
     "name": "stdout",
     "output_type": "stream",
     "text": [
      "num1: 10 num2: 40\n",
      "num1: 10 num2: 50\n"
     ]
    }
   ],
   "source": [
    "myfunct(10)\n",
    "myfunct(10,50)"
   ]
  },
  {
   "cell_type": "code",
   "execution_count": null,
   "id": "008b76a5-e99e-4b75-bec5-6c897dcce19b",
   "metadata": {},
   "outputs": [],
   "source": []
  }
 ],
 "metadata": {
  "kernelspec": {
   "display_name": "Python 3 (ipykernel)",
   "language": "python",
   "name": "python3"
  },
  "language_info": {
   "codemirror_mode": {
    "name": "ipython",
    "version": 3
   },
   "file_extension": ".py",
   "mimetype": "text/x-python",
   "name": "python",
   "nbconvert_exporter": "python",
   "pygments_lexer": "ipython3",
   "version": "3.12.7"
  }
 },
 "nbformat": 4,
 "nbformat_minor": 5
}

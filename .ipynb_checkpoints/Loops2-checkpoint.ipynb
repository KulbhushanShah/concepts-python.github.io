{
 "cells": [
  {
   "cell_type": "code",
   "execution_count": 3,
   "id": "e3fbc2b2-9107-4d5d-a941-295bc9cd075e",
   "metadata": {},
   "outputs": [
    {
     "name": "stdin",
     "output_type": "stream",
     "text": [
      "Enter the number: 4\n"
     ]
    },
    {
     "name": "stdout",
     "output_type": "stream",
     "text": [
      "Factorial of 4 is 24\n"
     ]
    }
   ],
   "source": [
    "# Write a Program to find the Factorial of a number entered by the user.\n",
    "number = int(input('Enter the number:'))\n",
    "fact = 1\n",
    "for i in range(1,number+1):\n",
    "    fact = fact * i\n",
    "print(f\"Factorial of {number} is {fact}\")"
   ]
  },
  {
   "cell_type": "markdown",
   "id": "d724200d-9f26-4e0b-ae18-0031d253e610",
   "metadata": {},
   "source": [
    "# While LOOP"
   ]
  },
  {
   "cell_type": "code",
   "execution_count": 11,
   "id": "c542bf02-9363-47a6-9b08-5a25316ee123",
   "metadata": {},
   "outputs": [
    {
     "name": "stdout",
     "output_type": "stream",
     "text": [
      "1\n",
      "2\n",
      "3\n",
      "4\n"
     ]
    }
   ],
   "source": [
    "i = 1\n",
    "\n",
    "while i<5:\n",
    "    print(i)\n",
    "    i = i + 1"
   ]
  },
  {
   "cell_type": "raw",
   "id": "5538e479-2168-4d6a-81ef-5f656650d656",
   "metadata": {},
   "source": [
    "# Infinite loop : Do not execute this loop\n",
    "\n",
    "age = 32\n",
    "\n",
    "while age>18: # This condition is always True \n",
    "    print('You can vote')\n",
    "    "
   ]
  },
  {
   "cell_type": "code",
   "execution_count": 8,
   "id": "16f60a9e-f6cb-4eb2-b882-d75f37ecd4a8",
   "metadata": {},
   "outputs": [
    {
     "name": "stdout",
     "output_type": "stream",
     "text": [
      "5 7 10 14 15 20 21 25 28 30 35 40 42 45 49 50 "
     ]
    }
   ],
   "source": [
    "# Print the numbers divisible by 5 or 7 from 1 to 50 using while loop.\n",
    "\n",
    "i = 1\n",
    "\n",
    "while i<51:\n",
    "    if i % 5==0 or i%7==0:\n",
    "        print(i,end=' ')\n",
    "\n",
    "    i += 1"
   ]
  },
  {
   "cell_type": "code",
   "execution_count": 9,
   "id": "886e3bdb-68b0-4a4c-9c93-c7e3490501ad",
   "metadata": {},
   "outputs": [
    {
     "data": {
      "text/plain": [
       "6"
      ]
     },
     "execution_count": 9,
     "metadata": {},
     "output_type": "execute_result"
    }
   ],
   "source": [
    "# len function:\n",
    "list1  = [1,2,3,4,5,6]\n",
    "\n",
    "len(list1)"
   ]
  },
  {
   "cell_type": "code",
   "execution_count": 10,
   "id": "4e4cdcce-51e0-4f44-8c66-ee1dffec686c",
   "metadata": {},
   "outputs": [
    {
     "name": "stdout",
     "output_type": "stream",
     "text": [
      "3 is the odd\n",
      "5 is the odd\n",
      "6 is the even\n",
      "88 is the even\n",
      "56 is the even\n",
      "78 is the even\n",
      "34 is the even\n",
      "23 is the odd\n",
      "54 is the even\n",
      "32 is the even\n"
     ]
    }
   ],
   "source": [
    "# Determine odd or even in the given list for every element below using while loop.\n",
    "list1 = [3,5,6,88,56,78,34,23,54,32]\n",
    "index = 0\n",
    "while index < len(list1):\n",
    "    element = list1[index]\n",
    "    if element % 2 ==0:\n",
    "        print(f'{element} is the even')\n",
    "    else:\n",
    "        print(f'{element} is the odd')\n",
    "    index = index + 1"
   ]
  }
 ],
 "metadata": {
  "kernelspec": {
   "display_name": "Python 3 (ipykernel)",
   "language": "python",
   "name": "python3"
  },
  "language_info": {
   "codemirror_mode": {
    "name": "ipython",
    "version": 3
   },
   "file_extension": ".py",
   "mimetype": "text/x-python",
   "name": "python",
   "nbconvert_exporter": "python",
   "pygments_lexer": "ipython3",
   "version": "3.12.7"
  }
 },
 "nbformat": 4,
 "nbformat_minor": 5
}

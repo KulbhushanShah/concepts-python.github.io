{
 "cells": [
  {
   "cell_type": "markdown",
   "id": "1b94db98-3e88-428b-b884-c4c84dd000c4",
   "metadata": {},
   "source": [
    "# Numeric data type"
   ]
  },
  {
   "cell_type": "markdown",
   "id": "9b7b2d9c-8e42-4e0e-bc0b-42f859be664a",
   "metadata": {},
   "source": [
    "### Integer data type"
   ]
  },
  {
   "cell_type": "code",
   "execution_count": 2,
   "id": "1aeeaa40-a7b8-449a-b8a6-91a152603d0d",
   "metadata": {},
   "outputs": [],
   "source": [
    "a = b = 3"
   ]
  },
  {
   "cell_type": "code",
   "execution_count": 5,
   "id": "9d7ebcba-da0b-45d2-8677-6887b713e82b",
   "metadata": {},
   "outputs": [
    {
     "data": {
      "text/plain": [
       "3"
      ]
     },
     "execution_count": 5,
     "metadata": {},
     "output_type": "execute_result"
    }
   ],
   "source": [
    "b"
   ]
  },
  {
   "cell_type": "code",
   "execution_count": 6,
   "id": "0c0d36d3-ab4b-4dd5-80d8-a3b1888f8e06",
   "metadata": {},
   "outputs": [
    {
     "data": {
      "text/plain": [
       "3"
      ]
     },
     "execution_count": 6,
     "metadata": {},
     "output_type": "execute_result"
    }
   ],
   "source": [
    "a"
   ]
  },
  {
   "cell_type": "markdown",
   "id": "58ba5d68-d0cd-478b-987c-51280f50aa1e",
   "metadata": {},
   "source": [
    "### Float data type"
   ]
  },
  {
   "cell_type": "code",
   "execution_count": 7,
   "id": "61f9f336-dd0a-4314-822f-233fa7d1a727",
   "metadata": {},
   "outputs": [],
   "source": [
    "c = 4.3"
   ]
  },
  {
   "cell_type": "code",
   "execution_count": 8,
   "id": "fdfc7da5-9e33-4724-8f31-107b3f8e799a",
   "metadata": {},
   "outputs": [
    {
     "data": {
      "text/plain": [
       "4.3"
      ]
     },
     "execution_count": 8,
     "metadata": {},
     "output_type": "execute_result"
    }
   ],
   "source": [
    "c"
   ]
  },
  {
   "cell_type": "markdown",
   "id": "c4f704aa-94ad-4650-9a54-afaa9d5b4467",
   "metadata": {},
   "source": [
    "# Comple data type"
   ]
  },
  {
   "cell_type": "code",
   "execution_count": 13,
   "id": "4556eff3-1c04-4e67-9425-d2012603a8c3",
   "metadata": {},
   "outputs": [],
   "source": [
    "e = 3 + 4j"
   ]
  },
  {
   "cell_type": "markdown",
   "id": "4e55f9a6-dd44-47d2-b0fe-687c4ed9e01e",
   "metadata": {},
   "source": [
    "# To know the type of data type stored in a variable"
   ]
  },
  {
   "cell_type": "code",
   "execution_count": 9,
   "id": "d6d4a957-4cfb-4939-b66e-3a70ca15fabb",
   "metadata": {},
   "outputs": [
    {
     "data": {
      "text/plain": [
       "float"
      ]
     },
     "execution_count": 9,
     "metadata": {},
     "output_type": "execute_result"
    }
   ],
   "source": [
    "type(c)"
   ]
  },
  {
   "cell_type": "code",
   "execution_count": 11,
   "id": "e75f2f15-84a8-45fd-92fe-99da82089609",
   "metadata": {},
   "outputs": [
    {
     "data": {
      "text/plain": [
       "int"
      ]
     },
     "execution_count": 11,
     "metadata": {},
     "output_type": "execute_result"
    }
   ],
   "source": [
    "type(a)"
   ]
  },
  {
   "cell_type": "code",
   "execution_count": 12,
   "id": "b5d70a01-23f2-45fc-80d6-efbedb75dc52",
   "metadata": {},
   "outputs": [
    {
     "data": {
      "text/plain": [
       "int"
      ]
     },
     "execution_count": 12,
     "metadata": {},
     "output_type": "execute_result"
    }
   ],
   "source": [
    "type(b)"
   ]
  },
  {
   "cell_type": "code",
   "execution_count": 14,
   "id": "06afd058-3313-41b8-b8ca-cf54c1ed2bbb",
   "metadata": {},
   "outputs": [
    {
     "data": {
      "text/plain": [
       "complex"
      ]
     },
     "execution_count": 14,
     "metadata": {},
     "output_type": "execute_result"
    }
   ],
   "source": [
    "type(e)"
   ]
  },
  {
   "cell_type": "code",
   "execution_count": 19,
   "id": "2af5e4c1-8f7e-4857-90a9-634cb4530497",
   "metadata": {},
   "outputs": [
    {
     "ename": "SyntaxError",
     "evalue": "invalid syntax (3269801589.py, line 2)",
     "output_type": "error",
     "traceback": [
      "\u001b[1;36m  Cell \u001b[1;32mIn[19], line 2\u001b[1;36m\u001b[0m\n\u001b[1;33m    int ab = 3\u001b[0m\n\u001b[1;37m        ^\u001b[0m\n\u001b[1;31mSyntaxError\u001b[0m\u001b[1;31m:\u001b[0m invalid syntax\n"
     ]
    }
   ],
   "source": [
    "Java\n",
    "int ab = 3"
   ]
  },
  {
   "cell_type": "code",
   "execution_count": 15,
   "id": "8ea89d7f-8e17-4b5b-8fbd-ca45e4299a66",
   "metadata": {},
   "outputs": [
    {
     "ename": "SyntaxError",
     "evalue": "invalid syntax (3781010586.py, line 1)",
     "output_type": "error",
     "traceback": [
      "\u001b[1;36m  Cell \u001b[1;32mIn[15], line 1\u001b[1;36m\u001b[0m\n\u001b[1;33m    int aa = 3.4\u001b[0m\n\u001b[1;37m        ^\u001b[0m\n\u001b[1;31mSyntaxError\u001b[0m\u001b[1;31m:\u001b[0m invalid syntax\n"
     ]
    }
   ],
   "source": [
    "int aa = 3.4"
   ]
  },
  {
   "cell_type": "markdown",
   "id": "8607d878-043a-4690-903a-8cb2366c6f39",
   "metadata": {},
   "source": [
    "# Boolean data type"
   ]
  },
  {
   "cell_type": "code",
   "execution_count": 20,
   "id": "2777bc53-bee1-4684-916c-88c26b31bf98",
   "metadata": {},
   "outputs": [],
   "source": [
    "f = False"
   ]
  },
  {
   "cell_type": "code",
   "execution_count": 21,
   "id": "c7c8437c-6f06-40b1-b15b-1ebdd22ae0b8",
   "metadata": {},
   "outputs": [],
   "source": [
    "g = a>b"
   ]
  },
  {
   "cell_type": "code",
   "execution_count": 22,
   "id": "711678a2-71ab-45f8-b982-4bdf95871851",
   "metadata": {},
   "outputs": [
    {
     "data": {
      "text/plain": [
       "bool"
      ]
     },
     "execution_count": 22,
     "metadata": {},
     "output_type": "execute_result"
    }
   ],
   "source": [
    "type(g)"
   ]
  },
  {
   "cell_type": "code",
   "execution_count": 23,
   "id": "5fb5d64e-d2d5-40aa-b0dc-9c8202af523e",
   "metadata": {},
   "outputs": [
    {
     "data": {
      "text/plain": [
       "False"
      ]
     },
     "execution_count": 23,
     "metadata": {},
     "output_type": "execute_result"
    }
   ],
   "source": [
    "g"
   ]
  },
  {
   "cell_type": "markdown",
   "id": "c292fe0a-46b8-4684-a972-dddc0615dba0",
   "metadata": {},
   "source": [
    "# Sequence data type"
   ]
  },
  {
   "cell_type": "markdown",
   "id": "a93c9fa5-984b-452b-8ed7-b8f6ef0a4655",
   "metadata": {},
   "source": [
    "### String:"
   ]
  },
  {
   "cell_type": "code",
   "execution_count": 24,
   "id": "a0aa763b-a19a-4348-8c85-37e31035fde8",
   "metadata": {},
   "outputs": [],
   "source": [
    "h = 'Hey, welcome to Python'"
   ]
  },
  {
   "cell_type": "code",
   "execution_count": 25,
   "id": "819aac85-c17e-475c-8134-78dbaf44338f",
   "metadata": {},
   "outputs": [
    {
     "data": {
      "text/plain": [
       "'Hey, welcome to Python'"
      ]
     },
     "execution_count": 25,
     "metadata": {},
     "output_type": "execute_result"
    }
   ],
   "source": [
    "h"
   ]
  },
  {
   "cell_type": "code",
   "execution_count": 26,
   "id": "ac81fa57-4dd3-49a8-a137-c7d769af2d71",
   "metadata": {},
   "outputs": [
    {
     "data": {
      "text/plain": [
       "str"
      ]
     },
     "execution_count": 26,
     "metadata": {},
     "output_type": "execute_result"
    }
   ],
   "source": [
    "type(h)"
   ]
  },
  {
   "cell_type": "code",
   "execution_count": 28,
   "id": "1523e8f8-1f92-4cc6-a59c-3159fafb1685",
   "metadata": {},
   "outputs": [],
   "source": [
    "strings = ''' hello \n",
    "there'''"
   ]
  },
  {
   "cell_type": "code",
   "execution_count": 29,
   "id": "76cdd102-5be4-485a-94ff-67d52f77eb19",
   "metadata": {},
   "outputs": [
    {
     "data": {
      "text/plain": [
       "' hello \\nthere'"
      ]
     },
     "execution_count": 29,
     "metadata": {},
     "output_type": "execute_result"
    }
   ],
   "source": [
    "strings"
   ]
  },
  {
   "cell_type": "code",
   "execution_count": 30,
   "id": "74a94d4c-30b8-46df-a3fd-680cf8d9b2f9",
   "metadata": {},
   "outputs": [
    {
     "name": "stdout",
     "output_type": "stream",
     "text": [
      " hello \n",
      "there\n"
     ]
    }
   ],
   "source": [
    "print(strings)"
   ]
  },
  {
   "cell_type": "code",
   "execution_count": 32,
   "id": "14db0641-684d-4a53-b947-6e4e1cd1e287",
   "metadata": {},
   "outputs": [],
   "source": [
    "strings = \"\"\" hello \n",
    "there, this is triple quotes\"\"\""
   ]
  },
  {
   "cell_type": "code",
   "execution_count": 33,
   "id": "9eeac873-6dc9-49f6-8b75-b75d071e1aaa",
   "metadata": {},
   "outputs": [
    {
     "data": {
      "text/plain": [
       "' hello \\nthere, this is triple quotes'"
      ]
     },
     "execution_count": 33,
     "metadata": {},
     "output_type": "execute_result"
    }
   ],
   "source": [
    "strings"
   ]
  },
  {
   "cell_type": "code",
   "execution_count": 34,
   "id": "5da15ffb-b303-4fc9-bea8-5e50a16a1a07",
   "metadata": {},
   "outputs": [
    {
     "name": "stdout",
     "output_type": "stream",
     "text": [
      " hello \n",
      "there, this is triple quotes\n"
     ]
    }
   ],
   "source": [
    "print(strings)"
   ]
  },
  {
   "cell_type": "code",
   "execution_count": 35,
   "id": "eb456883-2948-4432-a283-761a3e380842",
   "metadata": {},
   "outputs": [
    {
     "ename": "SyntaxError",
     "evalue": "incomplete input (149104261.py, line 1)",
     "output_type": "error",
     "traceback": [
      "\u001b[1;36m  Cell \u001b[1;32mIn[35], line 1\u001b[1;36m\u001b[0m\n\u001b[1;33m    print(\u001b[0m\n\u001b[1;37m          ^\u001b[0m\n\u001b[1;31mSyntaxError\u001b[0m\u001b[1;31m:\u001b[0m incomplete input\n"
     ]
    }
   ],
   "source": [
    "print("
   ]
  },
  {
   "cell_type": "markdown",
   "id": "334b10b6-093c-4ed5-94f2-4213ae33bdc1",
   "metadata": {},
   "source": [
    "# Comments section"
   ]
  },
  {
   "cell_type": "markdown",
   "id": "7a2d5a3b-bcaf-451e-83bf-dec09b9d9359",
   "metadata": {},
   "source": [
    "### single line comment"
   ]
  },
  {
   "cell_type": "code",
   "execution_count": 48,
   "id": "4ff5858a-c8d2-4a64-8a10-1cc7d3cfe1ab",
   "metadata": {},
   "outputs": [],
   "source": [
    "# This is (single line) comment section"
   ]
  },
  {
   "cell_type": "code",
   "execution_count": 54,
   "id": "8f484d46-69a6-4226-8792-8ece01a9d79f",
   "metadata": {},
   "outputs": [
    {
     "data": {
      "text/plain": [
       "'single line comment'"
      ]
     },
     "execution_count": 54,
     "metadata": {},
     "output_type": "execute_result"
    }
   ],
   "source": [
    "\"single line comment\""
   ]
  },
  {
   "cell_type": "markdown",
   "id": "c03d0baf-873d-4abe-ad25-f034ef22a265",
   "metadata": {},
   "source": [
    "### multi-line comments"
   ]
  },
  {
   "cell_type": "code",
   "execution_count": 45,
   "id": "1afc363d-e23a-4222-b21f-97e69a2e0787",
   "metadata": {},
   "outputs": [
    {
     "data": {
      "text/plain": [
       "'\\nhello this\\nmulti-line comment section\\n'"
      ]
     },
     "execution_count": 45,
     "metadata": {},
     "output_type": "execute_result"
    }
   ],
   "source": [
    "'''\n",
    "hello this\n",
    "multi-line comment section\n",
    "'''"
   ]
  },
  {
   "cell_type": "markdown",
   "id": "4f8336be-ed6b-4629-aab3-135700b607d6",
   "metadata": {},
   "source": [
    "# Indexing: To access a character from a string"
   ]
  },
  {
   "cell_type": "code",
   "execution_count": 57,
   "id": "59ac7af3-c21d-4991-bbba-d692d19da4ed",
   "metadata": {},
   "outputs": [],
   "source": [
    "str1 = 'Hello, this is Kulbhushan'"
   ]
  },
  {
   "cell_type": "code",
   "execution_count": 63,
   "id": "011118b9-24de-4f38-bbe0-0a5db0bad4e2",
   "metadata": {},
   "outputs": [
    {
     "data": {
      "text/plain": [
       "'H'"
      ]
     },
     "execution_count": 63,
     "metadata": {},
     "output_type": "execute_result"
    }
   ],
   "source": [
    "str1[0]"
   ]
  },
  {
   "cell_type": "code",
   "execution_count": 64,
   "id": "d9c62b44-82ea-43a8-a344-091e3f91f946",
   "metadata": {},
   "outputs": [
    {
     "data": {
      "text/plain": [
       "'n'"
      ]
     },
     "execution_count": 64,
     "metadata": {},
     "output_type": "execute_result"
    }
   ],
   "source": [
    "str1[-1]"
   ]
  },
  {
   "cell_type": "code",
   "execution_count": 65,
   "id": "daedbf71-e184-4b29-9ab6-5cb3c9d914aa",
   "metadata": {},
   "outputs": [
    {
     "data": {
      "text/plain": [
       "'l'"
      ]
     },
     "execution_count": 65,
     "metadata": {},
     "output_type": "execute_result"
    }
   ],
   "source": [
    "str1[3]"
   ]
  },
  {
   "cell_type": "code",
   "execution_count": 66,
   "id": "4f42e608-c5e9-4893-8e7c-d43b108abc12",
   "metadata": {},
   "outputs": [
    {
     "data": {
      "text/plain": [
       "'u'"
      ]
     },
     "execution_count": 66,
     "metadata": {},
     "output_type": "execute_result"
    }
   ],
   "source": [
    "str1[-5]"
   ]
  },
  {
   "cell_type": "markdown",
   "id": "1ced459d-2c68-4227-95d9-d783f4e4e683",
   "metadata": {},
   "source": [
    "## Slicing (Index)"
   ]
  },
  {
   "cell_type": "code",
   "execution_count": 73,
   "id": "89923e84-9758-4d04-9e8f-4860b6992705",
   "metadata": {},
   "outputs": [
    {
     "data": {
      "text/plain": [
       "'Hello, this is Kulbhushan'"
      ]
     },
     "execution_count": 73,
     "metadata": {},
     "output_type": "execute_result"
    }
   ],
   "source": [
    "str1[0:]"
   ]
  },
  {
   "cell_type": "code",
   "execution_count": 74,
   "id": "460c8a74-220a-444c-b0e4-358aa78adbf0",
   "metadata": {},
   "outputs": [],
   "source": [
    "str2 = str1"
   ]
  },
  {
   "cell_type": "code",
   "execution_count": 75,
   "id": "c4a94226-e9d1-4ac9-a0fd-f81c859d25d8",
   "metadata": {},
   "outputs": [
    {
     "data": {
      "text/plain": [
       "'Kulbhushan'"
      ]
     },
     "execution_count": 75,
     "metadata": {},
     "output_type": "execute_result"
    }
   ],
   "source": [
    "str2[15::]"
   ]
  },
  {
   "cell_type": "code",
   "execution_count": 77,
   "id": "7c553367-d766-4a37-83c3-e043639ba65c",
   "metadata": {},
   "outputs": [
    {
     "data": {
      "text/plain": [
       "'Hello, this is Kulbhush'"
      ]
     },
     "execution_count": 77,
     "metadata": {},
     "output_type": "execute_result"
    }
   ],
   "source": [
    "str2[0:-2]"
   ]
  },
  {
   "cell_type": "code",
   "execution_count": 78,
   "id": "444dd300-79d0-49fe-ae4e-0de81a4d7beb",
   "metadata": {},
   "outputs": [
    {
     "data": {
      "text/plain": [
       "''"
      ]
     },
     "execution_count": 78,
     "metadata": {},
     "output_type": "execute_result"
    }
   ],
   "source": [
    "str2[-1:-3]"
   ]
  },
  {
   "cell_type": "code",
   "execution_count": 79,
   "id": "af2a7e4d-6dd7-47a7-b71e-2f49a24c0604",
   "metadata": {},
   "outputs": [
    {
     "data": {
      "text/plain": [
       "'n'"
      ]
     },
     "execution_count": 79,
     "metadata": {},
     "output_type": "execute_result"
    }
   ],
   "source": [
    "str2[-1:]"
   ]
  },
  {
   "cell_type": "code",
   "execution_count": 90,
   "id": "af4616ea-6596-4903-89bd-01134433416b",
   "metadata": {},
   "outputs": [
    {
     "data": {
      "text/plain": [
       "'Hlo hsi '"
      ]
     },
     "execution_count": 90,
     "metadata": {},
     "output_type": "execute_result"
    }
   ],
   "source": [
    "str2[0:15:2]"
   ]
  },
  {
   "cell_type": "code",
   "execution_count": 96,
   "id": "2df5b907-7386-4948-b622-2fe4907185bf",
   "metadata": {},
   "outputs": [
    {
     "data": {
      "text/plain": [
       "'nahsuhbluK si siht ,olleH'"
      ]
     },
     "execution_count": 96,
     "metadata": {},
     "output_type": "execute_result"
    }
   ],
   "source": [
    "str2[-1::-1]"
   ]
  },
  {
   "cell_type": "code",
   "execution_count": 109,
   "id": "5690c3e1-4401-42a0-92ec-8e65f9fea1b0",
   "metadata": {},
   "outputs": [
    {
     "name": "stdout",
     "output_type": "stream",
     "text": [
      "nahsuhbluK si siht ,olleH\n"
     ]
    }
   ],
   "source": [
    "print(str2[-1:-30:-1])"
   ]
  },
  {
   "cell_type": "code",
   "execution_count": null,
   "id": "c967c3d7-2660-4497-9a79-228157a745ff",
   "metadata": {},
   "outputs": [],
   "source": []
  }
 ],
 "metadata": {
  "kernelspec": {
   "display_name": "Python 3 (ipykernel)",
   "language": "python",
   "name": "python3"
  },
  "language_info": {
   "codemirror_mode": {
    "name": "ipython",
    "version": 3
   },
   "file_extension": ".py",
   "mimetype": "text/x-python",
   "name": "python",
   "nbconvert_exporter": "python",
   "pygments_lexer": "ipython3",
   "version": "3.12.7"
  }
 },
 "nbformat": 4,
 "nbformat_minor": 5
}

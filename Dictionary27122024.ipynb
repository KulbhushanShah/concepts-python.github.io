{
 "cells": [
  {
   "cell_type": "markdown",
   "id": "272aca0d-cd7c-465d-9fe7-bfb66d491017",
   "metadata": {},
   "source": [
    "# Dictionary"
   ]
  },
  {
   "cell_type": "code",
   "execution_count": 2,
   "id": "0d2872c8-2f27-4d14-887d-55bdc7054933",
   "metadata": {},
   "outputs": [],
   "source": [
    "dict1 = {}"
   ]
  },
  {
   "cell_type": "code",
   "execution_count": 3,
   "id": "f9d4c630-c94d-4d5d-b2c3-1f7678d3a5eb",
   "metadata": {},
   "outputs": [
    {
     "data": {
      "text/plain": [
       "{}"
      ]
     },
     "execution_count": 3,
     "metadata": {},
     "output_type": "execute_result"
    }
   ],
   "source": [
    "dict1"
   ]
  },
  {
   "cell_type": "code",
   "execution_count": 4,
   "id": "14bfc707-0dd5-49ea-8f3b-943030b0de02",
   "metadata": {},
   "outputs": [],
   "source": [
    "dict2 = {2: 40, 1: \"String\", True: 3.4}"
   ]
  },
  {
   "cell_type": "code",
   "execution_count": 5,
   "id": "522ac37d-76c7-4f00-99c5-564619c7e54c",
   "metadata": {},
   "outputs": [
    {
     "data": {
      "text/plain": [
       "3.4"
      ]
     },
     "execution_count": 5,
     "metadata": {},
     "output_type": "execute_result"
    }
   ],
   "source": [
    "dict2[True]"
   ]
  },
  {
   "cell_type": "code",
   "execution_count": 10,
   "id": "199f86dd-631c-4fba-9751-9d250995bd6e",
   "metadata": {},
   "outputs": [],
   "source": [
    "dict3 = {4: 2.5, False: \"String\"}"
   ]
  },
  {
   "cell_type": "code",
   "execution_count": 11,
   "id": "7930e4bd-940f-4ca1-9c0c-c454cf2e4ace",
   "metadata": {},
   "outputs": [
    {
     "data": {
      "text/plain": [
       "{4: 2.5, False: 'String'}"
      ]
     },
     "execution_count": 11,
     "metadata": {},
     "output_type": "execute_result"
    }
   ],
   "source": [
    "dict3"
   ]
  },
  {
   "cell_type": "code",
   "execution_count": 12,
   "id": "89deab98-311d-40b4-81aa-1f45f047f656",
   "metadata": {},
   "outputs": [],
   "source": [
    "dict4 = {\"Car\":\"BMW\", \"Color\": \"Red\", \"Car1\":\"Benz\"}"
   ]
  },
  {
   "cell_type": "code",
   "execution_count": 13,
   "id": "a9530751-e027-4df0-9120-5826d7abb3ba",
   "metadata": {},
   "outputs": [],
   "source": [
    "dict4[\"Car1\"] = \"BMW A1\""
   ]
  },
  {
   "cell_type": "code",
   "execution_count": 14,
   "id": "4078c6b4-6163-44f8-b4a5-a75fd66ba67b",
   "metadata": {},
   "outputs": [
    {
     "data": {
      "text/plain": [
       "{'Car': 'BMW', 'Color': 'Red', 'Car1': 'BMW A1'}"
      ]
     },
     "execution_count": 14,
     "metadata": {},
     "output_type": "execute_result"
    }
   ],
   "source": [
    "dict4"
   ]
  },
  {
   "cell_type": "code",
   "execution_count": 16,
   "id": "343276b4-4ebd-42da-9ca2-37e559052559",
   "metadata": {},
   "outputs": [],
   "source": [
    "dict5 = {True: \"34\"}"
   ]
  },
  {
   "cell_type": "code",
   "execution_count": 17,
   "id": "2ece111d-bcd2-4a4c-b7bf-411b4d517a1a",
   "metadata": {},
   "outputs": [
    {
     "data": {
      "text/plain": [
       "{True: '34'}"
      ]
     },
     "execution_count": 17,
     "metadata": {},
     "output_type": "execute_result"
    }
   ],
   "source": [
    "dict5"
   ]
  },
  {
   "cell_type": "code",
   "execution_count": null,
   "id": "46e6ce68-022a-4d6e-a60c-63389e627606",
   "metadata": {},
   "outputs": [],
   "source": [
    "dict6_list = {} "
   ]
  }
 ],
 "metadata": {
  "kernelspec": {
   "display_name": "Python 3 (ipykernel)",
   "language": "python",
   "name": "python3"
  },
  "language_info": {
   "codemirror_mode": {
    "name": "ipython",
    "version": 3
   },
   "file_extension": ".py",
   "mimetype": "text/x-python",
   "name": "python",
   "nbconvert_exporter": "python",
   "pygments_lexer": "ipython3",
   "version": "3.12.7"
  }
 },
 "nbformat": 4,
 "nbformat_minor": 5
}

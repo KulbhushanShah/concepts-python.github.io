{
 "cells": [
  {
   "cell_type": "markdown",
   "id": "3c5db3e9-6318-48a2-97fd-4a9e02fac3be",
   "metadata": {},
   "source": [
    "# For Loop"
   ]
  },
  {
   "cell_type": "markdown",
   "id": "0865f7b8-697d-421f-9952-562fdb33a1cc",
   "metadata": {},
   "source": [
    "### String (SEQUENCE DATA TYPE) as iterable"
   ]
  },
  {
   "cell_type": "code",
   "execution_count": 80,
   "id": "0ec1cfd6-6880-4387-8008-c8235ecfc634",
   "metadata": {},
   "outputs": [
    {
     "name": "stdout",
     "output_type": "stream",
     "text": [
      "G\n",
      "a\n",
      "m\n",
      "a\n",
      "k\n",
      "a\n",
      " \n",
      "A\n",
      "I\n"
     ]
    }
   ],
   "source": [
    "for i in \"Gamaka AI\":\n",
    "    print(i, end =\"\\n\")"
   ]
  },
  {
   "cell_type": "code",
   "execution_count": 81,
   "id": "a4e8adb8-a281-4441-9263-e386ad68267c",
   "metadata": {},
   "outputs": [
    {
     "name": "stdout",
     "output_type": "stream",
     "text": [
      "G a m a k a   A I "
     ]
    }
   ],
   "source": [
    "for i in \"Gamaka AI\":\n",
    "    print(i, end =\" \")"
   ]
  },
  {
   "cell_type": "markdown",
   "id": "48377db2-fb72-4a62-8541-8042c1842eb8",
   "metadata": {},
   "source": [
    "### List (SEQUENCE DATA TYPE) as iterable"
   ]
  },
  {
   "cell_type": "code",
   "execution_count": 82,
   "id": "3070f065-1bef-4ce8-8ae9-f383b10cce7e",
   "metadata": {},
   "outputs": [
    {
     "name": "stdout",
     "output_type": "stream",
     "text": [
      "1\n",
      "2\n",
      "3.4\n",
      "True\n",
      "Hello\n"
     ]
    }
   ],
   "source": [
    "list1 = [1, 2, 3.4, True, \"Hello\"]\n",
    "for i in list1:\n",
    "    print(i)"
   ]
  },
  {
   "cell_type": "markdown",
   "id": "af43c875-9116-499e-98dd-3d6158877a9a",
   "metadata": {},
   "source": [
    "### Tuple (SEQUENCE DATA TYPE) as iterable"
   ]
  },
  {
   "cell_type": "code",
   "execution_count": 83,
   "id": "164c730d-f28c-42fb-a1d5-ed00086ff5c4",
   "metadata": {},
   "outputs": [
    {
     "name": "stdout",
     "output_type": "stream",
     "text": [
      "1\n",
      "44\n",
      "23\n",
      "55\n",
      "123\n"
     ]
    }
   ],
   "source": [
    "for a in {23, 1,23,123, 44,44, 55, 123, 55}:\n",
    "    print(a)"
   ]
  },
  {
   "cell_type": "markdown",
   "id": "0edb66c7-5f2e-45ac-b002-a5c876dbafa2",
   "metadata": {},
   "source": [
    "### Set (SEQUENCE DATA TYPE) as iterable"
   ]
  },
  {
   "cell_type": "code",
   "execution_count": 84,
   "id": "b76564b5-7989-4714-877f-524fdcd619d2",
   "metadata": {},
   "outputs": [
    {
     "name": "stdout",
     "output_type": "stream",
     "text": [
      "1\n",
      "4\n",
      "4\n",
      "4.5\n",
      "4.5\n",
      "True\n",
      "Fls\n",
      "True\n",
      "False\n"
     ]
    }
   ],
   "source": [
    "for e in (1, 4, 4, 4.5, 4.5, True, \"Fls\", True, False):\n",
    "    print(e)"
   ]
  },
  {
   "cell_type": "markdown",
   "id": "eb5736e8-aab6-4e6e-82b9-904660000b05",
   "metadata": {},
   "source": [
    "### Range() (SEQUENCE DATA TYPE) function as iterable"
   ]
  },
  {
   "cell_type": "code",
   "execution_count": 85,
   "id": "e2df5259-9e6f-45ac-9d65-bb6f0449d86f",
   "metadata": {},
   "outputs": [
    {
     "name": "stdout",
     "output_type": "stream",
     "text": [
      "0\n",
      "1\n",
      "2\n",
      "3\n",
      "4\n",
      "5\n",
      "6\n",
      "7\n",
      "8\n",
      "9\n"
     ]
    }
   ],
   "source": [
    "for a in range(10):\n",
    "    print(a)"
   ]
  },
  {
   "cell_type": "code",
   "execution_count": 86,
   "id": "d7a50342-5241-4a78-bc2e-1190719acea5",
   "metadata": {},
   "outputs": [],
   "source": [
    "for a in range(1, 11, -1):\n",
    "    print(a)"
   ]
  },
  {
   "cell_type": "code",
   "execution_count": 87,
   "id": "8f42953c-146f-4dc1-80f6-1ed60baf80f7",
   "metadata": {},
   "outputs": [
    {
     "name": "stdout",
     "output_type": "stream",
     "text": [
      "-11\n",
      "-10\n",
      "-9\n",
      "-8\n",
      "-7\n",
      "-6\n",
      "-5\n",
      "-4\n",
      "-3\n",
      "-2\n",
      "-1\n",
      "0\n"
     ]
    }
   ],
   "source": [
    "for a in range(-11, 1, 1):\n",
    "    print(a)"
   ]
  },
  {
   "cell_type": "markdown",
   "id": "d3002329-6644-48ea-a357-4cc6f74ec0a9",
   "metadata": {},
   "source": [
    "### Examples"
   ]
  },
  {
   "cell_type": "code",
   "execution_count": 88,
   "id": "a7eda4cd-4db2-4b24-99c5-ad86436aaa7b",
   "metadata": {},
   "outputs": [
    {
     "name": "stdout",
     "output_type": "stream",
     "text": [
      "5\n",
      "10\n",
      "15\n",
      "20\n",
      "25\n",
      "30\n",
      "35\n",
      "40\n",
      "45\n",
      "50\n"
     ]
    }
   ],
   "source": [
    "# Write a program to print the table of 5.\n",
    "for tb in range(1, 11, 1):\n",
    "    print(tb*5)"
   ]
  },
  {
   "cell_type": "code",
   "execution_count": 89,
   "id": "9441cd53-91bd-499a-a907-70ad65a87be9",
   "metadata": {},
   "outputs": [
    {
     "name": "stdout",
     "output_type": "stream",
     "text": [
      "5\n",
      "10\n",
      "15\n",
      "20\n",
      "25\n",
      "30\n",
      "35\n",
      "40\n",
      "45\n",
      "50\n"
     ]
    }
   ],
   "source": [
    "# Write a program to print the table of 5.\n",
    "for tb in range(1, 11, 1):\n",
    "    print(tb*5)"
   ]
  },
  {
   "cell_type": "code",
   "execution_count": 90,
   "id": "3a1d8d90-b4a9-46df-90cd-3b93c53fd57e",
   "metadata": {},
   "outputs": [
    {
     "name": "stdout",
     "output_type": "stream",
     "text": [
      "1\n",
      "3\n",
      "5\n",
      "7\n",
      "9\n",
      "11\n",
      "13\n",
      "15\n",
      "17\n",
      "19\n"
     ]
    }
   ],
   "source": [
    "# Write a program to print the odd numbers between 1 to 20\n",
    "for num in range(1,21):\n",
    "    if num % 2 != 0:\n",
    "        print (num)"
   ]
  },
  {
   "cell_type": "markdown",
   "id": "65c4dfae-4c97-4747-bb21-44d14f80f21c",
   "metadata": {},
   "source": [
    "## Loop Control Statements"
   ]
  },
  {
   "cell_type": "markdown",
   "id": "300e1d5f-d191-46f1-aa34-b359ca3d0939",
   "metadata": {},
   "source": [
    "### continue as a Loop Control Statement"
   ]
  },
  {
   "cell_type": "code",
   "execution_count": 91,
   "id": "7a9090cf-c019-471c-9122-3b6e8f6bb00c",
   "metadata": {},
   "outputs": [
    {
     "name": "stdout",
     "output_type": "stream",
     "text": [
      "1\n",
      "2\n",
      "3\n",
      "4\n",
      "6\n",
      "7\n",
      "8\n",
      "9\n",
      "10\n"
     ]
    }
   ],
   "source": [
    "for num in range(1,11):\n",
    "    if num == 5:\n",
    "        continue\n",
    "    print (num)"
   ]
  },
  {
   "cell_type": "code",
   "execution_count": 92,
   "id": "4c0061e9-f6f6-432f-8eb0-39fd3f1f6c37",
   "metadata": {},
   "outputs": [
    {
     "name": "stdout",
     "output_type": "stream",
     "text": [
      "1\n",
      "2\n",
      "3\n",
      "4\n",
      "6\n",
      "8\n",
      "9\n",
      "10\n"
     ]
    }
   ],
   "source": [
    "for num in range(1,11):\n",
    "    if num == 5 or num == 7:\n",
    "        continue  # to skip the IF loop if condition(s) is(are) met\n",
    "    print (num)"
   ]
  },
  {
   "cell_type": "markdown",
   "id": "9d4b34fa-896c-4bee-a710-66d678295516",
   "metadata": {},
   "source": [
    "### break as a Loop Control Statement"
   ]
  },
  {
   "cell_type": "code",
   "execution_count": 93,
   "id": "9e02edf0-d2d8-48bf-9204-6fc37c52112e",
   "metadata": {},
   "outputs": [
    {
     "name": "stdout",
     "output_type": "stream",
     "text": [
      "1\n",
      "2\n",
      "3\n",
      "4\n"
     ]
    }
   ],
   "source": [
    "for num in range(1,11):\n",
    "    if num == 5:\n",
    "        break # to terminate the IF loop if condition(s) is(are) meet\n",
    "    print (num)"
   ]
  },
  {
   "cell_type": "markdown",
   "id": "ede8a9ff-4bdb-4380-8c4c-9c0946f46013",
   "metadata": {},
   "source": [
    "### pass as a Loop Control Statement"
   ]
  },
  {
   "cell_type": "code",
   "execution_count": 94,
   "id": "4f1700e2-3799-46f1-bd6b-6c15b8fec7af",
   "metadata": {},
   "outputs": [
    {
     "name": "stdout",
     "output_type": "stream",
     "text": [
      "1\n",
      "2\n",
      "3\n",
      "4\n",
      "5\n",
      "6\n",
      "7\n",
      "8\n",
      "9\n",
      "10\n"
     ]
    }
   ],
   "source": [
    "for num in range(1,11):\n",
    "    if num == 5 or num == 7:\n",
    "        pass # does not do anything or NULL operation\n",
    "    print (num)"
   ]
  },
  {
   "cell_type": "markdown",
   "id": "2642e469-c5ad-4c81-9c59-78cc28ae87cb",
   "metadata": {},
   "source": [
    "### Writing FOR loop and a STATEMENT in A SINGLE LINE"
   ]
  },
  {
   "cell_type": "code",
   "execution_count": 95,
   "id": "7b1a9a4d-d51e-47d1-af83-ccaef2ce0b4e",
   "metadata": {},
   "outputs": [
    {
     "name": "stdout",
     "output_type": "stream",
     "text": [
      "1\n",
      "2\n",
      "3\n",
      "4\n",
      "5\n",
      "6\n",
      "7\n",
      "8\n",
      "9\n",
      "10\n"
     ]
    }
   ],
   "source": [
    "for num in range(1,11): print (num)"
   ]
  }
 ],
 "metadata": {
  "kernelspec": {
   "display_name": "Python 3 (ipykernel)",
   "language": "python",
   "name": "python3"
  },
  "language_info": {
   "codemirror_mode": {
    "name": "ipython",
    "version": 3
   },
   "file_extension": ".py",
   "mimetype": "text/x-python",
   "name": "python",
   "nbconvert_exporter": "python",
   "pygments_lexer": "ipython3",
   "version": "3.12.7"
  }
 },
 "nbformat": 4,
 "nbformat_minor": 5
}

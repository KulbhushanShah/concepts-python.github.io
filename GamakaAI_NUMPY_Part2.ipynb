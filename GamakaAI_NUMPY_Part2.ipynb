{
 "cells": [
  {
   "cell_type": "code",
   "execution_count": 1,
   "id": "c091abdb",
   "metadata": {},
   "outputs": [],
   "source": [
    "import numpy as np"
   ]
  },
  {
   "cell_type": "markdown",
   "id": "10870d22",
   "metadata": {},
   "source": [
    "# Size of NumPy array\n",
    "\n",
    "You can determine how many values there are in the array using the size attribute. It just multiplies the number of rows by the number of columns in the ndarray:"
   ]
  },
  {
   "cell_type": "code",
   "execution_count": 2,
   "id": "640908a6",
   "metadata": {},
   "outputs": [
    {
     "name": "stdout",
     "output_type": "stream",
     "text": [
      "Size of array : 6\n",
      "Manual determination of size of array : 6\n"
     ]
    }
   ],
   "source": [
    "# size of array\n",
    "a = np.array([[5,10,15],[20,25,30]])\n",
    "print('Size of array :',a.size)\n",
    "print('Manual determination of size of array :',a.shape[0]*a.shape[1])"
   ]
  },
  {
   "cell_type": "code",
   "execution_count": 4,
   "id": "fe2741e8",
   "metadata": {},
   "outputs": [
    {
     "data": {
      "text/plain": [
       "(3,)"
      ]
     },
     "execution_count": 4,
     "metadata": {},
     "output_type": "execute_result"
    }
   ],
   "source": [
    "a = np.array([5,10,15])\n",
    "a.shape"
   ]
  },
  {
   "attachments": {
    "np_shape-1.webp": {
     "image/webp": "[encoded data removed]"
    }
   },
   "cell_type": "markdown",
   "id": "03755f2c",
   "metadata": {},
   "source": [
    "![np_shape-1.webp](attachment:np_shape-1.webp)"
   ]
  },
  {
   "cell_type": "markdown",
   "id": "15839332",
   "metadata": {},
   "source": [
    "# Reshaping a NumPy array\n",
    "\n",
    "Reshaping a ndarray can be done using the np.reshape() method. It changes the shape of the ndarray without changing the data within the ndarray:"
   ]
  },
  {
   "cell_type": "code",
   "execution_count": 11,
   "id": "69fba212",
   "metadata": {},
   "outputs": [
    {
     "name": "stdout",
     "output_type": "stream",
     "text": [
      "[ 3  6  9 12 23 55]\n"
     ]
    },
    {
     "data": {
      "text/plain": [
       "array([[ 3,  6,  9],\n",
       "       [12, 23, 55]])"
      ]
     },
     "execution_count": 11,
     "metadata": {},
     "output_type": "execute_result"
    }
   ],
   "source": [
    "# reshape\n",
    "a = np.array([3,6,9,12,23,55])\n",
    "print(a)\n",
    "np.reshape(a,(2,3))# reshaped the ndarray from a 1-D to a 2-D ndarray."
   ]
  },
  {
   "cell_type": "markdown",
   "id": "8b1094d2",
   "metadata": {},
   "source": [
    "While reshaping, if you are unsure about the shape of any of the axis, just input -1. NumPy automatically calculates the shape when it sees a -1:"
   ]
  },
  {
   "cell_type": "code",
   "execution_count": 10,
   "id": "de3864ba",
   "metadata": {},
   "outputs": [
    {
     "name": "stdout",
     "output_type": "stream",
     "text": [
      "Three rows : \n",
      " [[ 3  6  9 12]\n",
      " [18 24 19 56]]\n"
     ]
    }
   ],
   "source": [
    "a = np.array([3,6,9,12,18,24,19,56])\n",
    "print('Three rows :','\\n',np.reshape(a,(2,-1)))"
   ]
  },
  {
   "cell_type": "code",
   "execution_count": 12,
   "id": "e0a53922",
   "metadata": {},
   "outputs": [
    {
     "name": "stdout",
     "output_type": "stream",
     "text": [
      "Three columns : \n",
      " [[ 3  6]\n",
      " [ 9 12]\n",
      " [23 55]]\n"
     ]
    }
   ],
   "source": [
    "print('Three columns :','\\n',np.reshape(a,(-1,2)))"
   ]
  },
  {
   "cell_type": "markdown",
   "id": "48a914ab",
   "metadata": {},
   "source": [
    "# Flattening a NumPy array\n",
    "\n",
    "Sometimes when you have a multidimensional array and want to collapse it to a single-dimensional array, you can either use \n",
    "\n",
    "1.the flatten() method\n",
    "\n",
    "         or \n",
    "         \n",
    "2.the ravel() method:"
   ]
  },
  {
   "cell_type": "code",
   "execution_count": 13,
   "id": "907256bd",
   "metadata": {},
   "outputs": [
    {
     "name": "stdout",
     "output_type": "stream",
     "text": [
      "Original shape : (2, 2)\n",
      "Array : \n",
      " [[1. 1.]\n",
      " [1. 1.]]\n",
      "Shape after flatten : (4,)\n",
      "Array : \n",
      " [1. 1. 1. 1.]\n",
      "Shape after ravel : (4,)\n",
      "Array : \n",
      " [1. 1. 1. 1.]\n"
     ]
    }
   ],
   "source": [
    "a = np.ones((2,2))\n",
    "b = a.flatten()\n",
    "c = a.ravel()\n",
    "print('Original shape :', a.shape)\n",
    "print('Array :','\\n', a)\n",
    "print('Shape after flatten :',b.shape)\n",
    "print('Array :','\\n', b)\n",
    "print('Shape after ravel :',c.shape)\n",
    "print('Array :','\\n', c)"
   ]
  },
  {
   "attachments": {
    "np_flatten.webp": {
     "image/webp": "[encoded data removed]"
    }
   },
   "cell_type": "markdown",
   "id": "f1e620cd",
   "metadata": {},
   "source": [
    "![np_flatten.webp](attachment:np_flatten.webp)"
   ]
  },
  {
   "cell_type": "markdown",
   "id": "a72a19bd",
   "metadata": {},
   "source": [
    "But an important difference between flatten() and ravel() is that the former returns a copy of the original array while the latter returns a reference to the original array. This means any changes made to the array returned from ravel() will also be reflected in the original array while this will not be the case with flatten()."
   ]
  },
  {
   "cell_type": "code",
   "execution_count": 16,
   "id": "8ce35a85",
   "metadata": {},
   "outputs": [
    {
     "name": "stdout",
     "output_type": "stream",
     "text": [
      "[[0. 1.]\n",
      " [1. 1.]]\n",
      "[0. 1. 1. 1.]\n"
     ]
    }
   ],
   "source": [
    "b[0] = 0# deep copy\n",
    "print(a)\n",
    "print(b)"
   ]
  },
  {
   "cell_type": "code",
   "execution_count": 17,
   "id": "186305d6",
   "metadata": {},
   "outputs": [
    {
     "name": "stdout",
     "output_type": "stream",
     "text": [
      "[[0. 1.]\n",
      " [1. 1.]]\n",
      "[0. 1. 1. 1.]\n"
     ]
    }
   ],
   "source": [
    "c[0] = 0# shallow copy\n",
    "print(a) # it will change the value/element only but not the type (2D\n",
    "print(c) # it "
   ]
  },
  {
   "attachments": {
    "Shallow-deep-copy.webp": {
     "image/webp": "[encoded data removed]"
    }
   },
   "cell_type": "markdown",
   "id": "c58290a3",
   "metadata": {},
   "source": [
    "![Shallow-deep-copy.webp](attachment:Shallow-deep-copy.webp)"
   ]
  },
  {
   "cell_type": "markdown",
   "id": "0278884e",
   "metadata": {},
   "source": [
    "# Shallow Copy"
   ]
  },
  {
   "cell_type": "code",
   "execution_count": null,
   "id": "61171226",
   "metadata": {},
   "outputs": [],
   "source": [
    "a=[1,2,3,4]"
   ]
  },
  {
   "cell_type": "code",
   "execution_count": null,
   "id": "0b1cbf1d",
   "metadata": {},
   "outputs": [],
   "source": [
    "c=a #shallow copy"
   ]
  },
  {
   "cell_type": "code",
   "execution_count": null,
   "id": "83c8fa8f",
   "metadata": {},
   "outputs": [],
   "source": [
    "c"
   ]
  },
  {
   "cell_type": "code",
   "execution_count": null,
   "id": "e5c352f2",
   "metadata": {},
   "outputs": [],
   "source": [
    "c[0]=100"
   ]
  },
  {
   "cell_type": "code",
   "execution_count": null,
   "id": "8f139ddb",
   "metadata": {},
   "outputs": [],
   "source": [
    "a"
   ]
  },
  {
   "cell_type": "markdown",
   "id": "8049cb5d",
   "metadata": {},
   "source": [
    "# Deep Copy"
   ]
  },
  {
   "cell_type": "code",
   "execution_count": null,
   "id": "2a693a47",
   "metadata": {},
   "outputs": [],
   "source": [
    "b=np.copy(a) #Deep Copy"
   ]
  },
  {
   "cell_type": "code",
   "execution_count": null,
   "id": "9e7566fd",
   "metadata": {},
   "outputs": [],
   "source": [
    "b"
   ]
  },
  {
   "cell_type": "code",
   "execution_count": null,
   "id": "e7a910aa",
   "metadata": {},
   "outputs": [],
   "source": [
    "b[0]=400"
   ]
  },
  {
   "cell_type": "code",
   "execution_count": null,
   "id": "bf300bf5",
   "metadata": {},
   "outputs": [],
   "source": [
    "b"
   ]
  },
  {
   "cell_type": "code",
   "execution_count": null,
   "id": "5f4843b1",
   "metadata": {},
   "outputs": [],
   "source": [
    "a"
   ]
  },
  {
   "cell_type": "markdown",
   "id": "7df70746",
   "metadata": {},
   "source": [
    "# Transpose of a NumPy array\n",
    "\n",
    "\n",
    "Another very interesting reshaping method of NumPy is the transpose() method. It takes the input array and swaps the rows with the column values, and the column values with the values of the rows:"
   ]
  },
  {
   "cell_type": "code",
   "execution_count": null,
   "id": "33424ac5",
   "metadata": {},
   "outputs": [],
   "source": [
    "a = np.array([[1,2,3],[4,5,6]])\n",
    "b = np.transpose(a)\n",
    "print('Original','\\n','Shape',a.shape,'\\n',a)\n",
    "print('Expand along columns:','\\n','Shape',b.shape,'\\n',b)"
   ]
  },
  {
   "cell_type": "markdown",
   "id": "d9612b13",
   "metadata": {},
   "source": [
    "On transposing a 2 x 3 array, we got a 3 x 2 array. Transpose has a lot of significance in linear algebra."
   ]
  },
  {
   "cell_type": "markdown",
   "id": "22b05231",
   "metadata": {},
   "source": [
    "# Expanding and Squeezing a NumPy array\n",
    "\n",
    "Expanding a NumPy array\n",
    "\n",
    "You can add a new axis to an array using the expand_dims() method by providing the array and the axis along which to expand:"
   ]
  },
  {
   "cell_type": "code",
   "execution_count": null,
   "id": "18e25c38",
   "metadata": {},
   "outputs": [],
   "source": [
    "# expand dimensions\n",
    "a = np.array([1,2,3])\n",
    "b = np.expand_dims(a,axis=0)\n",
    "c = np.expand_dims(a,axis=1)\n",
    "print('Original:','\\n','Shape',a.shape,'\\n',a)\n",
    "print('Expand along rows:','\\n','Shape',b.shape,'\\n',b)\n",
    "print('Expand along columns:','\\n','Shape',c.shape,'\\n',c)"
   ]
  },
  {
   "cell_type": "markdown",
   "id": "a3229b97",
   "metadata": {},
   "source": [
    "# Squeezing a NumPy array\n",
    "\n",
    "On the other hand, if you instead want to reduce the axis of the array, use the squeeze() method. It removes the axis that has a single entry. This means if you have created a 2 x 2 x 1 matrix, squeeze() will remove the third dimension from the matrix:"
   ]
  },
  {
   "cell_type": "code",
   "execution_count": 3,
   "id": "099c665e",
   "metadata": {
    "scrolled": true
   },
   "outputs": [
    {
     "name": "stdout",
     "output_type": "stream",
     "text": [
      "Original \n",
      " Shape (1, 2, 3) \n",
      " [[[1 2 3]\n",
      "  [4 5 6]]]\n",
      "Squeeze array: \n",
      " Shape (2, 3) \n",
      " [[1 2 3]\n",
      " [4 5 6]]\n"
     ]
    }
   ],
   "source": [
    "# squeeze\n",
    "a = np.array([[[1,2,3],[4,5,6]]])\n",
    "b = np.squeeze(a, axis=0)\n",
    "print('Original','\\n','Shape',a.shape,'\\n',a)\n",
    "print('Squeeze array:','\\n','Shape',b.shape,'\\n',b)"
   ]
  },
  {
   "cell_type": "markdown",
   "id": "4b9ffa9c",
   "metadata": {},
   "source": [
    "However, if you already had a 2 x 3 matrix, using squeeze() in that case would give you an error:"
   ]
  },
  {
   "cell_type": "code",
   "execution_count": 4,
   "id": "e43e89db",
   "metadata": {},
   "outputs": [
    {
     "data": {
      "text/plain": [
       "2"
      ]
     },
     "execution_count": 4,
     "metadata": {},
     "output_type": "execute_result"
    }
   ],
   "source": [
    "b[0][1]"
   ]
  },
  {
   "cell_type": "code",
   "execution_count": 19,
   "id": "050b2a3c-f630-4022-a269-a2282eabad68",
   "metadata": {},
   "outputs": [
    {
     "data": {
      "text/plain": [
       "6"
      ]
     },
     "execution_count": 19,
     "metadata": {},
     "output_type": "execute_result"
    }
   ],
   "source": [
    "a[0][1][2]"
   ]
  },
  {
   "cell_type": "code",
   "execution_count": 14,
   "id": "bfaf763c-934a-4e1c-9326-fe7b4e8aeace",
   "metadata": {},
   "outputs": [
    {
     "ename": "IndexError",
     "evalue": "index 1 is out of bounds for axis 0 with size 1",
     "output_type": "error",
     "traceback": [
      "\u001b[1;31m---------------------------------------------------------------------------\u001b[0m",
      "\u001b[1;31mIndexError\u001b[0m                                Traceback (most recent call last)",
      "Cell \u001b[1;32mIn[14], line 1\u001b[0m\n\u001b[1;32m----> 1\u001b[0m a[\u001b[38;5;241m1\u001b[39m][\u001b[38;5;241m0\u001b[39m]\n",
      "\u001b[1;31mIndexError\u001b[0m: index 1 is out of bounds for axis 0 with size 1"
     ]
    }
   ],
   "source": [
    "a[1][0]"
   ]
  },
  {
   "cell_type": "code",
   "execution_count": 12,
   "id": "99366936-d87e-4b1c-97ab-d5baed2703b0",
   "metadata": {},
   "outputs": [
    {
     "data": {
      "text/plain": [
       "array([1, 2, 3])"
      ]
     },
     "execution_count": 12,
     "metadata": {},
     "output_type": "execute_result"
    }
   ],
   "source": [
    "a[0][0]"
   ]
  },
  {
   "cell_type": "code",
   "execution_count": 13,
   "id": "0e6a0e32-4888-499a-838a-d2f354f9cb7b",
   "metadata": {},
   "outputs": [
    {
     "data": {
      "text/plain": [
       "array([4, 5, 6])"
      ]
     },
     "execution_count": 13,
     "metadata": {},
     "output_type": "execute_result"
    }
   ],
   "source": [
    "a[0][1]"
   ]
  },
  {
   "cell_type": "code",
   "execution_count": 15,
   "id": "28f05e9a-1123-4009-927e-8298ca920178",
   "metadata": {},
   "outputs": [
    {
     "data": {
      "text/plain": [
       "2"
      ]
     },
     "execution_count": 15,
     "metadata": {},
     "output_type": "execute_result"
    }
   ],
   "source": [
    "a[0][0][1]"
   ]
  },
  {
   "cell_type": "code",
   "execution_count": 4,
   "id": "1788acd1-64b0-4efd-8a5a-27c05a28dccf",
   "metadata": {},
   "outputs": [
    {
     "data": {
      "text/plain": [
       "1"
      ]
     },
     "execution_count": 4,
     "metadata": {},
     "output_type": "execute_result"
    }
   ],
   "source": [
    "a[0][0][0]"
   ]
  },
  {
   "cell_type": "code",
   "execution_count": 7,
   "id": "28719f6e-8c27-4852-b52c-257781bdebf9",
   "metadata": {},
   "outputs": [
    {
     "data": {
      "text/plain": [
       "array([[[1, 2, 3],\n",
       "        [4, 5, 6]],\n",
       "\n",
       "       [[2, 3, 4],\n",
       "        [4, 5, 6]]])"
      ]
     },
     "execution_count": 7,
     "metadata": {},
     "output_type": "execute_result"
    }
   ],
   "source": [
    "a = np.array([[[1,2,3],[4,5,6]],[[2,3,4],[4,5,6]]])\n",
    "a"
   ]
  },
  {
   "cell_type": "code",
   "execution_count": null,
   "id": "ce7c6038-1409-403e-88d4-b443963434f7",
   "metadata": {},
   "outputs": [],
   "source": []
  }
 ],
 "metadata": {
  "kernelspec": {
   "display_name": "Python 3 (ipykernel)",
   "language": "python",
   "name": "python3"
  },
  "language_info": {
   "codemirror_mode": {
    "name": "ipython",
    "version": 3
   },
   "file_extension": ".py",
   "mimetype": "text/x-python",
   "name": "python",
   "nbconvert_exporter": "python",
   "pygments_lexer": "ipython3",
   "version": "3.12.7"
  }
 },
 "nbformat": 4,
 "nbformat_minor": 5
}

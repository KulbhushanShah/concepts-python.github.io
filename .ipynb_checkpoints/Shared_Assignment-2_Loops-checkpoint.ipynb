{
 "cells": [
  {
   "cell_type": "markdown",
   "id": "a69bddc9-7d76-4b8d-b3d8-d5f127948180",
   "metadata": {},
   "source": [
    "# Assignment-2: Loops"
   ]
  },
  {
   "cell_type": "markdown",
   "id": "00d32436-4f29-4b8f-a8e4-382de4a96b90",
   "metadata": {},
   "source": [
    "### Instructions: \n",
    "#### 1.Use any of the loop i.e. for or while to write the program for below questions. \n",
    "#### 2.Also take input from the User for question if Required(Hint: Use the input() function).\n",
    "#### 3.Do read the Note and Hint carefully before writing the programs."
   ]
  },
  {
   "cell_type": "markdown",
   "id": "03ba6e41-1a3c-46b8-ae84-88517119a499",
   "metadata": {},
   "source": [
    "   "
   ]
  },
  {
   "cell_type": "markdown",
   "id": "ed1d75b7-0051-4c34-8032-b4a12bbaf282",
   "metadata": {},
   "source": [
    "### Q1. Write a program to calculate sum of all numbers from 1 to a given number by user."
   ]
  },
  {
   "cell_type": "code",
   "execution_count": 47,
   "id": "72d7d25a-7432-4230-b670-b3e0e86be09f",
   "metadata": {},
   "outputs": [
    {
     "name": "stdin",
     "output_type": "stream",
     "text": [
      "enter a number 4\n"
     ]
    },
    {
     "name": "stdout",
     "output_type": "stream",
     "text": [
      "sum of all numbers from 1 to 4 is 8\n"
     ]
    }
   ],
   "source": [
    "#COMMENT: tried (wrong output)\n",
    "\n",
    "givenNumber = int(input('enter a number'))\n",
    "sumtotal = i = 1\n",
    "while i <= givenNumber:\n",
    "    sumtotal = i + givenNumber\n",
    "    i = i + 1\n",
    "print(f'sum of all numbers from 1 to {givenNumber} is {sumtotal}')"
   ]
  },
  {
   "cell_type": "code",
   "execution_count": 48,
   "id": "15c8558b-024b-47e8-8261-1d54ca3870f9",
   "metadata": {},
   "outputs": [
    {
     "name": "stdin",
     "output_type": "stream",
     "text": [
      "enter a number 4\n"
     ]
    },
    {
     "name": "stdout",
     "output_type": "stream",
     "text": [
      "sum of all numbers from 1 to 4 is 10\n"
     ]
    }
   ],
   "source": [
    "#COMMENT: googled\n",
    "\n",
    "givenNumber = int(input('enter a number'))\n",
    "sumtotal = 0 \n",
    "for i in range(1, givenNumber+1):\n",
    "    sumtotal = sumtotal + i\n",
    "print(f'sum of all numbers from 1 to {givenNumber} is {sumtotal}')"
   ]
  },
  {
   "cell_type": "markdown",
   "id": "55c8e378-6045-4cb8-8586-189887d8f9fc",
   "metadata": {},
   "source": [
    "### Q2. Write a program that prints all the numbers from 0 to 10 except 4 and 8."
   ]
  },
  {
   "cell_type": "code",
   "execution_count": 49,
   "id": "cbec1d36-18cc-48d2-9e32-4d53e1f8f914",
   "metadata": {},
   "outputs": [
    {
     "name": "stdout",
     "output_type": "stream",
     "text": [
      "0 1 2 3 5 6 7 9 10 "
     ]
    }
   ],
   "source": [
    "for i in range(0, 11):\n",
    "    if i == 4 or i == 8:\n",
    "        continue\n",
    "    else:\n",
    "        print(i, end = ' ')"
   ]
  },
  {
   "cell_type": "markdown",
   "id": "d564390d-1e0c-4151-bb1e-4eac9dcf4e06",
   "metadata": {},
   "source": [
    "### Q3. Write a program to Count the number of even and odd numbers from a series of numbers.[Note the series is provided below]"
   ]
  },
  {
   "cell_type": "code",
   "execution_count": 52,
   "id": "f455fbf7-383e-4944-98d5-606e0350c793",
   "metadata": {},
   "outputs": [
    {
     "name": "stdout",
     "output_type": "stream",
     "text": [
      "total even number is: 4, and odd number is: 4\n"
     ]
    }
   ],
   "source": [
    "numbers = (11,12,13,14,15,16,17,18)\n",
    "counteven = 0\n",
    "countodd = 0\n",
    "for num in numbers:\n",
    "    if num % 2 == 0:\n",
    "        counteven += 1\n",
    "    else:\n",
    "        countodd += 1\n",
    "print(f'total even number is: {counteven}, and odd number is: {countodd}')"
   ]
  },
  {
   "cell_type": "markdown",
   "id": "04c73066-d16d-4cac-887b-c570fb0362d5",
   "metadata": {},
   "source": [
    "### Q4. Write a program to Reverse an integer number.[Note: The integer number is provided below in the (number) variable use the same]"
   ]
  },
  {
   "cell_type": "code",
   "execution_count": 53,
   "id": "a9d3cca4-baa7-4fcc-902a-49f81c47b5ab",
   "metadata": {},
   "outputs": [
    {
     "name": "stdout",
     "output_type": "stream",
     "text": [
      "12765\n"
     ]
    }
   ],
   "source": [
    "#COMMENT: not statisfied\n",
    "\n",
    "number = 56721\n",
    "str1 = str(number)\n",
    "print(str1[::-1])"
   ]
  },
  {
   "cell_type": "code",
   "execution_count": null,
   "id": "e5b0db48-0597-4f5c-8b4c-1921f39eafa7",
   "metadata": {},
   "outputs": [],
   "source": [
    "#COMMENT: not statisfied\n",
    "\n",
    "number = 56721\n"
   ]
  },
  {
   "cell_type": "markdown",
   "id": "05cea1de-1e6d-48f4-a672-f36f31afe116",
   "metadata": {},
   "source": [
    "### Q5. Write a program to print all prime numbers between 0 and 50."
   ]
  },
  {
   "cell_type": "code",
   "execution_count": 26,
   "id": "e5b07a66-9fed-46bb-9aba-9d18dfb6ec67",
   "metadata": {},
   "outputs": [
    {
     "name": "stdout",
     "output_type": "stream",
     "text": [
      "0 1 2 3 4 5 6 7 8 9 10 11 12 13 14 15 16 17 18 19 20 21 22 23 24 25 26 27 28 29 30 31 32 33 34 35 36 37 38 39 40 41 42 43 44 45 46 47 48 49 50 "
     ]
    }
   ],
   "source": [
    "#COMMENT: tried (wrong output)\n",
    "\n",
    "num = 0\n",
    "while num < 51:\n",
    "    if num%1 == 0 or num%num == 0:\n",
    "        print(num, end = ' ')\n",
    "    else:\n",
    "        continue\n",
    "    num = num + 1"
   ]
  },
  {
   "cell_type": "markdown",
   "id": "68e293cf-b7b4-4630-9687-7240d461676d",
   "metadata": {},
   "source": [
    "### Q6. Write a program to check if the number entered by user is prime or not."
   ]
  },
  {
   "cell_type": "code",
   "execution_count": 202,
   "id": "53bbb990-ede9-4c91-95d4-a2631974850a",
   "metadata": {},
   "outputs": [
    {
     "name": "stdin",
     "output_type": "stream",
     "text": [
      "enter a prime number 5\n"
     ]
    },
    {
     "name": "stdout",
     "output_type": "stream",
     "text": [
      " 5 is a prime number\n"
     ]
    }
   ],
   "source": [
    "#COMMENT: tried (wrong output)\n",
    "\n",
    "primenum = int(input('enter a prime number'))\n",
    "\n",
    "while primenum>0:\n",
    "    if primenum%1 == 0:\n",
    "        print(f' {primenum} is a prime number')\n",
    "    else:\n",
    "        print(f' {primenum} is not a prime number')\n",
    "    break"
   ]
  },
  {
   "cell_type": "markdown",
   "id": "21a34d44-187f-4d74-9a60-93e16f44a4ec",
   "metadata": {},
   "source": [
    "### Q7. Write a program to check the validity of password entered by user.\n",
    "Parameters to Check:\n",
    "1. The first letter in Password must be an alphabet and ONLY the First letter should be in Capital.\n",
    "2. Password must be minimum of 8 characters and maximum of 14 characters\n",
    "3. Password must contain atleast one special character from given here.[Special characters: @,#,$,&,_]\n",
    "4. Password must contain atleast one digit.\n",
    "[Hint: Use isalpha() and isupper()]"
   ]
  },
  {
   "cell_type": "code",
   "execution_count": 90,
   "id": "f71ffc5d-890a-4fca-a2ad-abf6f3baef38",
   "metadata": {},
   "outputs": [
    {
     "name": "stdin",
     "output_type": "stream",
     "text": [
      "enter a password Pejrtj43i5\n"
     ]
    },
    {
     "name": "stdout",
     "output_type": "stream",
     "text": [
      "Password must contain atleast one special character from given here\n",
      "Password must contain atleast one digit.\n",
      "Password must contain atleast one special character from given here\n",
      "Password must contain atleast one digit.\n",
      "Password must contain atleast one special character from given here\n",
      "Password must contain atleast one digit.\n",
      "Password must contain atleast one special character from given here\n",
      "Password must contain atleast one digit.\n",
      "Password must contain atleast one special character from given here\n",
      "Password must contain atleast one digit.\n",
      "Password must contain atleast one special character from given here\n",
      "Password must contain atleast one digit.\n",
      "i.isdigit() i.isdigit() True  True\n",
      "i.isdigit() i.isdigit() True  True\n",
      "Password must contain atleast one special character from given here\n",
      "Password must contain atleast one digit.\n",
      "i.isdigit() i.isdigit() True  True\n"
     ]
    }
   ],
   "source": [
    "#COMMENT: tried (wrong output)\n",
    "# Gamaka@1234\n",
    "# gamaka#123\n",
    "\n",
    "import re\n",
    "enterpass = input('enter a password')\n",
    "specialchar = \"@#$&_!%?~\"\n",
    "\n",
    "if len(enterpass) >= 8 or len(enterpass) <= 14:\n",
    "    if enterpass[0].isupper() == True:\n",
    "        for i in enterpass:\n",
    "            if (i.isdigit() == True and i.isnumeric() == True):\n",
    "                print('i.isdigit() i.isdigit()',i.isdigit(), '', i.isnumeric())\n",
    "            else:\n",
    "                print('Password must contain atleast one special character from given here')\n",
    "                print('Password must contain atleast one digit.')\n",
    "            continue\n",
    "    else:\n",
    "        print('The first letter in Password must be a capital alphabet.')\n",
    "else:\n",
    "    print('Password must be of minimum of 8 characters and maximum of 14 characters')"
   ]
  },
  {
   "cell_type": "code",
   "execution_count": null,
   "id": "592714e9-4227-4f11-8a95-c38b94998988",
   "metadata": {},
   "outputs": [],
   "source": []
  }
 ],
 "metadata": {
  "kernelspec": {
   "display_name": "Python 3 (ipykernel)",
   "language": "python",
   "name": "python3"
  },
  "language_info": {
   "codemirror_mode": {
    "name": "ipython",
    "version": 3
   },
   "file_extension": ".py",
   "mimetype": "text/x-python",
   "name": "python",
   "nbconvert_exporter": "python",
   "pygments_lexer": "ipython3",
   "version": "3.12.7"
  }
 },
 "nbformat": 4,
 "nbformat_minor": 5
}

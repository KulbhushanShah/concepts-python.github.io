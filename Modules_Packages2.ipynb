{
 "cells": [
  {
   "cell_type": "code",
   "execution_count": 5,
   "id": "36c23e5b-337c-4982-be6b-7f5356988c18",
   "metadata": {},
   "outputs": [],
   "source": [
    "import calculator1 as Cal"
   ]
  },
  {
   "cell_type": "code",
   "execution_count": 6,
   "id": "deb57982-e540-47c0-9f01-c5aa0d346b79",
   "metadata": {},
   "outputs": [
    {
     "data": {
      "text/plain": [
       "10"
      ]
     },
     "execution_count": 6,
     "metadata": {},
     "output_type": "execute_result"
    }
   ],
   "source": [
    "Cal.add(4,6)"
   ]
  },
  {
   "cell_type": "code",
   "execution_count": 7,
   "id": "a06ba817-a951-41a8-a2d9-616498188438",
   "metadata": {},
   "outputs": [
    {
     "data": {
      "text/plain": [
       "4"
      ]
     },
     "execution_count": 7,
     "metadata": {},
     "output_type": "execute_result"
    }
   ],
   "source": [
    "Cal.sub(10,6)"
   ]
  },
  {
   "cell_type": "code",
   "execution_count": 1,
   "id": "ad2a45d0-62ff-4e96-9258-e93ddbc6dbd0",
   "metadata": {},
   "outputs": [],
   "source": [
    "# Alternative way to import functions\n",
    "from calculator1 import add,sub"
   ]
  },
  {
   "cell_type": "code",
   "execution_count": 2,
   "id": "0976b032-78c2-4bf2-af81-69002425f0a8",
   "metadata": {},
   "outputs": [
    {
     "data": {
      "text/plain": [
       "10"
      ]
     },
     "execution_count": 2,
     "metadata": {},
     "output_type": "execute_result"
    }
   ],
   "source": [
    "add(4,6)"
   ]
  },
  {
   "cell_type": "code",
   "execution_count": 3,
   "id": "f2ad5b33-97a5-474f-90af-12484bcf5910",
   "metadata": {},
   "outputs": [
    {
     "data": {
      "text/plain": [
       "1"
      ]
     },
     "execution_count": 3,
     "metadata": {},
     "output_type": "execute_result"
    }
   ],
   "source": [
    "sub(3,2)"
   ]
  },
  {
   "cell_type": "code",
   "execution_count": 1,
   "id": "fd36bc0d-3ba3-4960-98ac-eb92f88f318d",
   "metadata": {},
   "outputs": [],
   "source": [
    "from calculator1 import *"
   ]
  },
  {
   "cell_type": "code",
   "execution_count": 2,
   "id": "08c5d94f-d652-4ccc-b41e-baff98be7335",
   "metadata": {},
   "outputs": [
    {
     "data": {
      "text/plain": [
       "[1, 2, 3, 4]"
      ]
     },
     "execution_count": 2,
     "metadata": {},
     "output_type": "execute_result"
    }
   ],
   "source": [
    "list1"
   ]
  },
  {
   "cell_type": "code",
   "execution_count": 3,
   "id": "1733405b-a69e-4878-8343-6d92ba0241b8",
   "metadata": {},
   "outputs": [],
   "source": [
    "from calculator2 import *"
   ]
  },
  {
   "cell_type": "code",
   "execution_count": 4,
   "id": "d99a8d50-65d9-4229-93d6-ac44c7d67b8a",
   "metadata": {},
   "outputs": [
    {
     "data": {
      "text/plain": [
       "12"
      ]
     },
     "execution_count": 4,
     "metadata": {},
     "output_type": "execute_result"
    }
   ],
   "source": [
    "multiply(3,4)"
   ]
  },
  {
   "cell_type": "code",
   "execution_count": 5,
   "id": "63e4152d-627c-4150-b68e-7d1abc572a70",
   "metadata": {},
   "outputs": [
    {
     "data": {
      "text/plain": [
       "1.0"
      ]
     },
     "execution_count": 5,
     "metadata": {},
     "output_type": "execute_result"
    }
   ],
   "source": [
    "divide(5,5)"
   ]
  },
  {
   "cell_type": "markdown",
   "id": "83a591e7-7e83-4017-94e7-1ffd6ca4fe20",
   "metadata": {},
   "source": [
    "# Package:\n"
   ]
  },
  {
   "cell_type": "code",
   "execution_count": 1,
   "id": "d7b98a02-453f-4408-99ac-857c88e2c34c",
   "metadata": {},
   "outputs": [],
   "source": [
    "import Calculator.calculator1"
   ]
  },
  {
   "cell_type": "code",
   "execution_count": 2,
   "id": "230db236-24e2-4797-87cc-637009a17ea3",
   "metadata": {},
   "outputs": [
    {
     "data": {
      "text/plain": [
       "7"
      ]
     },
     "execution_count": 2,
     "metadata": {},
     "output_type": "execute_result"
    }
   ],
   "source": [
    "Calculator.calculator1.add(3,4)"
   ]
  },
  {
   "cell_type": "code",
   "execution_count": 3,
   "id": "efb00746-89bd-4c71-a069-41fe5333cf7a",
   "metadata": {},
   "outputs": [],
   "source": [
    "from Calculator.calculator2 import multiply"
   ]
  },
  {
   "cell_type": "code",
   "execution_count": 4,
   "id": "9cf64ffc-570c-408c-8580-95aa414c651d",
   "metadata": {},
   "outputs": [
    {
     "data": {
      "text/plain": [
       "12"
      ]
     },
     "execution_count": 4,
     "metadata": {},
     "output_type": "execute_result"
    }
   ],
   "source": [
    "multiply(3,4)"
   ]
  },
  {
   "cell_type": "code",
   "execution_count": 5,
   "id": "c9125515-98c4-4e7d-baf6-bfeb3ca0af5a",
   "metadata": {},
   "outputs": [],
   "source": [
    "from Calculator.calculator2 import *"
   ]
  },
  {
   "cell_type": "code",
   "execution_count": 6,
   "id": "3a5cfa10-708b-4541-9963-60e09bad1eaa",
   "metadata": {},
   "outputs": [
    {
     "data": {
      "text/plain": [
       "1.5"
      ]
     },
     "execution_count": 6,
     "metadata": {},
     "output_type": "execute_result"
    }
   ],
   "source": [
    "divide(3,2)"
   ]
  },
  {
   "cell_type": "code",
   "execution_count": null,
   "id": "2039f2e5-1ceb-4b53-b7d9-cfcb761a1d7c",
   "metadata": {},
   "outputs": [],
   "source": []
  }
 ],
 "metadata": {
  "kernelspec": {
   "display_name": "Python 3 (ipykernel)",
   "language": "python",
   "name": "python3"
  },
  "language_info": {
   "codemirror_mode": {
    "name": "ipython",
    "version": 3
   },
   "file_extension": ".py",
   "mimetype": "text/x-python",
   "name": "python",
   "nbconvert_exporter": "python",
   "pygments_lexer": "ipython3",
   "version": "3.12.7"
  }
 },
 "nbformat": 4,
 "nbformat_minor": 5
}

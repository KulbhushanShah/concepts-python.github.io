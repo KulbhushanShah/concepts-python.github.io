{
 "cells": [
  {
   "cell_type": "markdown",
   "id": "b2982c88-d6e6-45a9-9979-07f1884b6667",
   "metadata": {},
   "source": [
    "# Functions"
   ]
  },
  {
   "cell_type": "markdown",
   "id": "24242dae-d5f3-44b3-b156-374b76331e67",
   "metadata": {},
   "source": [
    "# Recursive function"
   ]
  },
  {
   "cell_type": "code",
   "execution_count": null,
   "id": "30adfd92-a3fc-43db-a403-654779bac7f0",
   "metadata": {},
   "outputs": [],
   "source": []
  },
  {
   "cell_type": "markdown",
   "id": "ec070984-1db6-4c75-8318-9251614976a3",
   "metadata": {},
   "source": [
    "# Lambda function"
   ]
  },
  {
   "cell_type": "code",
   "execution_count": 3,
   "id": "15f31755-ecfa-4f38-9034-b26f5dbc9d40",
   "metadata": {},
   "outputs": [],
   "source": [
    "f1 = lambda: print('hello')"
   ]
  },
  {
   "cell_type": "code",
   "execution_count": 4,
   "id": "d35aef77-fad6-40cc-adfb-19542db79b7b",
   "metadata": {},
   "outputs": [
    {
     "name": "stdout",
     "output_type": "stream",
     "text": [
      "hello\n"
     ]
    }
   ],
   "source": [
    "f1()"
   ]
  },
  {
   "cell_type": "code",
   "execution_count": 13,
   "id": "470e2b4a-d5e6-40c5-9494-ece1e3bb2982",
   "metadata": {},
   "outputs": [],
   "source": [
    "farg1 = lambda varg: print(f'hello, {varg}')"
   ]
  },
  {
   "cell_type": "code",
   "execution_count": 14,
   "id": "ce319d5c-db97-458c-b115-688142a4807d",
   "metadata": {},
   "outputs": [
    {
     "name": "stdout",
     "output_type": "stream",
     "text": [
      "hello, Kulbhushan\n"
     ]
    }
   ],
   "source": [
    "farg1('Kulbhushan')"
   ]
  },
  {
   "cell_type": "code",
   "execution_count": 15,
   "id": "9dc468ed-0e86-4136-8018-3055b1518e77",
   "metadata": {},
   "outputs": [
    {
     "name": "stdout",
     "output_type": "stream",
     "text": [
      "hello, [1, 2, 3, 4, 5]\n"
     ]
    }
   ],
   "source": [
    "farg1([1, 2, 3, 4, 5])"
   ]
  },
  {
   "cell_type": "code",
   "execution_count": 38,
   "id": "200a2e08-4302-4f26-9f43-e4c0d56dcf1d",
   "metadata": {},
   "outputs": [],
   "source": [
    "fsqr = lambda fsquar: print(f'square is, {fsquar*fsquar}')"
   ]
  },
  {
   "cell_type": "code",
   "execution_count": 39,
   "id": "11763a56-b978-4a37-8fc7-c361d108ba3d",
   "metadata": {},
   "outputs": [],
   "source": [
    "fsqr1 = lambda fsquar: fsquar**2 "
   ]
  },
  {
   "cell_type": "code",
   "execution_count": 40,
   "id": "cca16cf9-fab2-4198-b571-18c4a36c8e42",
   "metadata": {},
   "outputs": [
    {
     "name": "stdout",
     "output_type": "stream",
     "text": [
      "square is, 16\n"
     ]
    }
   ],
   "source": [
    "fsqr(4)"
   ]
  },
  {
   "cell_type": "code",
   "execution_count": 41,
   "id": "946e8ff0-109d-4270-b05b-c9143eaad47c",
   "metadata": {},
   "outputs": [
    {
     "data": {
      "text/plain": [
       "4"
      ]
     },
     "execution_count": 41,
     "metadata": {},
     "output_type": "execute_result"
    }
   ],
   "source": [
    "fsqr1(2)"
   ]
  },
  {
   "cell_type": "code",
   "execution_count": 31,
   "id": "ab8abbf1-395d-4e45-aa0c-41e1fdbdf57d",
   "metadata": {},
   "outputs": [
    {
     "data": {
      "text/plain": [
       "102"
      ]
     },
     "execution_count": 31,
     "metadata": {},
     "output_type": "execute_result"
    }
   ],
   "source": [
    "bigfun = lambda x, y: x if x > y else y\n",
    "bigfun(101, 102)"
   ]
  },
  {
   "cell_type": "code",
   "execution_count": 32,
   "id": "02d99c30-8b41-4028-bc04-00af7482e988",
   "metadata": {},
   "outputs": [
    {
     "data": {
      "text/plain": [
       "101"
      ]
     },
     "execution_count": 32,
     "metadata": {},
     "output_type": "execute_result"
    }
   ],
   "source": [
    "bigfun(101, 101) # y value is returned"
   ]
  },
  {
   "cell_type": "markdown",
   "id": "38ebd8e9-6b17-4c24-a225-bfd28d58fa48",
   "metadata": {},
   "source": [
    "# Filter function"
   ]
  },
  {
   "cell_type": "code",
   "execution_count": 43,
   "id": "edebf730-2ca3-46dd-91a3-1e4a5b8dbd2a",
   "metadata": {},
   "outputs": [],
   "source": [
    "list1 = [2, 3,4,5,6,6, 6,7, 8]\n",
    "def double(num):\n",
    "    return 2*num\n",
    "\n",
    "even_num_list = list(filter(double, list1))\n",
    "even_num_set = set(filter(double, list1))"
   ]
  },
  {
   "cell_type": "code",
   "execution_count": 58,
   "id": "fd1d1525-df98-49d6-b489-1d87aa5dd90e",
   "metadata": {},
   "outputs": [
    {
     "data": {
      "text/plain": [
       "[4, 6, 8, 10, 12, 12, 12, 14, 16]"
      ]
     },
     "execution_count": 58,
     "metadata": {},
     "output_type": "execute_result"
    }
   ],
   "source": [
    "even_num_list"
   ]
  },
  {
   "cell_type": "code",
   "execution_count": 59,
   "id": "d0858001-86a6-466c-897c-e93acc5de487",
   "metadata": {},
   "outputs": [
    {
     "data": {
      "text/plain": [
       "{4, 6, 8, 10, 12, 14, 16}"
      ]
     },
     "execution_count": 59,
     "metadata": {},
     "output_type": "execute_result"
    }
   ],
   "source": [
    "even_num_set"
   ]
  },
  {
   "cell_type": "markdown",
   "id": "f919bd3e-d242-4bac-b36a-9f6fbf591b98",
   "metadata": {},
   "source": [
    "# Map function"
   ]
  },
  {
   "cell_type": "code",
   "execution_count": 60,
   "id": "814999a2-e17a-4ffc-848e-0941f96349de",
   "metadata": {},
   "outputs": [],
   "source": [
    "list2 = [2, 3,4,5,6,6, 6,7, 8]\n",
    "even_num_list = list(map(lambda x:x*2, list1))\n",
    "even_num_set = set(map(lambda x:x*2, list2))\n",
    "even_num_tuple = tuple(map(lambda x:x*2, list2))"
   ]
  },
  {
   "cell_type": "code",
   "execution_count": 61,
   "id": "061f0691-36ce-4024-8f9f-45f82461a19b",
   "metadata": {},
   "outputs": [
    {
     "data": {
      "text/plain": [
       "[2, 3, 4, 5, 6, 6, 6, 7, 8]"
      ]
     },
     "execution_count": 61,
     "metadata": {},
     "output_type": "execute_result"
    }
   ],
   "source": [
    "list2"
   ]
  },
  {
   "cell_type": "code",
   "execution_count": 62,
   "id": "769a3712-fbfe-4b56-9a42-c6861eaf1c41",
   "metadata": {},
   "outputs": [
    {
     "data": {
      "text/plain": [
       "[4, 6, 8, 10, 12, 12, 12, 14, 16]"
      ]
     },
     "execution_count": 62,
     "metadata": {},
     "output_type": "execute_result"
    }
   ],
   "source": [
    "even_num_list"
   ]
  },
  {
   "cell_type": "code",
   "execution_count": 63,
   "id": "c348e6c1-08e5-419f-8813-b59d3056a27d",
   "metadata": {},
   "outputs": [
    {
     "data": {
      "text/plain": [
       "{4, 6, 8, 10, 12, 14, 16}"
      ]
     },
     "execution_count": 63,
     "metadata": {},
     "output_type": "execute_result"
    }
   ],
   "source": [
    "even_num_set"
   ]
  },
  {
   "cell_type": "code",
   "execution_count": 64,
   "id": "10384993-29e8-48ab-83bd-8f556eb31feb",
   "metadata": {},
   "outputs": [
    {
     "data": {
      "text/plain": [
       "(4, 6, 8, 10, 12, 12, 12, 14, 16)"
      ]
     },
     "execution_count": 64,
     "metadata": {},
     "output_type": "execute_result"
    }
   ],
   "source": [
    "even_num_tuple"
   ]
  },
  {
   "cell_type": "markdown",
   "id": "1f493b7f-b1ae-4b0a-bf43-88c397b0b531",
   "metadata": {},
   "source": [
    "# Reduce funtion"
   ]
  },
  {
   "cell_type": "code",
   "execution_count": 69,
   "id": "f3b04a46-f8cd-43d6-9377-14d4e0c1ed5d",
   "metadata": {},
   "outputs": [],
   "source": [
    "from functools import reduce"
   ]
  },
  {
   "cell_type": "code",
   "execution_count": 73,
   "id": "e583bd0a-fe9e-4eb8-a8af-7b5810b97b9d",
   "metadata": {},
   "outputs": [
    {
     "data": {
      "text/plain": [
       "21"
      ]
     },
     "execution_count": 73,
     "metadata": {},
     "output_type": "execute_result"
    }
   ],
   "source": [
    "# without lambda\n",
    "\n",
    "list3 = [1, 2, 3, 4, 5, 6]\n",
    "\n",
    "def addFun(x, y):\n",
    "    return x + y\n",
    "\n",
    "reduce(addFun, list3)"
   ]
  },
  {
   "cell_type": "code",
   "execution_count": 75,
   "id": "286dbfb0-e31e-4379-b5a7-0de136edaab1",
   "metadata": {},
   "outputs": [
    {
     "data": {
      "text/plain": [
       "21"
      ]
     },
     "execution_count": 75,
     "metadata": {},
     "output_type": "execute_result"
    }
   ],
   "source": [
    "#with lambda\n",
    "\n",
    "list3 = [1, 2, 3, 4, 5, 6]\n",
    "reduce(lambda x,y: x+y, list3)"
   ]
  },
  {
   "cell_type": "code",
   "execution_count": null,
   "id": "537c9ff0-c428-4cc4-9a24-45f68fd478bf",
   "metadata": {},
   "outputs": [],
   "source": []
  }
 ],
 "metadata": {
  "kernelspec": {
   "display_name": "Python 3 (ipykernel)",
   "language": "python",
   "name": "python3"
  },
  "language_info": {
   "codemirror_mode": {
    "name": "ipython",
    "version": 3
   },
   "file_extension": ".py",
   "mimetype": "text/x-python",
   "name": "python",
   "nbconvert_exporter": "python",
   "pygments_lexer": "ipython3",
   "version": "3.12.7"
  }
 },
 "nbformat": 4,
 "nbformat_minor": 5
}

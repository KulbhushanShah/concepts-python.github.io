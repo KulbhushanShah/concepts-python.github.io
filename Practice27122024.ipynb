{
 "cells": [
  {
   "cell_type": "markdown",
   "id": "2fe3276e-a900-4f5c-9c0c-ef78494156bf",
   "metadata": {},
   "source": [
    "# Practice Session for Slicing"
   ]
  },
  {
   "cell_type": "code",
   "execution_count": 1,
   "id": "e1749234-b3f4-457b-80be-40da116a106a",
   "metadata": {},
   "outputs": [],
   "source": [
    "str1 = \"String Slicing in Python\""
   ]
  },
  {
   "cell_type": "code",
   "execution_count": 2,
   "id": "2544cb3c-5c97-44f6-83ae-61a68b8b1dc5",
   "metadata": {},
   "outputs": [
    {
     "data": {
      "text/plain": [
       "'g in '"
      ]
     },
     "execution_count": 2,
     "metadata": {},
     "output_type": "execute_result"
    }
   ],
   "source": [
    "str1[13:18]"
   ]
  },
  {
   "cell_type": "code",
   "execution_count": 3,
   "id": "0adefc56-a043-490d-8f8b-dcb1ce538e6f",
   "metadata": {},
   "outputs": [
    {
     "data": {
      "text/plain": [
       "'o'"
      ]
     },
     "execution_count": 3,
     "metadata": {},
     "output_type": "execute_result"
    }
   ],
   "source": [
    "str1[-2:-4:-2]"
   ]
  },
  {
   "cell_type": "code",
   "execution_count": 4,
   "id": "b96d99ea-fd08-4f2a-adf9-39295a20417b",
   "metadata": {},
   "outputs": [
    {
     "data": {
      "text/plain": [
       "'n n'"
      ]
     },
     "execution_count": 4,
     "metadata": {},
     "output_type": "execute_result"
    }
   ],
   "source": [
    "str1[12:18:2]"
   ]
  },
  {
   "cell_type": "code",
   "execution_count": 9,
   "id": "8d863856-c4cd-4353-ae6b-f1e6d79583e7",
   "metadata": {},
   "outputs": [
    {
     "data": {
      "text/plain": [
       "'Slicing in Pytho'"
      ]
     },
     "execution_count": 9,
     "metadata": {},
     "output_type": "execute_result"
    }
   ],
   "source": [
    "str1[-17: -1: 1]"
   ]
  },
  {
   "cell_type": "code",
   "execution_count": 6,
   "id": "4f97db58-1df5-491a-b747-72d2222a2175",
   "metadata": {},
   "outputs": [
    {
     "data": {
      "text/plain": [
       "'Pn ncl '"
      ]
     },
     "execution_count": 6,
     "metadata": {},
     "output_type": "execute_result"
    }
   ],
   "source": [
    "str1[-6:-20:-2] #P n g i i S g"
   ]
  },
  {
   "cell_type": "code",
   "execution_count": 7,
   "id": "310c506f-b6fa-4b36-8878-b07145ed36a0",
   "metadata": {},
   "outputs": [
    {
     "data": {
      "text/plain": [
       "'Si '"
      ]
     },
     "execution_count": 7,
     "metadata": {},
     "output_type": "execute_result"
    }
   ],
   "source": [
    "str1[0:9:3]"
   ]
  },
  {
   "cell_type": "code",
   "execution_count": 10,
   "id": "3703ea11-97a0-4587-993e-d69628f0c040",
   "metadata": {},
   "outputs": [
    {
     "data": {
      "text/plain": [
       "'ython'"
      ]
     },
     "execution_count": 10,
     "metadata": {},
     "output_type": "execute_result"
    }
   ],
   "source": [
    "str1[19:29]"
   ]
  },
  {
   "cell_type": "code",
   "execution_count": 11,
   "id": "a87a6933-310b-4844-b3c6-83d984b7726e",
   "metadata": {},
   "outputs": [
    {
     "data": {
      "text/plain": [
       "'P'"
      ]
     },
     "execution_count": 11,
     "metadata": {},
     "output_type": "execute_result"
    }
   ],
   "source": [
    "str1[-6:-9:-3]"
   ]
  },
  {
   "cell_type": "code",
   "execution_count": 13,
   "id": "ae763415-6b34-4f48-87c9-2cfd98f315ac",
   "metadata": {},
   "outputs": [
    {
     "data": {
      "text/plain": [
       "'i gnicilS gnir'"
      ]
     },
     "execution_count": 13,
     "metadata": {},
     "output_type": "execute_result"
    }
   ],
   "source": [
    "str1[-9:1:-1]"
   ]
  },
  {
   "cell_type": "code",
   "execution_count": 14,
   "id": "e0aad51c-1866-42df-82a9-ca9ff7157aed",
   "metadata": {},
   "outputs": [
    {
     "data": {
      "text/plain": [
       "''"
      ]
     },
     "execution_count": 14,
     "metadata": {},
     "output_type": "execute_result"
    }
   ],
   "source": [
    "str1[-9:1:1]"
   ]
  }
 ],
 "metadata": {
  "kernelspec": {
   "display_name": "Python 3 (ipykernel)",
   "language": "python",
   "name": "python3"
  },
  "language_info": {
   "codemirror_mode": {
    "name": "ipython",
    "version": 3
   },
   "file_extension": ".py",
   "mimetype": "text/x-python",
   "name": "python",
   "nbconvert_exporter": "python",
   "pygments_lexer": "ipython3",
   "version": "3.12.7"
  }
 },
 "nbformat": 4,
 "nbformat_minor": 5
}

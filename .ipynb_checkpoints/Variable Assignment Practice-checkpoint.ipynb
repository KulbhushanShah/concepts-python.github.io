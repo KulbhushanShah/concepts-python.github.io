{
 "cells": [
  {
   "cell_type": "markdown",
   "id": "8a562c8d-b023-4be7-bcb7-85a1d7b51d95",
   "metadata": {},
   "source": [
    "# Variable Assignment (using = operator)"
   ]
  },
  {
   "cell_type": "markdown",
   "id": "4afca7e9-35e6-48fe-bc24-daabd728a5b4",
   "metadata": {},
   "source": [
    "### Integer data type"
   ]
  },
  {
   "cell_type": "code",
   "execution_count": 10,
   "id": "2a624b53-bdee-4eca-9691-58a9cfe23c8a",
   "metadata": {},
   "outputs": [],
   "source": [
    "var1 = 10 "
   ]
  },
  {
   "cell_type": "markdown",
   "id": "2c683687-63a8-46ac-b66c-1c7103cb1a38",
   "metadata": {},
   "source": [
    "### String data type"
   ]
  },
  {
   "cell_type": "code",
   "execution_count": 29,
   "id": "383fd298-5185-4e37-8801-b0aceb8b9fd5",
   "metadata": {},
   "outputs": [],
   "source": [
    "var2 = \"String\" "
   ]
  },
  {
   "cell_type": "markdown",
   "id": "38d4649e-f2e1-40e6-bbe0-230cdceb6cad",
   "metadata": {},
   "source": [
    "### Float data type"
   ]
  },
  {
   "cell_type": "code",
   "execution_count": 12,
   "id": "d1613af2-fa5d-45e7-937a-fe2699e7757e",
   "metadata": {},
   "outputs": [],
   "source": [
    "var3 = 10.53 "
   ]
  },
  {
   "cell_type": "markdown",
   "id": "40bd46ab-1e19-4375-9979-ab4543014eeb",
   "metadata": {},
   "source": [
    "### Boolean data type"
   ]
  },
  {
   "cell_type": "code",
   "execution_count": 13,
   "id": "d14a4e61-eb0c-409a-b49e-cfa50d48226d",
   "metadata": {},
   "outputs": [],
   "source": [
    "var4 = True "
   ]
  },
  {
   "cell_type": "markdown",
   "id": "bc210644-efc5-4d11-a02f-7ec08e6e9a20",
   "metadata": {},
   "source": [
    "### To assign same value to multiple variables"
   ]
  },
  {
   "cell_type": "code",
   "execution_count": 15,
   "id": "c1ebe864-4201-45cc-bed6-62617476191d",
   "metadata": {},
   "outputs": [],
   "source": [
    "var5 = var6 = var7 = \"Hello World!\""
   ]
  },
  {
   "cell_type": "markdown",
   "id": "67d3b278-6308-4090-b2a0-6c5ef64db98e",
   "metadata": {},
   "source": [
    "### To assign different values to different variables"
   ]
  },
  {
   "cell_type": "code",
   "execution_count": 16,
   "id": "38d1c61e-a7f2-49d6-b7af-7add606cd531",
   "metadata": {},
   "outputs": [],
   "source": [
    "var8, var9, var10 = 12, 34.53, \"String data type\""
   ]
  },
  {
   "cell_type": "markdown",
   "id": "57552d57-ba11-4d69-8b91-da8a9842240e",
   "metadata": {},
   "source": [
    "### To find the type of a variable"
   ]
  },
  {
   "cell_type": "code",
   "execution_count": 17,
   "id": "4b212db8-8591-4369-bb51-457a811b9cc8",
   "metadata": {},
   "outputs": [
    {
     "data": {
      "text/plain": [
       "int"
      ]
     },
     "execution_count": 17,
     "metadata": {},
     "output_type": "execute_result"
    }
   ],
   "source": [
    "type(var1)"
   ]
  },
  {
   "cell_type": "code",
   "execution_count": 20,
   "id": "f27cc303-0889-4a0b-862c-c1a6f4bb7d90",
   "metadata": {},
   "outputs": [
    {
     "data": {
      "text/plain": [
       "str"
      ]
     },
     "execution_count": 20,
     "metadata": {},
     "output_type": "execute_result"
    }
   ],
   "source": [
    "type(var2)"
   ]
  },
  {
   "cell_type": "code",
   "execution_count": 21,
   "id": "23055199-3f00-4103-9288-38ad5aa9158d",
   "metadata": {},
   "outputs": [
    {
     "data": {
      "text/plain": [
       "float"
      ]
     },
     "execution_count": 21,
     "metadata": {},
     "output_type": "execute_result"
    }
   ],
   "source": [
    "type(var3)"
   ]
  },
  {
   "cell_type": "code",
   "execution_count": 22,
   "id": "0e165b6d-761d-43db-ae18-ae85249f735c",
   "metadata": {},
   "outputs": [
    {
     "data": {
      "text/plain": [
       "bool"
      ]
     },
     "execution_count": 22,
     "metadata": {},
     "output_type": "execute_result"
    }
   ],
   "source": [
    "type(var4)"
   ]
  },
  {
   "cell_type": "code",
   "execution_count": 23,
   "id": "62cf18e1-cbbe-4702-bfc2-6b5314003af3",
   "metadata": {},
   "outputs": [
    {
     "data": {
      "text/plain": [
       "str"
      ]
     },
     "execution_count": 23,
     "metadata": {},
     "output_type": "execute_result"
    }
   ],
   "source": [
    "type(var5)"
   ]
  },
  {
   "cell_type": "code",
   "execution_count": 24,
   "id": "eaf4d90d-fd23-40c6-9d90-6b5de0edc141",
   "metadata": {},
   "outputs": [
    {
     "data": {
      "text/plain": [
       "str"
      ]
     },
     "execution_count": 24,
     "metadata": {},
     "output_type": "execute_result"
    }
   ],
   "source": [
    "type(var6)"
   ]
  },
  {
   "cell_type": "code",
   "execution_count": 25,
   "id": "8929d5bb-175a-4208-9dc0-1c5faf03b1eb",
   "metadata": {},
   "outputs": [
    {
     "data": {
      "text/plain": [
       "str"
      ]
     },
     "execution_count": 25,
     "metadata": {},
     "output_type": "execute_result"
    }
   ],
   "source": [
    "type(var7)"
   ]
  },
  {
   "cell_type": "code",
   "execution_count": 26,
   "id": "fc461325-b4ad-4446-a1cc-cfbc0b7e11d0",
   "metadata": {},
   "outputs": [
    {
     "data": {
      "text/plain": [
       "int"
      ]
     },
     "execution_count": 26,
     "metadata": {},
     "output_type": "execute_result"
    }
   ],
   "source": [
    "type(var8)"
   ]
  },
  {
   "cell_type": "code",
   "execution_count": 27,
   "id": "5a45d2d9-4352-4e7f-991c-f576f7019411",
   "metadata": {},
   "outputs": [
    {
     "data": {
      "text/plain": [
       "float"
      ]
     },
     "execution_count": 27,
     "metadata": {},
     "output_type": "execute_result"
    }
   ],
   "source": [
    "type(var9)"
   ]
  },
  {
   "cell_type": "code",
   "execution_count": 28,
   "id": "c03c9b95-12be-411c-93b3-03cb5ab0ab06",
   "metadata": {},
   "outputs": [
    {
     "data": {
      "text/plain": [
       "str"
      ]
     },
     "execution_count": 28,
     "metadata": {},
     "output_type": "execute_result"
    }
   ],
   "source": [
    "type(var10)"
   ]
  },
  {
   "cell_type": "code",
   "execution_count": null,
   "id": "029c21cd-7bba-47e1-9f2d-42e0b4f374c5",
   "metadata": {},
   "outputs": [],
   "source": []
  }
 ],
 "metadata": {
  "kernelspec": {
   "display_name": "Python 3 (ipykernel)",
   "language": "python",
   "name": "python3"
  },
  "language_info": {
   "codemirror_mode": {
    "name": "ipython",
    "version": 3
   },
   "file_extension": ".py",
   "mimetype": "text/x-python",
   "name": "python",
   "nbconvert_exporter": "python",
   "pygments_lexer": "ipython3",
   "version": "3.12.7"
  }
 },
 "nbformat": 4,
 "nbformat_minor": 5
}

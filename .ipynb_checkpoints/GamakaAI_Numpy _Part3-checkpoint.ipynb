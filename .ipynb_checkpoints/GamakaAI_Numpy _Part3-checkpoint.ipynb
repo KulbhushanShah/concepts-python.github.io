{
 "cells": [
  {
   "cell_type": "code",
   "execution_count": 1,
   "id": "2e9cd10e",
   "metadata": {},
   "outputs": [],
   "source": [
    "import numpy as np"
   ]
  },
  {
   "cell_type": "markdown",
   "id": "14f38c06",
   "metadata": {},
   "source": [
    "# Indexing and Slicing of NumPy array\n",
    "\n",
    "So far, we have seen how to create a NumPy array and how to play around with its shape. In this section, we will see how to extract specific values from the array using indexing and slicing.\n",
    "\n",
    "Slicing means retrieving elements from one index to another index.\n",
    "\n",
    "                       [start:end:step-size]."
   ]
  },
  {
   "cell_type": "code",
   "execution_count": 2,
   "id": "bda00f56",
   "metadata": {},
   "outputs": [
    {
     "name": "stdout",
     "output_type": "stream",
     "text": [
      "[3 6]\n"
     ]
    }
   ],
   "source": [
    "a = np.array([1,2,3,4,5,6])\n",
    "print(a[2:6:3])"
   ]
  },
  {
   "cell_type": "code",
   "execution_count": 3,
   "id": "060597d7",
   "metadata": {},
   "outputs": [
    {
     "name": "stdout",
     "output_type": "stream",
     "text": [
      "[2 4 6]\n"
     ]
    }
   ],
   "source": [
    "a = np.array([1,2,3,4,5,6])\n",
    "print(a[1:6:2])"
   ]
  },
  {
   "cell_type": "markdown",
   "id": "a8990841",
   "metadata": {},
   "source": [
    "If you don’t specify the start or end index, it is taken as 0 or array size, respectively, as default.\n",
    "\n",
    "And the step-size by default is 1."
   ]
  },
  {
   "cell_type": "code",
   "execution_count": 4,
   "id": "a6e8287a",
   "metadata": {},
   "outputs": [
    {
     "name": "stdout",
     "output_type": "stream",
     "text": [
      "[1 4]\n",
      "[2 4 6]\n",
      "[2 3 4 5 6]\n"
     ]
    }
   ],
   "source": [
    "a = np.array([1,2,3,4,5,6])\n",
    "print(a[:6:3])\n",
    "print(a[1::2])\n",
    "print(a[1:6:])"
   ]
  },
  {
   "cell_type": "code",
   "execution_count": 5,
   "id": "a6952371",
   "metadata": {},
   "outputs": [
    {
     "name": "stdout",
     "output_type": "stream",
     "text": [
      "1\n",
      "6\n",
      "4\n"
     ]
    }
   ],
   "source": [
    "a = np.array([[1,2,3],[4,5,6]])\n",
    "print(a[0,0])\n",
    "print(a[1,2])\n",
    "print(a[1,0])"
   ]
  },
  {
   "cell_type": "markdown",
   "id": "e5ee6b43",
   "metadata": {},
   "source": [
    "# Slicing 2-D NumPy arrays"
   ]
  },
  {
   "cell_type": "markdown",
   "id": "0bd148f1",
   "metadata": {},
   "source": [
    "To slice a 2-D array, you need to mention the slices for both, the row and the column:"
   ]
  },
  {
   "cell_type": "code",
   "execution_count": 6,
   "id": "a3d426ca",
   "metadata": {},
   "outputs": [
    {
     "name": "stdout",
     "output_type": "stream",
     "text": [
      " 2DArray : \n",
      " [[ 1  2  3  9]\n",
      " [ 4  5  6  8]\n",
      " [ 7  8  9  7]\n",
      " [ 7  8  9 11]]\n",
      "First row values : \n",
      " [[4 5 6]\n",
      " [7 8 9]]\n"
     ]
    }
   ],
   "source": [
    "a = np.array([[1,2,3,9],[4,5,6,8],[7,8,9,7],[7,8,9,11]])\n",
    "# print first row values\n",
    "print(' 2DArray :','\\n',a)\n",
    "print('First row values :','\\n',a[1:3,0:3])"
   ]
  },
  {
   "cell_type": "code",
   "execution_count": 7,
   "id": "e2d6012a",
   "metadata": {},
   "outputs": [
    {
     "name": "stdout",
     "output_type": "stream",
     "text": [
      " 2DArray : \n",
      " [[ 1  2  3  9]\n",
      " [ 4  5  6  8]\n",
      " [ 7  8  9  7]\n",
      " [ 7  8  9 11]]\n",
      "Second column values : \n",
      " [[ 2  3  9]\n",
      " [ 5  6  8]\n",
      " [ 8  9  7]\n",
      " [ 8  9 11]]\n"
     ]
    }
   ],
   "source": [
    "print(' 2DArray :','\\n',a)\n",
    "print('Second column values :','\\n',a[:,1:])"
   ]
  },
  {
   "cell_type": "code",
   "execution_count": 8,
   "id": "364a13e8",
   "metadata": {},
   "outputs": [
    {
     "name": "stdout",
     "output_type": "stream",
     "text": [
      " 2DArray : \n",
      " [[ 1  2  3  9]\n",
      " [ 4  5  6  8]\n",
      " [ 7  8  9  7]\n",
      " [ 7  8  9 11]]\n",
      "Alternate values from first row: \n",
      " [[1 3]\n",
      " [4 6]\n",
      " [7 9]]\n"
     ]
    }
   ],
   "source": [
    "print(' 2DArray :','\\n',a)\n",
    "# with step-size for columns\n",
    "print('Alternate values from first row:','\\n',a[0:3,::2])"
   ]
  },
  {
   "cell_type": "code",
   "execution_count": 9,
   "id": "d67bf9af",
   "metadata": {},
   "outputs": [
    {
     "name": "stdout",
     "output_type": "stream",
     "text": [
      "Arbitrary values : \n",
      " [[3]]\n"
     ]
    }
   ],
   "source": [
    "print('Arbitrary values :','\\n',a[0:1,2:3])"
   ]
  },
  {
   "cell_type": "markdown",
   "id": "f960e47b",
   "metadata": {},
   "source": [
    "# Negative slicing of NumPy arrays"
   ]
  },
  {
   "cell_type": "markdown",
   "id": "62b6eccb",
   "metadata": {},
   "source": [
    "Negative slicing prints elements from the end rather than the beginning."
   ]
  },
  {
   "cell_type": "code",
   "execution_count": 10,
   "id": "640c6bc3",
   "metadata": {},
   "outputs": [
    {
     "name": "stdout",
     "output_type": "stream",
     "text": [
      "[[ 1  2  3  4  5]\n",
      " [ 6  7  8  9 10]] \n",
      "\n",
      "[[10  9  8  7  6]\n",
      " [ 5  4  3  2  1]]\n"
     ]
    }
   ],
   "source": [
    "a = np.array([[1,2,3,4,5],[6,7,8,9,10]])\n",
    "print(a,'\\n')\n",
    "print(a[::-1,::-1])"
   ]
  },
  {
   "cell_type": "code",
   "execution_count": 11,
   "id": "357c4205",
   "metadata": {},
   "outputs": [
    {
     "name": "stdout",
     "output_type": "stream",
     "text": [
      "Original array : \n",
      " [[   1    2    3    4    5    8]\n",
      " [   6    7    8    9   10   78]\n",
      " [  16   17   18   19  110   76]\n",
      " [ 116  117  118  119 1110  176]\n",
      " [1116 1117 1118 1119  110 1176]]\n",
      "Reversed array : \n",
      " [[1176  110 1119 1118 1117 1116]\n",
      " [ 176 1110  119  118  117  116]\n",
      " [  76  110   19   18   17   16]\n",
      " [  78   10    9    8    7    6]\n",
      " [   8    5    4    3    2    1]]\n"
     ]
    }
   ],
   "source": [
    "a = np.array([[ 1,2,3,4,5,8],[6,7,8,9,10,78],[16,17,18,19,110,76], [116,117,118,119,1110,176], [1116,1117,1118,1119,110,1176]])\n",
    "print('Original array :','\\n',a)\n",
    "print('Reversed array :','\\n',a[::-1,::-1])"
   ]
  },
  {
   "cell_type": "markdown",
   "id": "843d56c9",
   "metadata": {},
   "source": [
    "# flip() method to reverse an ndarray."
   ]
  },
  {
   "cell_type": "code",
   "execution_count": 12,
   "id": "c8eeaaaf",
   "metadata": {},
   "outputs": [
    {
     "name": "stdout",
     "output_type": "stream",
     "text": [
      "Original array : \n",
      " [[ 1  2  3  4  5]\n",
      " [ 6  7  8  9 10]]\n",
      "Reversed array vertically : \n",
      " [[ 6  7  8  9 10]\n",
      " [ 1  2  3  4  5]]\n",
      "Reversed array horizontally : \n",
      " [[ 5  4  3  2  1]\n",
      " [10  9  8  7  6]]\n"
     ]
    }
   ],
   "source": [
    "a = np.array([[1,2,3,4,5],[6,7,8,9,10]])\n",
    "print('Original array :','\\n',a)\n",
    "print('Reversed array vertically :','\\n',np.flip(a,axis=0))\n",
    "print('Reversed array horizontally :','\\n',np.flip(a,axis=1))"
   ]
  },
  {
   "cell_type": "markdown",
   "id": "31c2d51e",
   "metadata": {},
   "source": [
    "# Stacking and Concatenating NumPy arrays\n",
    "\n",
    "Stacking ndarrays\n",
    "\n",
    "You can create a new array by combining existing arrays. This you can do in two ways:\n",
    "\n",
    "Either combine the arrays vertically (i.e. along the rows) using the vstack() method, thereby increasing the number of rows in the resulting array\n",
    "\n",
    "Or \n",
    "\n",
    "combine the arrays in a horizontal fashion (i.e. along the columns) using the hstack(), thereby increasing the number of columns in the resultant array"
   ]
  },
  {
   "attachments": {
    "Stacking%20%281%29.webp": {
     "image/webp": "[encoded data removed]"
    }
   },
   "cell_type": "markdown",
   "id": "055418f5",
   "metadata": {},
   "source": [
    "![Stacking%20%281%29.webp](attachment:Stacking%20%281%29.webp)"
   ]
  },
  {
   "cell_type": "code",
   "execution_count": 13,
   "id": "c32ac619",
   "metadata": {},
   "outputs": [
    {
     "name": "stdout",
     "output_type": "stream",
     "text": [
      "Array 1 : \n",
      " [0 1 2 3 4]\n",
      "Array 2 : \n",
      " [5 6 7 8 9]\n",
      "Vertical stacking : \n",
      " [[0 1 2 3 4]\n",
      " [5 6 7 8 9]]\n",
      "Horizontal stacking : \n",
      " [0 1 2 3 4 5 6 7 8 9]\n"
     ]
    }
   ],
   "source": [
    "a = np.arange(0,5)\n",
    "b = np.arange(5,10)\n",
    "print('Array 1 :','\\n',a)\n",
    "print('Array 2 :','\\n',b)\n",
    "print('Vertical stacking :','\\n',np.vstack((a,b)))\n",
    "print('Horizontal stacking :','\\n',np.hstack((a,b)))"
   ]
  },
  {
   "cell_type": "markdown",
   "id": "90064d28",
   "metadata": {},
   "source": [
    "A point to note here is that the axis along which you are combining the array should have the same size otherwise you are bound to get an error!"
   ]
  },
  {
   "cell_type": "code",
   "execution_count": 14,
   "id": "fb356d78",
   "metadata": {},
   "outputs": [
    {
     "name": "stdout",
     "output_type": "stream",
     "text": [
      "Array 1 : \n",
      " [0 1 2 3]\n",
      "Array 2 : \n",
      " [5 6 7 8]\n",
      "Vertical stacking : \n",
      " [[0 1 2 3]\n",
      " [5 6 7 8]]\n",
      "Horizontal stacking : \n",
      " [0 1 2 3 5 6 7 8]\n"
     ]
    }
   ],
   "source": [
    "a = np.arange(0,4)\n",
    "b = np.arange(5,9)\n",
    "print('Array 1 :','\\n',a)\n",
    "print('Array 2 :','\\n',b)\n",
    "print('Vertical stacking :','\\n',np.vstack((a,b)))\n",
    "print('Horizontal stacking :','\\n',np.hstack((a,b)))"
   ]
  },
  {
   "cell_type": "code",
   "execution_count": null,
   "id": "4a08a87f",
   "metadata": {},
   "outputs": [],
   "source": []
  }
 ],
 "metadata": {
  "kernelspec": {
   "display_name": "Python 3 (ipykernel)",
   "language": "python",
   "name": "python3"
  },
  "language_info": {
   "codemirror_mode": {
    "name": "ipython",
    "version": 3
   },
   "file_extension": ".py",
   "mimetype": "text/x-python",
   "name": "python",
   "nbconvert_exporter": "python",
   "pygments_lexer": "ipython3",
   "version": "3.12.7"
  }
 },
 "nbformat": 4,
 "nbformat_minor": 5
}

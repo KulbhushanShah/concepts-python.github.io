{
 "cells": [
  {
   "cell_type": "markdown",
   "id": "80221ee1-3cba-406c-b463-41b0d8a3a342",
   "metadata": {},
   "source": [
    "# While Loop"
   ]
  },
  {
   "cell_type": "code",
   "execution_count": 66,
   "id": "5b59fba6-e02c-4ebb-90c1-56b249480106",
   "metadata": {},
   "outputs": [
    {
     "name": "stdout",
     "output_type": "stream",
     "text": [
      "i is 1, i is 2, i is 3, i is 4, while ends here\n"
     ]
    }
   ],
   "source": [
    "i = 1\n",
    "while i<5:\n",
    "    print(f'i is {i},', end = ' ')\n",
    "    i += 1\n",
    "print('while ends here')"
   ]
  },
  {
   "cell_type": "code",
   "execution_count": 35,
   "id": "f93cefa3-2b87-4b39-bb89-941f767e04e6",
   "metadata": {},
   "outputs": [],
   "source": [
    "# Infinite loop: Do not execute this loop\n",
    "\n",
    "age = 32\n",
    "# while age>18:\n",
    "#    print(f'print age {age}')"
   ]
  },
  {
   "cell_type": "code",
   "execution_count": 65,
   "id": "0eb5603d-8cba-43a0-b21d-25dc481b3dbe",
   "metadata": {},
   "outputs": [
    {
     "name": "stdout",
     "output_type": "stream",
     "text": [
      "5 7 10 14 15 20 21 25 28 30 35 40 42 45 49 50 , while ends here\n"
     ]
    }
   ],
   "source": [
    "# print the numbers divisible by 7 or 5 to from 1 to 50 using while loop.\n",
    "i =  1\n",
    "while i<51:\n",
    "    if i%5 == 0 or i%7 == 0:\n",
    "        print(i , end = ' ')\n",
    "    i += 1\n",
    "print(', while ends here')"
   ]
  },
  {
   "cell_type": "code",
   "execution_count": 1,
   "id": "caf7a67c-8ff9-4283-afb6-7b4670de0a39",
   "metadata": {},
   "outputs": [
    {
     "data": {
      "text/plain": [
       "6"
      ]
     },
     "execution_count": 1,
     "metadata": {},
     "output_type": "execute_result"
    }
   ],
   "source": [
    "# length function\n",
    "\n",
    "list1 =  [1, 2, 3, 4, 5, 6]\n",
    "len(list1)"
   ]
  },
  {
   "cell_type": "code",
   "execution_count": 63,
   "id": "e63b9717-d79f-4215-ad2f-7085a414d117",
   "metadata": {},
   "outputs": [
    {
     "name": "stdout",
     "output_type": "stream",
     "text": [
      "3 is odd\n",
      "4 is even\n",
      "5 is odd\n",
      "6 is even\n",
      "7 is odd\n",
      "88 is even\n",
      "9 is odd\n",
      "4 is even\n",
      "67 is odd\n",
      "853 is odd\n",
      "24 is even\n",
      "while ends here\n"
     ]
    }
   ],
   "source": [
    "# Determine odd or even in the given list using while loop.\n",
    "list2 =  [3, 4, 5, 6, 7, 88, 9, 4, 67, 853, 24]\n",
    "ij = 0\n",
    "while ij < len(list2):\n",
    "    if list2[ij] % 2 == 0:\n",
    "        print(list2[ij],'is even')\n",
    "    else:\n",
    "        print(list2[ij],'is odd')\n",
    "    ij += 1\n",
    "print('while ends here')"
   ]
  },
  {
   "cell_type": "code",
   "execution_count": 61,
   "id": "d0f4f65d-8484-4554-bd2d-29a1689c473b",
   "metadata": {},
   "outputs": [
    {
     "name": "stdout",
     "output_type": "stream",
     "text": [
      "4 is even\n",
      "5 is odd\n",
      "6 is even\n",
      "7 is odd\n",
      "88 is even\n",
      "9 is odd\n",
      "4 is even\n",
      "67 is odd\n",
      "853 is odd\n",
      "while ends here\n"
     ]
    }
   ],
   "source": [
    "# Determine odd or even in the given list using while loop.\n",
    "list3 =  [4, 5, 6, 7, 88, 9, 4, 67, 853]\n",
    "index = 0\n",
    "while index < len(list3):\n",
    "    element = list3[index]\n",
    "    if element % 2 == 0:\n",
    "        print(element ,'is even')\n",
    "    else:\n",
    "        print(element,'is odd')\n",
    "    index = index + 1\n",
    "print('while ends here')"
   ]
  },
  {
   "cell_type": "code",
   "execution_count": null,
   "id": "c4ab5505-b419-4b67-b095-91202446b36e",
   "metadata": {},
   "outputs": [],
   "source": []
  }
 ],
 "metadata": {
  "kernelspec": {
   "display_name": "Python 3 (ipykernel)",
   "language": "python",
   "name": "python3"
  },
  "language_info": {
   "codemirror_mode": {
    "name": "ipython",
    "version": 3
   },
   "file_extension": ".py",
   "mimetype": "text/x-python",
   "name": "python",
   "nbconvert_exporter": "python",
   "pygments_lexer": "ipython3",
   "version": "3.12.7"
  }
 },
 "nbformat": 4,
 "nbformat_minor": 5
}

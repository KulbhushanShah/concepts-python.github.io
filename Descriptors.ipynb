{
 "cells": [
  {
   "cell_type": "code",
   "execution_count": 1,
   "id": "3568dcb9-fa6a-4858-a8f5-299b5a21dfea",
   "metadata": {},
   "outputs": [],
   "source": [
    "class Student():\n",
    "    age = None   # It indicates the attribute doesnt have any value."
   ]
  },
  {
   "cell_type": "code",
   "execution_count": 2,
   "id": "f936f533-5ff7-4aec-9b10-a286de527953",
   "metadata": {},
   "outputs": [
    {
     "name": "stdout",
     "output_type": "stream",
     "text": [
      "23\n"
     ]
    }
   ],
   "source": [
    "s1 = Student()\n",
    "s1.age = 23\n",
    "print(s1.age)"
   ]
  },
  {
   "cell_type": "code",
   "execution_count": 3,
   "id": "0a544248-c362-4a2b-b4aa-31e29a66adb7",
   "metadata": {},
   "outputs": [],
   "source": [
    "# Descriptor:\n",
    "class Student():\n",
    "    age = None\n",
    "    def getage(self):\n",
    "        print('Get is called')\n",
    "        return self._age\n",
    "    \n",
    "    def setage(self,age):\n",
    "        print('Set is called')\n",
    "        self._age = age\n",
    "\n",
    "    def delage(self):\n",
    "        print('Delete is called')\n",
    "        del self._age\n",
    "\n",
    "    age = property(getage,setage,delage)\n",
    "    "
   ]
  },
  {
   "cell_type": "code",
   "execution_count": 4,
   "id": "d699ed8f-029b-4a8a-9114-e6ce4c0ed337",
   "metadata": {},
   "outputs": [
    {
     "name": "stdout",
     "output_type": "stream",
     "text": [
      "Set is called\n",
      "Get is called\n",
      "34\n"
     ]
    }
   ],
   "source": [
    "s2 = Student()\n",
    "s2.age = 34\n",
    "print(s2.age)"
   ]
  },
  {
   "cell_type": "code",
   "execution_count": 5,
   "id": "79f89dfd-ebb8-4e54-9c2a-41edbe4b2f64",
   "metadata": {},
   "outputs": [
    {
     "name": "stdout",
     "output_type": "stream",
     "text": [
      "Delete is called\n"
     ]
    }
   ],
   "source": [
    "del s2.age"
   ]
  },
  {
   "cell_type": "code",
   "execution_count": 6,
   "id": "9e19d330-a83f-461f-b5ed-842e5b21aae6",
   "metadata": {},
   "outputs": [
    {
     "name": "stdout",
     "output_type": "stream",
     "text": [
      "Get is called\n"
     ]
    },
    {
     "ename": "AttributeError",
     "evalue": "'Student' object has no attribute '_age'",
     "output_type": "error",
     "traceback": [
      "\u001b[1;31m---------------------------------------------------------------------------\u001b[0m",
      "\u001b[1;31mAttributeError\u001b[0m                            Traceback (most recent call last)",
      "Cell \u001b[1;32mIn[6], line 1\u001b[0m\n\u001b[1;32m----> 1\u001b[0m \u001b[38;5;28mprint\u001b[39m(s2\u001b[38;5;241m.\u001b[39mage)\n",
      "Cell \u001b[1;32mIn[3], line 5\u001b[0m, in \u001b[0;36mStudent.getage\u001b[1;34m(self)\u001b[0m\n\u001b[0;32m      3\u001b[0m \u001b[38;5;28;01mdef\u001b[39;00m \u001b[38;5;21mgetage\u001b[39m(\u001b[38;5;28mself\u001b[39m):\n\u001b[0;32m      4\u001b[0m     \u001b[38;5;28mprint\u001b[39m(\u001b[38;5;124m'\u001b[39m\u001b[38;5;124mGet is called\u001b[39m\u001b[38;5;124m'\u001b[39m)\n\u001b[1;32m----> 5\u001b[0m     \u001b[38;5;28;01mreturn\u001b[39;00m \u001b[38;5;28mself\u001b[39m\u001b[38;5;241m.\u001b[39m_age\n",
      "\u001b[1;31mAttributeError\u001b[0m: 'Student' object has no attribute '_age'"
     ]
    }
   ],
   "source": [
    "print(s2.age)"
   ]
  },
  {
   "cell_type": "code",
   "execution_count": 8,
   "id": "251ffb59-fc61-421e-8153-a535e65d726c",
   "metadata": {},
   "outputs": [],
   "source": [
    "# Alternative Way:\n",
    "class Student2():\n",
    "    age = None\n",
    "    \n",
    "    @property\n",
    "    def age(self):\n",
    "        print('Get is called')\n",
    "        return self._age\n",
    "        \n",
    "    @age.setter\n",
    "    def age(self,age):\n",
    "        print('Set is called')\n",
    "        self._age = age\n",
    "    \n",
    "    @age.deleter\n",
    "    def age(self):\n",
    "        print('Delete is called')\n",
    "        del self._age"
   ]
  },
  {
   "cell_type": "code",
   "execution_count": 9,
   "id": "b7d03011-a3db-4c70-a699-528cebf25915",
   "metadata": {},
   "outputs": [
    {
     "name": "stdout",
     "output_type": "stream",
     "text": [
      "Set is called\n",
      "Get is called\n",
      "23\n",
      "Delete is called\n"
     ]
    }
   ],
   "source": [
    "s3 = Student2()\n",
    "s3.age = 23\n",
    "print(s3.age)\n",
    "del s3.age"
   ]
  },
  {
   "cell_type": "code",
   "execution_count": 12,
   "id": "fd444a13-4a70-44a0-9b41-dd610352cc24",
   "metadata": {},
   "outputs": [
    {
     "name": "stdout",
     "output_type": "stream",
     "text": [
      "Set is called\n",
      "Get is called\n",
      "-11\n",
      "Delete is called\n"
     ]
    }
   ],
   "source": [
    "s4 = Student2()\n",
    "s4.age = -11\n",
    "print(s4.age)\n",
    "del s4.age"
   ]
  },
  {
   "cell_type": "code",
   "execution_count": 15,
   "id": "47c79d7f-dd8f-40fc-9290-622fc791fab0",
   "metadata": {},
   "outputs": [],
   "source": [
    "# Validation:\n",
    "class Student3():\n",
    "    age = None\n",
    "    \n",
    "    @property\n",
    "    def age(self):\n",
    "        print('Get is called')\n",
    "        return self._age\n",
    "        \n",
    "    @age.setter\n",
    "    def age(self,age):\n",
    "        print('Set is called')\n",
    "        if isinstance(age,int) == False:\n",
    "            raise Exception('Enter numeric age')\n",
    "        elif age < 0:\n",
    "            raise Exception('Enter positive age')\n",
    "        else:\n",
    "            self._age = age\n",
    "    \n",
    "    @age.deleter\n",
    "    def age(self):\n",
    "        print('Delete is called')\n",
    "        del self._age"
   ]
  },
  {
   "cell_type": "code",
   "execution_count": 18,
   "id": "80327990-4961-49db-9b72-a37a52117e46",
   "metadata": {},
   "outputs": [
    {
     "name": "stdout",
     "output_type": "stream",
     "text": [
      "Set is called\n"
     ]
    },
    {
     "ename": "Exception",
     "evalue": "Enter numeric age",
     "output_type": "error",
     "traceback": [
      "\u001b[1;31m---------------------------------------------------------------------------\u001b[0m",
      "\u001b[1;31mException\u001b[0m                                 Traceback (most recent call last)",
      "Cell \u001b[1;32mIn[18], line 2\u001b[0m\n\u001b[0;32m      1\u001b[0m s6 \u001b[38;5;241m=\u001b[39m Student3()\n\u001b[1;32m----> 2\u001b[0m s6\u001b[38;5;241m.\u001b[39mage \u001b[38;5;241m=\u001b[39m \u001b[38;5;124m'\u001b[39m\u001b[38;5;124mww\u001b[39m\u001b[38;5;124m'\u001b[39m\n\u001b[0;32m      3\u001b[0m \u001b[38;5;28mprint\u001b[39m(s6\u001b[38;5;241m.\u001b[39mage)\n\u001b[0;32m      4\u001b[0m \u001b[38;5;28;01mdel\u001b[39;00m s6\u001b[38;5;241m.\u001b[39mage\n",
      "Cell \u001b[1;32mIn[15], line 14\u001b[0m, in \u001b[0;36mStudent3.age\u001b[1;34m(self, age)\u001b[0m\n\u001b[0;32m     12\u001b[0m \u001b[38;5;28mprint\u001b[39m(\u001b[38;5;124m'\u001b[39m\u001b[38;5;124mSet is called\u001b[39m\u001b[38;5;124m'\u001b[39m)\n\u001b[0;32m     13\u001b[0m \u001b[38;5;28;01mif\u001b[39;00m \u001b[38;5;28misinstance\u001b[39m(age,\u001b[38;5;28mint\u001b[39m) \u001b[38;5;241m==\u001b[39m \u001b[38;5;28;01mFalse\u001b[39;00m:\n\u001b[1;32m---> 14\u001b[0m     \u001b[38;5;28;01mraise\u001b[39;00m \u001b[38;5;167;01mException\u001b[39;00m(\u001b[38;5;124m'\u001b[39m\u001b[38;5;124mEnter numeric age\u001b[39m\u001b[38;5;124m'\u001b[39m)\n\u001b[0;32m     15\u001b[0m \u001b[38;5;28;01melif\u001b[39;00m age \u001b[38;5;241m<\u001b[39m \u001b[38;5;241m0\u001b[39m:\n\u001b[0;32m     16\u001b[0m     \u001b[38;5;28;01mraise\u001b[39;00m \u001b[38;5;167;01mException\u001b[39;00m(\u001b[38;5;124m'\u001b[39m\u001b[38;5;124mEnter positive age\u001b[39m\u001b[38;5;124m'\u001b[39m)\n",
      "\u001b[1;31mException\u001b[0m: Enter numeric age"
     ]
    }
   ],
   "source": [
    "s6 = Student3()\n",
    "s6.age = 'ww'\n",
    "print(s6.age)\n",
    "del s6.age"
   ]
  },
  {
   "cell_type": "code",
   "execution_count": 19,
   "id": "c9a75282-f5af-4973-a17b-b274bb9b081d",
   "metadata": {},
   "outputs": [],
   "source": [
    "# Create a descriptor to validate name. Name should be less than 30 and it should be string and 'Invalid Name'.\n",
    "class Student4():\n",
    "    name = None\n",
    "    \n",
    "    @property\n",
    "    def name(self):\n",
    "        print('Get is called')\n",
    "        return self._name\n",
    "        \n",
    "    @name.setter\n",
    "    def name(self,name):\n",
    "        print('Set is called')\n",
    "        if isinstance(name,str) == True and len(name) <=30:\n",
    "            self._name = name\n",
    "        else:\n",
    "            raise Exception('Invalid Name')\n",
    "    \n",
    "    @name.deleter\n",
    "    def name(self):\n",
    "        print('Delete is called')\n",
    "        del self._name"
   ]
  },
  {
   "cell_type": "code",
   "execution_count": 22,
   "id": "83fb6361-0824-40c6-928d-e5e086ea46e5",
   "metadata": {},
   "outputs": [
    {
     "name": "stdout",
     "output_type": "stream",
     "text": [
      "Set is called\n"
     ]
    },
    {
     "ename": "Exception",
     "evalue": "Invalid Name",
     "output_type": "error",
     "traceback": [
      "\u001b[1;31m---------------------------------------------------------------------------\u001b[0m",
      "\u001b[1;31mException\u001b[0m                                 Traceback (most recent call last)",
      "Cell \u001b[1;32mIn[22], line 2\u001b[0m\n\u001b[0;32m      1\u001b[0m s7 \u001b[38;5;241m=\u001b[39m Student4()\n\u001b[1;32m----> 2\u001b[0m s7\u001b[38;5;241m.\u001b[39mname \u001b[38;5;241m=\u001b[39m \u001b[38;5;124m'\u001b[39m\u001b[38;5;124mGamakdijfbeklfbwfnolwdnbckbckdbknknD\u001b[39m\u001b[38;5;124m'\u001b[39m\n\u001b[0;32m      3\u001b[0m \u001b[38;5;28mprint\u001b[39m(s7\u001b[38;5;241m.\u001b[39mname)\n\u001b[0;32m      4\u001b[0m \u001b[38;5;28;01mdel\u001b[39;00m s7\u001b[38;5;241m.\u001b[39mname\n",
      "Cell \u001b[1;32mIn[19], line 16\u001b[0m, in \u001b[0;36mStudent4.name\u001b[1;34m(self, name)\u001b[0m\n\u001b[0;32m     14\u001b[0m     \u001b[38;5;28mself\u001b[39m\u001b[38;5;241m.\u001b[39m_name \u001b[38;5;241m=\u001b[39m name\n\u001b[0;32m     15\u001b[0m \u001b[38;5;28;01melse\u001b[39;00m:\n\u001b[1;32m---> 16\u001b[0m     \u001b[38;5;28;01mraise\u001b[39;00m \u001b[38;5;167;01mException\u001b[39;00m(\u001b[38;5;124m'\u001b[39m\u001b[38;5;124mInvalid Name\u001b[39m\u001b[38;5;124m'\u001b[39m)\n",
      "\u001b[1;31mException\u001b[0m: Invalid Name"
     ]
    }
   ],
   "source": [
    "s7 = Student4()\n",
    "s7.name = 'GamakdijfbeklfbwfnolwdnbckbckdbknknD'\n",
    "print(s7.name)\n",
    "del s7.name"
   ]
  },
  {
   "cell_type": "code",
   "execution_count": null,
   "id": "c992d4ab-022c-4643-80b3-031fb2632944",
   "metadata": {},
   "outputs": [],
   "source": []
  }
 ],
 "metadata": {
  "kernelspec": {
   "display_name": "Python 3 (ipykernel)",
   "language": "python",
   "name": "python3"
  },
  "language_info": {
   "codemirror_mode": {
    "name": "ipython",
    "version": 3
   },
   "file_extension": ".py",
   "mimetype": "text/x-python",
   "name": "python",
   "nbconvert_exporter": "python",
   "pygments_lexer": "ipython3",
   "version": "3.12.7"
  }
 },
 "nbformat": 4,
 "nbformat_minor": 5
}

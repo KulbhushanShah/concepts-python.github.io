{
 "cells": [
  {
   "cell_type": "markdown",
   "id": "c069705d-e52d-415b-8fce-0323f20be495",
   "metadata": {},
   "source": [
    "# Number Data Type"
   ]
  },
  {
   "cell_type": "markdown",
   "id": "eaa385db-0064-4822-8595-44faf8b147ae",
   "metadata": {},
   "source": [
    "#### Integer, Float, Long, and Complex (are numeric data type)"
   ]
  },
  {
   "cell_type": "markdown",
   "id": "90f767b6-964f-4e88-a5b7-de29113058eb",
   "metadata": {},
   "source": [
    "### Integer"
   ]
  },
  {
   "cell_type": "code",
   "execution_count": 14,
   "id": "0b5b4a1c-d9be-425e-a286-cb6a0bf09874",
   "metadata": {},
   "outputs": [],
   "source": [
    "num1 = 10"
   ]
  },
  {
   "cell_type": "code",
   "execution_count": 15,
   "id": "5e751ccf-3cc7-4693-beff-bc98fe496276",
   "metadata": {},
   "outputs": [
    {
     "data": {
      "text/plain": [
       "10"
      ]
     },
     "execution_count": 15,
     "metadata": {},
     "output_type": "execute_result"
    }
   ],
   "source": [
    "num1"
   ]
  },
  {
   "cell_type": "markdown",
   "id": "b0224c7f-0a65-42ba-bba0-475585f0ca29",
   "metadata": {},
   "source": [
    "### Float"
   ]
  },
  {
   "cell_type": "code",
   "execution_count": 16,
   "id": "e18967b7-e383-42e7-a238-af967475f387",
   "metadata": {},
   "outputs": [],
   "source": [
    "float1 = 10.34"
   ]
  },
  {
   "cell_type": "code",
   "execution_count": 17,
   "id": "75f15f92-f367-44a8-8ded-01507bff6bb0",
   "metadata": {},
   "outputs": [
    {
     "data": {
      "text/plain": [
       "10.34"
      ]
     },
     "execution_count": 17,
     "metadata": {},
     "output_type": "execute_result"
    }
   ],
   "source": [
    "float1"
   ]
  },
  {
   "cell_type": "markdown",
   "id": "f6e38329-a88b-44b3-ab88-bae0feb7aa6f",
   "metadata": {},
   "source": [
    "### Long"
   ]
  },
  {
   "cell_type": "code",
   "execution_count": 18,
   "id": "467ae199-4db8-4257-8b80-2438a2af4088",
   "metadata": {},
   "outputs": [
    {
     "ename": "SyntaxError",
     "evalue": "invalid decimal literal (1530460337.py, line 1)",
     "output_type": "error",
     "traceback": [
      "\u001b[1;36m  Cell \u001b[1;32mIn[18], line 1\u001b[1;36m\u001b[0m\n\u001b[1;33m    long1 = 51924361l\u001b[0m\n\u001b[1;37m                   ^\u001b[0m\n\u001b[1;31mSyntaxError\u001b[0m\u001b[1;31m:\u001b[0m invalid decimal literal\n"
     ]
    }
   ],
   "source": [
    "long1 = 51924361l"
   ]
  },
  {
   "cell_type": "markdown",
   "id": "06b7dc02-9295-4693-89b7-47bba1aba45f",
   "metadata": {},
   "source": [
    "### Complex"
   ]
  },
  {
   "cell_type": "code",
   "execution_count": 24,
   "id": "17bd1963-5723-4708-952f-0ca215f5ab66",
   "metadata": {},
   "outputs": [],
   "source": [
    "comp1 = 3+4.5j"
   ]
  },
  {
   "cell_type": "code",
   "execution_count": 25,
   "id": "3452cb1f-e966-48dd-b8cd-70202cca8a7f",
   "metadata": {},
   "outputs": [
    {
     "data": {
      "text/plain": [
       "(3+4.5j)"
      ]
     },
     "execution_count": 25,
     "metadata": {},
     "output_type": "execute_result"
    }
   ],
   "source": [
    "comp1"
   ]
  },
  {
   "cell_type": "markdown",
   "id": "6a3ea529-dfa5-4b34-893a-6d8cdca47e94",
   "metadata": {},
   "source": [
    "### Delete the reference to a number object"
   ]
  },
  {
   "cell_type": "code",
   "execution_count": 27,
   "id": "ff38dd66-4e06-4f7b-8e60-02abeed4c953",
   "metadata": {},
   "outputs": [],
   "source": [
    "del comp1"
   ]
  },
  {
   "cell_type": "code",
   "execution_count": 28,
   "id": "caa2f5ce-e3ee-4525-bd37-8455fcf72de1",
   "metadata": {},
   "outputs": [
    {
     "ename": "NameError",
     "evalue": "name 'comp1' is not defined",
     "output_type": "error",
     "traceback": [
      "\u001b[1;31m---------------------------------------------------------------------------\u001b[0m",
      "\u001b[1;31mNameError\u001b[0m                                 Traceback (most recent call last)",
      "Cell \u001b[1;32mIn[28], line 1\u001b[0m\n\u001b[1;32m----> 1\u001b[0m comp1\n",
      "\u001b[1;31mNameError\u001b[0m: name 'comp1' is not defined"
     ]
    }
   ],
   "source": [
    "comp1"
   ]
  },
  {
   "cell_type": "code",
   "execution_count": 29,
   "id": "f448aa7c-e4c9-469b-b7ea-0095174a0512",
   "metadata": {},
   "outputs": [
    {
     "ename": "SyntaxError",
     "evalue": "invalid syntax (3821451377.py, line 1)",
     "output_type": "error",
     "traceback": [
      "\u001b[1;36m  Cell \u001b[1;32mIn[29], line 1\u001b[1;36m\u001b[0m\n\u001b[1;33m    del num1[, float1]\u001b[0m\n\u001b[1;37m             ^\u001b[0m\n\u001b[1;31mSyntaxError\u001b[0m\u001b[1;31m:\u001b[0m invalid syntax\n"
     ]
    }
   ],
   "source": [
    "del num1[, float1]"
   ]
  },
  {
   "cell_type": "code",
   "execution_count": null,
   "id": "68ef9540-6b45-420c-8c55-ec7b1790fc64",
   "metadata": {},
   "outputs": [],
   "source": []
  }
 ],
 "metadata": {
  "kernelspec": {
   "display_name": "Python 3 (ipykernel)",
   "language": "python",
   "name": "python3"
  },
  "language_info": {
   "codemirror_mode": {
    "name": "ipython",
    "version": 3
   },
   "file_extension": ".py",
   "mimetype": "text/x-python",
   "name": "python",
   "nbconvert_exporter": "python",
   "pygments_lexer": "ipython3",
   "version": "3.12.7"
  }
 },
 "nbformat": 4,
 "nbformat_minor": 5
}

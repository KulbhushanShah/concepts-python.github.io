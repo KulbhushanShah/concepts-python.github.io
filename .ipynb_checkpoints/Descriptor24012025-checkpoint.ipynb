{
 "cells": [
  {
   "cell_type": "markdown",
   "id": "0f8c126e-1b71-4176-822b-10c5dd2838f3",
   "metadata": {},
   "source": [
    "# Descriptor"
   ]
  },
  {
   "cell_type": "code",
   "execution_count": 1,
   "id": "9ab20daf-2c66-4bb8-be00-7a11ce91853e",
   "metadata": {},
   "outputs": [],
   "source": [
    "class Stud():\n",
    "    age = None"
   ]
  },
  {
   "cell_type": "code",
   "execution_count": 2,
   "id": "3d1a0eac-b046-4ad1-9e53-642e60000b86",
   "metadata": {},
   "outputs": [],
   "source": [
    "obj1 = Stud()"
   ]
  },
  {
   "cell_type": "code",
   "execution_count": 4,
   "id": "23f17428-dd6a-4147-a641-62ef3924f218",
   "metadata": {},
   "outputs": [
    {
     "name": "stdout",
     "output_type": "stream",
     "text": [
      "None\n"
     ]
    }
   ],
   "source": [
    "print(obj1.age)"
   ]
  },
  {
   "cell_type": "code",
   "execution_count": 5,
   "id": "cf8e0b48-e6f3-4f08-8ed9-e6a786c987ea",
   "metadata": {},
   "outputs": [],
   "source": [
    "obj1.age = 23"
   ]
  },
  {
   "cell_type": "code",
   "execution_count": 6,
   "id": "980005eb-25c1-4180-97fb-be38447d8d86",
   "metadata": {},
   "outputs": [
    {
     "name": "stdout",
     "output_type": "stream",
     "text": [
      "23\n"
     ]
    }
   ],
   "source": [
    "print(obj1.age)"
   ]
  },
  {
   "cell_type": "markdown",
   "id": "fad30ca7-5f1f-46a7-a29f-3179074b66bf",
   "metadata": {},
   "source": [
    "## Descriptor"
   ]
  },
  {
   "cell_type": "code",
   "execution_count": 65,
   "id": "6dccef90-7a42-4d8d-8e1a-b9732686ec5b",
   "metadata": {},
   "outputs": [],
   "source": [
    "# Descriptor\n",
    "class Stud_Det():\n",
    "    age = None\n",
    "    def get_age(self):\n",
    "        print('get the age')\n",
    "        return self._age\n",
    "    def set_age(self, age):\n",
    "        print('set the age')\n",
    "        self._age = age\n",
    "    def del_age(self):\n",
    "        print('delete the age')\n",
    "        del self._age\n",
    "    age = property(get_age, set_age, del_age)"
   ]
  },
  {
   "cell_type": "code",
   "execution_count": 26,
   "id": "0052ecdb-3709-4120-9d32-af6d2a65e3c0",
   "metadata": {},
   "outputs": [],
   "source": [
    "studobj = Stud_Det()"
   ]
  },
  {
   "cell_type": "code",
   "execution_count": 27,
   "id": "4dafd3e4-df88-43af-8ad6-cd545734c1dd",
   "metadata": {},
   "outputs": [
    {
     "name": "stdout",
     "output_type": "stream",
     "text": [
      "set the age\n"
     ]
    }
   ],
   "source": [
    "studobj.age = 34"
   ]
  },
  {
   "cell_type": "code",
   "execution_count": 28,
   "id": "901c9e55-6833-43ba-a196-213c457ac4cf",
   "metadata": {},
   "outputs": [
    {
     "name": "stdout",
     "output_type": "stream",
     "text": [
      "get the age\n",
      "34\n"
     ]
    }
   ],
   "source": [
    "print(studobj.age)"
   ]
  },
  {
   "cell_type": "code",
   "execution_count": 29,
   "id": "c0422f8e-bdc6-46a8-95f0-4401c54e7213",
   "metadata": {},
   "outputs": [
    {
     "name": "stdout",
     "output_type": "stream",
     "text": [
      "delete the age\n"
     ]
    }
   ],
   "source": [
    "del studobj.age"
   ]
  },
  {
   "cell_type": "code",
   "execution_count": 30,
   "id": "a196661b-0543-48f2-9979-4323495cae44",
   "metadata": {},
   "outputs": [
    {
     "name": "stdout",
     "output_type": "stream",
     "text": [
      "get the age\n"
     ]
    },
    {
     "ename": "AttributeError",
     "evalue": "'Stud_Det' object has no attribute '_age'",
     "output_type": "error",
     "traceback": [
      "\u001b[1;31m---------------------------------------------------------------------------\u001b[0m",
      "\u001b[1;31mAttributeError\u001b[0m                            Traceback (most recent call last)",
      "Cell \u001b[1;32mIn[30], line 1\u001b[0m\n\u001b[1;32m----> 1\u001b[0m \u001b[38;5;28mprint\u001b[39m(studobj\u001b[38;5;241m.\u001b[39mage)\n",
      "Cell \u001b[1;32mIn[25], line 7\u001b[0m, in \u001b[0;36mStud_Det.get_age\u001b[1;34m(self)\u001b[0m\n\u001b[0;32m      5\u001b[0m \u001b[38;5;28;01mdef\u001b[39;00m \u001b[38;5;21mget_age\u001b[39m(\u001b[38;5;28mself\u001b[39m):\n\u001b[0;32m      6\u001b[0m     \u001b[38;5;28mprint\u001b[39m(\u001b[38;5;124m'\u001b[39m\u001b[38;5;124mget the age\u001b[39m\u001b[38;5;124m'\u001b[39m)\n\u001b[1;32m----> 7\u001b[0m     \u001b[38;5;28;01mreturn\u001b[39;00m \u001b[38;5;28mself\u001b[39m\u001b[38;5;241m.\u001b[39m_age\n",
      "\u001b[1;31mAttributeError\u001b[0m: 'Stud_Det' object has no attribute '_age'"
     ]
    }
   ],
   "source": [
    "print(studobj.age)"
   ]
  },
  {
   "cell_type": "markdown",
   "id": "c8b6c039-1829-4306-8ec6-21d1c5c13606",
   "metadata": {},
   "source": [
    "## Alternative way to create a Descriptor"
   ]
  },
  {
   "cell_type": "code",
   "execution_count": 38,
   "id": "b17e2576-7911-4204-a081-85918187aec4",
   "metadata": {},
   "outputs": [],
   "source": [
    "# Alternative way to create a Descriptor\n",
    "# attribute and methods name should be same\n",
    "# methods name should be same\n",
    "# @property to be used above 'Get' method\n",
    "# @attribute/method_name.setter to be used above 'Set' method\n",
    "# @attribute/method_name.deleter to be used above 'Del' method\n",
    "\n",
    "class Stud_details():\n",
    "    age = None # method name and attribute name should be same\n",
    "\n",
    "    # methods name should be same\n",
    "    @property\n",
    "    def age(self): # method name and attribute name should be same\n",
    "        print('get the age')\n",
    "        return self._age\n",
    "\n",
    "    @age.setter\n",
    "    def age(self, age):\n",
    "        print('set the age')\n",
    "        self._age = age\n",
    "\n",
    "    @age.deleter\n",
    "    def age(self):\n",
    "        print('delete the age')\n",
    "        del self._age"
   ]
  },
  {
   "cell_type": "code",
   "execution_count": 39,
   "id": "e70a1a4c-59ef-413c-8c59-23924f9966fb",
   "metadata": {},
   "outputs": [],
   "source": [
    "sob = Stud_details()"
   ]
  },
  {
   "cell_type": "code",
   "execution_count": 40,
   "id": "877b1cf4-f8f6-4ea5-a623-0f841daf8f66",
   "metadata": {},
   "outputs": [
    {
     "name": "stdout",
     "output_type": "stream",
     "text": [
      "set the age\n",
      "get the age\n",
      "33\n",
      "delete the age\n"
     ]
    }
   ],
   "source": [
    "sob.age = 33\n",
    "print(sob.age)\n",
    "del sob.age"
   ]
  },
  {
   "cell_type": "markdown",
   "id": "3c7e102f-ef55-4d83-9d3a-760df56a57a4",
   "metadata": {},
   "source": [
    "## Validation using isinstance() function"
   ]
  },
  {
   "cell_type": "code",
   "execution_count": 41,
   "id": "2a0b04d1-2cc2-43d4-b05a-8b31fde05116",
   "metadata": {},
   "outputs": [],
   "source": [
    "# Validation using isinstance() function\n",
    "\n",
    "class St():\n",
    "    age = None # method name and attribute name should be same\n",
    "\n",
    "    # methods name should be same\n",
    "    @property\n",
    "    def age(self): # method name and attribute name should be same\n",
    "        print('get the age')\n",
    "        return self._age\n",
    "\n",
    "    @age.setter\n",
    "    def age(self, age):\n",
    "        print('set the age')\n",
    "        if isinstance(age, int) == False:\n",
    "            raise Exception('integer type Age is required')\n",
    "        elif age < 0:\n",
    "            raise Exception('Negative Age entered')\n",
    "        else:\n",
    "            self._age = age\n",
    "\n",
    "    @age.deleter\n",
    "    def age(self):\n",
    "        print('delete the age')\n",
    "        del self._age"
   ]
  },
  {
   "cell_type": "code",
   "execution_count": 59,
   "id": "05790f60-727b-43e9-bd3b-03ae299f55f3",
   "metadata": {},
   "outputs": [],
   "source": [
    "sob1 = St()"
   ]
  },
  {
   "cell_type": "code",
   "execution_count": 57,
   "id": "0f00ea64-bda6-46b1-a7d9-80a7b51d92ca",
   "metadata": {},
   "outputs": [
    {
     "name": "stdout",
     "output_type": "stream",
     "text": [
      "set the age\n"
     ]
    }
   ],
   "source": [
    "sob1.age = 33"
   ]
  },
  {
   "cell_type": "code",
   "execution_count": 60,
   "id": "06bc0f5d-ad16-45ee-b717-e0225265c044",
   "metadata": {},
   "outputs": [
    {
     "name": "stdout",
     "output_type": "stream",
     "text": [
      "get the age\n"
     ]
    },
    {
     "ename": "AttributeError",
     "evalue": "'St' object has no attribute '_age'",
     "output_type": "error",
     "traceback": [
      "\u001b[1;31m---------------------------------------------------------------------------\u001b[0m",
      "\u001b[1;31mAttributeError\u001b[0m                            Traceback (most recent call last)",
      "Cell \u001b[1;32mIn[60], line 1\u001b[0m\n\u001b[1;32m----> 1\u001b[0m \u001b[38;5;28mprint\u001b[39m(sob1\u001b[38;5;241m.\u001b[39mage)\n",
      "Cell \u001b[1;32mIn[41], line 8\u001b[0m, in \u001b[0;36mSt.age\u001b[1;34m(self)\u001b[0m\n\u001b[0;32m      5\u001b[0m \u001b[38;5;129m@property\u001b[39m\n\u001b[0;32m      6\u001b[0m \u001b[38;5;28;01mdef\u001b[39;00m \u001b[38;5;21mage\u001b[39m(\u001b[38;5;28mself\u001b[39m): \u001b[38;5;66;03m# method name and attribute name should be same\u001b[39;00m\n\u001b[0;32m      7\u001b[0m     \u001b[38;5;28mprint\u001b[39m(\u001b[38;5;124m'\u001b[39m\u001b[38;5;124mget the age\u001b[39m\u001b[38;5;124m'\u001b[39m)\n\u001b[1;32m----> 8\u001b[0m     \u001b[38;5;28;01mreturn\u001b[39;00m \u001b[38;5;28mself\u001b[39m\u001b[38;5;241m.\u001b[39m_age\n",
      "\u001b[1;31mAttributeError\u001b[0m: 'St' object has no attribute '_age'"
     ]
    }
   ],
   "source": [
    "print(sob1.age)"
   ]
  },
  {
   "cell_type": "code",
   "execution_count": 61,
   "id": "d7cdc6e1-45fb-4eb3-a281-231b798a9a71",
   "metadata": {},
   "outputs": [
    {
     "name": "stdout",
     "output_type": "stream",
     "text": [
      "set the age\n"
     ]
    },
    {
     "ename": "Exception",
     "evalue": "integer type Age is required",
     "output_type": "error",
     "traceback": [
      "\u001b[1;31m---------------------------------------------------------------------------\u001b[0m",
      "\u001b[1;31mException\u001b[0m                                 Traceback (most recent call last)",
      "Cell \u001b[1;32mIn[61], line 1\u001b[0m\n\u001b[1;32m----> 1\u001b[0m sob1\u001b[38;5;241m.\u001b[39mage \u001b[38;5;241m=\u001b[39m \u001b[38;5;124m'\u001b[39m\u001b[38;5;124mHello\u001b[39m\u001b[38;5;124m'\u001b[39m\n",
      "Cell \u001b[1;32mIn[41], line 14\u001b[0m, in \u001b[0;36mSt.age\u001b[1;34m(self, age)\u001b[0m\n\u001b[0;32m     12\u001b[0m \u001b[38;5;28mprint\u001b[39m(\u001b[38;5;124m'\u001b[39m\u001b[38;5;124mset the age\u001b[39m\u001b[38;5;124m'\u001b[39m)\n\u001b[0;32m     13\u001b[0m \u001b[38;5;28;01mif\u001b[39;00m \u001b[38;5;28misinstance\u001b[39m(age, \u001b[38;5;28mint\u001b[39m) \u001b[38;5;241m==\u001b[39m \u001b[38;5;28;01mFalse\u001b[39;00m:\n\u001b[1;32m---> 14\u001b[0m     \u001b[38;5;28;01mraise\u001b[39;00m \u001b[38;5;167;01mException\u001b[39;00m(\u001b[38;5;124m'\u001b[39m\u001b[38;5;124minteger type Age is required\u001b[39m\u001b[38;5;124m'\u001b[39m)\n\u001b[0;32m     15\u001b[0m \u001b[38;5;28;01melif\u001b[39;00m age \u001b[38;5;241m<\u001b[39m \u001b[38;5;241m0\u001b[39m:\n\u001b[0;32m     16\u001b[0m     \u001b[38;5;28;01mraise\u001b[39;00m \u001b[38;5;167;01mException\u001b[39;00m(\u001b[38;5;124m'\u001b[39m\u001b[38;5;124mNegative Age entered\u001b[39m\u001b[38;5;124m'\u001b[39m)\n",
      "\u001b[1;31mException\u001b[0m: integer type Age is required"
     ]
    }
   ],
   "source": [
    "sob1.age = 'Hello'"
   ]
  },
  {
   "cell_type": "code",
   "execution_count": 62,
   "id": "43fad187-57bc-4e92-8b09-1eb19e1eccd1",
   "metadata": {},
   "outputs": [
    {
     "name": "stdout",
     "output_type": "stream",
     "text": [
      "delete the age\n"
     ]
    },
    {
     "ename": "AttributeError",
     "evalue": "'St' object has no attribute '_age'",
     "output_type": "error",
     "traceback": [
      "\u001b[1;31m---------------------------------------------------------------------------\u001b[0m",
      "\u001b[1;31mAttributeError\u001b[0m                            Traceback (most recent call last)",
      "Cell \u001b[1;32mIn[62], line 1\u001b[0m\n\u001b[1;32m----> 1\u001b[0m \u001b[38;5;28;01mdel\u001b[39;00m sob1\u001b[38;5;241m.\u001b[39mage\n",
      "Cell \u001b[1;32mIn[41], line 23\u001b[0m, in \u001b[0;36mSt.age\u001b[1;34m(self)\u001b[0m\n\u001b[0;32m     20\u001b[0m \u001b[38;5;129m@age\u001b[39m\u001b[38;5;241m.\u001b[39mdeleter\n\u001b[0;32m     21\u001b[0m \u001b[38;5;28;01mdef\u001b[39;00m \u001b[38;5;21mage\u001b[39m(\u001b[38;5;28mself\u001b[39m):\n\u001b[0;32m     22\u001b[0m     \u001b[38;5;28mprint\u001b[39m(\u001b[38;5;124m'\u001b[39m\u001b[38;5;124mdelete the age\u001b[39m\u001b[38;5;124m'\u001b[39m)\n\u001b[1;32m---> 23\u001b[0m     \u001b[38;5;28;01mdel\u001b[39;00m \u001b[38;5;28mself\u001b[39m\u001b[38;5;241m.\u001b[39m_age\n",
      "\u001b[1;31mAttributeError\u001b[0m: 'St' object has no attribute '_age'"
     ]
    }
   ],
   "source": [
    "del sob1.age"
   ]
  },
  {
   "cell_type": "code",
   "execution_count": 63,
   "id": "b0af75ba-780c-431a-baa4-df69845f6b03",
   "metadata": {},
   "outputs": [
    {
     "name": "stdout",
     "output_type": "stream",
     "text": [
      "set the age\n"
     ]
    },
    {
     "ename": "Exception",
     "evalue": "Negative Age entered",
     "output_type": "error",
     "traceback": [
      "\u001b[1;31m---------------------------------------------------------------------------\u001b[0m",
      "\u001b[1;31mException\u001b[0m                                 Traceback (most recent call last)",
      "Cell \u001b[1;32mIn[63], line 1\u001b[0m\n\u001b[1;32m----> 1\u001b[0m sob1\u001b[38;5;241m.\u001b[39mage \u001b[38;5;241m=\u001b[39m \u001b[38;5;241m-\u001b[39m\u001b[38;5;241m33\u001b[39m\n",
      "Cell \u001b[1;32mIn[41], line 16\u001b[0m, in \u001b[0;36mSt.age\u001b[1;34m(self, age)\u001b[0m\n\u001b[0;32m     14\u001b[0m     \u001b[38;5;28;01mraise\u001b[39;00m \u001b[38;5;167;01mException\u001b[39;00m(\u001b[38;5;124m'\u001b[39m\u001b[38;5;124minteger type Age is required\u001b[39m\u001b[38;5;124m'\u001b[39m)\n\u001b[0;32m     15\u001b[0m \u001b[38;5;28;01melif\u001b[39;00m age \u001b[38;5;241m<\u001b[39m \u001b[38;5;241m0\u001b[39m:\n\u001b[1;32m---> 16\u001b[0m     \u001b[38;5;28;01mraise\u001b[39;00m \u001b[38;5;167;01mException\u001b[39;00m(\u001b[38;5;124m'\u001b[39m\u001b[38;5;124mNegative Age entered\u001b[39m\u001b[38;5;124m'\u001b[39m)\n\u001b[0;32m     17\u001b[0m \u001b[38;5;28;01melse\u001b[39;00m:\n\u001b[0;32m     18\u001b[0m     \u001b[38;5;28mself\u001b[39m\u001b[38;5;241m.\u001b[39m_age \u001b[38;5;241m=\u001b[39m age\n",
      "\u001b[1;31mException\u001b[0m: Negative Age entered"
     ]
    }
   ],
   "source": [
    "sob1.age = -33"
   ]
  },
  {
   "cell_type": "code",
   "execution_count": 64,
   "id": "485d73af-74bf-4520-baac-a59594f3a86c",
   "metadata": {},
   "outputs": [
    {
     "name": "stdout",
     "output_type": "stream",
     "text": [
      "set the age\n",
      "get the age\n",
      "33\n",
      "delete the age\n"
     ]
    }
   ],
   "source": [
    "sob1.age = 33\n",
    "print(sob1.age)\n",
    "del sob1.age"
   ]
  },
  {
   "cell_type": "markdown",
   "id": "5aefd080-0e38-4192-b324-fae7e22b3f79",
   "metadata": {},
   "source": [
    "## Example"
   ]
  },
  {
   "cell_type": "code",
   "execution_count": 103,
   "id": "3b282da7-e7cf-43f6-bcc7-91265a3cb091",
   "metadata": {},
   "outputs": [],
   "source": [
    "# Create a descriptor to validate Name attribute.\n",
    "# Name should be less than 30 character\n",
    "# Name should be a string\n",
    "\n",
    "class NameVal():\n",
    "    name = None # method name and attribute name should be same\n",
    "\n",
    "    # methods name should be same\n",
    "    @property\n",
    "    def name(self): # method name and attribute name should be same\n",
    "        print('get the _name')\n",
    "        return self._name\n",
    "\n",
    "    @name.setter\n",
    "    def name(self, name):\n",
    "        if isinstance(name, str) == False:\n",
    "            raise Exception('Invalid Name. String type _name is required')\n",
    "        elif len(name) > 30:\n",
    "            raise Exception('Invalid Name. characters entered are more than 30 for _name attribute. Less than 30 is required')\n",
    "        elif len(name) <= 0:\n",
    "            raise Exception('Invalid Name. black space/Null entered for _name attribute, Blankspace/null is not required')\n",
    "        else:\n",
    "            print('set the _name')\n",
    "            self._name = name\n",
    "\n",
    "    @name.deleter\n",
    "    def name(self):\n",
    "        print('delete the _name')\n",
    "        del self._name"
   ]
  },
  {
   "cell_type": "code",
   "execution_count": 104,
   "id": "458efeeb-781d-496a-b051-2579158509ad",
   "metadata": {},
   "outputs": [],
   "source": [
    "namobj = NameVal()"
   ]
  },
  {
   "cell_type": "code",
   "execution_count": 105,
   "id": "8ae25dd9-c9c5-416b-a491-e79dd7c7c795",
   "metadata": {},
   "outputs": [
    {
     "name": "stdout",
     "output_type": "stream",
     "text": [
      "set the _name\n"
     ]
    }
   ],
   "source": [
    "namobj.name = 'Hello'"
   ]
  },
  {
   "cell_type": "code",
   "execution_count": 106,
   "id": "b83f19ff-9aba-4a27-8022-ec523bbbc15a",
   "metadata": {},
   "outputs": [
    {
     "name": "stdout",
     "output_type": "stream",
     "text": [
      "get the _name\n",
      "Hello\n"
     ]
    }
   ],
   "source": [
    "print(namobj.name)"
   ]
  },
  {
   "cell_type": "code",
   "execution_count": 107,
   "id": "88d290b1-6731-4b9f-b12e-ac931d5d2fc8",
   "metadata": {},
   "outputs": [
    {
     "name": "stdout",
     "output_type": "stream",
     "text": [
      "delete the _name\n"
     ]
    }
   ],
   "source": [
    "del namobj.name"
   ]
  },
  {
   "cell_type": "code",
   "execution_count": 108,
   "id": "41e2c062-ff43-403c-9ff2-49c8633e8789",
   "metadata": {},
   "outputs": [
    {
     "ename": "Exception",
     "evalue": "Invalid Name. black space/Null entered for _name attribute, Blankspace/null is not required",
     "output_type": "error",
     "traceback": [
      "\u001b[1;31m---------------------------------------------------------------------------\u001b[0m",
      "\u001b[1;31mException\u001b[0m                                 Traceback (most recent call last)",
      "Cell \u001b[1;32mIn[108], line 1\u001b[0m\n\u001b[1;32m----> 1\u001b[0m namobj\u001b[38;5;241m.\u001b[39mname \u001b[38;5;241m=\u001b[39m \u001b[38;5;124m'\u001b[39m\u001b[38;5;124m'\u001b[39m\n",
      "Cell \u001b[1;32mIn[103], line 21\u001b[0m, in \u001b[0;36mNameVal.name\u001b[1;34m(self, name)\u001b[0m\n\u001b[0;32m     19\u001b[0m     \u001b[38;5;28;01mraise\u001b[39;00m \u001b[38;5;167;01mException\u001b[39;00m(\u001b[38;5;124m'\u001b[39m\u001b[38;5;124mInvalid Name. characters entered are more than 30 for _name attribute. Less than 30 is required\u001b[39m\u001b[38;5;124m'\u001b[39m)\n\u001b[0;32m     20\u001b[0m \u001b[38;5;28;01melif\u001b[39;00m \u001b[38;5;28mlen\u001b[39m(name) \u001b[38;5;241m<\u001b[39m\u001b[38;5;241m=\u001b[39m \u001b[38;5;241m0\u001b[39m:\n\u001b[1;32m---> 21\u001b[0m     \u001b[38;5;28;01mraise\u001b[39;00m \u001b[38;5;167;01mException\u001b[39;00m(\u001b[38;5;124m'\u001b[39m\u001b[38;5;124mInvalid Name. black space/Null entered for _name attribute, Blankspace/null is not required\u001b[39m\u001b[38;5;124m'\u001b[39m)\n\u001b[0;32m     22\u001b[0m \u001b[38;5;28;01melse\u001b[39;00m:\n\u001b[0;32m     23\u001b[0m     \u001b[38;5;28mprint\u001b[39m(\u001b[38;5;124m'\u001b[39m\u001b[38;5;124mset the _name\u001b[39m\u001b[38;5;124m'\u001b[39m)\n",
      "\u001b[1;31mException\u001b[0m: Invalid Name. black space/Null entered for _name attribute, Blankspace/null is not required"
     ]
    }
   ],
   "source": [
    "namobj.name = ''"
   ]
  },
  {
   "cell_type": "code",
   "execution_count": 109,
   "id": "100dc87d-8de6-4bbf-85be-d05f7cf75eda",
   "metadata": {},
   "outputs": [
    {
     "ename": "Exception",
     "evalue": "Invalid Name. String type _name is required",
     "output_type": "error",
     "traceback": [
      "\u001b[1;31m---------------------------------------------------------------------------\u001b[0m",
      "\u001b[1;31mException\u001b[0m                                 Traceback (most recent call last)",
      "Cell \u001b[1;32mIn[109], line 1\u001b[0m\n\u001b[1;32m----> 1\u001b[0m namobj\u001b[38;5;241m.\u001b[39mname \u001b[38;5;241m=\u001b[39m \u001b[38;5;241m36\u001b[39m\n",
      "Cell \u001b[1;32mIn[103], line 17\u001b[0m, in \u001b[0;36mNameVal.name\u001b[1;34m(self, name)\u001b[0m\n\u001b[0;32m     14\u001b[0m \u001b[38;5;129m@name\u001b[39m\u001b[38;5;241m.\u001b[39msetter\n\u001b[0;32m     15\u001b[0m \u001b[38;5;28;01mdef\u001b[39;00m \u001b[38;5;21mname\u001b[39m(\u001b[38;5;28mself\u001b[39m, name):\n\u001b[0;32m     16\u001b[0m     \u001b[38;5;28;01mif\u001b[39;00m \u001b[38;5;28misinstance\u001b[39m(name, \u001b[38;5;28mstr\u001b[39m) \u001b[38;5;241m==\u001b[39m \u001b[38;5;28;01mFalse\u001b[39;00m:\n\u001b[1;32m---> 17\u001b[0m         \u001b[38;5;28;01mraise\u001b[39;00m \u001b[38;5;167;01mException\u001b[39;00m(\u001b[38;5;124m'\u001b[39m\u001b[38;5;124mInvalid Name. String type _name is required\u001b[39m\u001b[38;5;124m'\u001b[39m)\n\u001b[0;32m     18\u001b[0m     \u001b[38;5;28;01melif\u001b[39;00m \u001b[38;5;28mlen\u001b[39m(name) \u001b[38;5;241m>\u001b[39m \u001b[38;5;241m30\u001b[39m:\n\u001b[0;32m     19\u001b[0m         \u001b[38;5;28;01mraise\u001b[39;00m \u001b[38;5;167;01mException\u001b[39;00m(\u001b[38;5;124m'\u001b[39m\u001b[38;5;124mInvalid Name. characters entered are more than 30 for _name attribute. Less than 30 is required\u001b[39m\u001b[38;5;124m'\u001b[39m)\n",
      "\u001b[1;31mException\u001b[0m: Invalid Name. String type _name is required"
     ]
    }
   ],
   "source": [
    "namobj.name = 36"
   ]
  },
  {
   "cell_type": "code",
   "execution_count": 110,
   "id": "00432e22-c11f-4984-9734-1dbe39851475",
   "metadata": {},
   "outputs": [
    {
     "ename": "Exception",
     "evalue": "Invalid Name. characters entered are more than 30 for _name attribute. Less than 30 is required",
     "output_type": "error",
     "traceback": [
      "\u001b[1;31m---------------------------------------------------------------------------\u001b[0m",
      "\u001b[1;31mException\u001b[0m                                 Traceback (most recent call last)",
      "Cell \u001b[1;32mIn[110], line 1\u001b[0m\n\u001b[1;32m----> 1\u001b[0m namobj\u001b[38;5;241m.\u001b[39mname \u001b[38;5;241m=\u001b[39m \u001b[38;5;124m'\u001b[39m\u001b[38;5;124mThis is just to piss the programm so that it can throw an error\u001b[39m\u001b[38;5;124m'\u001b[39m\n",
      "Cell \u001b[1;32mIn[103], line 19\u001b[0m, in \u001b[0;36mNameVal.name\u001b[1;34m(self, name)\u001b[0m\n\u001b[0;32m     17\u001b[0m     \u001b[38;5;28;01mraise\u001b[39;00m \u001b[38;5;167;01mException\u001b[39;00m(\u001b[38;5;124m'\u001b[39m\u001b[38;5;124mInvalid Name. String type _name is required\u001b[39m\u001b[38;5;124m'\u001b[39m)\n\u001b[0;32m     18\u001b[0m \u001b[38;5;28;01melif\u001b[39;00m \u001b[38;5;28mlen\u001b[39m(name) \u001b[38;5;241m>\u001b[39m \u001b[38;5;241m30\u001b[39m:\n\u001b[1;32m---> 19\u001b[0m     \u001b[38;5;28;01mraise\u001b[39;00m \u001b[38;5;167;01mException\u001b[39;00m(\u001b[38;5;124m'\u001b[39m\u001b[38;5;124mInvalid Name. characters entered are more than 30 for _name attribute. Less than 30 is required\u001b[39m\u001b[38;5;124m'\u001b[39m)\n\u001b[0;32m     20\u001b[0m \u001b[38;5;28;01melif\u001b[39;00m \u001b[38;5;28mlen\u001b[39m(name) \u001b[38;5;241m<\u001b[39m\u001b[38;5;241m=\u001b[39m \u001b[38;5;241m0\u001b[39m:\n\u001b[0;32m     21\u001b[0m     \u001b[38;5;28;01mraise\u001b[39;00m \u001b[38;5;167;01mException\u001b[39;00m(\u001b[38;5;124m'\u001b[39m\u001b[38;5;124mInvalid Name. black space/Null entered for _name attribute, Blankspace/null is not required\u001b[39m\u001b[38;5;124m'\u001b[39m)\n",
      "\u001b[1;31mException\u001b[0m: Invalid Name. characters entered are more than 30 for _name attribute. Less than 30 is required"
     ]
    }
   ],
   "source": [
    "namobj.name = 'This is just to piss the programm so that it can throw an error'"
   ]
  },
  {
   "cell_type": "code",
   "execution_count": 111,
   "id": "62b72596-cc7c-48c5-971f-375e92390a06",
   "metadata": {},
   "outputs": [
    {
     "name": "stdout",
     "output_type": "stream",
     "text": [
      "set the _name\n"
     ]
    }
   ],
   "source": [
    "namobj.name = 'Kulbhushan'"
   ]
  },
  {
   "cell_type": "code",
   "execution_count": 112,
   "id": "f8dc8f60-21f9-46fb-a830-a1938b1df512",
   "metadata": {},
   "outputs": [
    {
     "name": "stdout",
     "output_type": "stream",
     "text": [
      "get the _name\n",
      "Kulbhushan\n"
     ]
    }
   ],
   "source": [
    "print(namobj.name)"
   ]
  },
  {
   "cell_type": "code",
   "execution_count": 113,
   "id": "987f16c5-31b8-4fb3-90e8-feff1e51ab9c",
   "metadata": {},
   "outputs": [
    {
     "name": "stdout",
     "output_type": "stream",
     "text": [
      "delete the _name\n"
     ]
    }
   ],
   "source": [
    "del namobj.name"
   ]
  },
  {
   "cell_type": "code",
   "execution_count": null,
   "id": "dbe5dc51-8ef4-48e6-a45e-d311573e55fd",
   "metadata": {},
   "outputs": [],
   "source": []
  }
 ],
 "metadata": {
  "kernelspec": {
   "display_name": "Python 3 (ipykernel)",
   "language": "python",
   "name": "python3"
  },
  "language_info": {
   "codemirror_mode": {
    "name": "ipython",
    "version": 3
   },
   "file_extension": ".py",
   "mimetype": "text/x-python",
   "name": "python",
   "nbconvert_exporter": "python",
   "pygments_lexer": "ipython3",
   "version": "3.12.7"
  }
 },
 "nbformat": 4,
 "nbformat_minor": 5
}

{
 "cells": [
  {
   "cell_type": "markdown",
   "id": "a69bddc9-7d76-4b8d-b3d8-d5f127948180",
   "metadata": {
    "id": "a69bddc9-7d76-4b8d-b3d8-d5f127948180"
   },
   "source": [
    "# Assignment-3: Functions"
   ]
  },
  {
   "cell_type": "markdown",
   "id": "00d32436-4f29-4b8f-a8e4-382de4a96b90",
   "metadata": {
    "id": "00d32436-4f29-4b8f-a8e4-382de4a96b90"
   },
   "source": [
    "### Instruction: Do read the Note carefully before writing the programs and verify the answer by Expected Output."
   ]
  },
  {
   "cell_type": "markdown",
   "id": "03ba6e41-1a3c-46b8-ae84-88517119a499",
   "metadata": {
    "id": "03ba6e41-1a3c-46b8-ae84-88517119a499"
   },
   "source": [
    "   "
   ]
  },
  {
   "cell_type": "raw",
   "id": "2c56df78-42cb-485a-bcd7-5261cc1e008a",
   "metadata": {
    "id": "2c56df78-42cb-485a-bcd7-5261cc1e008a"
   },
   "source": [
    "Q1. Write a program to create a function that takes a list and returns a new list with unique elements from first list.\n",
    "[Note: The list1 is given below use that list only]\n",
    "Expected output: [1,2,3,4,5,6]"
   ]
  },
  {
   "cell_type": "code",
   "execution_count": 115,
   "id": "fca368dc-f535-4aac-9c49-efdd826819de",
   "metadata": {
    "id": "fca368dc-f535-4aac-9c49-efdd826819de"
   },
   "outputs": [
    {
     "data": {
      "text/plain": [
       "[1, 2, 3, 4, 5, 6]"
      ]
     },
     "execution_count": 115,
     "metadata": {},
     "output_type": "execute_result"
    }
   ],
   "source": [
    "# Write Program from below line:\n",
    "list1 = [1,2,2,2,3,3,3,4,4,5,6,6]\n",
    "\n",
    "def uniqueFun1(listPara):\n",
    "    newList = list(set(listPara))\n",
    "    return newList\n",
    "    \n",
    "uniqueFun1(list1)"
   ]
  },
  {
   "cell_type": "code",
   "execution_count": 117,
   "id": "bd943b7e-c9f8-4d35-9a4f-ba44e82789f0",
   "metadata": {},
   "outputs": [
    {
     "data": {
      "text/plain": [
       "[1, 2, 3, 4, 5, 6]"
      ]
     },
     "execution_count": 117,
     "metadata": {},
     "output_type": "execute_result"
    }
   ],
   "source": [
    "list3 = [1,2,2,2,3,3,3,4,4,5,6,6]\n",
    "newList3 = []\n",
    "def uniqueFun2(listPara):\n",
    "     for x in listPara:\n",
    "         if x not in newList3:\n",
    "             newList3.append(x)\n",
    "     return newList3\n",
    "\n",
    "uniqueFun2(list3)"
   ]
  },
  {
   "cell_type": "raw",
   "id": "a9857d6d-4eb8-4854-a3a3-7c2f3cb98a4b",
   "metadata": {
    "id": "a9857d6d-4eb8-4854-a3a3-7c2f3cb98a4b"
   },
   "source": [
    "Q2. Write a program to create a function that takes a list and gives product of all elements in the list.\n",
    "[Note: The elist is given below use that list only]\n",
    "Expected output: 84000000"
   ]
  },
  {
   "cell_type": "code",
   "execution_count": 51,
   "id": "cbec1d36-18cc-48d2-9e32-4d53e1f8f914",
   "metadata": {
    "id": "cbec1d36-18cc-48d2-9e32-4d53e1f8f914"
   },
   "outputs": [
    {
     "data": {
      "text/plain": [
       "84000000"
      ]
     },
     "execution_count": 51,
     "metadata": {},
     "output_type": "execute_result"
    }
   ],
   "source": [
    "# Write Program from below line:\n",
    "from functools import reduce\n",
    "\n",
    "elist = [20,30,40,50,70]\n",
    "\n",
    "def prodFun(x, y):\n",
    "    return x * y\n",
    "\n",
    "reduce(prodFun, elist)"
   ]
  },
  {
   "cell_type": "raw",
   "id": "3b1f9558-939e-463e-8ba4-c02b50b07e86",
   "metadata": {
    "id": "3b1f9558-939e-463e-8ba4-c02b50b07e86"
   },
   "source": [
    "Q3. Write a program to function that takes a word as input and returns its calculated “value”, based on the following parameters:\n",
    "\n",
    "Consonants are worth 2 points.\n",
    "Vowels are worth 4 points.\n",
    "The letter \"x\" is worth 8 points.\n",
    "Any other characters are worth 0 points.\n",
    "[Note: The word is given below]\n",
    "\n",
    "Expected Output: 24"
   ]
  },
  {
   "cell_type": "code",
   "execution_count": 65,
   "id": "f455fbf7-383e-4944-98d5-606e0350c793",
   "metadata": {
    "id": "f455fbf7-383e-4944-98d5-606e0350c793"
   },
   "outputs": [
    {
     "data": {
      "text/plain": [
       "24"
      ]
     },
     "execution_count": 65,
     "metadata": {},
     "output_type": "execute_result"
    }
   ],
   "source": [
    "# Write Program from below line:\n",
    "import re\n",
    "word = 'Functions$'\n",
    "def calValue(iterWord):\n",
    "    calValue = 0\n",
    "    for x in iterWord:\n",
    "        if x.isalpha() and not x in ['a','e','i','o','u','x']:\n",
    "            calValue += 2\n",
    "        elif x.isalpha() and x in ['a','e','i','o','u']:\n",
    "            calValue += 4\n",
    "        elif x == \"x\":\n",
    "            calValue += 8\n",
    "        else:\n",
    "            calValue += 0\n",
    "            continue\n",
    "    return calValue\n",
    "\n",
    "calValue(word)"
   ]
  },
  {
   "cell_type": "raw",
   "id": "4a9eeb64-addb-4747-8f03-8362a6d1dd4e",
   "metadata": {
    "id": "4a9eeb64-addb-4747-8f03-8362a6d1dd4e"
   },
   "source": [
    "Q4. Write a program to create a RECURSIVE Function to print the sum of numbers from 1 to 50.\n",
    "Expected Output: 1275"
   ]
  },
  {
   "cell_type": "code",
   "execution_count": 143,
   "id": "a9d3cca4-baa7-4fcc-902a-49f81c47b5ab",
   "metadata": {
    "id": "a9d3cca4-baa7-4fcc-902a-49f81c47b5ab"
   },
   "outputs": [
    {
     "data": {
      "text/plain": [
       "1275"
      ]
     },
     "execution_count": 143,
     "metadata": {},
     "output_type": "execute_result"
    }
   ],
   "source": [
    "# Write Program from below line:\n",
    "def sumRecFun(sumRec):\n",
    "    if sumRec == 1:\n",
    "        return 1\n",
    "    else:\n",
    "        return sumRec+sumRecFun(sumRec-1)\n",
    "sumRecFun(50)"
   ]
  },
  {
   "cell_type": "raw",
   "id": "e8ffce83-97fd-4bef-9090-8400a19b5e1b",
   "metadata": {
    "id": "e8ffce83-97fd-4bef-9090-8400a19b5e1b"
   },
   "source": [
    "Q5. Write a program to create a function that print all prime numbers between 1 and 50."
   ]
  },
  {
   "cell_type": "code",
   "execution_count": 15,
   "id": "e5b07a66-9fed-46bb-9aba-9d18dfb6ec67",
   "metadata": {
    "id": "e5b07a66-9fed-46bb-9aba-9d18dfb6ec67"
   },
   "outputs": [
    {
     "name": "stdin",
     "output_type": "stream",
     "text": [
      "enter a number 50\n"
     ]
    },
    {
     "name": "stdout",
     "output_type": "stream",
     "text": [
      "[2] : prime number(s).\n"
     ]
    }
   ],
   "source": [
    "# Write Program from below line:\n",
    "\n",
    "\n",
    "# Wrong output\n",
    "\n",
    "def primeFun(primeNum):\n",
    "    flag = False\n",
    "    if primeNum == 0 or primeNum == 1:\n",
    "        print(primeNum,'is not a prime number')\n",
    "    elif primeNum>1:\n",
    "        primeList = []\n",
    "        for pn in range(2, primeNum+1):\n",
    "            if primeNum % pn == 0:\n",
    "                if pn not in primeList:\n",
    "                    primeList.append(pn)\n",
    "            flag = True\n",
    "            break\n",
    "        if flag == True:\n",
    "            return print(primeList,': prime number(s).')\n",
    "        else:\n",
    "            return print(primeList,': not prime number(s).')\n",
    "\n",
    "primeFun(int(input('enter a number')))\n",
    "\n",
    "# Wrong output"
   ]
  },
  {
   "cell_type": "code",
   "execution_count": null,
   "id": "ce056ef8-d257-4255-90a2-e246f9db5331",
   "metadata": {},
   "outputs": [],
   "source": []
  }
 ],
 "metadata": {
  "colab": {
   "provenance": []
  },
  "kernelspec": {
   "display_name": "Python 3 (ipykernel)",
   "language": "python",
   "name": "python3"
  },
  "language_info": {
   "codemirror_mode": {
    "name": "ipython",
    "version": 3
   },
   "file_extension": ".py",
   "mimetype": "text/x-python",
   "name": "python",
   "nbconvert_exporter": "python",
   "pygments_lexer": "ipython3",
   "version": "3.12.7"
  }
 },
 "nbformat": 4,
 "nbformat_minor": 5
}

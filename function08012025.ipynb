{
 "cells": [
  {
   "cell_type": "markdown",
   "id": "a4a1f66e-7b67-48e4-85f1-857ddf44e04c",
   "metadata": {},
   "source": [
    "# Functions (Built-in & User-defined functions)"
   ]
  },
  {
   "cell_type": "code",
   "execution_count": 55,
   "id": "cff8caf0-4ab2-4792-b167-613538e3e34c",
   "metadata": {},
   "outputs": [
    {
     "name": "stdout",
     "output_type": "stream",
     "text": [
      "odd\n",
      "even\n"
     ]
    }
   ],
   "source": [
    "# Creating a function to check a number is even or odd\n",
    "def evenodd(num):\n",
    "    if num%2 == 0:\n",
    "        print('even')\n",
    "    else:\n",
    "        print('odd')\n",
    "\n",
    "# calling the function\n",
    "evenodd(4+1)\n",
    "\n",
    "# calling the function\n",
    "evenodd(4)"
   ]
  },
  {
   "cell_type": "code",
   "execution_count": 63,
   "id": "9928f6d2-909f-45f5-b105-f5bed2689526",
   "metadata": {},
   "outputs": [
    {
     "name": "stdout",
     "output_type": "stream",
     "text": [
      "4\n",
      "square of 4 is 16\n"
     ]
    }
   ],
   "source": [
    "# write a function to print the square of a number.\n",
    "import math\n",
    "def sqt(square):\n",
    "    print(square)\n",
    "    if str(square).isdigit():\n",
    "        print(f'square of {square} is {square*square}')\n",
    "    else:\n",
    "        print('do nothing')\n",
    "\n",
    "# calling the function\n",
    "sqt(4)"
   ]
  },
  {
   "cell_type": "code",
   "execution_count": 57,
   "id": "31f5424f-cf21-41ec-bd35-a5c916481669",
   "metadata": {},
   "outputs": [
    {
     "name": "stdout",
     "output_type": "stream",
     "text": [
      "square of 4 is 16\n"
     ]
    }
   ],
   "source": [
    "# write a function to print a square of a number.\n",
    "\n",
    "def squaresquare(square):\n",
    "    print(f'square of {square} is {square*square}')\n",
    "\n",
    "# calling the function\n",
    "squaresquare(4)"
   ]
  },
  {
   "cell_type": "code",
   "execution_count": 58,
   "id": "52e4af32-48b7-40c3-8e6b-42387e4ec645",
   "metadata": {},
   "outputs": [
    {
     "name": "stdout",
     "output_type": "stream",
     "text": [
      "cube of 4 is 64\n"
     ]
    }
   ],
   "source": [
    "# write a function to print a cube of a number.\n",
    "def cubecube(cube):\n",
    "    print(f'cube of {cube} is {cube**3}')\n",
    "\n",
    "# calling the function\n",
    "cubecube(4)"
   ]
  },
  {
   "cell_type": "markdown",
   "id": "9f5afac4-9470-419e-80e8-4201ebb8df1d",
   "metadata": {},
   "source": [
    "# Return Statement (optional. returns any data type)"
   ]
  },
  {
   "cell_type": "code",
   "execution_count": 66,
   "id": "f7d477cb-fc8c-4189-ae99-7ab0c3ecfd9e",
   "metadata": {},
   "outputs": [
    {
     "name": "stdout",
     "output_type": "stream",
     "text": [
      "4\n"
     ]
    }
   ],
   "source": [
    "# Return Statement\n",
    "def returnnum(n1, n2):\n",
    "    return n1 + n2\n",
    "\n",
    "# calling a function to return an integer value\n",
    "returnednumb = returnnum(2, 2)\n",
    "\n",
    "# printing a returned value\n",
    "print(returnednumb)"
   ]
  },
  {
   "cell_type": "markdown",
   "id": "616ae1dd-ea44-4c8a-b6cc-e240f5a19af4",
   "metadata": {},
   "source": [
    "# Argument Type\n",
    "### 1. Positional Argument"
   ]
  },
  {
   "cell_type": "code",
   "execution_count": 68,
   "id": "6ae0e688-95f8-495b-b3f8-a0eb02876aa8",
   "metadata": {},
   "outputs": [
    {
     "name": "stdout",
     "output_type": "stream",
     "text": [
      "-100\n",
      "100\n"
     ]
    }
   ],
   "source": [
    "#1. Positional Argument:\n",
    "\n",
    "def sub(a, b):\n",
    "    print(a - b)\n",
    "\n",
    "# Calling a function with INCORRECT ARGUMENT POSITION\n",
    "sub(100, 200)\n",
    "\n",
    "# Calling a function with CORRECT ARGUMENT POSITION\n",
    "sub(200, 100)"
   ]
  },
  {
   "cell_type": "code",
   "execution_count": 69,
   "id": "543e123d-232a-4a90-bdd7-5a6b672c2299",
   "metadata": {},
   "outputs": [
    {
     "ename": "TypeError",
     "evalue": "unsupported operand type(s) for -: 'str' and 'int'",
     "output_type": "error",
     "traceback": [
      "\u001b[1;31m---------------------------------------------------------------------------\u001b[0m",
      "\u001b[1;31mTypeError\u001b[0m                                 Traceback (most recent call last)",
      "Cell \u001b[1;32mIn[69], line 2\u001b[0m\n\u001b[0;32m      1\u001b[0m \u001b[38;5;66;03m# Calling a function with INCORRECT (DATA TYPE) ARGUMENT POSITION\u001b[39;00m\n\u001b[1;32m----> 2\u001b[0m sub(\u001b[38;5;124m'\u001b[39m\u001b[38;5;124mhello\u001b[39m\u001b[38;5;124m'\u001b[39m, \u001b[38;5;241m100\u001b[39m)\n",
      "Cell \u001b[1;32mIn[68], line 4\u001b[0m, in \u001b[0;36msub\u001b[1;34m(a, b)\u001b[0m\n\u001b[0;32m      3\u001b[0m \u001b[38;5;28;01mdef\u001b[39;00m \u001b[38;5;21msub\u001b[39m(a, b):\n\u001b[1;32m----> 4\u001b[0m     \u001b[38;5;28mprint\u001b[39m(a \u001b[38;5;241m-\u001b[39m b)\n",
      "\u001b[1;31mTypeError\u001b[0m: unsupported operand type(s) for -: 'str' and 'int'"
     ]
    }
   ],
   "source": [
    "# Calling a function with INCORRECT (DATA TYPE) ARGUMENT POSITION\n",
    "# Data Type MUST MATCH\n",
    "sub('hello', 100)"
   ]
  },
  {
   "cell_type": "code",
   "execution_count": 70,
   "id": "0f65b014-55c0-4399-a40d-d6f3abbfc00e",
   "metadata": {},
   "outputs": [
    {
     "ename": "TypeError",
     "evalue": "sub() takes 2 positional arguments but 3 were given",
     "output_type": "error",
     "traceback": [
      "\u001b[1;31m---------------------------------------------------------------------------\u001b[0m",
      "\u001b[1;31mTypeError\u001b[0m                                 Traceback (most recent call last)",
      "Cell \u001b[1;32mIn[70], line 3\u001b[0m\n\u001b[0;32m      1\u001b[0m \u001b[38;5;66;03m# Calling a function with INCORRECT (NUMBER OF ARGUMENT) ARGUMENT POSITION\u001b[39;00m\n\u001b[0;32m      2\u001b[0m \u001b[38;5;66;03m# SAME NUMBER OF ARUGMENT MUST BE PERSENT\u001b[39;00m\n\u001b[1;32m----> 3\u001b[0m sub(\u001b[38;5;241m3\u001b[39m, \u001b[38;5;241m100\u001b[39m, \u001b[38;5;241m300\u001b[39m)\n",
      "\u001b[1;31mTypeError\u001b[0m: sub() takes 2 positional arguments but 3 were given"
     ]
    }
   ],
   "source": [
    "# Calling a function with INCORRECT (NUMBER OF ARGUMENT) ARGUMENT POSITION\n",
    "# SAME NUMBER OF ARUGMENT MUST BE PERSENT\n",
    "sub(3, 100, 300)"
   ]
  },
  {
   "cell_type": "markdown",
   "id": "ff88e66a-93d2-4c31-b79a-b1321fde3892",
   "metadata": {},
   "source": [
    "### 2. Keyword Argument"
   ]
  },
  {
   "cell_type": "code",
   "execution_count": 71,
   "id": "aaaf9f7e-60f2-4596-875e-f393f2e9d669",
   "metadata": {},
   "outputs": [
    {
     "name": "stdout",
     "output_type": "stream",
     "text": [
      "Good Morning, Kulbhushan\n"
     ]
    }
   ],
   "source": [
    "#2. Keyword Argument\n",
    "\n",
    "def wish(name, message):\n",
    "    return print(f'{message}, {name}')\n",
    "\n",
    "\n",
    "# Calling a function with STRING as arguments\n",
    "# Position is NOT important AS LONG AS SAME PARAMETER NAME(S) IS(ARE) USED\n",
    "# Data Type is important\n",
    "# Number of arguments MUST match\n",
    "wish('Kulbhushan', 'Good Morning')"
   ]
  },
  {
   "cell_type": "code",
   "execution_count": 83,
   "id": "af083a5f-62eb-40c9-8259-c7702192f7d6",
   "metadata": {},
   "outputs": [
    {
     "name": "stdout",
     "output_type": "stream",
     "text": [
      "Good Morning, Kulbhushan\n"
     ]
    }
   ],
   "source": [
    "# Position is NOT important AS LONG AS SAME PARAMETER NAME(S) IS(ARE) USED\n",
    "wish(message = 'Good Morning', name = 'Kulbhushan')"
   ]
  },
  {
   "cell_type": "markdown",
   "id": "b1b4924e-a420-4ca1-a4d7-c60a2ace99a9",
   "metadata": {},
   "source": [
    "### 3. Positional and Keyword Arguments at the same time."
   ]
  },
  {
   "cell_type": "code",
   "execution_count": 84,
   "id": "34baddce-f86e-4917-b98e-1a63dcb61b74",
   "metadata": {},
   "outputs": [],
   "source": [
    "# 3. Positional and Keyword Arguments at the same time\n",
    "def greet(name, message):\n",
    "    print('hello', name, message)"
   ]
  },
  {
   "cell_type": "code",
   "execution_count": 79,
   "id": "1a18e3b3-72f3-4a57-b62e-62854f40f8a2",
   "metadata": {},
   "outputs": [
    {
     "name": "stdout",
     "output_type": "stream",
     "text": [
      "hello Kulbhushan Good Morning\n"
     ]
    }
   ],
   "source": [
    "# positional argument follows keyword argument\n",
    "greet('Kulbhushan', message = 'Good Morning')"
   ]
  },
  {
   "cell_type": "code",
   "execution_count": 80,
   "id": "5549f9a6-73fd-48b9-a675-eebd42e12072",
   "metadata": {},
   "outputs": [
    {
     "ename": "SyntaxError",
     "evalue": "positional argument follows keyword argument (15590658.py, line 2)",
     "output_type": "error",
     "traceback": [
      "\u001b[1;36m  Cell \u001b[1;32mIn[80], line 2\u001b[1;36m\u001b[0m\n\u001b[1;33m    greet(message = 'Good Morning', 'Kulbhushan')\u001b[0m\n\u001b[1;37m                                                ^\u001b[0m\n\u001b[1;31mSyntaxError\u001b[0m\u001b[1;31m:\u001b[0m positional argument follows keyword argument\n"
     ]
    }
   ],
   "source": [
    "# Position is important (positional argument follows keyword argument)\n",
    "greet(message = 'Good Morning', 'Kulbhushan')"
   ]
  },
  {
   "cell_type": "code",
   "execution_count": 85,
   "id": "f70bee4e-292b-4d0c-8979-6489f4ea2fed",
   "metadata": {},
   "outputs": [
    {
     "name": "stdout",
     "output_type": "stream",
     "text": [
      "hello Kulbhushan Good Morning\n"
     ]
    }
   ],
   "source": [
    "greet(message = 'Good Morning', name = 'Kulbhushan')"
   ]
  },
  {
   "cell_type": "code",
   "execution_count": 86,
   "id": "f5cad856-18e3-4329-88e2-1ced78cbf611",
   "metadata": {},
   "outputs": [
    {
     "name": "stdout",
     "output_type": "stream",
     "text": [
      "hello Good Morning Kulbhushan\n"
     ]
    }
   ],
   "source": [
    "greet('Good Morning', 'Kulbhushan')"
   ]
  },
  {
   "cell_type": "markdown",
   "id": "f4892969-8c65-4c9d-9734-8135246c0f0e",
   "metadata": {},
   "source": [
    "### 4. Default Argument (takes default value if no value is passed while calling a function)"
   ]
  },
  {
   "cell_type": "code",
   "execution_count": 91,
   "id": "b49780a8-c5f4-4e0b-80f7-e4d4a67298bf",
   "metadata": {},
   "outputs": [],
   "source": [
    "# 4. Default Argument\n",
    "def defaultFun(num1 , num2 = 40):\n",
    "    print(num1 , '', num2)"
   ]
  },
  {
   "cell_type": "code",
   "execution_count": 95,
   "id": "37fd5099-0b7b-4e1f-a4ab-280fb336dfa3",
   "metadata": {},
   "outputs": [
    {
     "name": "stdout",
     "output_type": "stream",
     "text": [
      "1  40\n"
     ]
    }
   ],
   "source": [
    "defaultFun(1)"
   ]
  },
  {
   "cell_type": "code",
   "execution_count": 94,
   "id": "ad579fa9-5d45-4683-9b15-6ad0e663c389",
   "metadata": {},
   "outputs": [
    {
     "name": "stdout",
     "output_type": "stream",
     "text": [
      "1  2\n"
     ]
    }
   ],
   "source": [
    "# deafult is overridden\n",
    "defaultFun(1, 2)"
   ]
  },
  {
   "cell_type": "code",
   "execution_count": null,
   "id": "100e193f-59be-4610-8153-6ee00ef22f02",
   "metadata": {},
   "outputs": [],
   "source": []
  }
 ],
 "metadata": {
  "kernelspec": {
   "display_name": "Python 3 (ipykernel)",
   "language": "python",
   "name": "python3"
  },
  "language_info": {
   "codemirror_mode": {
    "name": "ipython",
    "version": 3
   },
   "file_extension": ".py",
   "mimetype": "text/x-python",
   "name": "python",
   "nbconvert_exporter": "python",
   "pygments_lexer": "ipython3",
   "version": "3.12.7"
  }
 },
 "nbformat": 4,
 "nbformat_minor": 5
}

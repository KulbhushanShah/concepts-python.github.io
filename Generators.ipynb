{
 "cells": [
  {
   "cell_type": "code",
   "execution_count": 2,
   "id": "a3c404dc-e528-4559-b330-bda5813bd8de",
   "metadata": {},
   "outputs": [],
   "source": [
    "def fun():\n",
    "    return 1   # It is end of function\n",
    "    print('Hey')"
   ]
  },
  {
   "cell_type": "code",
   "execution_count": 3,
   "id": "4ff4bd90-e9f2-41c3-8d7a-66f283ea309e",
   "metadata": {},
   "outputs": [
    {
     "data": {
      "text/plain": [
       "1"
      ]
     },
     "execution_count": 3,
     "metadata": {},
     "output_type": "execute_result"
    }
   ],
   "source": [
    "fun()"
   ]
  },
  {
   "cell_type": "code",
   "execution_count": 10,
   "id": "57f84d6a-38df-4ef6-aa61-825843302cd3",
   "metadata": {},
   "outputs": [],
   "source": [
    "def fun():\n",
    "    return 'string'   \n",
    "    return 'Gamaka'"
   ]
  },
  {
   "cell_type": "code",
   "execution_count": 11,
   "id": "35256b2a-dcf7-4a90-9376-e6d3d564c276",
   "metadata": {},
   "outputs": [
    {
     "data": {
      "text/plain": [
       "'string'"
      ]
     },
     "execution_count": 11,
     "metadata": {},
     "output_type": "execute_result"
    }
   ],
   "source": [
    "fun()"
   ]
  },
  {
   "cell_type": "code",
   "execution_count": 12,
   "id": "b490b915-59ce-4bae-964c-27143a521be6",
   "metadata": {},
   "outputs": [
    {
     "name": "stdout",
     "output_type": "stream",
     "text": [
      "s\n",
      "t\n",
      "r\n",
      "i\n",
      "n\n",
      "g\n"
     ]
    }
   ],
   "source": [
    "for i in fun():\n",
    "    print(i)"
   ]
  },
  {
   "cell_type": "code",
   "execution_count": 25,
   "id": "4520c5fa-f24f-400e-9274-cf51294e2a44",
   "metadata": {},
   "outputs": [],
   "source": [
    "# Generator\n",
    "def fun1():\n",
    "    yield 1\n",
    "    yield 2\n",
    "    yield 3"
   ]
  },
  {
   "cell_type": "code",
   "execution_count": 26,
   "id": "b60d3673-e6a2-4a97-8b38-22be0b9c2ea4",
   "metadata": {},
   "outputs": [
    {
     "data": {
      "text/plain": [
       "<generator object fun1 at 0x0000023D7F27EA30>"
      ]
     },
     "execution_count": 26,
     "metadata": {},
     "output_type": "execute_result"
    }
   ],
   "source": [
    "fun1()"
   ]
  },
  {
   "cell_type": "code",
   "execution_count": 17,
   "id": "b471825d-4573-4e01-8503-25e536638e68",
   "metadata": {},
   "outputs": [
    {
     "name": "stdout",
     "output_type": "stream",
     "text": [
      "1\n",
      "2\n",
      "3\n"
     ]
    }
   ],
   "source": [
    "for i in fun1():\n",
    "    print(i)"
   ]
  },
  {
   "cell_type": "code",
   "execution_count": 27,
   "id": "00e30c2e-1dc9-4c21-b111-8cf494e225d5",
   "metadata": {},
   "outputs": [],
   "source": [
    "a = fun1()"
   ]
  },
  {
   "cell_type": "code",
   "execution_count": 30,
   "id": "85a5b124-1e32-4ed8-8cdd-98f9dd230f4b",
   "metadata": {},
   "outputs": [
    {
     "name": "stdout",
     "output_type": "stream",
     "text": [
      "3\n"
     ]
    }
   ],
   "source": [
    "# next():\n",
    "print(next(a))"
   ]
  },
  {
   "cell_type": "code",
   "execution_count": 31,
   "id": "9a78166e-74c3-4910-9e0c-dfccee727877",
   "metadata": {},
   "outputs": [],
   "source": [
    "def numgenerator(n):\n",
    "    value  =  0\n",
    "    while value < n:\n",
    "\n",
    "        yield value\n",
    "\n",
    "        value += 1"
   ]
  },
  {
   "cell_type": "code",
   "execution_count": 32,
   "id": "1a3c5d9d-761b-475d-abff-7d888b4ee56e",
   "metadata": {},
   "outputs": [],
   "source": [
    "g1 = numgenerator(5)"
   ]
  },
  {
   "cell_type": "code",
   "execution_count": 39,
   "id": "f860fbfd-b3db-46e9-8541-681748a09885",
   "metadata": {},
   "outputs": [
    {
     "ename": "StopIteration",
     "evalue": "",
     "output_type": "error",
     "traceback": [
      "\u001b[1;31m---------------------------------------------------------------------------\u001b[0m",
      "\u001b[1;31mStopIteration\u001b[0m                             Traceback (most recent call last)",
      "Cell \u001b[1;32mIn[39], line 1\u001b[0m\n\u001b[1;32m----> 1\u001b[0m \u001b[38;5;28mprint\u001b[39m(\u001b[38;5;28mnext\u001b[39m(g1))\n",
      "\u001b[1;31mStopIteration\u001b[0m: "
     ]
    }
   ],
   "source": [
    "print(next(g1))"
   ]
  },
  {
   "cell_type": "code",
   "execution_count": null,
   "id": "82b68784-fce3-4c65-a6db-3566df35fc6e",
   "metadata": {},
   "outputs": [],
   "source": [
    "# Way to create an iterable to iterator.\n",
    "# Use iter(): it returns the iterator of list set tuple."
   ]
  },
  {
   "cell_type": "code",
   "execution_count": 40,
   "id": "4ab0221d-b864-43a7-af4e-7d1b5e4c6cc8",
   "metadata": {},
   "outputs": [],
   "source": [
    "list1  = [1,2,3,4,5]\n",
    "iter1 = iter(list1)"
   ]
  },
  {
   "cell_type": "code",
   "execution_count": 44,
   "id": "38a87fb0-92eb-43a4-b295-7cbc2b04f122",
   "metadata": {},
   "outputs": [
    {
     "data": {
      "text/plain": [
       "3"
      ]
     },
     "execution_count": 44,
     "metadata": {},
     "output_type": "execute_result"
    }
   ],
   "source": [
    "next(iter1)"
   ]
  },
  {
   "cell_type": "code",
   "execution_count": 51,
   "id": "58fc4033-94af-4cc8-a02f-eb8fb238361b",
   "metadata": {},
   "outputs": [],
   "source": [
    "# Way2: \n",
    "def fun1(list2):\n",
    "    for i in list2:\n",
    "        yield i"
   ]
  },
  {
   "cell_type": "code",
   "execution_count": 52,
   "id": "dcdca39e-14fb-4aa3-95b6-9d6e47f39452",
   "metadata": {},
   "outputs": [],
   "source": [
    "list2 = [1,2,3,4,5]\n",
    "l2 = fun1(list2)"
   ]
  },
  {
   "cell_type": "code",
   "execution_count": 57,
   "id": "4e09d55d-1b0f-41f7-ba96-ff78b800ff2f",
   "metadata": {},
   "outputs": [
    {
     "data": {
      "text/plain": [
       "5"
      ]
     },
     "execution_count": 57,
     "metadata": {},
     "output_type": "execute_result"
    }
   ],
   "source": [
    "next(l2)"
   ]
  },
  {
   "cell_type": "code",
   "execution_count": 60,
   "id": "871f07ca-d04f-4622-8871-f3cbc7671fb4",
   "metadata": {},
   "outputs": [
    {
     "name": "stdout",
     "output_type": "stream",
     "text": [
      "2\n"
     ]
    }
   ],
   "source": [
    "# Way 3: Generator Comprehension\n",
    "list3  = [1,2,3,4,5]\n",
    "gen1 = (x*2 for x in list3)\n",
    "print(next(gen1))"
   ]
  },
  {
   "cell_type": "code",
   "execution_count": 62,
   "id": "ee8ab00d-608f-4017-b6a5-93f4106347d8",
   "metadata": {},
   "outputs": [
    {
     "name": "stdout",
     "output_type": "stream",
     "text": [
      "6\n"
     ]
    }
   ],
   "source": [
    "print(next(gen1))"
   ]
  },
  {
   "cell_type": "code",
   "execution_count": null,
   "id": "be3f1021-e3f7-403a-8e6a-565e9733a1e4",
   "metadata": {},
   "outputs": [],
   "source": []
  }
 ],
 "metadata": {
  "kernelspec": {
   "display_name": "Python 3 (ipykernel)",
   "language": "python",
   "name": "python3"
  },
  "language_info": {
   "codemirror_mode": {
    "name": "ipython",
    "version": 3
   },
   "file_extension": ".py",
   "mimetype": "text/x-python",
   "name": "python",
   "nbconvert_exporter": "python",
   "pygments_lexer": "ipython3",
   "version": "3.12.7"
  }
 },
 "nbformat": 4,
 "nbformat_minor": 5
}

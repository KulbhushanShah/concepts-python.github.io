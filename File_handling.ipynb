{
 "cells": [
  {
   "cell_type": "markdown",
   "id": "fb830c7e-02af-4a49-bbb6-76c87614c3bb",
   "metadata": {},
   "source": [
    "# File Handling:\n"
   ]
  },
  {
   "cell_type": "code",
   "execution_count": 2,
   "id": "cfe17e9b-c39d-4f5f-bd6a-e162a3374d6d",
   "metadata": {},
   "outputs": [],
   "source": [
    "# Writing content in the File:\n",
    "f1 = open('File1.txt', 'w')\n",
    "f1.write('This is the simple Text File')\n",
    "f1.close()"
   ]
  },
  {
   "cell_type": "code",
   "execution_count": 3,
   "id": "d975c284-4c03-4d56-b7ba-69ca8b378b63",
   "metadata": {},
   "outputs": [],
   "source": [
    "f1 = open('File1.txt', 'w')\n",
    "f1.write('This is the first line \\nThis is the second line')\n",
    "f1.close()"
   ]
  },
  {
   "cell_type": "code",
   "execution_count": 5,
   "id": "813cc8c7-a99d-4d21-bdf0-3c7aee42670f",
   "metadata": {},
   "outputs": [
    {
     "name": "stdout",
     "output_type": "stream",
     "text": [
      "This is the first line \n",
      "This is the second line\n"
     ]
    }
   ],
   "source": [
    "# Reading the contents of file:\n",
    "f1 = open('File1.txt','r')\n",
    "data = f1.read()\n",
    "print(data)\n",
    "f1.close()"
   ]
  },
  {
   "cell_type": "code",
   "execution_count": 6,
   "id": "a5be754f-7cd4-4491-b35e-696d16537989",
   "metadata": {},
   "outputs": [
    {
     "name": "stdout",
     "output_type": "stream",
     "text": [
      "This is th\n"
     ]
    }
   ],
   "source": [
    "f1 = open('File1.txt','r')\n",
    "data = f1.read(10)\n",
    "print(data)\n",
    "f1.close()"
   ]
  },
  {
   "cell_type": "code",
   "execution_count": 9,
   "id": "a3fef341-0674-4359-bff8-99cc0d9c8ec3",
   "metadata": {},
   "outputs": [],
   "source": [
    "# Append: It is used to merge the text or update the text without overwriting the previous text.\n",
    "\n",
    "f1 = open('File1.txt','a')\n",
    "f1.write('This is the Fourth line')\n",
    "f1.close()"
   ]
  },
  {
   "cell_type": "code",
   "execution_count": 10,
   "id": "b0bf6bfa-2524-4f36-b784-541b00a974a2",
   "metadata": {},
   "outputs": [
    {
     "name": "stdout",
     "output_type": "stream",
     "text": [
      "This is the first line \n",
      "This is the second line\n",
      "This is the third lineThis is the Fourth line\n"
     ]
    }
   ],
   "source": [
    "f1 = open ('File1.txt','r')\n",
    "data = f1.read()\n",
    "print(data)\n",
    "f1.close()"
   ]
  },
  {
   "cell_type": "code",
   "execution_count": 12,
   "id": "5a4989c1-bd72-4b36-9875-fcc52aba2e16",
   "metadata": {},
   "outputs": [
    {
     "name": "stdout",
     "output_type": "stream",
     "text": [
      "The position of Cursor is 0\n"
     ]
    }
   ],
   "source": [
    "# tell(): It tells the position of the cursor/ Pointer.\n",
    "f1 = open('File1.txt','r')\n",
    "print('The position of Cursor is',f1.tell())"
   ]
  },
  {
   "cell_type": "code",
   "execution_count": 14,
   "id": "e3a2db26-ddec-4d47-956f-a77dd5ed638f",
   "metadata": {},
   "outputs": [
    {
     "name": "stdout",
     "output_type": "stream",
     "text": [
      "e first li\n",
      "The position of Cursor is 20\n"
     ]
    }
   ],
   "source": [
    "print(f1.read(10))\n",
    "print('The position of Cursor is',f1.tell())\n",
    "f1.close()"
   ]
  },
  {
   "cell_type": "code",
   "execution_count": null,
   "id": "974473ab-e0ae-4e90-8d4a-20c06713596f",
   "metadata": {},
   "outputs": [],
   "source": [
    "#Seek: To change position of the cursor\n",
    "\n",
    "Syntax: seek(offset,from_what)\n",
    "\n",
    "offset: number of positions to move forward\n",
    "\n",
    "from_what: 0: sets the cursor at begining\n",
    "           1: Sets the cursor at current file location\n",
    "           2: Sets the cursor at the end of file"
   ]
  },
  {
   "cell_type": "code",
   "execution_count": 15,
   "id": "7000250f-9b74-46b3-bfd7-be4787c93408",
   "metadata": {},
   "outputs": [
    {
     "name": "stdout",
     "output_type": "stream",
     "text": [
      "The position of Cursor is 0\n"
     ]
    },
    {
     "data": {
      "text/plain": [
       "10"
      ]
     },
     "execution_count": 15,
     "metadata": {},
     "output_type": "execute_result"
    }
   ],
   "source": [
    "f1 = open('File1.txt','r')\n",
    "print('The position of Cursor is',f1.tell())\n",
    "f1.seek(10,0)"
   ]
  },
  {
   "cell_type": "code",
   "execution_count": 16,
   "id": "22bc4bcb-f00b-46d0-a614-bd92d4379e93",
   "metadata": {},
   "outputs": [
    {
     "name": "stdout",
     "output_type": "stream",
     "text": [
      "e first line \n",
      "This is the second line\n",
      "This is the third lineThis is the Fourth line\n"
     ]
    }
   ],
   "source": [
    "print(f1.read())"
   ]
  },
  {
   "cell_type": "code",
   "execution_count": 17,
   "id": "b47698e4-24f1-429e-b504-c4e4048fad0a",
   "metadata": {},
   "outputs": [],
   "source": [
    "f1.close()"
   ]
  },
  {
   "cell_type": "code",
   "execution_count": 21,
   "id": "f331ba01-69a7-497e-9d21-b1e847635c0d",
   "metadata": {},
   "outputs": [
    {
     "data": {
      "text/plain": [
       "b'This is th'"
      ]
     },
     "execution_count": 21,
     "metadata": {},
     "output_type": "execute_result"
    }
   ],
   "source": [
    "f1 = open('File1.txt','rb')\n",
    "f1.read(10)"
   ]
  },
  {
   "cell_type": "code",
   "execution_count": 22,
   "id": "157423fb-e7a8-4da3-a55a-7c17c5b1998e",
   "metadata": {},
   "outputs": [
    {
     "data": {
      "text/plain": [
       "20"
      ]
     },
     "execution_count": 22,
     "metadata": {},
     "output_type": "execute_result"
    }
   ],
   "source": [
    "f1.seek(10,1)"
   ]
  },
  {
   "cell_type": "code",
   "execution_count": 23,
   "id": "e7b1104e-7718-4d8d-88cb-13b93a336369",
   "metadata": {},
   "outputs": [
    {
     "data": {
      "text/plain": [
       "b'ne \\r\\nThis is the second line\\r\\nThis is the third lineThis is the Fourth line'"
      ]
     },
     "execution_count": 23,
     "metadata": {},
     "output_type": "execute_result"
    }
   ],
   "source": [
    "f1.read()"
   ]
  },
  {
   "cell_type": "code",
   "execution_count": 24,
   "id": "31ddf334-7487-48ac-a412-7c2880288a87",
   "metadata": {},
   "outputs": [],
   "source": [
    "f1.close()"
   ]
  },
  {
   "cell_type": "code",
   "execution_count": 26,
   "id": "a100182c-a530-450a-b2db-517b6f6285d9",
   "metadata": {},
   "outputs": [
    {
     "data": {
      "text/plain": [
       "96"
      ]
     },
     "execution_count": 26,
     "metadata": {},
     "output_type": "execute_result"
    }
   ],
   "source": [
    "f1 = open('File1.txt','rb')\n",
    "f1.seek(1,2)"
   ]
  },
  {
   "cell_type": "code",
   "execution_count": 28,
   "id": "93b43935-442d-41e1-a57f-859c3609c4e1",
   "metadata": {},
   "outputs": [
    {
     "data": {
      "text/plain": [
       "b''"
      ]
     },
     "execution_count": 28,
     "metadata": {},
     "output_type": "execute_result"
    }
   ],
   "source": [
    "f1.read(10)"
   ]
  },
  {
   "cell_type": "code",
   "execution_count": 29,
   "id": "b202bbf1-47d8-4be3-8c08-70c7bc24075e",
   "metadata": {},
   "outputs": [],
   "source": [
    "f1.close()"
   ]
  },
  {
   "cell_type": "code",
   "execution_count": 30,
   "id": "bb67c99e-ea28-463f-8eda-779f3bfd2449",
   "metadata": {},
   "outputs": [
    {
     "name": "stdout",
     "output_type": "stream",
     "text": [
      "This is the first line \n",
      "This is the second line\n",
      "This is the third lineThis is the Fourth line\n"
     ]
    }
   ],
   "source": [
    "# with statement: It is used for resource management and it closes the file automatically.\n",
    "\n",
    "with open('File1.txt','r') as file:\n",
    "    f2 = file.read()\n",
    "    print(f2)"
   ]
  },
  {
   "cell_type": "code",
   "execution_count": null,
   "id": "416645a1-4834-4356-ad1b-d5380f0656ea",
   "metadata": {},
   "outputs": [],
   "source": []
  }
 ],
 "metadata": {
  "kernelspec": {
   "display_name": "Python 3 (ipykernel)",
   "language": "python",
   "name": "python3"
  },
  "language_info": {
   "codemirror_mode": {
    "name": "ipython",
    "version": 3
   },
   "file_extension": ".py",
   "mimetype": "text/x-python",
   "name": "python",
   "nbconvert_exporter": "python",
   "pygments_lexer": "ipython3",
   "version": "3.12.7"
  }
 },
 "nbformat": 4,
 "nbformat_minor": 5
}

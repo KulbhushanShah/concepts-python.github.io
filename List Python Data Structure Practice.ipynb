{
 "cells": [
  {
   "cell_type": "markdown",
   "id": "e6fb9f1a-e211-4583-a60b-0cf76d517ada",
   "metadata": {},
   "source": [
    "# List - Python Data Structure "
   ]
  },
  {
   "cell_type": "code",
   "execution_count": null,
   "id": "d6a66f4f-6bf6-4a16-a43d-08a9110a812a",
   "metadata": {},
   "outputs": [],
   "source": []
  }
 ],
 "metadata": {
  "kernelspec": {
   "display_name": "Python 3 (ipykernel)",
   "language": "python",
   "name": "python3"
  },
  "language_info": {
   "codemirror_mode": {
    "name": "ipython",
    "version": 3
   },
   "file_extension": ".py",
   "mimetype": "text/x-python",
   "name": "python",
   "nbconvert_exporter": "python",
   "pygments_lexer": "ipython3",
   "version": "3.12.7"
  }
 },
 "nbformat": 4,
 "nbformat_minor": 5
}

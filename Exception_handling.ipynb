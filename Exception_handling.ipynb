{
 "cells": [
  {
   "cell_type": "code",
   "execution_count": 18,
   "id": "54156ad1-d9cb-4814-a5f1-41bc4fc2ef46",
   "metadata": {},
   "outputs": [
    {
     "ename": "SyntaxError",
     "evalue": "unterminated string literal (detected at line 3) (2135725186.py, line 3)",
     "output_type": "error",
     "traceback": [
      "\u001b[1;36m  Cell \u001b[1;32mIn[18], line 3\u001b[1;36m\u001b[0m\n\u001b[1;33m    b = int(input('Enter the number:))\u001b[0m\n\u001b[1;37m                  ^\u001b[0m\n\u001b[1;31mSyntaxError\u001b[0m\u001b[1;31m:\u001b[0m unterminated string literal (detected at line 3)\n"
     ]
    }
   ],
   "source": [
    "a = int(input('Enter the number:'))\n",
    "\n",
    "b = int(input('Enter the number:))\n",
    "\n",
    "print(a/b)\n",
    "\n",
    "print('Hey')"
   ]
  },
  {
   "cell_type": "code",
   "execution_count": 7,
   "id": "62cb4ae5-f2fb-4cfd-b074-53100fea6b1a",
   "metadata": {},
   "outputs": [
    {
     "name": "stdin",
     "output_type": "stream",
     "text": [
      "Enter the number: 1\n",
      "Enter the number: 0\n"
     ]
    },
    {
     "ename": "ZeroDivisionError",
     "evalue": "division by zero",
     "output_type": "error",
     "traceback": [
      "\u001b[1;31m---------------------------------------------------------------------------\u001b[0m",
      "\u001b[1;31mZeroDivisionError\u001b[0m                         Traceback (most recent call last)",
      "Cell \u001b[1;32mIn[7], line 5\u001b[0m\n\u001b[0;32m      1\u001b[0m a \u001b[38;5;241m=\u001b[39m \u001b[38;5;28mint\u001b[39m(\u001b[38;5;28minput\u001b[39m(\u001b[38;5;124m'\u001b[39m\u001b[38;5;124mEnter the number:\u001b[39m\u001b[38;5;124m'\u001b[39m))\n\u001b[0;32m      3\u001b[0m b \u001b[38;5;241m=\u001b[39m \u001b[38;5;28mint\u001b[39m(\u001b[38;5;28minput\u001b[39m(\u001b[38;5;124m'\u001b[39m\u001b[38;5;124mEnter the number:\u001b[39m\u001b[38;5;124m'\u001b[39m))\n\u001b[1;32m----> 5\u001b[0m \u001b[38;5;28mprint\u001b[39m(a\u001b[38;5;241m/\u001b[39mb)\n",
      "\u001b[1;31mZeroDivisionError\u001b[0m: division by zero"
     ]
    }
   ],
   "source": [
    "a = int(input('Enter the number:'))\n",
    "\n",
    "b = int(input('Enter the number:'))\n",
    "\n",
    "print(a/b)"
   ]
  },
  {
   "cell_type": "code",
   "execution_count": 4,
   "id": "a9ba37c0-6a47-4f3c-86b5-e8425afcbc35",
   "metadata": {},
   "outputs": [
    {
     "name": "stdin",
     "output_type": "stream",
     "text": [
      "Enter the number: 1\n",
      "Enter the number: 0\n"
     ]
    },
    {
     "name": "stdout",
     "output_type": "stream",
     "text": [
      "Take the b a non-zero number\n"
     ]
    }
   ],
   "source": [
    "# Exception Handling:\n",
    "\n",
    "try:\n",
    "    a = int(input('Enter the number:'))\n",
    "\n",
    "    b = int(input('Enter the number:'))\n",
    "\n",
    "    print(a/b)\n",
    "    \n",
    "except:\n",
    "    print('Take the b a non-zero number')"
   ]
  },
  {
   "cell_type": "code",
   "execution_count": 10,
   "id": "a61cc95d-b091-44e0-bec7-a8a09f19dec3",
   "metadata": {},
   "outputs": [
    {
     "name": "stdin",
     "output_type": "stream",
     "text": [
      "Enter the number: w\n"
     ]
    },
    {
     "name": "stdout",
     "output_type": "stream",
     "text": [
      "Enter a number\n"
     ]
    }
   ],
   "source": [
    "try:\n",
    "    a = int(input('Enter the number:'))\n",
    "\n",
    "    b = int(input('Enter the number:'))\n",
    "\n",
    "    print(a/b)\n",
    "    \n",
    "except ZeroDivisionError:\n",
    "    print('Take the b a non-zero number')\n",
    "\n",
    "except ValueError:\n",
    "    print('Enter a number')"
   ]
  },
  {
   "cell_type": "code",
   "execution_count": 12,
   "id": "b47dbce4-9d14-47ca-951e-3d59102c247f",
   "metadata": {},
   "outputs": [
    {
     "name": "stdin",
     "output_type": "stream",
     "text": [
      "Enter the number: 1\n",
      "Enter the number: 0\n"
     ]
    },
    {
     "name": "stdout",
     "output_type": "stream",
     "text": [
      "division by zero Take the b a non-zero number\n"
     ]
    }
   ],
   "source": [
    "try:\n",
    "    a = int(input('Enter the number:'))\n",
    "\n",
    "    b = int(input('Enter the number:'))\n",
    "\n",
    "    print(a/b)\n",
    "    \n",
    "except ZeroDivisionError as Z:\n",
    "    print(Z,'Take the b a non-zero number')\n",
    "\n",
    "except ValueError as V:\n",
    "    print(V,'Enter a number')"
   ]
  },
  {
   "cell_type": "code",
   "execution_count": 13,
   "id": "b4d002d9-6aa3-4feb-9711-722145ccfe29",
   "metadata": {},
   "outputs": [
    {
     "name": "stdin",
     "output_type": "stream",
     "text": [
      "Enter the number: 1\n",
      "Enter the number: 2\n"
     ]
    },
    {
     "name": "stdout",
     "output_type": "stream",
     "text": [
      "0.5\n",
      "The try block has no errors\n"
     ]
    }
   ],
   "source": [
    "# else:\n",
    "try:\n",
    "    a = int(input('Enter the number:'))\n",
    "\n",
    "    b = int(input('Enter the number:'))\n",
    "\n",
    "    print(a/b)\n",
    "    \n",
    "except ZeroDivisionError as Z:\n",
    "    print(Z,'Take the b a non-zero number')\n",
    "\n",
    "except ValueError as V:\n",
    "    print(V,'Enter a number')\n",
    "\n",
    "else:\n",
    "    print('The try block has no errors')"
   ]
  },
  {
   "cell_type": "code",
   "execution_count": 17,
   "id": "7d0e774b-d20b-4a38-9b15-c27e8528d161",
   "metadata": {},
   "outputs": [
    {
     "name": "stdin",
     "output_type": "stream",
     "text": [
      "Enter the number: w\n"
     ]
    },
    {
     "name": "stdout",
     "output_type": "stream",
     "text": [
      "invalid literal for int() with base 10: 'w' Enter a number\n",
      "Exception handling Completed\n"
     ]
    }
   ],
   "source": [
    "# finally:\n",
    "try:\n",
    "    a = int(input('Enter the number:'))\n",
    "\n",
    "    b = int(input('Enter the number:'))\n",
    "\n",
    "    print(a/b)\n",
    "    \n",
    "except ZeroDivisionError as Z:\n",
    "    print(Z,'Take the b a non-zero number')\n",
    "\n",
    "except ValueError as V:\n",
    "    print(V,'Enter a number')\n",
    "\n",
    "else:\n",
    "    print('The try block has no errors')\n",
    "\n",
    "finally:\n",
    "    print('Exception handling Completed')"
   ]
  },
  {
   "cell_type": "code",
   "execution_count": 20,
   "id": "1a90a93b-05a8-426c-b24e-cf4dc0b652cc",
   "metadata": {},
   "outputs": [
    {
     "name": "stdin",
     "output_type": "stream",
     "text": [
      "Enter the number: 1\n"
     ]
    },
    {
     "ename": "Exception",
     "evalue": "The numbers shouldnt be odd",
     "output_type": "error",
     "traceback": [
      "\u001b[1;31m---------------------------------------------------------------------------\u001b[0m",
      "\u001b[1;31mException\u001b[0m                                 Traceback (most recent call last)",
      "Cell \u001b[1;32mIn[20], line 5\u001b[0m\n\u001b[0;32m      2\u001b[0m num \u001b[38;5;241m=\u001b[39m \u001b[38;5;28mint\u001b[39m(\u001b[38;5;28minput\u001b[39m(\u001b[38;5;124m'\u001b[39m\u001b[38;5;124mEnter the number:\u001b[39m\u001b[38;5;124m'\u001b[39m))\n\u001b[0;32m      4\u001b[0m \u001b[38;5;28;01mif\u001b[39;00m num \u001b[38;5;241m%\u001b[39m \u001b[38;5;241m2\u001b[39m \u001b[38;5;241m!=\u001b[39m \u001b[38;5;241m0\u001b[39m:\n\u001b[1;32m----> 5\u001b[0m     \u001b[38;5;28;01mraise\u001b[39;00m \u001b[38;5;167;01mException\u001b[39;00m(\u001b[38;5;124m'\u001b[39m\u001b[38;5;124mThe numbers shouldnt be odd\u001b[39m\u001b[38;5;124m'\u001b[39m)\n",
      "\u001b[1;31mException\u001b[0m: The numbers shouldnt be odd"
     ]
    }
   ],
   "source": [
    "# raise:\n",
    "num = int(input('Enter the number:'))\n",
    "\n",
    "if num % 2 != 0:\n",
    "    raise Exception('The numbers shouldnt be odd')"
   ]
  },
  {
   "cell_type": "code",
   "execution_count": null,
   "id": "9d3816d3-7281-4d58-9e7a-2ac52374920f",
   "metadata": {},
   "outputs": [],
   "source": []
  }
 ],
 "metadata": {
  "kernelspec": {
   "display_name": "Python 3 (ipykernel)",
   "language": "python",
   "name": "python3"
  },
  "language_info": {
   "codemirror_mode": {
    "name": "ipython",
    "version": 3
   },
   "file_extension": ".py",
   "mimetype": "text/x-python",
   "name": "python",
   "nbconvert_exporter": "python",
   "pygments_lexer": "ipython3",
   "version": "3.12.7"
  }
 },
 "nbformat": 4,
 "nbformat_minor": 5
}

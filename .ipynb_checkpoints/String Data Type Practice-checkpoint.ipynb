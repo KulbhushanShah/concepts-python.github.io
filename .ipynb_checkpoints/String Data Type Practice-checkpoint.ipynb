{
 "cells": [
  {
   "cell_type": "markdown",
   "id": "83bd4626-ba6d-46ea-8b31-cbd2b23abdb9",
   "metadata": {},
   "source": [
    "# String Data Type"
   ]
  },
  {
   "cell_type": "code",
   "execution_count": null,
   "id": "70826508-cb22-4c59-8e65-b48e109e1666",
   "metadata": {},
   "outputs": [],
   "source": [
    "### A"
   ]
  },
  {
   "cell_type": "code",
   "execution_count": 1,
   "id": "f0c0bcac-82e1-4d55-87cc-95f475686d60",
   "metadata": {},
   "outputs": [],
   "source": [
    "st = \"hello world!\""
   ]
  },
  {
   "cell_type": "code",
   "execution_count": 8,
   "id": "b083516c-abaf-43fa-8840-a31815b4ce68",
   "metadata": {},
   "outputs": [
    {
     "data": {
      "text/plain": [
       "'hello world!'"
      ]
     },
     "execution_count": 8,
     "metadata": {},
     "output_type": "execute_result"
    }
   ],
   "source": [
    "st"
   ]
  },
  {
   "cell_type": "markdown",
   "id": "5611f855-a2f7-4bb9-9b28-56198d4fe99e",
   "metadata": {},
   "source": [
    "### Printing (the value stored in the variable)"
   ]
  },
  {
   "cell_type": "code",
   "execution_count": 10,
   "id": "701a0c41-d652-4069-88c5-728bdded5df5",
   "metadata": {},
   "outputs": [
    {
     "name": "stdout",
     "output_type": "stream",
     "text": [
      "hello world!\n"
     ]
    }
   ],
   "source": [
    "print(st)"
   ]
  },
  {
   "cell_type": "markdown",
   "id": "be93e2fd-6026-48be-88fa-5a22567f17dd",
   "metadata": {},
   "source": [
    "### Repetition"
   ]
  },
  {
   "cell_type": "code",
   "execution_count": 3,
   "id": "2eaeb011-a5d3-43e7-b542-1c4276d2b865",
   "metadata": {},
   "outputs": [
    {
     "data": {
      "text/plain": [
       "'hello world!hello world!'"
      ]
     },
     "execution_count": 3,
     "metadata": {},
     "output_type": "execute_result"
    }
   ],
   "source": [
    "st * 2"
   ]
  },
  {
   "cell_type": "markdown",
   "id": "5dba8f5d-8b65-4efa-9159-b6636fbeec9d",
   "metadata": {},
   "source": [
    "### Concatenation"
   ]
  },
  {
   "cell_type": "code",
   "execution_count": 4,
   "id": "91607c4d-e2f2-40f1-9994-972b75a65277",
   "metadata": {},
   "outputs": [
    {
     "data": {
      "text/plain": [
       "'hello world!Here'"
      ]
     },
     "execution_count": 4,
     "metadata": {},
     "output_type": "execute_result"
    }
   ],
   "source": [
    "st + \"Here\""
   ]
  },
  {
   "cell_type": "markdown",
   "id": "824c6d32-906a-407d-8c3b-c53f114f4a05",
   "metadata": {},
   "source": [
    "### Slicing (substring)"
   ]
  },
  {
   "cell_type": "code",
   "execution_count": 5,
   "id": "113be765-53bb-4424-9d21-aeb893c26f66",
   "metadata": {},
   "outputs": [
    {
     "data": {
      "text/plain": [
       "'h'"
      ]
     },
     "execution_count": 5,
     "metadata": {},
     "output_type": "execute_result"
    }
   ],
   "source": [
    "st[0]"
   ]
  },
  {
   "cell_type": "code",
   "execution_count": 7,
   "id": "5c9921b9-b48a-49ed-8e68-abcea6738660",
   "metadata": {},
   "outputs": [
    {
     "data": {
      "text/plain": [
       "'ll'"
      ]
     },
     "execution_count": 7,
     "metadata": {},
     "output_type": "execute_result"
    }
   ],
   "source": [
    "st[2:4]"
   ]
  },
  {
   "cell_type": "code",
   "execution_count": 6,
   "id": "9a5d44d5-31e2-49cb-9807-64865f0e129e",
   "metadata": {},
   "outputs": [
    {
     "data": {
      "text/plain": [
       "'llo world!'"
      ]
     },
     "execution_count": 6,
     "metadata": {},
     "output_type": "execute_result"
    }
   ],
   "source": [
    "st[2:]"
   ]
  }
 ],
 "metadata": {
  "kernelspec": {
   "display_name": "Python 3 (ipykernel)",
   "language": "python",
   "name": "python3"
  },
  "language_info": {
   "codemirror_mode": {
    "name": "ipython",
    "version": 3
   },
   "file_extension": ".py",
   "mimetype": "text/x-python",
   "name": "python",
   "nbconvert_exporter": "python",
   "pygments_lexer": "ipython3",
   "version": "3.12.7"
  }
 },
 "nbformat": 4,
 "nbformat_minor": 5
}

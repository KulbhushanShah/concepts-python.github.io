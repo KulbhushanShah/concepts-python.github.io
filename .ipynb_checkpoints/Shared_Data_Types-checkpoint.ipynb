{
 "cells": [
  {
   "cell_type": "code",
   "execution_count": 1,
   "id": "4c99d581-b3e4-4c35-92a8-a0c2478df75d",
   "metadata": {
    "id": "4c99d581-b3e4-4c35-92a8-a0c2478df75d",
    "outputId": "f5e75943-aa62-4019-f087-8b0288c79ed5"
   },
   "outputs": [
    {
     "data": {
      "text/plain": [
       "3"
      ]
     },
     "execution_count": 1,
     "metadata": {},
     "output_type": "execute_result"
    }
   ],
   "source": [
    "# Numeric Data Type:\n",
    "# Integer\n",
    "a = b = 3\n",
    "b\n",
    "a"
   ]
  },
  {
   "cell_type": "code",
   "execution_count": 2,
   "id": "01e86e93-b0cc-4914-a9d9-bca7983d8f63",
   "metadata": {
    "id": "01e86e93-b0cc-4914-a9d9-bca7983d8f63",
    "outputId": "8844db29-83ab-4b13-9e9e-acb44c295c53"
   },
   "outputs": [
    {
     "data": {
      "text/plain": [
       "4.4"
      ]
     },
     "execution_count": 2,
     "metadata": {},
     "output_type": "execute_result"
    }
   ],
   "source": [
    "#Float\n",
    "c = 4.4\n",
    "d = 6.00\n",
    "c"
   ]
  },
  {
   "cell_type": "code",
   "execution_count": 3,
   "id": "0bb1794f-3a58-44ed-93d0-9694ad6e43fe",
   "metadata": {
    "id": "0bb1794f-3a58-44ed-93d0-9694ad6e43fe"
   },
   "outputs": [],
   "source": [
    "#Complex No\n",
    "e = 3+4j"
   ]
  },
  {
   "cell_type": "code",
   "execution_count": 4,
   "id": "cba1d03f-06d4-4e13-85c6-9287415a64fd",
   "metadata": {
    "id": "cba1d03f-06d4-4e13-85c6-9287415a64fd",
    "outputId": "9cf8c453-0ac7-4486-cb0e-3ee1a5eb6f60"
   },
   "outputs": [
    {
     "data": {
      "text/plain": [
       "complex"
      ]
     },
     "execution_count": 4,
     "metadata": {},
     "output_type": "execute_result"
    }
   ],
   "source": [
    "type(e)"
   ]
  },
  {
   "cell_type": "code",
   "execution_count": 5,
   "id": "1878823e-707c-43ca-9dab-f33b556a8d1b",
   "metadata": {
    "id": "1878823e-707c-43ca-9dab-f33b556a8d1b",
    "outputId": "b9995fca-3cbc-47aa-ef01-49f588c95fd8"
   },
   "outputs": [
    {
     "data": {
      "text/plain": [
       "float"
      ]
     },
     "execution_count": 5,
     "metadata": {},
     "output_type": "execute_result"
    }
   ],
   "source": [
    "type(c)"
   ]
  },
  {
   "cell_type": "code",
   "execution_count": 6,
   "id": "4291860f-f979-4a58-89f4-dc242b9d796a",
   "metadata": {
    "id": "4291860f-f979-4a58-89f4-dc242b9d796a",
    "outputId": "97be95ad-f51f-42ca-f551-49751a6a92a4"
   },
   "outputs": [
    {
     "data": {
      "text/plain": [
       "int"
      ]
     },
     "execution_count": 6,
     "metadata": {},
     "output_type": "execute_result"
    }
   ],
   "source": [
    "type(a)"
   ]
  },
  {
   "cell_type": "code",
   "execution_count": 7,
   "id": "81444a36-2862-412d-a8ba-59d98a443e77",
   "metadata": {
    "id": "81444a36-2862-412d-a8ba-59d98a443e77",
    "outputId": "29bbbdb5-e031-48c5-f5e0-745b284eb4f9"
   },
   "outputs": [
    {
     "data": {
      "text/plain": [
       "False"
      ]
     },
     "execution_count": 7,
     "metadata": {},
     "output_type": "execute_result"
    }
   ],
   "source": [
    "# Boolean\n",
    "\n",
    "a>b"
   ]
  },
  {
   "cell_type": "code",
   "execution_count": 8,
   "id": "786f9c48-931b-4726-81dc-70fcf78c15c6",
   "metadata": {
    "id": "786f9c48-931b-4726-81dc-70fcf78c15c6",
    "outputId": "1b23ea07-b0c8-421e-8894-6f9440c998f2"
   },
   "outputs": [
    {
     "data": {
      "text/plain": [
       "bool"
      ]
     },
     "execution_count": 8,
     "metadata": {},
     "output_type": "execute_result"
    }
   ],
   "source": [
    "type(False)"
   ]
  },
  {
   "cell_type": "code",
   "execution_count": 9,
   "id": "4a513976-822e-460e-a097-f1b575b71844",
   "metadata": {
    "id": "4a513976-822e-460e-a097-f1b575b71844"
   },
   "outputs": [],
   "source": [
    "# new comment\n",
    "''' Multi\n",
    "line Comment'''\n",
    "a=45"
   ]
  },
  {
   "cell_type": "code",
   "execution_count": 10,
   "id": "6240da6f-6845-4598-b9bb-c44c92842e83",
   "metadata": {
    "id": "6240da6f-6845-4598-b9bb-c44c92842e83"
   },
   "outputs": [],
   "source": [
    "# Sequence:\n",
    "# String:\n",
    "\n",
    "a = \"\"\"Hey\n",
    "there\"\"\""
   ]
  },
  {
   "cell_type": "code",
   "execution_count": 11,
   "id": "78fb1ff4-e0d7-4a71-9a94-65f5f86d709f",
   "metadata": {
    "id": "78fb1ff4-e0d7-4a71-9a94-65f5f86d709f",
    "outputId": "b4b2729f-fe53-453f-d769-cefe89a4f12d"
   },
   "outputs": [
    {
     "name": "stdout",
     "output_type": "stream",
     "text": [
      "Hey\n",
      "there\n"
     ]
    }
   ],
   "source": [
    "print(a)"
   ]
  },
  {
   "cell_type": "markdown",
   "id": "0049078f-66e3-456d-8a5b-683db3c05abf",
   "metadata": {
    "id": "eda55d5f-6d85-4a66-8e90-ee4dcd89ba83"
   },
   "source": [
    "### \\n : new line"
   ]
  },
  {
   "cell_type": "code",
   "execution_count": 13,
   "id": "38d85093-411c-4462-8a7e-2d5b36ed331b",
   "metadata": {
    "id": "38d85093-411c-4462-8a7e-2d5b36ed331b"
   },
   "outputs": [],
   "source": [
    "str1 = \"GamakaAI\""
   ]
  },
  {
   "cell_type": "code",
   "execution_count": 14,
   "id": "fe6d6d28-5fb3-4943-8eaa-d8cf75209fcb",
   "metadata": {
    "id": "fe6d6d28-5fb3-4943-8eaa-d8cf75209fcb",
    "outputId": "03e0efec-e81e-4af4-9fa8-7d1d00269430"
   },
   "outputs": [
    {
     "data": {
      "text/plain": [
       "'G'"
      ]
     },
     "execution_count": 14,
     "metadata": {},
     "output_type": "execute_result"
    }
   ],
   "source": [
    "# Indexing\n",
    "str1[0]"
   ]
  },
  {
   "cell_type": "code",
   "execution_count": 15,
   "id": "a38bc199-c2ec-4803-a94a-9904d2abf57c",
   "metadata": {
    "id": "a38bc199-c2ec-4803-a94a-9904d2abf57c",
    "outputId": "c2e00733-ca9c-48f8-9986-81dcf1ba0b55"
   },
   "outputs": [
    {
     "data": {
      "text/plain": [
       "'I'"
      ]
     },
     "execution_count": 15,
     "metadata": {},
     "output_type": "execute_result"
    }
   ],
   "source": [
    "str1[7]"
   ]
  },
  {
   "cell_type": "code",
   "execution_count": 16,
   "id": "c025e43b-0f23-4723-a150-c2f946557f32",
   "metadata": {
    "id": "c025e43b-0f23-4723-a150-c2f946557f32",
    "outputId": "65e9b984-0868-4950-9989-5eae73ea6738"
   },
   "outputs": [
    {
     "data": {
      "text/plain": [
       "'G'"
      ]
     },
     "execution_count": 16,
     "metadata": {},
     "output_type": "execute_result"
    }
   ],
   "source": [
    "str1[-8]"
   ]
  },
  {
   "cell_type": "code",
   "execution_count": 17,
   "id": "f71d9ce8-040f-4ef0-b968-2316fc7f1774",
   "metadata": {
    "id": "f71d9ce8-040f-4ef0-b968-2316fc7f1774"
   },
   "outputs": [],
   "source": [
    "str2 = \"GamakaAI\""
   ]
  },
  {
   "cell_type": "code",
   "execution_count": 18,
   "id": "ca1f302f-aac4-4f28-8ea9-bf989f2c9376",
   "metadata": {
    "id": "ca1f302f-aac4-4f28-8ea9-bf989f2c9376",
    "outputId": "b56b4364-2d8a-47a9-c0c7-ae98c958dce4"
   },
   "outputs": [
    {
     "data": {
      "text/plain": [
       "'Gamaka'"
      ]
     },
     "execution_count": 18,
     "metadata": {},
     "output_type": "execute_result"
    }
   ],
   "source": [
    "# Slicing\n",
    "str2[0:6]"
   ]
  },
  {
   "cell_type": "code",
   "execution_count": 19,
   "id": "18f95630-05e6-444c-a2af-4765ef7565a8",
   "metadata": {
    "id": "18f95630-05e6-444c-a2af-4765ef7565a8",
    "outputId": "d7993423-3ce5-4048-8461-2ef3f6866812"
   },
   "outputs": [
    {
     "data": {
      "text/plain": [
       "'AI'"
      ]
     },
     "execution_count": 19,
     "metadata": {},
     "output_type": "execute_result"
    }
   ],
   "source": [
    "str2[6:8]"
   ]
  },
  {
   "cell_type": "code",
   "execution_count": 20,
   "id": "c8ca8ce4-ae29-49f7-b40b-b0aca83d8036",
   "metadata": {
    "id": "c8ca8ce4-ae29-49f7-b40b-b0aca83d8036",
    "outputId": "9377b632-870e-4a71-e062-9313edd15a0c"
   },
   "outputs": [
    {
     "data": {
      "text/plain": [
       "'Gmk'"
      ]
     },
     "execution_count": 20,
     "metadata": {},
     "output_type": "execute_result"
    }
   ],
   "source": [
    "str2[0:6:2]"
   ]
  },
  {
   "cell_type": "code",
   "execution_count": 21,
   "id": "8fa1ecec-bff0-4395-94b4-9f3f5a26fe8d",
   "metadata": {
    "id": "8fa1ecec-bff0-4395-94b4-9f3f5a26fe8d",
    "outputId": "4d8f6f1a-9f89-4a28-f551-30d6d30b6f58"
   },
   "outputs": [
    {
     "data": {
      "text/plain": [
       "'GmkA'"
      ]
     },
     "execution_count": 21,
     "metadata": {},
     "output_type": "execute_result"
    }
   ],
   "source": [
    "str2[::2]"
   ]
  },
  {
   "cell_type": "code",
   "execution_count": 22,
   "id": "036d6785-eb2b-4448-b4a4-537adb24625d",
   "metadata": {
    "id": "036d6785-eb2b-4448-b4a4-537adb24625d",
    "outputId": "bed8fdcd-0dea-4493-9db5-a0937c0dd1a5"
   },
   "outputs": [
    {
     "data": {
      "text/plain": [
       "''"
      ]
     },
     "execution_count": 22,
     "metadata": {},
     "output_type": "execute_result"
    }
   ],
   "source": [
    "str2[-1:-9:1]"
   ]
  }
 ],
 "metadata": {
  "colab": {
   "provenance": []
  },
  "kernelspec": {
   "display_name": "Python 3 (ipykernel)",
   "language": "python",
   "name": "python3"
  },
  "language_info": {
   "codemirror_mode": {
    "name": "ipython",
    "version": 3
   },
   "file_extension": ".py",
   "mimetype": "text/x-python",
   "name": "python",
   "nbconvert_exporter": "python",
   "pygments_lexer": "ipython3",
   "version": "3.12.7"
  }
 },
 "nbformat": 4,
 "nbformat_minor": 5
}

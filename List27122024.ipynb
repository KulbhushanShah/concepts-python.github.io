{
 "cells": [
  {
   "cell_type": "markdown",
   "id": "d5a44eca-460c-404a-8172-1e058d1557d2",
   "metadata": {},
   "source": [
    "# List (Sequence Data Type)"
   ]
  },
  {
   "cell_type": "code",
   "execution_count": 4,
   "id": "684db857-2125-4c5a-a2a0-8889104dd00b",
   "metadata": {},
   "outputs": [],
   "source": [
    "list1 = [2.2, 2, \"Gamaka\", True]"
   ]
  },
  {
   "cell_type": "code",
   "execution_count": 5,
   "id": "e896595e-6163-4ae2-a35f-9e97982ed222",
   "metadata": {},
   "outputs": [
    {
     "data": {
      "text/plain": [
       "[2.2, 2, 'Gamaka', True]"
      ]
     },
     "execution_count": 5,
     "metadata": {},
     "output_type": "execute_result"
    }
   ],
   "source": [
    "List1"
   ]
  },
  {
   "cell_type": "code",
   "execution_count": 6,
   "id": "c31072a7-1f81-42d0-ab5b-875c8f2b0298",
   "metadata": {},
   "outputs": [
    {
     "data": {
      "text/plain": [
       "list"
      ]
     },
     "execution_count": 6,
     "metadata": {},
     "output_type": "execute_result"
    }
   ],
   "source": [
    "type(list1)"
   ]
  },
  {
   "cell_type": "code",
   "execution_count": 7,
   "id": "59d7f1fe-0401-4eca-b2c7-b3c051500ba0",
   "metadata": {},
   "outputs": [],
   "source": [
    "list2 = [2, 34, 67, 34]"
   ]
  },
  {
   "cell_type": "code",
   "execution_count": 8,
   "id": "9c5f7c81-943b-4c0a-9c1b-dffc89f8f3ac",
   "metadata": {},
   "outputs": [
    {
     "data": {
      "text/plain": [
       "[2, 34, 67, 34]"
      ]
     },
     "execution_count": 8,
     "metadata": {},
     "output_type": "execute_result"
    }
   ],
   "source": [
    "list2"
   ]
  },
  {
   "cell_type": "code",
   "execution_count": 9,
   "id": "0e06bd56-5f5d-4e84-9c90-b94354710b3d",
   "metadata": {},
   "outputs": [
    {
     "data": {
      "text/plain": [
       "list"
      ]
     },
     "execution_count": 9,
     "metadata": {},
     "output_type": "execute_result"
    }
   ],
   "source": [
    "type(list2)"
   ]
  },
  {
   "cell_type": "code",
   "execution_count": 10,
   "id": "eaedc075-0f57-4ae2-9b93-5fc88eb78256",
   "metadata": {},
   "outputs": [
    {
     "data": {
      "text/plain": [
       "[2, 34]"
      ]
     },
     "execution_count": 10,
     "metadata": {},
     "output_type": "execute_result"
    }
   ],
   "source": [
    "list2[0:2]"
   ]
  },
  {
   "cell_type": "markdown",
   "id": "e8df57d7-c560-4b77-9e9b-202089394e96",
   "metadata": {},
   "source": [
    "## Mutable feature\n",
    "### Add elements"
   ]
  },
  {
   "cell_type": "markdown",
   "id": "e5046ebb-0be5-4b60-81d0-605c52442806",
   "metadata": {},
   "source": [
    "### append(), insert() & extend()"
   ]
  },
  {
   "cell_type": "code",
   "execution_count": 11,
   "id": "5d7438d7-a220-416b-b92a-7592ac93c891",
   "metadata": {},
   "outputs": [],
   "source": [
    "list2.append(100)"
   ]
  },
  {
   "cell_type": "code",
   "execution_count": 12,
   "id": "b3d4ec0f-233a-417b-b1a1-178c70acfd59",
   "metadata": {},
   "outputs": [
    {
     "data": {
      "text/plain": [
       "[2, 34, 67, 34, 100]"
      ]
     },
     "execution_count": 12,
     "metadata": {},
     "output_type": "execute_result"
    }
   ],
   "source": [
    "list2"
   ]
  },
  {
   "cell_type": "code",
   "execution_count": 13,
   "id": "93b6bc23-6d4d-4ced-b150-8e6e37d8105e",
   "metadata": {},
   "outputs": [],
   "source": [
    "list2.append(list2[2])"
   ]
  },
  {
   "cell_type": "code",
   "execution_count": 14,
   "id": "a1056c91-5a0a-4fb3-83db-6f1aac8415ba",
   "metadata": {},
   "outputs": [
    {
     "data": {
      "text/plain": [
       "[2, 34, 67, 34, 100, 67]"
      ]
     },
     "execution_count": 14,
     "metadata": {},
     "output_type": "execute_result"
    }
   ],
   "source": [
    "list2"
   ]
  },
  {
   "cell_type": "code",
   "execution_count": 26,
   "id": "684b472a-358f-4d8c-a2bc-f6a76286a11b",
   "metadata": {},
   "outputs": [],
   "source": [
    "list2.insert(0, 4000)"
   ]
  },
  {
   "cell_type": "code",
   "execution_count": 28,
   "id": "4c19f2b3-979c-47cc-87cd-69812e05d505",
   "metadata": {},
   "outputs": [
    {
     "data": {
      "text/plain": [
       "[4000, 4000, 2, None, None, 34, 100, 67, 2000, 2000]"
      ]
     },
     "execution_count": 28,
     "metadata": {},
     "output_type": "execute_result"
    }
   ],
   "source": [
    "list2"
   ]
  },
  {
   "cell_type": "code",
   "execution_count": 29,
   "id": "2e4088ab-1706-4113-aaba-364c8556e1be",
   "metadata": {},
   "outputs": [],
   "source": [
    "list2.extend([50,50])"
   ]
  },
  {
   "cell_type": "code",
   "execution_count": 30,
   "id": "d7a70bdf-e46e-4361-9fa4-cb81c29c0237",
   "metadata": {},
   "outputs": [
    {
     "data": {
      "text/plain": [
       "[4000, 4000, 2, None, None, 34, 100, 67, 2000, 2000, 50, 50]"
      ]
     },
     "execution_count": 30,
     "metadata": {},
     "output_type": "execute_result"
    }
   ],
   "source": [
    "list2"
   ]
  },
  {
   "cell_type": "markdown",
   "id": "5e4f4f39-ce0b-4321-938e-53f393faadb4",
   "metadata": {},
   "source": [
    "### Remove elements"
   ]
  },
  {
   "cell_type": "markdown",
   "id": "1a638c07-7f2e-466f-9790-45eab5b9d4b7",
   "metadata": {},
   "source": [
    "### pop(), remove()"
   ]
  },
  {
   "cell_type": "code",
   "execution_count": 32,
   "id": "169888dd-8ff2-4d1c-8444-5f0b1623ea77",
   "metadata": {},
   "outputs": [
    {
     "data": {
      "text/plain": [
       "101"
      ]
     },
     "execution_count": 32,
     "metadata": {},
     "output_type": "execute_result"
    }
   ],
   "source": [
    "list2.pop()"
   ]
  },
  {
   "cell_type": "code",
   "execution_count": 33,
   "id": "a85846c7-3769-4972-a721-8b47d819c311",
   "metadata": {},
   "outputs": [
    {
     "data": {
      "text/plain": [
       "[4000, 4000, 2, None, None, 34, 100, 67, 2000, 2000, 50, 50, 101]"
      ]
     },
     "execution_count": 33,
     "metadata": {},
     "output_type": "execute_result"
    }
   ],
   "source": [
    "list2"
   ]
  },
  {
   "cell_type": "code",
   "execution_count": 35,
   "id": "2a63efc8-70ce-493f-99f7-a4c08463665d",
   "metadata": {},
   "outputs": [
    {
     "data": {
      "text/plain": [
       "101"
      ]
     },
     "execution_count": 35,
     "metadata": {},
     "output_type": "execute_result"
    }
   ],
   "source": [
    "list2.pop()"
   ]
  },
  {
   "cell_type": "code",
   "execution_count": 36,
   "id": "2d379570-62ab-4caa-af5f-1f344bdc93a3",
   "metadata": {},
   "outputs": [
    {
     "data": {
      "text/plain": [
       "[4000, 4000, 2, None, None, 34, 100, 67, 2000, 2000, 50, 50]"
      ]
     },
     "execution_count": 36,
     "metadata": {},
     "output_type": "execute_result"
    }
   ],
   "source": [
    "list2"
   ]
  },
  {
   "cell_type": "code",
   "execution_count": 37,
   "id": "a3fee7ca-fe35-461e-bbc4-2c2aefb541c2",
   "metadata": {},
   "outputs": [
    {
     "data": {
      "text/plain": [
       "4000"
      ]
     },
     "execution_count": 37,
     "metadata": {},
     "output_type": "execute_result"
    }
   ],
   "source": [
    "list2.pop(0)"
   ]
  },
  {
   "cell_type": "code",
   "execution_count": 38,
   "id": "b2bf6885-5b7c-42c9-a999-aaac48b60e68",
   "metadata": {},
   "outputs": [
    {
     "data": {
      "text/plain": [
       "[4000, 2, None, None, 34, 100, 67, 2000, 2000, 50, 50]"
      ]
     },
     "execution_count": 38,
     "metadata": {},
     "output_type": "execute_result"
    }
   ],
   "source": [
    "list2"
   ]
  },
  {
   "cell_type": "code",
   "execution_count": 43,
   "id": "6c6fb505-da15-409e-9f58-2dae9d0f5f90",
   "metadata": {},
   "outputs": [
    {
     "data": {
      "text/plain": [
       "50"
      ]
     },
     "execution_count": 43,
     "metadata": {},
     "output_type": "execute_result"
    }
   ],
   "source": [
    "list2.pop()"
   ]
  },
  {
   "cell_type": "code",
   "execution_count": 53,
   "id": "e3f0dd7b-5a7a-48ce-b4ee-fad388917e65",
   "metadata": {},
   "outputs": [
    {
     "data": {
      "text/plain": [
       "[4000, None, None, 34, 100, 67, 2000, 2000, 50]"
      ]
     },
     "execution_count": 53,
     "metadata": {},
     "output_type": "execute_result"
    }
   ],
   "source": [
    "list2"
   ]
  },
  {
   "cell_type": "code",
   "execution_count": 56,
   "id": "951d2c6b-374c-4583-807f-dcfa6938508c",
   "metadata": {},
   "outputs": [],
   "source": [
    "list2.remove(None)"
   ]
  },
  {
   "cell_type": "code",
   "execution_count": 57,
   "id": "57c30039-76d2-4a9c-a142-72f95fcbf5a0",
   "metadata": {},
   "outputs": [
    {
     "data": {
      "text/plain": [
       "[4000, None, 34, 100, 67, 2000, 2000, 50]"
      ]
     },
     "execution_count": 57,
     "metadata": {},
     "output_type": "execute_result"
    }
   ],
   "source": [
    "list2"
   ]
  },
  {
   "cell_type": "code",
   "execution_count": 58,
   "id": "4e6344df-611b-4009-bb58-4c9bc94b74db",
   "metadata": {},
   "outputs": [],
   "source": [
    "list2.remove(None)"
   ]
  },
  {
   "cell_type": "code",
   "execution_count": 59,
   "id": "c16d6ce5-fee1-439c-a9ac-fe0b7ff883a2",
   "metadata": {},
   "outputs": [
    {
     "data": {
      "text/plain": [
       "[4000, 34, 100, 67, 2000, 2000, 50]"
      ]
     },
     "execution_count": 59,
     "metadata": {},
     "output_type": "execute_result"
    }
   ],
   "source": [
    "list2"
   ]
  },
  {
   "cell_type": "markdown",
   "id": "caba048f-609c-45a4-a36f-d9b54ba160a3",
   "metadata": {},
   "source": [
    "### update/replace elements"
   ]
  },
  {
   "cell_type": "code",
   "execution_count": 62,
   "id": "fcfb033b-ef4e-4c9e-a8ef-f55fc96962fd",
   "metadata": {},
   "outputs": [],
   "source": [
    "list2[0] = 20"
   ]
  },
  {
   "cell_type": "code",
   "execution_count": 63,
   "id": "1ef38ff7-de3a-4bff-975e-af11e2bb573e",
   "metadata": {},
   "outputs": [
    {
     "data": {
      "text/plain": [
       "[20, 34, 100, 67, 2000, 2000, 50]"
      ]
     },
     "execution_count": 63,
     "metadata": {},
     "output_type": "execute_result"
    }
   ],
   "source": [
    "list2"
   ]
  },
  {
   "cell_type": "code",
   "execution_count": 64,
   "id": "5ac763ef-3cee-4def-9dc9-dc7612d5ec35",
   "metadata": {},
   "outputs": [
    {
     "data": {
      "text/plain": [
       "20"
      ]
     },
     "execution_count": 64,
     "metadata": {},
     "output_type": "execute_result"
    }
   ],
   "source": [
    "list2[0]"
   ]
  },
  {
   "cell_type": "code",
   "execution_count": null,
   "id": "6e2884a2-5466-4b3a-9846-8ca1a574e7e7",
   "metadata": {},
   "outputs": [],
   "source": []
  }
 ],
 "metadata": {
  "kernelspec": {
   "display_name": "Python 3 (ipykernel)",
   "language": "python",
   "name": "python3"
  },
  "language_info": {
   "codemirror_mode": {
    "name": "ipython",
    "version": 3
   },
   "file_extension": ".py",
   "mimetype": "text/x-python",
   "name": "python",
   "nbconvert_exporter": "python",
   "pygments_lexer": "ipython3",
   "version": "3.12.7"
  }
 },
 "nbformat": 4,
 "nbformat_minor": 5
}

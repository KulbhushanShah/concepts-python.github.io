{
 "cells": [
  {
   "cell_type": "markdown",
   "id": "34e6124d-14c7-42fc-9322-840daa42bfce",
   "metadata": {},
   "source": [
    "# Packages"
   ]
  },
  {
   "cell_type": "markdown",
   "id": "29dc8a64-b4f5-4ece-b802-cb8ee8e3d9ed",
   "metadata": {},
   "source": [
    "## User-defined Package (Operations)"
   ]
  },
  {
   "cell_type": "code",
   "execution_count": 27,
   "id": "48b5c59b-1a6e-44bd-a26f-c91c7bedf0ae",
   "metadata": {},
   "outputs": [],
   "source": [
    "import Operations.arithematic as oa"
   ]
  },
  {
   "cell_type": "code",
   "execution_count": 28,
   "id": "d3b69e4a-ef18-413f-a6f2-73337e385786",
   "metadata": {},
   "outputs": [
    {
     "data": {
      "text/plain": [
       "6"
      ]
     },
     "execution_count": 28,
     "metadata": {},
     "output_type": "execute_result"
    }
   ],
   "source": [
    "oa.mul(2, 3)"
   ]
  },
  {
   "cell_type": "code",
   "execution_count": 29,
   "id": "6901ef40-7c18-4fbd-ae39-b5bc5e8273e1",
   "metadata": {},
   "outputs": [],
   "source": [
    "import Operations"
   ]
  },
  {
   "cell_type": "code",
   "execution_count": 30,
   "id": "dc1924e1-e207-4107-8970-580f6034c39d",
   "metadata": {},
   "outputs": [
    {
     "data": {
      "text/plain": [
       "-1"
      ]
     },
     "execution_count": 30,
     "metadata": {},
     "output_type": "execute_result"
    }
   ],
   "source": [
    "Operations.calculation.sub(2, 3)"
   ]
  },
  {
   "cell_type": "code",
   "execution_count": 31,
   "id": "43da2398-097d-4af6-a7fd-25f21e4a7314",
   "metadata": {},
   "outputs": [],
   "source": [
    "from Operations.calculation import *"
   ]
  },
  {
   "cell_type": "code",
   "execution_count": 32,
   "id": "70a4ce37-a147-4733-b156-d046c4e03494",
   "metadata": {},
   "outputs": [
    {
     "data": {
      "text/plain": [
       "5"
      ]
     },
     "execution_count": 32,
     "metadata": {},
     "output_type": "execute_result"
    }
   ],
   "source": [
    "add(2, 3)"
   ]
  },
  {
   "cell_type": "code",
   "execution_count": null,
   "id": "24389bf0-a155-411b-9c4b-0d30a675771a",
   "metadata": {},
   "outputs": [],
   "source": []
  }
 ],
 "metadata": {
  "kernelspec": {
   "display_name": "Python 3 (ipykernel)",
   "language": "python",
   "name": "python3"
  },
  "language_info": {
   "codemirror_mode": {
    "name": "ipython",
    "version": 3
   },
   "file_extension": ".py",
   "mimetype": "text/x-python",
   "name": "python",
   "nbconvert_exporter": "python",
   "pygments_lexer": "ipython3",
   "version": "3.12.7"
  }
 },
 "nbformat": 4,
 "nbformat_minor": 5
}

{
 "cells": [
  {
   "cell_type": "markdown",
   "id": "884dfc5b-a0f5-458c-b7b5-496892389151",
   "metadata": {},
   "source": [
    "# Classes & Objects/Instances & Attributes & Method & Self & Constuctor (__init__(self))"
   ]
  },
  {
   "cell_type": "code",
   "execution_count": 52,
   "id": "f793b43d-6924-4485-b481-5127d6821212",
   "metadata": {},
   "outputs": [],
   "source": [
    "class Car(): # Class\n",
    "    color = 'red' # default value\n",
    "    model = 2025 # default value"
   ]
  },
  {
   "cell_type": "code",
   "execution_count": 53,
   "id": "24efbdc0-2edd-4c4c-9dda-81ee975b50ec",
   "metadata": {},
   "outputs": [],
   "source": [
    " #Instance/Object Creation\n",
    "instCar1 = Car() #all attributes are stored in the instance/object  instCar1"
   ]
  },
  {
   "cell_type": "code",
   "execution_count": 54,
   "id": "c9033940-2884-4f99-bfcc-465a85a6adec",
   "metadata": {},
   "outputs": [
    {
     "data": {
      "text/plain": [
       "'red'"
      ]
     },
     "execution_count": 54,
     "metadata": {},
     "output_type": "execute_result"
    }
   ],
   "source": [
    "instCar1.color  #all attributes are stored/accessable in/through the instance/object  instCar1"
   ]
  },
  {
   "cell_type": "code",
   "execution_count": 55,
   "id": "02f2020c-705f-4d29-b7f9-8a62838405dc",
   "metadata": {},
   "outputs": [
    {
     "data": {
      "text/plain": [
       "2025"
      ]
     },
     "execution_count": 55,
     "metadata": {},
     "output_type": "execute_result"
    }
   ],
   "source": [
    "instCar1.model  #all attributes are stored/accessable  in/through  the instance/object  instCar1"
   ]
  },
  {
   "cell_type": "code",
   "execution_count": 56,
   "id": "c31a69db-f2f3-42fd-9c41-3f3db7081412",
   "metadata": {},
   "outputs": [],
   "source": [
    " #Instance/Object Creation\n",
    "instCar2 = Car()"
   ]
  },
  {
   "cell_type": "code",
   "execution_count": 57,
   "id": "39ad8c7b-ac95-4fd0-a2e3-b037c04c03a0",
   "metadata": {},
   "outputs": [],
   "source": [
    "instCar2.color = 'blue' #overriding the color attribute value"
   ]
  },
  {
   "cell_type": "code",
   "execution_count": 58,
   "id": "5d476e78-1cc2-4b53-a46b-81d3d3df1b23",
   "metadata": {},
   "outputs": [
    {
     "data": {
      "text/plain": [
       "'blue'"
      ]
     },
     "execution_count": 58,
     "metadata": {},
     "output_type": "execute_result"
    }
   ],
   "source": [
    "instCar2.color #all attributes are stored/accessable  in/through the instance/object  instCar2"
   ]
  },
  {
   "cell_type": "code",
   "execution_count": 59,
   "id": "7959ed9b-d5c3-4b51-9a14-95f25e5f1339",
   "metadata": {},
   "outputs": [
    {
     "data": {
      "text/plain": [
       "2025"
      ]
     },
     "execution_count": 59,
     "metadata": {},
     "output_type": "execute_result"
    }
   ],
   "source": [
    "instCar2.model #all attributes are stored/accessable in/through the instance/object  instCar2"
   ]
  },
  {
   "cell_type": "code",
   "execution_count": 60,
   "id": "4aae5581-cf40-45b4-b73d-1e7fd6e4c3c7",
   "metadata": {},
   "outputs": [],
   "source": [
    "class employee_details():        \n",
    "    def get_details(self, emp_id, emp_name):\n",
    "        print(f'employee id is {emp_id}, and name is {emp_name}')"
   ]
  },
  {
   "cell_type": "code",
   "execution_count": 61,
   "id": "fdd8a250-b24a-4bac-9f6f-a0a5636c1b72",
   "metadata": {},
   "outputs": [],
   "source": [
    "emp1 = employee_details() "
   ]
  },
  {
   "cell_type": "code",
   "execution_count": 62,
   "id": "e5c95f72-929a-4c75-a6ee-6b34da8f03ac",
   "metadata": {},
   "outputs": [
    {
     "name": "stdout",
     "output_type": "stream",
     "text": [
      "employee id is 100, and name is Kulbhushan\n"
     ]
    }
   ],
   "source": [
    "emp1.get_details(100, 'Kulbhushan')"
   ]
  },
  {
   "cell_type": "code",
   "execution_count": 63,
   "id": "8e01602d-f88d-4829-b0d8-c1ae08bf3d3a",
   "metadata": {},
   "outputs": [],
   "source": [
    "class employee_dels():\n",
    "    emp_id = 101\n",
    "    emp_name = 'Shah'\n",
    "    \n",
    "    def get_dels(self):\n",
    "        print(f'employee id is {self.emp_id}, and name is {self.emp_name}')"
   ]
  },
  {
   "cell_type": "code",
   "execution_count": 64,
   "id": "7a5e06a1-a228-4ff1-b678-a4bf3dfe8a58",
   "metadata": {},
   "outputs": [],
   "source": [
    "emp2 = employee_dels()"
   ]
  },
  {
   "cell_type": "code",
   "execution_count": 65,
   "id": "3d24f46a-ee10-45e0-b457-7c944ad15ba4",
   "metadata": {},
   "outputs": [
    {
     "name": "stdout",
     "output_type": "stream",
     "text": [
      "employee id is 101, and name is Shah\n"
     ]
    }
   ],
   "source": [
    "emp2.get_dels()"
   ]
  },
  {
   "cell_type": "code",
   "execution_count": 66,
   "id": "6b3c822b-27e5-4654-9f3f-6f90104a97d4",
   "metadata": {},
   "outputs": [],
   "source": [
    "class employee_dtls():\n",
    "    \n",
    "    def set_dtls(self, emp_id, emp_name):\n",
    "        self.empid = emp_id\n",
    "        self.empname = emp_name\n",
    "        \n",
    "    def get_dtls(self):\n",
    "        print(f'employee id is {self.empid}, and name is {self.empname}')"
   ]
  },
  {
   "cell_type": "code",
   "execution_count": 67,
   "id": "028b2df1-4688-4715-8e73-bb11c5bea3f8",
   "metadata": {},
   "outputs": [],
   "source": [
    "emp3 = employee_dtls()"
   ]
  },
  {
   "cell_type": "code",
   "execution_count": 68,
   "id": "244d723e-5c40-4713-9fc5-df2a9839dbe9",
   "metadata": {},
   "outputs": [],
   "source": [
    "emp3.set_dtls(103, 'Piyush')"
   ]
  },
  {
   "cell_type": "code",
   "execution_count": 69,
   "id": "0505d8c7-7e1c-4a88-9701-336befc174e9",
   "metadata": {},
   "outputs": [
    {
     "name": "stdout",
     "output_type": "stream",
     "text": [
      "employee id is 103, and name is Piyush\n"
     ]
    }
   ],
   "source": [
    "emp3.get_dtls()"
   ]
  },
  {
   "cell_type": "code",
   "execution_count": 70,
   "id": "9f7ccc6a-f426-48e4-a5f4-76ba77f9eca1",
   "metadata": {},
   "outputs": [],
   "source": [
    "emp4 = employee_dtls()"
   ]
  },
  {
   "cell_type": "code",
   "execution_count": 71,
   "id": "e08dfb09-a3e5-4e63-8e64-ec8ed24bf0d9",
   "metadata": {},
   "outputs": [
    {
     "ename": "AttributeError",
     "evalue": "'employee_dtls' object has no attribute 'empid'",
     "output_type": "error",
     "traceback": [
      "\u001b[1;31m---------------------------------------------------------------------------\u001b[0m",
      "\u001b[1;31mAttributeError\u001b[0m                            Traceback (most recent call last)",
      "Cell \u001b[1;32mIn[71], line 1\u001b[0m\n\u001b[1;32m----> 1\u001b[0m emp4\u001b[38;5;241m.\u001b[39mget_dtls()\n",
      "Cell \u001b[1;32mIn[66], line 8\u001b[0m, in \u001b[0;36memployee_dtls.get_dtls\u001b[1;34m(self)\u001b[0m\n\u001b[0;32m      7\u001b[0m \u001b[38;5;28;01mdef\u001b[39;00m \u001b[38;5;21mget_dtls\u001b[39m(\u001b[38;5;28mself\u001b[39m):\n\u001b[1;32m----> 8\u001b[0m     \u001b[38;5;28mprint\u001b[39m(\u001b[38;5;124mf\u001b[39m\u001b[38;5;124m'\u001b[39m\u001b[38;5;124memployee id is \u001b[39m\u001b[38;5;132;01m{\u001b[39;00m\u001b[38;5;28mself\u001b[39m\u001b[38;5;241m.\u001b[39mempid\u001b[38;5;132;01m}\u001b[39;00m\u001b[38;5;124m, and name is \u001b[39m\u001b[38;5;132;01m{\u001b[39;00m\u001b[38;5;28mself\u001b[39m\u001b[38;5;241m.\u001b[39mempname\u001b[38;5;132;01m}\u001b[39;00m\u001b[38;5;124m'\u001b[39m)\n",
      "\u001b[1;31mAttributeError\u001b[0m: 'employee_dtls' object has no attribute 'empid'"
     ]
    }
   ],
   "source": [
    "emp4.get_dtls()"
   ]
  },
  {
   "cell_type": "code",
   "execution_count": 72,
   "id": "8f353dfc-76ed-407a-a0b3-edd41e638966",
   "metadata": {},
   "outputs": [],
   "source": [
    "emp4.set_dtls(104, 'Omen')"
   ]
  },
  {
   "cell_type": "code",
   "execution_count": 73,
   "id": "59fc85a8-e931-4147-89c5-f7b738c16e63",
   "metadata": {},
   "outputs": [
    {
     "name": "stdout",
     "output_type": "stream",
     "text": [
      "employee id is 104, and name is Omen\n"
     ]
    }
   ],
   "source": [
    "emp4.get_dtls()"
   ]
  },
  {
   "cell_type": "code",
   "execution_count": 74,
   "id": "ffd7d382-227d-4182-83f0-369dad9c0014",
   "metadata": {},
   "outputs": [],
   "source": [
    "class conclass():\n",
    "    def __init__(self):\n",
    "        print('This is a constuctor (method). It is executed when an instance is created')"
   ]
  },
  {
   "cell_type": "code",
   "execution_count": 75,
   "id": "e9abab26-2f24-43eb-93b5-22940606c405",
   "metadata": {},
   "outputs": [
    {
     "name": "stdout",
     "output_type": "stream",
     "text": [
      "This is a constuctor (method). It is executed when an instance is created\n"
     ]
    }
   ],
   "source": [
    "coninst = conclass()"
   ]
  },
  {
   "cell_type": "code",
   "execution_count": 118,
   "id": "cb320028-14f2-49db-803a-e74dfbb913d5",
   "metadata": {},
   "outputs": [],
   "source": [
    "class calculator():\n",
    "    \n",
    "    def __init__(self):\n",
    "        print('arithematic operations')\n",
    "    \n",
    "    def set_add(self, num1, num2):\n",
    "        self.numb1 = num1\n",
    "        self.numb2 = num2\n",
    "\n",
    "    def get_add(self):\n",
    "        print(self.numb1 + self.numb2)\n",
    "\n",
    "    \n",
    "    def set_multiplication(self, num1, num2):\n",
    "        numb1 = num1\n",
    "        numb2 = num2\n",
    "\n",
    "    def get_mul(self):\n",
    "        return self.numb1 * self.numb2\n"
   ]
  },
  {
   "cell_type": "code",
   "execution_count": 119,
   "id": "643a26b1-5330-4068-8647-11e9c857810d",
   "metadata": {},
   "outputs": [
    {
     "name": "stdout",
     "output_type": "stream",
     "text": [
      "arithematic operations\n"
     ]
    }
   ],
   "source": [
    "op1 = calculator()"
   ]
  },
  {
   "cell_type": "code",
   "execution_count": 120,
   "id": "f14d3bf6-79b7-4732-a6b0-51eb88b97175",
   "metadata": {},
   "outputs": [],
   "source": [
    "op1.set_add(1, 2)"
   ]
  },
  {
   "cell_type": "code",
   "execution_count": 121,
   "id": "44d2c591-151d-43a0-9f0f-80b5f2bdea3a",
   "metadata": {},
   "outputs": [
    {
     "name": "stdout",
     "output_type": "stream",
     "text": [
      "3\n"
     ]
    }
   ],
   "source": [
    "op1.get_add()"
   ]
  },
  {
   "cell_type": "code",
   "execution_count": 122,
   "id": "50e45fda-49fa-4963-b0ce-cd172880f5d4",
   "metadata": {},
   "outputs": [],
   "source": [
    "op1.set_multiplication(1, 2)"
   ]
  },
  {
   "cell_type": "code",
   "execution_count": 123,
   "id": "c4defd52-3a95-44fd-8fd6-77810c9b1f75",
   "metadata": {},
   "outputs": [
    {
     "data": {
      "text/plain": [
       "2"
      ]
     },
     "execution_count": 123,
     "metadata": {},
     "output_type": "execute_result"
    }
   ],
   "source": [
    "op1.get_mul()"
   ]
  },
  {
   "cell_type": "code",
   "execution_count": 132,
   "id": "a0a8f8ae-85c0-4746-9033-f35e55ae48e9",
   "metadata": {},
   "outputs": [],
   "source": [
    "class calculator1():\n",
    "    \n",
    "    def __init__(self):\n",
    "        print('arithematic operations')\n",
    "        \n",
    "    def get_add(self, num1, num2):\n",
    "        print(numb1 + numb2)\n"
   ]
  },
  {
   "cell_type": "code",
   "execution_count": 133,
   "id": "d954115e-e079-492f-bb29-a28aa16dddc3",
   "metadata": {},
   "outputs": [
    {
     "name": "stdout",
     "output_type": "stream",
     "text": [
      "arithematic operations\n"
     ]
    }
   ],
   "source": [
    "ob  = calculator1()"
   ]
  },
  {
   "cell_type": "code",
   "execution_count": null,
   "id": "7e089b32-38ac-4fc6-9ec4-90411316c86a",
   "metadata": {},
   "outputs": [],
   "source": []
  }
 ],
 "metadata": {
  "kernelspec": {
   "display_name": "Python 3 (ipykernel)",
   "language": "python",
   "name": "python3"
  },
  "language_info": {
   "codemirror_mode": {
    "name": "ipython",
    "version": 3
   },
   "file_extension": ".py",
   "mimetype": "text/x-python",
   "name": "python",
   "nbconvert_exporter": "python",
   "pygments_lexer": "ipython3",
   "version": "3.12.7"
  }
 },
 "nbformat": 4,
 "nbformat_minor": 5
}
